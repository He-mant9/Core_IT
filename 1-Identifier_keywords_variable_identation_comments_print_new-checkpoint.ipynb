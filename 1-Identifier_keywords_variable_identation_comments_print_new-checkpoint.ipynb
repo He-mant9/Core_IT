{
 "cells": [
  {
   "cell_type": "code",
   "execution_count": 1,
   "id": "045aa038",
   "metadata": {},
   "outputs": [
    {
     "name": "stdout",
     "output_type": "stream",
     "text": [
      "hello world\n"
     ]
    }
   ],
   "source": [
    "print('hello world')"
   ]
  },
  {
   "cell_type": "code",
   "execution_count": 2,
   "id": "3380d93b",
   "metadata": {},
   "outputs": [
    {
     "data": {
      "text/plain": [
       "5"
      ]
     },
     "execution_count": 2,
     "metadata": {},
     "output_type": "execute_result"
    }
   ],
   "source": [
    "2+3"
   ]
  },
  {
   "cell_type": "code",
   "execution_count": 5,
   "id": "1213cf3b",
   "metadata": {},
   "outputs": [
    {
     "data": {
      "text/plain": [
       "0.0010332717120953106"
      ]
     },
     "execution_count": 5,
     "metadata": {},
     "output_type": "execute_result"
    }
   ],
   "source": [
    "56464646/54646464564"
   ]
  },
  {
   "cell_type": "code",
   "execution_count": 7,
   "id": "44040140",
   "metadata": {},
   "outputs": [
    {
     "data": {
      "text/plain": [
       "2124388789484"
      ]
     },
     "execution_count": 7,
     "metadata": {},
     "output_type": "execute_result"
    }
   ],
   "source": [
    "456465146*4654"
   ]
  },
  {
   "cell_type": "code",
   "execution_count": 10,
   "id": "679d8f58",
   "metadata": {},
   "outputs": [
    {
     "data": {
      "text/plain": [
       "16"
      ]
     },
     "execution_count": 10,
     "metadata": {},
     "output_type": "execute_result"
    }
   ],
   "source": [
    "4*4"
   ]
  },
  {
   "cell_type": "code",
   "execution_count": 11,
   "id": "1d6d4bee",
   "metadata": {},
   "outputs": [
    {
     "data": {
      "text/plain": [
       "16"
      ]
     },
     "execution_count": 11,
     "metadata": {},
     "output_type": "execute_result"
    }
   ],
   "source": [
    "4**2"
   ]
  },
  {
   "cell_type": "code",
   "execution_count": 12,
   "id": "d71e67af",
   "metadata": {},
   "outputs": [
    {
     "data": {
      "text/plain": [
       "64"
      ]
     },
     "execution_count": 12,
     "metadata": {},
     "output_type": "execute_result"
    }
   ],
   "source": [
    "4**3"
   ]
  },
  {
   "cell_type": "code",
   "execution_count": 15,
   "id": "f4f194c5",
   "metadata": {},
   "outputs": [
    {
     "data": {
      "text/plain": [
       "8"
      ]
     },
     "execution_count": 15,
     "metadata": {},
     "output_type": "execute_result"
    }
   ],
   "source": [
    "2**3"
   ]
  },
  {
   "cell_type": "code",
   "execution_count": 16,
   "id": "40a09ce2",
   "metadata": {},
   "outputs": [
    {
     "data": {
      "text/plain": [
       "64"
      ]
     },
     "execution_count": 16,
     "metadata": {},
     "output_type": "execute_result"
    }
   ],
   "source": [
    "4*4*4"
   ]
  },
  {
   "cell_type": "code",
   "execution_count": 9,
   "id": "1be8157e",
   "metadata": {},
   "outputs": [
    {
     "ename": "NameError",
     "evalue": "name 'amit' is not defined",
     "output_type": "error",
     "traceback": [
      "\u001b[1;31m---------------------------------------------------------------------------\u001b[0m",
      "\u001b[1;31mNameError\u001b[0m                                 Traceback (most recent call last)",
      "\u001b[1;32m<ipython-input-9-f7f01ff233e2>\u001b[0m in \u001b[0;36m<module>\u001b[1;34m\u001b[0m\n\u001b[1;32m----> 1\u001b[1;33m \u001b[0mamit\u001b[0m\u001b[1;33m\u001b[0m\u001b[1;33m\u001b[0m\u001b[0m\n\u001b[0m",
      "\u001b[1;31mNameError\u001b[0m: name 'amit' is not defined"
     ]
    }
   ],
   "source": [
    "amit\n"
   ]
  },
  {
   "cell_type": "code",
   "execution_count": 17,
   "id": "5d25caf9",
   "metadata": {},
   "outputs": [
    {
     "data": {
      "text/plain": [
       "5.0"
      ]
     },
     "execution_count": 17,
     "metadata": {},
     "output_type": "execute_result"
    }
   ],
   "source": [
    "50/10 #float value"
   ]
  },
  {
   "cell_type": "code",
   "execution_count": 1,
   "id": "deff8ae9",
   "metadata": {},
   "outputs": [
    {
     "data": {
      "text/plain": [
       "2.5"
      ]
     },
     "execution_count": 1,
     "metadata": {},
     "output_type": "execute_result"
    }
   ],
   "source": [
    "5/2 # float value"
   ]
  },
  {
   "cell_type": "code",
   "execution_count": 2,
   "id": "36817b1d",
   "metadata": {},
   "outputs": [
    {
     "data": {
      "text/plain": [
       "2"
      ]
     },
     "execution_count": 2,
     "metadata": {},
     "output_type": "execute_result"
    }
   ],
   "source": [
    "5//2"
   ]
  },
  {
   "cell_type": "code",
   "execution_count": 20,
   "id": "1be1584e",
   "metadata": {},
   "outputs": [
    {
     "data": {
      "text/plain": [
       "1.5"
      ]
     },
     "execution_count": 20,
     "metadata": {},
     "output_type": "execute_result"
    }
   ],
   "source": [
    "3/2"
   ]
  },
  {
   "cell_type": "code",
   "execution_count": 21,
   "id": "901c1ce2",
   "metadata": {},
   "outputs": [
    {
     "data": {
      "text/plain": [
       "0"
      ]
     },
     "execution_count": 21,
     "metadata": {},
     "output_type": "execute_result"
    }
   ],
   "source": [
    "50%10  #reminder"
   ]
  },
  {
   "cell_type": "code",
   "execution_count": 22,
   "id": "661587ad",
   "metadata": {},
   "outputs": [
    {
     "data": {
      "text/plain": [
       "25"
      ]
     },
     "execution_count": 22,
     "metadata": {},
     "output_type": "execute_result"
    }
   ],
   "source": [
    "5**2"
   ]
  },
  {
   "cell_type": "code",
   "execution_count": 1,
   "id": "c729e8ca",
   "metadata": {},
   "outputs": [
    {
     "data": {
      "text/plain": [
       "2"
      ]
     },
     "execution_count": 1,
     "metadata": {},
     "output_type": "execute_result"
    }
   ],
   "source": [
    "5//2"
   ]
  },
  {
   "cell_type": "code",
   "execution_count": 2,
   "id": "819071b6",
   "metadata": {},
   "outputs": [
    {
     "data": {
      "text/plain": [
       "14"
      ]
     },
     "execution_count": 2,
     "metadata": {},
     "output_type": "execute_result"
    }
   ],
   "source": [
    "8+9-3"
   ]
  },
  {
   "cell_type": "code",
   "execution_count": 3,
   "id": "92dc9bf3",
   "metadata": {},
   "outputs": [
    {
     "ename": "SyntaxError",
     "evalue": "invalid syntax (<ipython-input-3-3410464e6a71>, line 1)",
     "output_type": "error",
     "traceback": [
      "\u001b[1;36m  File \u001b[1;32m\"<ipython-input-3-3410464e6a71>\"\u001b[1;36m, line \u001b[1;32m1\u001b[0m\n\u001b[1;33m    8+8-\u001b[0m\n\u001b[1;37m        ^\u001b[0m\n\u001b[1;31mSyntaxError\u001b[0m\u001b[1;31m:\u001b[0m invalid syntax\n"
     ]
    }
   ],
   "source": [
    "8+8-"
   ]
  },
  {
   "cell_type": "code",
   "execution_count": 4,
   "id": "e6f6b028",
   "metadata": {},
   "outputs": [
    {
     "data": {
      "text/plain": [
       "14"
      ]
     },
     "execution_count": 4,
     "metadata": {},
     "output_type": "execute_result"
    }
   ],
   "source": [
    "8+3*2"
   ]
  },
  {
   "cell_type": "code",
   "execution_count": 5,
   "id": "3a4e45a2",
   "metadata": {},
   "outputs": [
    {
     "data": {
      "text/plain": [
       "22"
      ]
     },
     "execution_count": 5,
     "metadata": {},
     "output_type": "execute_result"
    }
   ],
   "source": [
    "(8+3)*2"
   ]
  },
  {
   "cell_type": "code",
   "execution_count": 6,
   "id": "22441a53",
   "metadata": {},
   "outputs": [
    {
     "data": {
      "text/plain": [
       "3"
      ]
     },
     "execution_count": 6,
     "metadata": {},
     "output_type": "execute_result"
    }
   ],
   "source": [
    "10//3"
   ]
  },
  {
   "cell_type": "code",
   "execution_count": 8,
   "id": "d74d33c2",
   "metadata": {},
   "outputs": [
    {
     "data": {
      "text/plain": [
       "0"
      ]
     },
     "execution_count": 8,
     "metadata": {},
     "output_type": "execute_result"
    }
   ],
   "source": [
    "10%2"
   ]
  },
  {
   "cell_type": "code",
   "execution_count": 9,
   "id": "38d12979",
   "metadata": {},
   "outputs": [],
   "source": [
    "# string"
   ]
  },
  {
   "cell_type": "code",
   "execution_count": 10,
   "id": "e31e5c63",
   "metadata": {},
   "outputs": [
    {
     "data": {
      "text/plain": [
       "'madhurimadhuri'"
      ]
     },
     "execution_count": 10,
     "metadata": {},
     "output_type": "execute_result"
    }
   ],
   "source": [
    "'madhuri'+'madhuri'"
   ]
  },
  {
   "cell_type": "code",
   "execution_count": 11,
   "id": "f5eabb3f",
   "metadata": {},
   "outputs": [
    {
     "data": {
      "text/plain": [
       "'madhurimadhurimadhurimadhurimadhuri'"
      ]
     },
     "execution_count": 11,
     "metadata": {},
     "output_type": "execute_result"
    }
   ],
   "source": [
    "5*'madhuri'"
   ]
  },
  {
   "cell_type": "code",
   "execution_count": 2,
   "id": "805a524c",
   "metadata": {},
   "outputs": [
    {
     "name": "stdout",
     "output_type": "stream",
     "text": [
      "c:\\docs\n",
      "ayan\n"
     ]
    }
   ],
   "source": [
    "print('c:\\docs\\nayan')"
   ]
  },
  {
   "cell_type": "code",
   "execution_count": 4,
   "id": "7bcb544d",
   "metadata": {},
   "outputs": [
    {
     "name": "stdout",
     "output_type": "stream",
     "text": [
      "c:\\docs\\nayan\n"
     ]
    }
   ],
   "source": [
    "print(\"c:\\docs\\\\nayan\")"
   ]
  },
  {
   "cell_type": "markdown",
   "id": "6e2d87fa",
   "metadata": {},
   "source": [
    "# print()"
   ]
  },
  {
   "cell_type": "code",
   "execution_count": 34,
   "id": "0f4d8794",
   "metadata": {},
   "outputs": [
    {
     "name": "stdout",
     "output_type": "stream",
     "text": [
      "Welcome to paris\n"
     ]
    }
   ],
   "source": [
    "print('Welcome to paris')"
   ]
  },
  {
   "cell_type": "code",
   "execution_count": 35,
   "id": "f6f5328c",
   "metadata": {},
   "outputs": [
    {
     "name": "stdout",
     "output_type": "stream",
     "text": [
      "5\n"
     ]
    }
   ],
   "source": [
    "print(5)"
   ]
  },
  {
   "cell_type": "code",
   "execution_count": 59,
   "id": "e198d532",
   "metadata": {},
   "outputs": [
    {
     "name": "stdout",
     "output_type": "stream",
     "text": [
      "Hello\n",
      "World\n"
     ]
    }
   ],
   "source": [
    "print(\"Hello\")\n",
    "print(\"World\")"
   ]
  },
  {
   "cell_type": "code",
   "execution_count": 58,
   "id": "3632c091",
   "metadata": {},
   "outputs": [
    {
     "name": "stdout",
     "output_type": "stream",
     "text": [
      "hello World\n"
     ]
    }
   ],
   "source": [
    "print(\"hello\",end=\" \")\n",
    "print(\"World\")"
   ]
  },
  {
   "cell_type": "code",
   "execution_count": 36,
   "id": "f23814a5",
   "metadata": {},
   "outputs": [
    {
     "name": "stdout",
     "output_type": "stream",
     "text": [
      "5\n"
     ]
    }
   ],
   "source": [
    "print('5')"
   ]
  },
  {
   "cell_type": "code",
   "execution_count": 37,
   "id": "ebb394d4",
   "metadata": {},
   "outputs": [],
   "source": [
    "a=5\n",
    "b='5'"
   ]
  },
  {
   "cell_type": "code",
   "execution_count": 38,
   "id": "e26f7d3a",
   "metadata": {},
   "outputs": [
    {
     "name": "stdout",
     "output_type": "stream",
     "text": [
      "<class 'int'>\n",
      "<class 'str'>\n"
     ]
    }
   ],
   "source": [
    "print(type(a))\n",
    "print(type(b))"
   ]
  },
  {
   "cell_type": "code",
   "execution_count": 39,
   "id": "3f2c3393",
   "metadata": {},
   "outputs": [
    {
     "name": "stdout",
     "output_type": "stream",
     "text": [
      "15\n",
      "<class 'str'>\n",
      "15\n",
      "<class 'int'>\n",
      "15.0\n",
      "<class 'float'>\n"
     ]
    }
   ],
   "source": [
    "#you can specify the data type\n",
    "a1=str(15)\n",
    "print(a1)\n",
    "print(type(a1))\n",
    "\n",
    "a2=int(15)\n",
    "print(a2)\n",
    "print(type(a2))\n",
    "\n",
    "a3=float(15)\n",
    "print(a3)\n",
    "print(type(a3))"
   ]
  },
  {
   "cell_type": "markdown",
   "id": "cca6f5bd",
   "metadata": {},
   "source": [
    "# Python_Language_is_case_sensitive"
   ]
  },
  {
   "cell_type": "code",
   "execution_count": 24,
   "id": "6331209f",
   "metadata": {},
   "outputs": [],
   "source": [
    "age=23\n",
    "Age=34\n",
    "AGE=20\n",
    "\n"
   ]
  },
  {
   "cell_type": "code",
   "execution_count": 25,
   "id": "ba40cb13",
   "metadata": {},
   "outputs": [
    {
     "name": "stdout",
     "output_type": "stream",
     "text": [
      "23\n",
      "34\n",
      "20\n"
     ]
    }
   ],
   "source": [
    "print(age)\n",
    "print(Age)\n",
    "print(AGE)"
   ]
  },
  {
   "cell_type": "markdown",
   "id": "67345831",
   "metadata": {},
   "source": [
    "# Variable or identifier Rule"
   ]
  },
  {
   "cell_type": "code",
   "execution_count": 40,
   "id": "97379e89",
   "metadata": {},
   "outputs": [],
   "source": [
    "#it must start with letter or underscore\n",
    "# A variable can not start with a number\n",
    "# A variable can only contain alpha-numeric character and underscore (A-z,0-9 and _)\n",
    "# A variable is case sensitive(age,Age,AGE are three different variables)"
   ]
  },
  {
   "cell_type": "code",
   "execution_count": 8,
   "id": "26cbb2f1",
   "metadata": {},
   "outputs": [],
   "source": [
    "myname='Ram'\n",
    "_myname='Ram'\n",
    "my_name='Ram'\n",
    "myName='Ram'\n",
    "MYNAME='Ram'\n",
    "myname2='Ram'"
   ]
  },
  {
   "cell_type": "code",
   "execution_count": 12,
   "id": "e6fe87f8",
   "metadata": {},
   "outputs": [],
   "source": [
    "#Illegal variables\n",
    "#2myname='Ram'\n",
    "#my-name=\"Ram\"\n",
    "# my name='Ram'\n",
    "#a@ = 0"
   ]
  },
  {
   "cell_type": "code",
   "execution_count": 3,
   "id": "bc6f1e8b",
   "metadata": {},
   "outputs": [
    {
     "ename": "SyntaxError",
     "evalue": "invalid syntax (<ipython-input-3-265337a01d2d>, line 1)",
     "output_type": "error",
     "traceback": [
      "\u001b[1;36m  File \u001b[1;32m\"<ipython-input-3-265337a01d2d>\"\u001b[1;36m, line \u001b[1;32m1\u001b[0m\n\u001b[1;33m    my name='Ram'\u001b[0m\n\u001b[1;37m       ^\u001b[0m\n\u001b[1;31mSyntaxError\u001b[0m\u001b[1;31m:\u001b[0m invalid syntax\n"
     ]
    }
   ],
   "source": [
    "my name='Ram'"
   ]
  },
  {
   "cell_type": "code",
   "execution_count": 11,
   "id": "3086e5b5",
   "metadata": {},
   "outputs": [],
   "source": [
    "_4=10"
   ]
  },
  {
   "cell_type": "code",
   "execution_count": 8,
   "id": "fc8b1fe0",
   "metadata": {},
   "outputs": [
    {
     "ename": "TypeError",
     "evalue": "unsupported operand type(s) for @=: 'str' and 'int'",
     "output_type": "error",
     "traceback": [
      "\u001b[1;31m---------------------------------------------------------------------------\u001b[0m",
      "\u001b[1;31mTypeError\u001b[0m                                 Traceback (most recent call last)",
      "\u001b[1;32m<ipython-input-8-163ddbec7b14>\u001b[0m in \u001b[0;36m<module>\u001b[1;34m\u001b[0m\n\u001b[1;32m----> 1\u001b[1;33m \u001b[0m_\u001b[0m\u001b[1;33m@=\u001b[0m\u001b[1;36m10\u001b[0m\u001b[1;33m\u001b[0m\u001b[1;33m\u001b[0m\u001b[0m\n\u001b[0m",
      "\u001b[1;31mTypeError\u001b[0m: unsupported operand type(s) for @=: 'str' and 'int'"
     ]
    }
   ],
   "source": [
    "_@=10"
   ]
  },
  {
   "cell_type": "code",
   "execution_count": 48,
   "id": "091ba434",
   "metadata": {},
   "outputs": [
    {
     "ename": "SyntaxError",
     "evalue": "invalid syntax (<ipython-input-48-89339e2d91ea>, line 1)",
     "output_type": "error",
     "traceback": [
      "\u001b[1;36m  File \u001b[1;32m\"<ipython-input-48-89339e2d91ea>\"\u001b[1;36m, line \u001b[1;32m1\u001b[0m\n\u001b[1;33m    global=1\u001b[0m\n\u001b[1;37m          ^\u001b[0m\n\u001b[1;31mSyntaxError\u001b[0m\u001b[1;31m:\u001b[0m invalid syntax\n"
     ]
    }
   ],
   "source": [
    "global=1 #illegal"
   ]
  },
  {
   "cell_type": "code",
   "execution_count": 43,
   "id": "1b5a64cf",
   "metadata": {},
   "outputs": [],
   "source": [
    "x='Elon'\n",
    "y='Tata'\n",
    "z='Ambani'"
   ]
  },
  {
   "cell_type": "code",
   "execution_count": 44,
   "id": "f120ac8f",
   "metadata": {},
   "outputs": [],
   "source": [
    "#many values to multiple variables\n",
    "x,y,z='Elon','Tata','Ambani'"
   ]
  },
  {
   "cell_type": "code",
   "execution_count": 45,
   "id": "eb0efccd",
   "metadata": {},
   "outputs": [
    {
     "name": "stdout",
     "output_type": "stream",
     "text": [
      "Ambani\n"
     ]
    }
   ],
   "source": [
    "print(z)"
   ]
  },
  {
   "cell_type": "code",
   "execution_count": 46,
   "id": "6e5b4fcb",
   "metadata": {},
   "outputs": [],
   "source": [
    "x=y=z='Business'"
   ]
  },
  {
   "cell_type": "code",
   "execution_count": 47,
   "id": "80c605e4",
   "metadata": {},
   "outputs": [
    {
     "name": "stdout",
     "output_type": "stream",
     "text": [
      "Business\n"
     ]
    }
   ],
   "source": [
    "print(y)"
   ]
  },
  {
   "cell_type": "code",
   "execution_count": 4,
   "id": "9c520b15",
   "metadata": {},
   "outputs": [
    {
     "ename": "ValueError",
     "evalue": "too many values to unpack (expected 3)",
     "output_type": "error",
     "traceback": [
      "\u001b[1;31m---------------------------------------------------------------------------\u001b[0m",
      "\u001b[1;31mValueError\u001b[0m                                Traceback (most recent call last)",
      "\u001b[1;32m<ipython-input-4-6aa6a987e5f3>\u001b[0m in \u001b[0;36m<module>\u001b[1;34m\u001b[0m\n\u001b[1;32m----> 1\u001b[1;33m \u001b[0mx\u001b[0m\u001b[1;33m,\u001b[0m\u001b[0my\u001b[0m\u001b[1;33m,\u001b[0m\u001b[0mz\u001b[0m\u001b[1;33m=\u001b[0m\u001b[1;34m'Vaccine'\u001b[0m\u001b[1;33m\u001b[0m\u001b[1;33m\u001b[0m\u001b[0m\n\u001b[0m",
      "\u001b[1;31mValueError\u001b[0m: too many values to unpack (expected 3)"
     ]
    }
   ],
   "source": [
    "x,y,z='Vaccine'"
   ]
  },
  {
   "cell_type": "code",
   "execution_count": 26,
   "id": "dde91d24",
   "metadata": {},
   "outputs": [],
   "source": [
    "a='Good morning'"
   ]
  },
  {
   "cell_type": "code",
   "execution_count": null,
   "id": "c0e4ad23",
   "metadata": {},
   "outputs": [],
   "source": [
    "print(a)"
   ]
  },
  {
   "cell_type": "code",
   "execution_count": 28,
   "id": "dbc4787b",
   "metadata": {},
   "outputs": [],
   "source": [
    "a=50"
   ]
  },
  {
   "cell_type": "code",
   "execution_count": 29,
   "id": "9f2be6f6",
   "metadata": {},
   "outputs": [
    {
     "name": "stdout",
     "output_type": "stream",
     "text": [
      "50\n"
     ]
    }
   ],
   "source": [
    "print(a)"
   ]
  },
  {
   "cell_type": "code",
   "execution_count": 27,
   "id": "5494c7f2",
   "metadata": {},
   "outputs": [],
   "source": [
    "a='rajesh'"
   ]
  },
  {
   "cell_type": "code",
   "execution_count": null,
   "id": "064d4651",
   "metadata": {},
   "outputs": [],
   "source": [
    "print(a)"
   ]
  },
  {
   "cell_type": "code",
   "execution_count": 30,
   "id": "6f1faed4",
   "metadata": {},
   "outputs": [],
   "source": [
    "x=26"
   ]
  },
  {
   "cell_type": "code",
   "execution_count": 31,
   "id": "df3403e4",
   "metadata": {},
   "outputs": [],
   "source": [
    "y=x"
   ]
  },
  {
   "cell_type": "code",
   "execution_count": 32,
   "id": "927726c6",
   "metadata": {},
   "outputs": [
    {
     "name": "stdout",
     "output_type": "stream",
     "text": [
      "26\n"
     ]
    }
   ],
   "source": [
    "print(y)"
   ]
  },
  {
   "cell_type": "code",
   "execution_count": 33,
   "id": "706a0473",
   "metadata": {},
   "outputs": [
    {
     "name": "stdout",
     "output_type": "stream",
     "text": [
      "676\n"
     ]
    }
   ],
   "source": [
    "d=y*y\n",
    "print(d)"
   ]
  },
  {
   "cell_type": "code",
   "execution_count": 50,
   "id": "7eaaaa6b",
   "metadata": {},
   "outputs": [
    {
     "ename": "ValueError",
     "evalue": "not enough values to unpack (expected 3, got 2)",
     "output_type": "error",
     "traceback": [
      "\u001b[1;31m---------------------------------------------------------------------------\u001b[0m",
      "\u001b[1;31mValueError\u001b[0m                                Traceback (most recent call last)",
      "\u001b[1;32m<ipython-input-50-78828434462f>\u001b[0m in \u001b[0;36m<module>\u001b[1;34m\u001b[0m\n\u001b[1;32m----> 1\u001b[1;33m \u001b[0mx\u001b[0m\u001b[1;33m,\u001b[0m\u001b[0my\u001b[0m\u001b[1;33m,\u001b[0m\u001b[0mz\u001b[0m\u001b[1;33m=\u001b[0m\u001b[1;34m'Vaccine'\u001b[0m\u001b[1;33m,\u001b[0m\u001b[1;34m'medicine'\u001b[0m\u001b[1;33m\u001b[0m\u001b[1;33m\u001b[0m\u001b[0m\n\u001b[0m",
      "\u001b[1;31mValueError\u001b[0m: not enough values to unpack (expected 3, got 2)"
     ]
    }
   ],
   "source": [
    "x,y,z='Vaccine','medicine'"
   ]
  },
  {
   "cell_type": "code",
   "execution_count": 51,
   "id": "6ed5099d",
   "metadata": {},
   "outputs": [],
   "source": [
    "x,y,z='Vaccine','medicine','exercise'"
   ]
  },
  {
   "cell_type": "code",
   "execution_count": 7,
   "id": "d3b13123",
   "metadata": {},
   "outputs": [
    {
     "name": "stdout",
     "output_type": "stream",
     "text": [
      "('Vaccine', 'medicine', 'exercise')\n"
     ]
    },
    {
     "data": {
      "text/plain": [
       "'Vaccine'"
      ]
     },
     "execution_count": 7,
     "metadata": {},
     "output_type": "execute_result"
    }
   ],
   "source": [
    "x='Vaccine','medicine','exercise'\n",
    "print(x)\n",
    "type(x)\n",
    "x[0]"
   ]
  },
  {
   "cell_type": "code",
   "execution_count": 53,
   "id": "3e446b14",
   "metadata": {},
   "outputs": [
    {
     "name": "stdout",
     "output_type": "stream",
     "text": [
      "25\n"
     ]
    }
   ],
   "source": [
    "roll_no=[20,25,30]\n",
    "ram,shyam,gita=roll_no\n",
    "print(shyam)"
   ]
  },
  {
   "cell_type": "code",
   "execution_count": 10,
   "id": "e0212568",
   "metadata": {},
   "outputs": [
    {
     "ename": "SyntaxError",
     "evalue": "invalid syntax (<ipython-input-10-d948fb7be85a>, line 2)",
     "output_type": "error",
     "traceback": [
      "\u001b[1;36m  File \u001b[1;32m\"<ipython-input-10-d948fb7be85a>\"\u001b[1;36m, line \u001b[1;32m2\u001b[0m\n\u001b[1;33m    print(_&)\u001b[0m\n\u001b[1;37m            ^\u001b[0m\n\u001b[1;31mSyntaxError\u001b[0m\u001b[1;31m:\u001b[0m invalid syntax\n"
     ]
    }
   ],
   "source": [
    "_&=10\n",
    "print(_&)"
   ]
  },
  {
   "cell_type": "code",
   "execution_count": 11,
   "id": "cf8a29fb",
   "metadata": {},
   "outputs": [
    {
     "name": "stdout",
     "output_type": "stream",
     "text": [
      "True\n",
      "False\n",
      "True\n",
      "False\n"
     ]
    }
   ],
   "source": [
    "print( 'class'.isidentifier())\n",
    "print('#today'.isidentifier() )\n",
    "print( '_12hello'.isidentifier())\n",
    "print( '8cellos'.isidentifier())\n"
   ]
  },
  {
   "cell_type": "code",
   "execution_count": 3,
   "id": "bee2171e",
   "metadata": {},
   "outputs": [
    {
     "name": "stdout",
     "output_type": "stream",
     "text": [
      "False\n"
     ]
    }
   ],
   "source": [
    "print('8time'.isidentifier())"
   ]
  },
  {
   "cell_type": "code",
   "execution_count": null,
   "id": "52a9402f",
   "metadata": {},
   "outputs": [],
   "source": []
  },
  {
   "cell_type": "markdown",
   "id": "d825b48c",
   "metadata": {},
   "source": [
    "# Keywords"
   ]
  },
  {
   "cell_type": "code",
   "execution_count": 30,
   "id": "273f0d8d",
   "metadata": {},
   "outputs": [],
   "source": [
    "import keyword"
   ]
  },
  {
   "cell_type": "code",
   "execution_count": 32,
   "id": "79c9daaa",
   "metadata": {},
   "outputs": [
    {
     "name": "stdout",
     "output_type": "stream",
     "text": [
      "\n",
      "Here is a list of the Python keywords.  Enter any keyword to get more help.\n",
      "\n",
      "False               class               from                or\n",
      "None                continue            global              pass\n",
      "True                def                 if                  raise\n",
      "and                 del                 import              return\n",
      "as                  elif                in                  try\n",
      "assert              else                is                  while\n",
      "async               except              lambda              with\n",
      "await               finally             nonlocal            yield\n",
      "break               for                 not                 \n",
      "\n"
     ]
    }
   ],
   "source": [
    "help(\"keywords\")"
   ]
  },
  {
   "cell_type": "code",
   "execution_count": 8,
   "id": "6618da36",
   "metadata": {},
   "outputs": [
    {
     "name": "stdout",
     "output_type": "stream",
     "text": [
      "Help on bool object:\n",
      "\n",
      "class bool(int)\n",
      " |  bool(x) -> bool\n",
      " |  \n",
      " |  Returns True when the argument x is true, False otherwise.\n",
      " |  The builtins True and False are the only two instances of the class bool.\n",
      " |  The class bool is a subclass of the class int, and cannot be subclassed.\n",
      " |  \n",
      " |  Method resolution order:\n",
      " |      bool\n",
      " |      int\n",
      " |      object\n",
      " |  \n",
      " |  Methods defined here:\n",
      " |  \n",
      " |  __and__(self, value, /)\n",
      " |      Return self&value.\n",
      " |  \n",
      " |  __or__(self, value, /)\n",
      " |      Return self|value.\n",
      " |  \n",
      " |  __rand__(self, value, /)\n",
      " |      Return value&self.\n",
      " |  \n",
      " |  __repr__(self, /)\n",
      " |      Return repr(self).\n",
      " |  \n",
      " |  __ror__(self, value, /)\n",
      " |      Return value|self.\n",
      " |  \n",
      " |  __rxor__(self, value, /)\n",
      " |      Return value^self.\n",
      " |  \n",
      " |  __xor__(self, value, /)\n",
      " |      Return self^value.\n",
      " |  \n",
      " |  ----------------------------------------------------------------------\n",
      " |  Static methods defined here:\n",
      " |  \n",
      " |  __new__(*args, **kwargs) from builtins.type\n",
      " |      Create and return a new object.  See help(type) for accurate signature.\n",
      " |  \n",
      " |  ----------------------------------------------------------------------\n",
      " |  Methods inherited from int:\n",
      " |  \n",
      " |  __abs__(self, /)\n",
      " |      abs(self)\n",
      " |  \n",
      " |  __add__(self, value, /)\n",
      " |      Return self+value.\n",
      " |  \n",
      " |  __bool__(self, /)\n",
      " |      self != 0\n",
      " |  \n",
      " |  __ceil__(...)\n",
      " |      Ceiling of an Integral returns itself.\n",
      " |  \n",
      " |  __divmod__(self, value, /)\n",
      " |      Return divmod(self, value).\n",
      " |  \n",
      " |  __eq__(self, value, /)\n",
      " |      Return self==value.\n",
      " |  \n",
      " |  __float__(self, /)\n",
      " |      float(self)\n",
      " |  \n",
      " |  __floor__(...)\n",
      " |      Flooring an Integral returns itself.\n",
      " |  \n",
      " |  __floordiv__(self, value, /)\n",
      " |      Return self//value.\n",
      " |  \n",
      " |  __format__(self, format_spec, /)\n",
      " |      Default object formatter.\n",
      " |  \n",
      " |  __ge__(self, value, /)\n",
      " |      Return self>=value.\n",
      " |  \n",
      " |  __getattribute__(self, name, /)\n",
      " |      Return getattr(self, name).\n",
      " |  \n",
      " |  __getnewargs__(self, /)\n",
      " |  \n",
      " |  __gt__(self, value, /)\n",
      " |      Return self>value.\n",
      " |  \n",
      " |  __hash__(self, /)\n",
      " |      Return hash(self).\n",
      " |  \n",
      " |  __index__(self, /)\n",
      " |      Return self converted to an integer, if self is suitable for use as an index into a list.\n",
      " |  \n",
      " |  __int__(self, /)\n",
      " |      int(self)\n",
      " |  \n",
      " |  __invert__(self, /)\n",
      " |      ~self\n",
      " |  \n",
      " |  __le__(self, value, /)\n",
      " |      Return self<=value.\n",
      " |  \n",
      " |  __lshift__(self, value, /)\n",
      " |      Return self<<value.\n",
      " |  \n",
      " |  __lt__(self, value, /)\n",
      " |      Return self<value.\n",
      " |  \n",
      " |  __mod__(self, value, /)\n",
      " |      Return self%value.\n",
      " |  \n",
      " |  __mul__(self, value, /)\n",
      " |      Return self*value.\n",
      " |  \n",
      " |  __ne__(self, value, /)\n",
      " |      Return self!=value.\n",
      " |  \n",
      " |  __neg__(self, /)\n",
      " |      -self\n",
      " |  \n",
      " |  __pos__(self, /)\n",
      " |      +self\n",
      " |  \n",
      " |  __pow__(self, value, mod=None, /)\n",
      " |      Return pow(self, value, mod).\n",
      " |  \n",
      " |  __radd__(self, value, /)\n",
      " |      Return value+self.\n",
      " |  \n",
      " |  __rdivmod__(self, value, /)\n",
      " |      Return divmod(value, self).\n",
      " |  \n",
      " |  __rfloordiv__(self, value, /)\n",
      " |      Return value//self.\n",
      " |  \n",
      " |  __rlshift__(self, value, /)\n",
      " |      Return value<<self.\n",
      " |  \n",
      " |  __rmod__(self, value, /)\n",
      " |      Return value%self.\n",
      " |  \n",
      " |  __rmul__(self, value, /)\n",
      " |      Return value*self.\n",
      " |  \n",
      " |  __round__(...)\n",
      " |      Rounding an Integral returns itself.\n",
      " |      Rounding with an ndigits argument also returns an integer.\n",
      " |  \n",
      " |  __rpow__(self, value, mod=None, /)\n",
      " |      Return pow(value, self, mod).\n",
      " |  \n",
      " |  __rrshift__(self, value, /)\n",
      " |      Return value>>self.\n",
      " |  \n",
      " |  __rshift__(self, value, /)\n",
      " |      Return self>>value.\n",
      " |  \n",
      " |  __rsub__(self, value, /)\n",
      " |      Return value-self.\n",
      " |  \n",
      " |  __rtruediv__(self, value, /)\n",
      " |      Return value/self.\n",
      " |  \n",
      " |  __sizeof__(self, /)\n",
      " |      Returns size in memory, in bytes.\n",
      " |  \n",
      " |  __sub__(self, value, /)\n",
      " |      Return self-value.\n",
      " |  \n",
      " |  __truediv__(self, value, /)\n",
      " |      Return self/value.\n",
      " |  \n",
      " |  __trunc__(...)\n",
      " |      Truncating an Integral returns itself.\n",
      " |  \n",
      " |  as_integer_ratio(self, /)\n",
      " |      Return integer ratio.\n",
      " |      \n",
      " |      Return a pair of integers, whose ratio is exactly equal to the original int\n",
      " |      and with a positive denominator.\n",
      " |      \n",
      " |      >>> (10).as_integer_ratio()\n",
      " |      (10, 1)\n",
      " |      >>> (-10).as_integer_ratio()\n",
      " |      (-10, 1)\n",
      " |      >>> (0).as_integer_ratio()\n",
      " |      (0, 1)\n",
      " |  \n",
      " |  bit_length(self, /)\n",
      " |      Number of bits necessary to represent self in binary.\n",
      " |      \n",
      " |      >>> bin(37)\n",
      " |      '0b100101'\n",
      " |      >>> (37).bit_length()\n",
      " |      6\n",
      " |  \n",
      " |  conjugate(...)\n",
      " |      Returns self, the complex conjugate of any int.\n",
      " |  \n",
      " |  to_bytes(self, /, length, byteorder, *, signed=False)\n",
      " |      Return an array of bytes representing an integer.\n",
      " |      \n",
      " |      length\n",
      " |        Length of bytes object to use.  An OverflowError is raised if the\n",
      " |        integer is not representable with the given number of bytes.\n",
      " |      byteorder\n",
      " |        The byte order used to represent the integer.  If byteorder is 'big',\n",
      " |        the most significant byte is at the beginning of the byte array.  If\n",
      " |        byteorder is 'little', the most significant byte is at the end of the\n",
      " |        byte array.  To request the native byte order of the host system, use\n",
      " |        `sys.byteorder' as the byte order value.\n",
      " |      signed\n",
      " |        Determines whether two's complement is used to represent the integer.\n",
      " |        If signed is False and a negative integer is given, an OverflowError\n",
      " |        is raised.\n",
      " |  \n",
      " |  ----------------------------------------------------------------------\n",
      " |  Class methods inherited from int:\n",
      " |  \n",
      " |  from_bytes(bytes, byteorder, *, signed=False) from builtins.type\n",
      " |      Return the integer represented by the given array of bytes.\n",
      " |      \n",
      " |      bytes\n",
      " |        Holds the array of bytes to convert.  The argument must either\n",
      " |        support the buffer protocol or be an iterable object producing bytes.\n",
      " |        Bytes and bytearray are examples of built-in objects that support the\n",
      " |        buffer protocol.\n",
      " |      byteorder\n",
      " |        The byte order used to represent the integer.  If byteorder is 'big',\n",
      " |        the most significant byte is at the beginning of the byte array.  If\n",
      " |        byteorder is 'little', the most significant byte is at the end of the\n",
      " |        byte array.  To request the native byte order of the host system, use\n",
      " |        `sys.byteorder' as the byte order value.\n",
      " |      signed\n",
      " |        Indicates whether two's complement is used to represent the integer.\n",
      " |  \n",
      " |  ----------------------------------------------------------------------\n",
      " |  Data descriptors inherited from int:\n",
      " |  \n",
      " |  denominator\n",
      " |      the denominator of a rational number in lowest terms\n",
      " |  \n",
      " |  imag\n",
      " |      the imaginary part of a complex number\n",
      " |  \n",
      " |  numerator\n",
      " |      the numerator of a rational number in lowest terms\n",
      " |  \n",
      " |  real\n",
      " |      the real part of a complex number\n",
      "\n"
     ]
    }
   ],
   "source": [
    "help(\"False\")"
   ]
  },
  {
   "cell_type": "code",
   "execution_count": 34,
   "id": "6ff1a619",
   "metadata": {},
   "outputs": [
    {
     "name": "stdout",
     "output_type": "stream",
     "text": [
      "The \"for\" statement\n",
      "*******************\n",
      "\n",
      "The \"for\" statement is used to iterate over the elements of a sequence\n",
      "(such as a string, tuple or list) or other iterable object:\n",
      "\n",
      "   for_stmt ::= \"for\" target_list \"in\" expression_list \":\" suite\n",
      "                [\"else\" \":\" suite]\n",
      "\n",
      "The expression list is evaluated once; it should yield an iterable\n",
      "object.  An iterator is created for the result of the\n",
      "\"expression_list\".  The suite is then executed once for each item\n",
      "provided by the iterator, in the order returned by the iterator.  Each\n",
      "item in turn is assigned to the target list using the standard rules\n",
      "for assignments (see Assignment statements), and then the suite is\n",
      "executed.  When the items are exhausted (which is immediately when the\n",
      "sequence is empty or an iterator raises a \"StopIteration\" exception),\n",
      "the suite in the \"else\" clause, if present, is executed, and the loop\n",
      "terminates.\n",
      "\n",
      "A \"break\" statement executed in the first suite terminates the loop\n",
      "without executing the \"else\" clause’s suite.  A \"continue\" statement\n",
      "executed in the first suite skips the rest of the suite and continues\n",
      "with the next item, or with the \"else\" clause if there is no next\n",
      "item.\n",
      "\n",
      "The for-loop makes assignments to the variables in the target list.\n",
      "This overwrites all previous assignments to those variables including\n",
      "those made in the suite of the for-loop:\n",
      "\n",
      "   for i in range(10):\n",
      "       print(i)\n",
      "       i = 5             # this will not affect the for-loop\n",
      "                         # because i will be overwritten with the next\n",
      "                         # index in the range\n",
      "\n",
      "Names in the target list are not deleted when the loop is finished,\n",
      "but if the sequence is empty, they will not have been assigned to at\n",
      "all by the loop.  Hint: the built-in function \"range()\" returns an\n",
      "iterator of integers suitable to emulate the effect of Pascal’s \"for i\n",
      ":= a to b do\"; e.g., \"list(range(3))\" returns the list \"[0, 1, 2]\".\n",
      "\n",
      "Note:\n",
      "\n",
      "  There is a subtlety when the sequence is being modified by the loop\n",
      "  (this can only occur for mutable sequences, e.g. lists).  An\n",
      "  internal counter is used to keep track of which item is used next,\n",
      "  and this is incremented on each iteration.  When this counter has\n",
      "  reached the length of the sequence the loop terminates.  This means\n",
      "  that if the suite deletes the current (or a previous) item from the\n",
      "  sequence, the next item will be skipped (since it gets the index of\n",
      "  the current item which has already been treated).  Likewise, if the\n",
      "  suite inserts an item in the sequence before the current item, the\n",
      "  current item will be treated again the next time through the loop.\n",
      "  This can lead to nasty bugs that can be avoided by making a\n",
      "  temporary copy using a slice of the whole sequence, e.g.,\n",
      "\n",
      "     for x in a[:]:\n",
      "         if x < 0: a.remove(x)\n",
      "\n",
      "Related help topics: break, continue, while\n",
      "\n"
     ]
    }
   ],
   "source": [
    "help(\"for\")"
   ]
  },
  {
   "cell_type": "code",
   "execution_count": 36,
   "id": "006780df",
   "metadata": {},
   "outputs": [
    {
     "data": {
      "text/plain": [
       "['False',\n",
       " 'None',\n",
       " 'True',\n",
       " 'and',\n",
       " 'as',\n",
       " 'assert',\n",
       " 'async',\n",
       " 'await',\n",
       " 'break',\n",
       " 'class',\n",
       " 'continue',\n",
       " 'def',\n",
       " 'del',\n",
       " 'elif',\n",
       " 'else',\n",
       " 'except',\n",
       " 'finally',\n",
       " 'for',\n",
       " 'from',\n",
       " 'global',\n",
       " 'if',\n",
       " 'import',\n",
       " 'in',\n",
       " 'is',\n",
       " 'lambda',\n",
       " 'nonlocal',\n",
       " 'not',\n",
       " 'or',\n",
       " 'pass',\n",
       " 'raise',\n",
       " 'return',\n",
       " 'try',\n",
       " 'while',\n",
       " 'with',\n",
       " 'yield']"
      ]
     },
     "execution_count": 36,
     "metadata": {},
     "output_type": "execute_result"
    }
   ],
   "source": [
    "import keyword\n",
    "keyword.kwlist\n"
   ]
  },
  {
   "cell_type": "code",
   "execution_count": 9,
   "id": "4d2e07e3",
   "metadata": {},
   "outputs": [
    {
     "data": {
      "text/plain": [
       "7"
      ]
     },
     "execution_count": 9,
     "metadata": {},
     "output_type": "execute_result"
    }
   ],
   "source": [
    "len(\"madhuri\")"
   ]
  },
  {
   "cell_type": "markdown",
   "id": "d30a1c53",
   "metadata": {},
   "source": [
    "# Examples of keywords"
   ]
  },
  {
   "cell_type": "code",
   "execution_count": 39,
   "id": "474f2111",
   "metadata": {},
   "outputs": [
    {
     "name": "stdout",
     "output_type": "stream",
     "text": [
      "Jack\n"
     ]
    }
   ],
   "source": [
    "#class keyword\n",
    "class Student:\n",
    "    name = \"Jack\"\n",
    "    roll = 21\n",
    "print(Student.name)"
   ]
  },
  {
   "cell_type": "code",
   "execution_count": 40,
   "id": "bddcacd7",
   "metadata": {},
   "outputs": [
    {
     "name": "stdout",
     "output_type": "stream",
     "text": [
      "['B']\n"
     ]
    }
   ],
   "source": [
    "#del keyword\n",
    "value = [\"A\", \"B\"]\n",
    "del value[0]\n",
    "print(value)"
   ]
  },
  {
   "cell_type": "code",
   "execution_count": 42,
   "id": "4e9d564b",
   "metadata": {},
   "outputs": [
    {
     "name": "stdout",
     "output_type": "stream",
     "text": [
      "Welcome to function in python\n"
     ]
    }
   ],
   "source": [
    "#def keyword\n",
    "\n",
    "def function1():\n",
    "    print(\"Welcome to function in python\")\n",
    "function1()"
   ]
  },
  {
   "cell_type": "code",
   "execution_count": 43,
   "id": "81cbf378",
   "metadata": {},
   "outputs": [
    {
     "name": "stdout",
     "output_type": "stream",
     "text": [
      "False\n"
     ]
    }
   ],
   "source": [
    "#False keyword\n",
    "print(5<2)"
   ]
  },
  {
   "cell_type": "code",
   "execution_count": 44,
   "id": "c376d29c",
   "metadata": {},
   "outputs": [
    {
     "name": "stdout",
     "output_type": "stream",
     "text": [
      "True\n"
     ]
    }
   ],
   "source": [
    "#True keyword\n",
    "print(1<2)"
   ]
  },
  {
   "cell_type": "code",
   "execution_count": 46,
   "id": "0c7aebb7",
   "metadata": {},
   "outputs": [
    {
     "name": "stdout",
     "output_type": "stream",
     "text": [
      "0\n",
      "1\n",
      "2\n"
     ]
    }
   ],
   "source": [
    "#break keyword\n",
    "for value in range(5):\n",
    "    if value > 2:\n",
    "        break\n",
    "    print(value)"
   ]
  },
  {
   "cell_type": "code",
   "execution_count": 47,
   "id": "b7cfb419",
   "metadata": {},
   "outputs": [
    {
     "name": "stdout",
     "output_type": "stream",
     "text": [
      "0\n",
      "1\n",
      "2\n",
      "3\n",
      "5\n"
     ]
    }
   ],
   "source": [
    "#continue\n",
    "for value in range(6):\n",
    "    if value == 4:\n",
    "        continue\n",
    "    print(value)"
   ]
  },
  {
   "cell_type": "code",
   "execution_count": 1,
   "id": "b7bc8d9d",
   "metadata": {},
   "outputs": [
    {
     "name": "stdout",
     "output_type": "stream",
     "text": [
      "False\n",
      "True\n",
      "True\n",
      "False\n"
     ]
    }
   ],
   "source": [
    "import keyword\n",
    "print(keyword.iskeyword('var'))\n",
    "print(keyword.iskeyword('False'))\n",
    "print(keyword.iskeyword('continue'))\n",
    "print(keyword.iskeyword('count'))\n"
   ]
  },
  {
   "cell_type": "markdown",
   "id": "90767c61",
   "metadata": {},
   "source": [
    "# Python Identation"
   ]
  },
  {
   "cell_type": "markdown",
   "id": "cb8ceccf",
   "metadata": {},
   "source": [
    "Indentation in python refers to spaces and tabs that are used at the beginning of the statement\n",
    "Where in other programming languages the indentation in code is for readability only, the indentation in Python is very important.\n",
    "The statement with the same indentation belongs to same group called a suite.\n",
    "This it is used to create or represent a block of code\n",
    "Python uses indentation to indicate a block of code."
   ]
  },
  {
   "cell_type": "code",
   "execution_count": 10,
   "id": "20091248",
   "metadata": {},
   "outputs": [
    {
     "ename": "IndentationError",
     "evalue": "expected an indented block (<ipython-input-10-036ecd11d280>, line 2)",
     "output_type": "error",
     "traceback": [
      "\u001b[1;36m  File \u001b[1;32m\"<ipython-input-10-036ecd11d280>\"\u001b[1;36m, line \u001b[1;32m2\u001b[0m\n\u001b[1;33m    print('40 is less than 80')\u001b[0m\n\u001b[1;37m    ^\u001b[0m\n\u001b[1;31mIndentationError\u001b[0m\u001b[1;31m:\u001b[0m expected an indented block\n"
     ]
    }
   ],
   "source": [
    "if 40<80:\n",
    "    print('40 is less than 80')"
   ]
  },
  {
   "cell_type": "code",
   "execution_count": 55,
   "id": "69a622e7",
   "metadata": {},
   "outputs": [
    {
     "ename": "IndentationError",
     "evalue": "expected an indented block (<ipython-input-55-036ecd11d280>, line 2)",
     "output_type": "error",
     "traceback": [
      "\u001b[1;36m  File \u001b[1;32m\"<ipython-input-55-036ecd11d280>\"\u001b[1;36m, line \u001b[1;32m2\u001b[0m\n\u001b[1;33m    print('40 is less than 80')\u001b[0m\n\u001b[1;37m    ^\u001b[0m\n\u001b[1;31mIndentationError\u001b[0m\u001b[1;31m:\u001b[0m expected an indented block\n"
     ]
    }
   ],
   "source": [
    "if 40<80:\n",
    "print('40 is less than 80')"
   ]
  },
  {
   "cell_type": "code",
   "execution_count": 56,
   "id": "b991554b",
   "metadata": {},
   "outputs": [
    {
     "name": "stdout",
     "output_type": "stream",
     "text": [
      "40 is less than 80\n"
     ]
    }
   ],
   "source": [
    "if 40<80:\n",
    " print('40 is less than 80')"
   ]
  },
  {
   "cell_type": "code",
   "execution_count": 57,
   "id": "4b0a2bab",
   "metadata": {},
   "outputs": [
    {
     "name": "stdout",
     "output_type": "stream",
     "text": [
      "40 is less than 80\n",
      "this is end of code\n"
     ]
    }
   ],
   "source": [
    "if 40<80:\n",
    "    print('40 is less than 80')\n",
    "    print('this is end of code')"
   ]
  },
  {
   "cell_type": "code",
   "execution_count": 58,
   "id": "e8049982",
   "metadata": {},
   "outputs": [
    {
     "ename": "IndentationError",
     "evalue": "unexpected indent (<ipython-input-58-498a90580a2a>, line 3)",
     "output_type": "error",
     "traceback": [
      "\u001b[1;36m  File \u001b[1;32m\"<ipython-input-58-498a90580a2a>\"\u001b[1;36m, line \u001b[1;32m3\u001b[0m\n\u001b[1;33m    print('this is end of code')\u001b[0m\n\u001b[1;37m    ^\u001b[0m\n\u001b[1;31mIndentationError\u001b[0m\u001b[1;31m:\u001b[0m unexpected indent\n"
     ]
    }
   ],
   "source": [
    "if 40<80:\n",
    "    print('40 is less than 80')\n",
    "      print('this is end of code')"
   ]
  },
  {
   "cell_type": "code",
   "execution_count": null,
   "id": "50af9041",
   "metadata": {},
   "outputs": [],
   "source": [
    "if 40<80:\n",
    "    print('40 is less than 80')\n",
    "   print('this is end of code')"
   ]
  },
  {
   "cell_type": "code",
   "execution_count": null,
   "id": "ef4b74b7",
   "metadata": {},
   "outputs": [],
   "source": [
    "if 40<80:\n",
    "          print('40 is less than 80')\n",
    "          print('this is end of code')"
   ]
  },
  {
   "cell_type": "markdown",
   "id": "17aa809c",
   "metadata": {},
   "source": [
    "# Comments"
   ]
  },
  {
   "cell_type": "markdown",
   "id": "c2152931",
   "metadata": {},
   "source": [
    "Introduction to comments:==>Comments are text notes added to the program to provide explanatory information about\n",
    "the source code. They are used in a programming language to document the program and remind programmers of what tricky\n",
    "things they just did with the code and also helps the later generation for understanding and maintenance of code. \n",
    "The compiler considers these as non-executable statements. Since comments do not execute,\n",
    "when you run a program you will not see any indication of the comment in the output.\n"
   ]
  },
  {
   "cell_type": "code",
   "execution_count": 20,
   "id": "37ef82e7",
   "metadata": {},
   "outputs": [],
   "source": [
    "# This is a comment in Python"
   ]
  },
  {
   "cell_type": "markdown",
   "id": "054f7179",
   "metadata": {},
   "source": [
    "Comments should be made at the same indent as the code it is commenting on."
   ]
  },
  {
   "cell_type": "code",
   "execution_count": 1,
   "id": "861edbc4",
   "metadata": {},
   "outputs": [
    {
     "name": "stdout",
     "output_type": "stream",
     "text": [
      "Hello !!\n",
      "WELCOME\n",
      "Welcome to Comments in Python\n"
     ]
    }
   ],
   "source": [
    "# This comment has no indent\n",
    "def GFG():\n",
    "    \n",
    "  # Since, this comment is inside a function\n",
    "  # It would have indent same as the function body\n",
    "  print(\"WELCOME\")\n",
    "    \n",
    "  for i in range(1, 2):\n",
    "  \n",
    "    # Be careful of indentation\n",
    "    # This comment is inside the body of for loop\n",
    "    print(\"Welcome to Comments in Python\")\n",
    "    \n",
    "# This comment is again outside the body\n",
    "# of function so it wont have any indent.\n",
    "  \n",
    "print(\"Hello !!\")\n",
    "GFG()"
   ]
  },
  {
   "cell_type": "markdown",
   "id": "bb99683f",
   "metadata": {},
   "source": [
    "# 1. Single-Line Comments:"
   ]
  },
  {
   "cell_type": "markdown",
   "id": "56096521",
   "metadata": {},
   "source": [
    "Comments starting with a ‘#’ and whitespace are called single-line comments in Python. \n",
    "These comments can only stretch to a single line and are the only way for comments in Python. e.g."
   ]
  },
  {
   "cell_type": "code",
   "execution_count": 22,
   "id": "5085952d",
   "metadata": {},
   "outputs": [],
   "source": [
    "#this is single line comment"
   ]
  },
  {
   "cell_type": "markdown",
   "id": "c27fb51c",
   "metadata": {},
   "source": [
    "# 2. Multi-line (Block) comments:"
   ]
  },
  {
   "cell_type": "markdown",
   "id": "7a3ae73e",
   "metadata": {},
   "source": [
    "Unlike other programming languages Python doesn’t support multi-line comment blocks out of the box.\n",
    "HOwever we can use consecutive # single-line comments to comment out multiple lines of code. \n",
    "Some examples of block comments-"
   ]
  },
  {
   "cell_type": "code",
   "execution_count": 23,
   "id": "754d2dc1",
   "metadata": {},
   "outputs": [],
   "source": [
    "# This type of comments can serve\n",
    "# both as a single-line as well\n",
    "# as multi-line (block) in Python."
   ]
  },
  {
   "cell_type": "markdown",
   "id": "9ca85b1b",
   "metadata": {},
   "source": [
    "# 3. Inline Style comments:"
   ]
  },
  {
   "cell_type": "markdown",
   "id": "d270742a",
   "metadata": {},
   "source": [
    "Inline comments occur on the same line of a statement, following the code itself.Generally, inline comments look like this:\n"
   ]
  },
  {
   "cell_type": "code",
   "execution_count": null,
   "id": "a32a1c79",
   "metadata": {},
   "outputs": [],
   "source": [
    " \n",
    "x = 3        # This is called an inline comment\n",
    "\n",
    "a = b + c    # Adding value of 'b' and 'c' to 'a'"
   ]
  },
  {
   "cell_type": "markdown",
   "id": "687e605e",
   "metadata": {},
   "source": [
    "# 4. Docstring comments:"
   ]
  },
  {
   "cell_type": "markdown",
   "id": "52c00ccb",
   "metadata": {},
   "source": [
    "Python documentation strings (or docstrings) provide a convenient way of associating documentation with Python modules,\n",
    "functions, classes, and methods. \n",
    "It’s specified in source code that is used, like a comment, to document a specific segment of code. \n",
    "Unlike conventional source code comments, the docstring should describe what the function does, not how."
   ]
  },
  {
   "cell_type": "code",
   "execution_count": 11,
   "id": "7842d45d",
   "metadata": {},
   "outputs": [],
   "source": [
    "a=\"\"\"Docstring\"\"\""
   ]
  },
  {
   "cell_type": "code",
   "execution_count": 24,
   "id": "2961db68",
   "metadata": {},
   "outputs": [
    {
     "name": "stdout",
     "output_type": "stream",
     "text": [
      "Using __doc__:\n",
      "Demonstrates docstrings and does nothing really.\n",
      "Using help:\n",
      "Help on function my_function in module __main__:\n",
      "\n",
      "my_function()\n",
      "    Demonstrates docstrings and does nothing really.\n",
      "\n"
     ]
    }
   ],
   "source": [
    "def my_function(): \n",
    "    \n",
    "    \"\"\"Demonstrates docstrings and does nothing really.\"\"\"\n",
    "     \n",
    "    return None\n",
    "    \n",
    "print(\"Using __doc__:\")\n",
    "print(my_function.__doc__) \n",
    "    \n",
    "print(\"Using help:\")\n",
    "help(my_function)"
   ]
  },
  {
   "cell_type": "markdown",
   "id": "5fc367f8",
   "metadata": {},
   "source": [
    "# Advantages and Uses of Comments :"
   ]
  },
  {
   "cell_type": "markdown",
   "id": "fcbf414b",
   "metadata": {},
   "source": [
    "\n",
    "Planning and reviewing : In comments, we can write the pseudocode which we planned before writing the source code.\n",
    "Pseudocode is a mixture of natural language and high-level programming language.\n",
    "This helps in reviewing the source code more easily because pseudocode is more understandable than the program."
   ]
  },
  {
   "cell_type": "code",
   "execution_count": 25,
   "id": "409a97e2",
   "metadata": {},
   "outputs": [
    {
     "name": "stdout",
     "output_type": "stream",
     "text": [
      "13\n"
     ]
    }
   ],
   "source": [
    "# This function is adding two given numbers\n",
    "def addition(a, b):\n",
    "    \n",
    "  # storing the sum of given numbers in 'c'.\n",
    "  c = a + b\n",
    "    \n",
    "  # returning the sum here\n",
    "  return c\n",
    "  \n",
    "# passing the value of a and b to addition()\n",
    "a = 10\n",
    "b = 3\n",
    "sum = addition(a, b)\n",
    "  \n",
    "# printing the sum calculated by above function\n",
    "print(sum)"
   ]
  },
  {
   "cell_type": "markdown",
   "id": "6b2d4c0f",
   "metadata": {},
   "source": [
    "# Debugging :"
   ]
  },
  {
   "cell_type": "markdown",
   "id": "c3a8433c",
   "metadata": {},
   "source": [
    " Brute force method is a common method of debugging. \n",
    "In this approach, print statements are inserted throughout the program to print the intermediate values with the hope that some of the printed values will help to identify the errors. \n",
    "After doing debugging we comment those print statements. Hence comment is also used for debugging."
   ]
  },
  {
   "cell_type": "code",
   "execution_count": 28,
   "id": "aa6caccf",
   "metadata": {},
   "outputs": [
    {
     "name": "stdout",
     "output_type": "stream",
     "text": [
      "True\n"
     ]
    }
   ],
   "source": [
    "a = 12\n",
    "  \n",
    "if(a == 12):\n",
    "  print(\"True\")\n",
    "    \n",
    "# elif(a == 0):\n",
    "  # print(\"False\")\n",
    "    \n",
    "else:\n",
    "  print(\"Debugging\")"
   ]
  },
  {
   "cell_type": "markdown",
   "id": "6dc9c4c0",
   "metadata": {},
   "source": [
    "# User Input"
   ]
  },
  {
   "cell_type": "code",
   "execution_count": 19,
   "id": "64e27601",
   "metadata": {},
   "outputs": [
    {
     "name": "stdout",
     "output_type": "stream",
     "text": [
      "Enter num10\n",
      "Enter num20\n",
      "30\n"
     ]
    }
   ],
   "source": [
    "a=int(input(\"Enter num\"))\n",
    "b=int(input(\"Enter num\"))\n",
    "print(a+b)"
   ]
  },
  {
   "cell_type": "code",
   "execution_count": 14,
   "id": "163cdc0d",
   "metadata": {},
   "outputs": [
    {
     "data": {
      "text/plain": [
       "str"
      ]
     },
     "execution_count": 14,
     "metadata": {},
     "output_type": "execute_result"
    }
   ],
   "source": [
    "type(a)"
   ]
  },
  {
   "cell_type": "code",
   "execution_count": 15,
   "id": "0b2a5b2d",
   "metadata": {},
   "outputs": [
    {
     "name": "stdout",
     "output_type": "stream",
     "text": [
      "Enter num4\n"
     ]
    }
   ],
   "source": [
    "a=int(input(\"Enter num\"))"
   ]
  },
  {
   "cell_type": "code",
   "execution_count": 16,
   "id": "7cfccc42",
   "metadata": {},
   "outputs": [
    {
     "data": {
      "text/plain": [
       "int"
      ]
     },
     "execution_count": 16,
     "metadata": {},
     "output_type": "execute_result"
    }
   ],
   "source": [
    "type(a)"
   ]
  },
  {
   "cell_type": "code",
   "execution_count": null,
   "id": "b0205f79",
   "metadata": {},
   "outputs": [],
   "source": []
  }
 ],
 "metadata": {
  "kernelspec": {
   "display_name": "Python 3",
   "language": "python",
   "name": "python3"
  },
  "language_info": {
   "codemirror_mode": {
    "name": "ipython",
    "version": 3
   },
   "file_extension": ".py",
   "mimetype": "text/x-python",
   "name": "python",
   "nbconvert_exporter": "python",
   "pygments_lexer": "ipython3",
   "version": "3.8.8"
  }
 },
 "nbformat": 4,
 "nbformat_minor": 5
}
