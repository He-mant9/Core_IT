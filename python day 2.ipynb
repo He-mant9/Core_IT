{
 "cells": [
  {
   "cell_type": "markdown",
   "id": "45255bdb",
   "metadata": {},
   "source": [
    "# Hemant Khambait"
   ]
  },
  {
   "cell_type": "markdown",
   "id": "e2083e53",
   "metadata": {},
   "source": [
    "## Class_Work"
   ]
  },
  {
   "cell_type": "markdown",
   "id": "fa2daad6",
   "metadata": {},
   "source": [
    "## Break statement\n"
   ]
  },
  {
   "cell_type": "code",
   "execution_count": null,
   "id": "b9f9f9aa",
   "metadata": {},
   "outputs": [],
   "source": [
    "for letter in 'Python': # First Example\n",
    "    if letter == 'h':\n",
    "        break\n",
    "    print ('Current Letter :', letter)\n",
    "var = 10\n",
    "# Second Example\n",
    "while var > 0:\n",
    "    print ('Current variable value :', var)\n",
    "var = var -1\n",
    "if var == 5:\n",
    "    \n",
    "    \n",
    "    \n",
    "    break"
   ]
  },
  {
   "cell_type": "markdown",
   "id": "69f4a01a",
   "metadata": {},
   "source": [
    "# continue statement"
   ]
  },
  {
   "cell_type": "code",
   "execution_count": 64,
   "id": "35804a8f",
   "metadata": {},
   "outputs": [
    {
     "name": "stdout",
     "output_type": "stream",
     "text": [
      "Current Letter : H\n",
      "Current Letter : e\n",
      "Current Letter : m\n",
      "Current Letter : a\n",
      "Current Letter : n\n",
      "Current Letter : t\n",
      "Current variable value : 0\n"
     ]
    }
   ],
   "source": [
    "for letter in 'Hemant': # First Example\n",
    "    if letter == 'h':\n",
    "        continue\n",
    "    print ('Current Letter :', letter)\n",
    "\n",
    "var = 10\n",
    "while var > 0:\n",
    "    var = var -1\n",
    "    if var == 5:\n",
    "        continue\n",
    "print ('Current variable value :', var)   "
   ]
  },
  {
   "cell_type": "markdown",
   "id": "287a4d7b",
   "metadata": {},
   "source": [
    "## pass statement"
   ]
  },
  {
   "cell_type": "code",
   "execution_count": 63,
   "id": "60a19294",
   "metadata": {},
   "outputs": [
    {
     "name": "stdout",
     "output_type": "stream",
     "text": [
      "This is pass block\n",
      "This is pass block\n",
      "This is pass block\n",
      "This is pass block\n",
      "This is pass block\n",
      "This is pass block\n",
      "Current Letter : n\n"
     ]
    }
   ],
   "source": [
    "for letter in 'Python':\n",
    "    if letter == 'h':\n",
    "        pass\n",
    "    print ('This is pass block')\n",
    "print ('Current Letter :', letter)"
   ]
  },
  {
   "cell_type": "markdown",
   "id": "4070488e",
   "metadata": {},
   "source": [
    "# Decoreters"
   ]
  },
  {
   "cell_type": "markdown",
   "id": "8e503b6f",
   "metadata": {},
   "source": [
    "## Assigning Functions to Variables"
   ]
  },
  {
   "cell_type": "code",
   "execution_count": 14,
   "id": "cc7c48ca",
   "metadata": {},
   "outputs": [
    {
     "data": {
      "text/plain": [
       "6"
      ]
     },
     "execution_count": 14,
     "metadata": {},
     "output_type": "execute_result"
    }
   ],
   "source": [
    "def plus_one(number):\n",
    "    return number + 1\n",
    "add_one = plus_one\n",
    "add_one(5)"
   ]
  },
  {
   "cell_type": "markdown",
   "id": "7f97727d",
   "metadata": {},
   "source": [
    "## Passing Functions as Arguments to other Functions"
   ]
  },
  {
   "cell_type": "code",
   "execution_count": 16,
   "id": "77f3d566",
   "metadata": {},
   "outputs": [
    {
     "data": {
      "text/plain": [
       "6"
      ]
     },
     "execution_count": 16,
     "metadata": {},
     "output_type": "execute_result"
    }
   ],
   "source": [
    "def plus_one(number):\n",
    "    return number + 1\n",
    "def function_call(function):\n",
    "    number_to_add = 5\n",
    "    return function(number_to_add)\n",
    "function_call(plus_one)"
   ]
  },
  {
   "cell_type": "markdown",
   "id": "5c65fdaf",
   "metadata": {},
   "source": [
    "## Nested Functions have access to the Enclosing Function's Variable Scope"
   ]
  },
  {
   "cell_type": "code",
   "execution_count": 28,
   "id": "64d7872a",
   "metadata": {},
   "outputs": [
    {
     "name": "stdout",
     "output_type": "stream",
     "text": [
      "Some random message\n"
     ]
    }
   ],
   "source": [
    "def print_message(message):\n",
    "    \"Enclosing Function\"\n",
    "    def message_sender():\n",
    "        \"Nested Function\"\n",
    "    print(message)\n",
    "    message_sender()\n",
    "print_message(\"Some random message\")\n"
   ]
  },
  {
   "cell_type": "code",
   "execution_count": null,
   "id": "86e2eae3",
   "metadata": {},
   "outputs": [],
   "source": []
  },
  {
   "cell_type": "code",
   "execution_count": 27,
   "id": "6c42f094",
   "metadata": {},
   "outputs": [
    {
     "name": "stdout",
     "output_type": "stream",
     "text": [
      "Hello\n",
      "Hello\n"
     ]
    }
   ],
   "source": [
    "def first(msg):\n",
    "    print(msg)\n",
    "first(\"Hello\")\n",
    "second = first\n",
    "second(\"Hello\")"
   ]
  },
  {
   "cell_type": "code",
   "execution_count": 35,
   "id": "29e2a5e1",
   "metadata": {},
   "outputs": [],
   "source": [
    "def inc(x):\n",
    "    return x + 1\n",
    "def dec(x):\n",
    "        return x - 1\n",
    "def operate(func, x):\n",
    "        result = func(x)\n",
    "        return result"
   ]
  },
  {
   "cell_type": "code",
   "execution_count": 36,
   "id": "2f096f71",
   "metadata": {},
   "outputs": [
    {
     "data": {
      "text/plain": [
       "4"
      ]
     },
     "execution_count": 36,
     "metadata": {},
     "output_type": "execute_result"
    }
   ],
   "source": [
    "operate(inc,20)"
   ]
  },
  {
   "cell_type": "code",
   "execution_count": 38,
   "id": "bf2cc5ea",
   "metadata": {},
   "outputs": [
    {
     "data": {
      "text/plain": [
       "18"
      ]
     },
     "execution_count": 38,
     "metadata": {},
     "output_type": "execute_result"
    }
   ],
   "source": [
    "operate(dec,19)"
   ]
  },
  {
   "cell_type": "code",
   "execution_count": 43,
   "id": "fab2f890",
   "metadata": {},
   "outputs": [],
   "source": [
    "def make_pretty(func):\n",
    "    def inner():\n",
    "        print(\"I am hemant\")\n",
    "        func()\n",
    "    return inner\n",
    "def ordinary():\n",
    "    print(\"I am a soljar\")"
   ]
  },
  {
   "cell_type": "code",
   "execution_count": 44,
   "id": "eee790ee",
   "metadata": {},
   "outputs": [
    {
     "name": "stdout",
     "output_type": "stream",
     "text": [
      "I am a soljar\n"
     ]
    }
   ],
   "source": [
    "ordinary()"
   ]
  },
  {
   "cell_type": "code",
   "execution_count": 45,
   "id": "afb30914",
   "metadata": {},
   "outputs": [],
   "source": [
    "pretty = make_pretty(ordinary)"
   ]
  },
  {
   "cell_type": "code",
   "execution_count": 46,
   "id": "9bc22abb",
   "metadata": {},
   "outputs": [
    {
     "name": "stdout",
     "output_type": "stream",
     "text": [
      "I am hemant\n",
      "I am a soljar\n"
     ]
    }
   ],
   "source": [
    "pretty()"
   ]
  },
  {
   "cell_type": "code",
   "execution_count": 51,
   "id": "b38e37a1",
   "metadata": {},
   "outputs": [],
   "source": [
    "\n",
    "@make_pretty\n",
    "def ordinary():\n",
    "    print(\"I am ordinary\")\n",
    "\n",
    "\n",
    "def ordinary():\n",
    "    print(\"I am ordinary\")\n",
    "ordinary = make_pretty(ordinary)"
   ]
  },
  {
   "cell_type": "code",
   "execution_count": 52,
   "id": "d306c4d3",
   "metadata": {},
   "outputs": [],
   "source": [
    "def divide(a, b):\n",
    "    return a/b"
   ]
  },
  {
   "cell_type": "code",
   "execution_count": 53,
   "id": "1a271572",
   "metadata": {},
   "outputs": [
    {
     "data": {
      "text/plain": [
       "0.4"
      ]
     },
     "execution_count": 53,
     "metadata": {},
     "output_type": "execute_result"
    }
   ],
   "source": [
    "divide(2,5)"
   ]
  },
  {
   "cell_type": "code",
   "execution_count": 56,
   "id": "ecd23e81",
   "metadata": {},
   "outputs": [
    {
     "name": "stdout",
     "output_type": "stream",
     "text": [
      "******************************\n",
      "%%%%%%%%%%%%%%%%%%%%%%%%%%%%%%\n",
      "Hemant\n",
      "%%%%%%%%%%%%%%%%%%%%%%%%%%%%%%\n",
      "******************************\n"
     ]
    }
   ],
   "source": [
    "def star(func):\n",
    "    def inner(*args, **kwargs):\n",
    "        print(\"*\" * 30)\n",
    "        func(*args, **kwargs)\n",
    "        print(\"*\" * 30)\n",
    "    return inner\n",
    "\n",
    "def percent(func):\n",
    "    def inner(*args, **kwargs):\n",
    "        print(\"%\" * 30)\n",
    "        func(*args, **kwargs)\n",
    "        print(\"%\" * 30)\n",
    "    return inner\n",
    "@star\n",
    "@percent\n",
    "def printer(msg):\n",
    "    print(msg)\n",
    "printer(\"Hemant\")"
   ]
  },
  {
   "cell_type": "markdown",
   "id": "f6d23740",
   "metadata": {},
   "source": [
    "## Python - Built-in Modules"
   ]
  },
  {
   "cell_type": "code",
   "execution_count": 68,
   "id": "e7433239",
   "metadata": {},
   "outputs": [
    {
     "name": "stdout",
     "output_type": "stream",
     "text": [
      "\n",
      "Please wait a moment while I gather a list of all available modules...\n",
      "\n",
      "AptUrl              bcrypt              html                pytz\n",
      "CommandNotFound     bdb                 html5lib            qtawesome\n",
      "Crypto              binascii            http                qtconsole\n",
      "DistUpgrade         binhex              httplib2            qtpy\n",
      "HweSupportStatus    bisect              icalendar           queue\n",
      "IPython             black               idna                quopri\n",
      "LanguageSelector    black_primer        imagesize           random\n",
      "NvidiaDetector      blackd              imaplib             re\n",
      "PIL                 bleach              imghdr              readline\n",
      "PyInstaller         blib2to3            imp                 reprlib\n",
      "PyQt5               blinker             importlib           requests\n",
      "Quirks              brain_argparse      importlib_metadata  requests_unixsocket\n",
      "UbuntuDrivers       brain_attrs         importlib_resources resource\n",
      "UpdateManager       brain_builtin_inference inspect             rlcompleter\n",
      "__future__          brain_collections   io                  roman\n",
      "_abc                brain_crypt         ipaddress           rope\n",
      "_argon2_cffi_bindings brain_curses        ipykernel           runpy\n",
      "_ast                brain_dataclasses   ipykernel_launcher  sched\n",
      "_asyncio            brain_dateutil      ipython_genutils    secrets\n",
      "_bisect             brain_fstrings      ipywidgets          secretstorage\n",
      "_black_version      brain_functools     isort               select\n",
      "_blake2             brain_gi            itertools           selectors\n",
      "_bootlocale         brain_hashlib       janitor             send2trash\n",
      "_bz2                brain_http          jedi                setuptools\n",
      "_cffi_backend       brain_io            jinja2              shelve\n",
      "_codecs             brain_mechanize     json                shlex\n",
      "_codecs_cn          brain_multiprocessing jsonschema          shutil\n",
      "_codecs_hk          brain_namedtuple_enum jupyter             signal\n",
      "_codecs_iso2022     brain_nose          jupyter_client      simplejson\n",
      "_codecs_jp          brain_numpy_core_fromnumeric jupyter_console     sip\n",
      "_codecs_kr          brain_numpy_core_function_base jupyter_core        sipconfig\n",
      "_codecs_tw          brain_numpy_core_multiarray jupyterlab_pygments sipconfig_nd8\n",
      "_collections        brain_numpy_core_numeric jupyterlab_widgets  site\n",
      "_collections_abc    brain_numpy_core_numerictypes jwt                 sitecustomize\n",
      "_compat_pickle      brain_numpy_core_umath keyring             six\n",
      "_compression        brain_numpy_ndarray keyword             smtpd\n",
      "_contextvars        brain_numpy_random_mtrand language_support_pkgs smtplib\n",
      "_crypt              brain_numpy_utils   launchpadlib        sndhdr\n",
      "_csv                brain_pkg_resources lazy_object_proxy   socket\n",
      "_ctypes             brain_pytest        ldb                 socketserver\n",
      "_ctypes_test        brain_qt            lib2to3             softwareproperties\n",
      "_curses             brain_random        libfuturize         speechd\n",
      "_curses_panel       brain_re            libpasteurize       speechd_config\n",
      "_datetime           brain_six           linecache           sphinx\n",
      "_dbm                brain_ssl           locale              sphinxify\n",
      "_dbus_bindings      brain_subprocess    lockfile            spwd\n",
      "_dbus_glib_bindings brain_threading     logging             spyder\n",
      "_decimal            brain_typing        louis               spyder_breakpoints\n",
      "_dummy_thread       brain_uuid          lsb_release         spyder_io_dcm\n",
      "_elementtree        brlapi              lzma                spyder_io_hdf5\n",
      "_functools          builtins            mailbox             spyder_kernels\n",
      "_gdbm               bz2                 mailcap             spyder_profiler\n",
      "_hashlib            cProfile            mako                spyder_pylint\n",
      "_heapq              cairo               markupsafe          sqlite3\n",
      "_imp                calendar            marshal             sre_compile\n",
      "_io                 certifi             math                sre_constants\n",
      "_json               cffi                matplotlib_inline   sre_parse\n",
      "_ldb_text           cgi                 mccabe              ssl\n",
      "_locale             cgitb               mimetypes           stack_data\n",
      "_lsprof             chardet             mistune             stat\n",
      "_lzma               chunk               mmap                statistics\n",
      "_markupbase         click               mock                string\n",
      "_md5                cloudpickle         modulefinder        stringprep\n",
      "_multibytecodec     cmath               monotonic           struct\n",
      "_multiprocessing    cmd                 more_itertools      subprocess\n",
      "_opcode             code                multiprocessing     sunau\n",
      "_operator           codecs              myTraining          symbol\n",
      "_osx_support        codeop              mypy_extensions     symtable\n",
      "_pickle             collections         nacl                sys\n",
      "_posixshmem         colorama            nbclient            sysconfig\n",
      "_posixsubprocess    colorsys            nbconvert           syslog\n",
      "_py_abc             compileall          nbformat            systemd\n",
      "_pydecimal          concurrent          nest_asyncio        tabnanny\n",
      "_pyinstaller_hooks_contrib conf                netifaces           talloc\n",
      "_pyio               configparser        netrc               tarfile\n",
      "_pyrsistent_version contextlib          nis                 telnetlib\n",
      "_queue              contextvars         nntplib             tempfile\n",
      "_random             copy                notebook            termcolor\n",
      "_sha1               copyreg             ntpath              terminado\n",
      "_sha256             crypt               nturl2path          termios\n",
      "_sha3               cryptography        numbers             test\n",
      "_sha512             csv                 numpydoc            testpath\n",
      "_signal             ctypes              oauthlib            textwrap\n",
      "_sitebuiltins       cups                olefile             this\n",
      "_socket             cupshelpers         opcode              threading\n",
      "_sqlite3            curses              operator            time\n",
      "_sre                dataclasses         optparse            timeit\n",
      "_ssl                datetime            orca                tkinter\n",
      "_stat               dateutil            os                  token\n",
      "_statistics         dbm                 ossaudiodev         tokenize\n",
      "_string             dbus                packaging           tomli\n",
      "_strptime           deb822              pandocfilters       tornado\n",
      "_struct             debconf             paramiko            trace\n",
      "_symtable           debian              parser              traceback\n",
      "_sysconfigdata__linux_x86_64-linux-gnu debian_bundle       parso               tracemalloc\n",
      "_sysconfigdata__x86_64-linux-gnu debugpy             past                traitlets\n",
      "_testbuffer         decimal             pathlib             tty\n",
      "_testcapi           decorator           pathspec            turtle\n",
      "_testimportmultiple defer               pbr                 types\n",
      "_testinternalcapi   defusedxml          pdb                 typing\n",
      "_testmultiphase     difflib             pexpect             typing_extensions\n",
      "_thread             dis                 pickle              uaclient\n",
      "_threading_local    distlib             pickleshare         ufw\n",
      "_tkinter            distro              pickletools         unicodedata\n",
      "_tracemalloc        distro_info         pip                 unittest\n",
      "_uuid               distutils           pipes               uno\n",
      "_warnings           doctest             pkg_resources       unohelper\n",
      "_weakref            docutils            pkgutil             urllib\n",
      "_weakrefset         dummy_threading     platform            urllib3\n",
      "_xxsubinterpreters  duplicity           platformdirs        usbcreator\n",
      "_xxtestfuzz         easy_install        plistlib            uu\n",
      "_yaml               email               poplib              uuid\n",
      "abc                 encodings           posix               venv\n",
      "aifc                entrypoints         posixpath           virtualenv\n",
      "alabaster           enum                pprint              vlc\n",
      "altgraph            errno               problem_report      wadllib\n",
      "antigravity         executing           profile             warnings\n",
      "appdirs             fasteners           prometheus_client   wave\n",
      "apport              faulthandler        prompt_toolkit      wcwidth\n",
      "apport_python_hook  fcntl               pstats              weakref\n",
      "apt                 filecmp             psutil              webbrowser\n",
      "apt_inst            fileinput           pty                 webencodings\n",
      "apt_pkg             filelock            ptyprocess          wheel\n",
      "aptdaemon           fnmatch             pure_eval           widgetsnbextension\n",
      "aptsources          formatter           pvectorc            wrapt\n",
      "argon2              fractions           pwd                 wsgiref\n",
      "argparse            ftplib              py_compile          xdg\n",
      "array               functools           pyatspi             xdrlib\n",
      "ast                 future              pyclbr              xkit\n",
      "astroid             gc                  pycodestyle         xml\n",
      "asttokens           genericpath         pycparser           xmlrpc\n",
      "asynchat            getopt              pydoc               xxlimited\n",
      "asyncio             getpass             pydoc_data          xxsubtype\n",
      "asyncore            gettext             pyexpat             yaml\n",
      "atexit              gi                  pyflakes            zipapp\n",
      "attr                glob                pygments            zipfile\n",
      "attrs               grp                 pygtkcompat         zipimport\n",
      "audioop             gzip                pylint              zipp\n",
      "babel               hashlib             pyparsing           zlib\n",
      "backcall            heapq               pyrsistent          zmq\n",
      "base64              hmac                pysvn               \n",
      "\n",
      "Enter any module name to get more help.  Or, type \"modules spam\" to search\n",
      "for modules whose name or summary contain the string \"spam\".\n",
      "\n"
     ]
    }
   ],
   "source": [
    "help('modules')\n"
   ]
  },
  {
   "cell_type": "markdown",
   "id": "9c518770",
   "metadata": {},
   "source": [
    "## Python - sys Module"
   ]
  },
  {
   "cell_type": "code",
   "execution_count": 71,
   "id": "ababdac4",
   "metadata": {},
   "outputs": [
    {
     "name": "stdout",
     "output_type": "stream",
     "text": [
      "Exit\n"
     ]
    }
   ],
   "source": [
    "import sys\n",
    "\n",
    "\n",
    "for line in sys.stdin:\n",
    "\tif 'q' == line.rstrip():\n",
    "\t\tbreak\n",
    "\tprint(f'Input : {line}')\n",
    "\n",
    "print(\"Exit\")\n"
   ]
  },
  {
   "cell_type": "code",
   "execution_count": 72,
   "id": "fbc8b0f8",
   "metadata": {},
   "outputs": [
    {
     "name": "stdout",
     "output_type": "stream",
     "text": [
      "Hemant"
     ]
    },
    {
     "data": {
      "text/plain": [
       "6"
      ]
     },
     "execution_count": 72,
     "metadata": {},
     "output_type": "execute_result"
    }
   ],
   "source": [
    "import sys\n",
    "\n",
    "\n",
    "sys.stdout.write('Hemant')\n"
   ]
  },
  {
   "cell_type": "code",
   "execution_count": 73,
   "id": "c7808c1b",
   "metadata": {},
   "outputs": [
    {
     "name": "stdout",
     "output_type": "stream",
     "text": [
      "3.8.10 (default, Nov 26 2021, 20:14:08) \n",
      "[GCC 9.3.0]\n"
     ]
    }
   ],
   "source": [
    "import sys\n",
    "\n",
    "\n",
    "print(sys.version)\n"
   ]
  },
  {
   "cell_type": "raw",
   "id": "6b6f1e6f",
   "metadata": {},
   "source": [
    "## "
   ]
  },
  {
   "cell_type": "code",
   "execution_count": 74,
   "id": "e1b34acd",
   "metadata": {},
   "outputs": [
    {
     "name": "stderr",
     "output_type": "stream",
     "text": [
      "Hemant\n"
     ]
    }
   ],
   "source": [
    "import sys\n",
    "\n",
    "\n",
    "def print_to_stderr(*a):\n",
    "\tprint(*a, file = sys.stderr)\n",
    "\n",
    "print_to_stderr(\"Hemant\")\n"
   ]
  },
  {
   "cell_type": "markdown",
   "id": "e14e43e0",
   "metadata": {},
   "source": [
    "## math module"
   ]
  },
  {
   "cell_type": "code",
   "execution_count": 85,
   "id": "0c262c85",
   "metadata": {},
   "outputs": [
    {
     "name": "stdout",
     "output_type": "stream",
     "text": [
      "2.718281828459045\n"
     ]
    }
   ],
   "source": [
    "import math\n",
    "print (math.e)"
   ]
  },
  {
   "cell_type": "code",
   "execution_count": 86,
   "id": "6ee79150",
   "metadata": {},
   "outputs": [
    {
     "name": "stdout",
     "output_type": "stream",
     "text": [
      "3.141592653589793\n"
     ]
    }
   ],
   "source": [
    "import math\n",
    "\n",
    "print (math.pi)\n"
   ]
  },
  {
   "cell_type": "code",
   "execution_count": 87,
   "id": "64e5d925",
   "metadata": {},
   "outputs": [
    {
     "name": "stdout",
     "output_type": "stream",
     "text": [
      "50.26548245743669\n"
     ]
    }
   ],
   "source": [
    "import math\n",
    "\n",
    "r = 4\n",
    "\n",
    "pie = math.pi\n",
    "\n",
    "print(pie * r * r)\n"
   ]
  },
  {
   "cell_type": "code",
   "execution_count": 88,
   "id": "bd06f107",
   "metadata": {},
   "outputs": [
    {
     "name": "stdout",
     "output_type": "stream",
     "text": [
      "True\n",
      "True\n"
     ]
    }
   ],
   "source": [
    "import math\n",
    "\n",
    "print (math.inf > 10e108)\n",
    "print (-math.inf < -10e108)\n"
   ]
  },
  {
   "cell_type": "code",
   "execution_count": 89,
   "id": "1332fffa",
   "metadata": {},
   "outputs": [
    {
     "name": "stdout",
     "output_type": "stream",
     "text": [
      "The ceil of 33.7 is : 34\n"
     ]
    }
   ],
   "source": [
    "# Python code to demonstrate the working of ceil()\n",
    "\t\n",
    "# importing \"math\" for mathematical operations\n",
    "import math\n",
    "\t\n",
    "x = 33.7\n",
    "\t\n",
    "# returning the ceil of 33.7\n",
    "print (\"The ceil of 33.7 is : \", end =\"\")\n",
    "print (math.ceil(x))\n"
   ]
  },
  {
   "cell_type": "code",
   "execution_count": 99,
   "id": "6b678b6d",
   "metadata": {},
   "outputs": [
    {
     "name": "stdout",
     "output_type": "stream",
     "text": [
      "math.ceil(-13.1) :  -13\n",
      "math.ceil(101.96) :  102\n"
     ]
    }
   ],
   "source": [
    "# ceil()\n",
    "\t\n",
    "import math\n",
    "print (\"math.ceil(-13.1) : \", math.ceil(-13.1))\n",
    "print (\"math.ceil(101.96) : \", math.ceil(101.96))\n"
   ]
  },
  {
   "cell_type": "code",
   "execution_count": 98,
   "id": "892c1834",
   "metadata": {},
   "outputs": [
    {
     "name": "stdout",
     "output_type": "stream",
     "text": [
      "The value of cosine of pi / 6 is : 0.8660254037844387\n"
     ]
    }
   ],
   "source": [
    "# cos()\n",
    "\t\n",
    "import math\n",
    "a = math.pi / 6\n",
    "print (\"The value of cosine of pi / 6 is : \", end =\"\")\n",
    "print (math.cos(a))\n"
   ]
  },
  {
   "cell_type": "code",
   "execution_count": 96,
   "id": "e650c635",
   "metadata": {},
   "outputs": [
    {
     "name": "stdout",
     "output_type": "stream",
     "text": [
      "hypot(3, 4) :  5.0\n",
      "hypot(-3, 4) :  5.0\n",
      "hypot(6, 6) :  8.485281374238571\n"
     ]
    }
   ],
   "source": [
    "# hypot() function\n",
    "\n",
    "import math\n",
    "\n",
    "print(\"hypot(3, 4) : \", math.hypot(3, 4))\n",
    "print(\"hypot(-3, 4) : \", math.hypot(-3, 4))\n",
    "print(\"hypot(6, 6) : \", math.hypot(6, 6))\n"
   ]
  },
  {
   "cell_type": "code",
   "execution_count": 97,
   "id": "9b9c22a8",
   "metadata": {},
   "outputs": [
    {
     "name": "stdout",
     "output_type": "stream",
     "text": [
      "The value of 3**4 is : 81\n"
     ]
    }
   ],
   "source": [
    "# pow()\n",
    "print(\"The value of 3**4 is : \", end=\"\")\n",
    "print(pow(3, 4))\n"
   ]
  },
  {
   "cell_type": "code",
   "execution_count": 101,
   "id": "7ebcdac5",
   "metadata": {},
   "outputs": [
    {
     "name": "stdout",
     "output_type": "stream",
     "text": [
      "0.8714479827243188\n",
      "-0.6112736881917098\n",
      "-0.8280171685883474\n",
      "1.5574077246549023\n"
     ]
    }
   ],
   "source": [
    "#  tan()function\n",
    "\t\t\n",
    "import math\n",
    "\t\n",
    "a = math.pi / 6\n",
    "print (math.tan(7))\n",
    "print (math.tan(56))\n",
    "print (math.tan(2.45))\n",
    "print (math.tan(1))\n"
   ]
  },
  {
   "cell_type": "code",
   "execution_count": 105,
   "id": "46932695",
   "metadata": {},
   "outputs": [
    {
     "name": "stdout",
     "output_type": "stream",
     "text": [
      "Log2(a) : 3.807354922057604\n"
     ]
    }
   ],
   "source": [
    "# log2(a)\n",
    "\n",
    "import math\n",
    "print (\"Log2(a) : \", end=\"\")\n",
    "print (math.log2(14))\n"
   ]
  },
  {
   "cell_type": "markdown",
   "id": "9ea02251",
   "metadata": {},
   "source": [
    "## Statastical Function"
   ]
  },
  {
   "cell_type": "code",
   "execution_count": 108,
   "id": "1815ce36",
   "metadata": {},
   "outputs": [
    {
     "name": "stdout",
     "output_type": "stream",
     "text": [
      "The average : 2\n",
      "The maximum : 2\n"
     ]
    }
   ],
   "source": [
    "# mean() and mode()\n",
    "\n",
    "import statistics\n",
    "\n",
    "li = [1, 2, 3, 3, 2, 2, 2, 1]\n",
    "\n",
    "print (\"The average : \",end=\"\")\n",
    "print (statistics.mean(li))\n",
    "\n",
    "print (\"The maximum : \",end=\"\")\n",
    "print (statistics.mode(li))\n"
   ]
  },
  {
   "cell_type": "code",
   "execution_count": 109,
   "id": "c4b58632",
   "metadata": {},
   "outputs": [
    {
     "name": "stdout",
     "output_type": "stream",
     "text": [
      "The median of list element is : 2.5\n",
      "The lower median of list element is : 2\n",
      "The higher median of list element is : 3\n"
     ]
    }
   ],
   "source": [
    "# median(), median_low() and median_high()\n",
    "\n",
    "import statistics\n",
    "\n",
    "li = [1, 2, 2, 3, 3, 3]\n",
    "\n",
    "print (\"The median of list element is : \",end=\"\")\n",
    "print (statistics.median(li))\n",
    "print (\"The lower median of list element is : \",end=\"\")\n",
    "print (statistics.median_low(li))\n",
    "print (\"The higher median of list element is : \",end=\"\")\n",
    "print (statistics.median_high(li))\n"
   ]
  },
  {
   "cell_type": "code",
   "execution_count": 110,
   "id": "22e950e5",
   "metadata": {},
   "outputs": [
    {
     "name": "stdout",
     "output_type": "stream",
     "text": [
      "Standard Deviation of sample is 1.5811388300841898 \n"
     ]
    }
   ],
   "source": [
    "# stdev() function\n",
    "\n",
    "import statistics\n",
    "\n",
    "sample = [1, 2, 3, 4, 5]\n",
    "print(\"Standard Deviation of sample is % s \"\n",
    "\t\t\t\t% (statistics.stdev(sample)))\n"
   ]
  },
  {
   "cell_type": "code",
   "execution_count": 111,
   "id": "3b7e963b",
   "metadata": {},
   "outputs": [
    {
     "name": "stdout",
     "output_type": "stream",
     "text": [
      "15\n",
      "52\n",
      "52\n",
      "51\n"
     ]
    }
   ],
   "source": [
    "# round()\n",
    "print(round(15))\n",
    "\n",
    "print(round(51.6))\n",
    "print(round(51.5))\n",
    "print(round(51.4))\n"
   ]
  },
  {
   "cell_type": "markdown",
   "id": "3aa47f69",
   "metadata": {},
   "source": [
    "##  Collection module"
   ]
  },
  {
   "cell_type": "code",
   "execution_count": 113,
   "id": "e50c45c6",
   "metadata": {},
   "outputs": [
    {
     "name": "stdout",
     "output_type": "stream",
     "text": [
      "deque(['hemant', 'adi', 'pankaj'])\n"
     ]
    }
   ],
   "source": [
    "\n",
    "\n",
    "from collections import deque\n",
    "\t\n",
    "queue = deque(['hemant','adi','pankaj'])\n",
    "\t\n",
    "print(queue)\n"
   ]
  },
  {
   "cell_type": "code",
   "execution_count": 114,
   "id": "29b2efe4",
   "metadata": {},
   "outputs": [
    {
     "name": "stdout",
     "output_type": "stream",
     "text": [
      "Counter({'B': 5, 'A': 3, 'C': 2})\n",
      "Counter({'B': 5, 'A': 3, 'C': 2})\n",
      "Counter({'B': 5, 'A': 3, 'C': 2})\n"
     ]
    }
   ],
   "source": [
    "from collections import Counter\n",
    "\n",
    "print(Counter(['B','B','A','B','C','A','B',\n",
    "\t\t\t'B','A','C']))\n",
    "print(Counter({'A':3, 'B':5, 'C':2}))\n",
    "print(Counter(A=3, B=5, C=2))\n"
   ]
  },
  {
   "cell_type": "code",
   "execution_count": 115,
   "id": "796bfe0c",
   "metadata": {},
   "outputs": [
    {
     "name": "stdout",
     "output_type": "stream",
     "text": [
      "defaultdict(<class 'int'>, {1: 2, 2: 3, 3: 1, 4: 2})\n"
     ]
    }
   ],
   "source": [
    "\n",
    "from collections import defaultdict\n",
    "\t\n",
    "\t\n",
    "d = defaultdict(int)\n",
    "\t\n",
    "L = [1, 2, 3, 4, 2, 4, 1, 2]\n",
    "\t\n",
    "for i in L:\n",
    "\td[i] += 1\n",
    "\t\t\n",
    "print(d)\n"
   ]
  },
  {
   "cell_type": "markdown",
   "id": "cd69287f",
   "metadata": {},
   "source": [
    "## deque()"
   ]
  },
  {
   "cell_type": "code",
   "execution_count": 116,
   "id": "13998fef",
   "metadata": {},
   "outputs": [
    {
     "name": "stdout",
     "output_type": "stream",
     "text": [
      "The deque after appending at right is : \n",
      "deque([1, 2, 3, 4])\n",
      "The deque after appending at left is : \n",
      "deque([6, 1, 2, 3, 4])\n",
      "The deque after deleting from right is : \n",
      "deque([6, 1, 2, 3])\n",
      "The deque after deleting from left is : \n",
      "deque([1, 2, 3])\n"
     ]
    }
   ],
   "source": [
    "# append(), appendleft(), pop(), and popleft()\n",
    "\n",
    "import collections\n",
    "\n",
    "# initializing deque\n",
    "de = collections.deque([1,2,3])\n",
    "\n",
    "# using append() t\n",
    "de.append(4)\n",
    "\n",
    "print (\"The deque after appending at right is : \")\n",
    "print (de)\n",
    "\n",
    "# using appendleft() \n",
    "de.appendleft(6)\n",
    "\n",
    "print (\"The deque after appending at left is : \")\n",
    "print (de)\n",
    "\n",
    "# using pop()\n",
    "de.pop()\n",
    "print (\"The deque after deleting from right is : \")\n",
    "print (de)\n",
    "\n",
    "# using popleft()\n",
    "de.popleft()\n",
    "print (\"The deque after deleting from left is : \")\n",
    "print (de)\n"
   ]
  },
  {
   "cell_type": "markdown",
   "id": "61d9edc2",
   "metadata": {},
   "source": [
    "## random module"
   ]
  },
  {
   "cell_type": "code",
   "execution_count": 117,
   "id": "f63c1a0e",
   "metadata": {},
   "outputs": [
    {
     "name": "stdout",
     "output_type": "stream",
     "text": [
      "5\n"
     ]
    }
   ],
   "source": [
    "# import random\n",
    "import random\n",
    "\n",
    "# prints a random value from the list\n",
    "list1 = [1, 2, 3, 4, 5, 6]\n",
    "print(random.choice(list1))\n"
   ]
  },
  {
   "cell_type": "code",
   "execution_count": 118,
   "id": "f049a84a",
   "metadata": {},
   "outputs": [
    {
     "name": "stdout",
     "output_type": "stream",
     "text": [
      "0.6229016948897019\n",
      "0.7417869892607294\n"
     ]
    }
   ],
   "source": [
    "import random\n",
    "\n",
    "random.seed(5)\n",
    "\n",
    "print(random.random())\n",
    "print(random.random())\n"
   ]
  },
  {
   "cell_type": "code",
   "execution_count": 119,
   "id": "9ce38d25",
   "metadata": {},
   "outputs": [
    {
     "name": "stdout",
     "output_type": "stream",
     "text": [
      "Random number between 5 and 15 is 15\n",
      "Random number between -10 and -2 is -2\n"
     ]
    }
   ],
   "source": [
    "# of randint() function\n",
    "\n",
    "import random\n",
    "r1 = random.randint(5, 15)\n",
    "print(\"Random number between 5 and 15 is % s\" % (r1))\n",
    "r2 = random.randint(-10, -2)\n",
    "print(\"Random number between -10 and -2 is % d\" % (r2))\n"
   ]
  },
  {
   "cell_type": "markdown",
   "id": "de77fa22",
   "metadata": {},
   "source": [
    "# Home_Work"
   ]
  },
  {
   "cell_type": "markdown",
   "id": "d12b38ad",
   "metadata": {},
   "source": [
    "## Implimant the program for loop control statemant"
   ]
  },
  {
   "cell_type": "code",
   "execution_count": 125,
   "id": "880d04fe",
   "metadata": {},
   "outputs": [
    {
     "name": "stdout",
     "output_type": "stream",
     "text": [
      "List Iteration\n",
      "Hemant\n",
      "pankaj\n",
      "adity\n",
      "\n",
      "Tuple Iteration\n",
      "Hemant\n",
      "pankaj\n",
      "adity\n",
      "\n",
      "String Iteration\n",
      "H\n",
      "e\n",
      "m\n",
      "a\n",
      "n\n",
      "t\n",
      "\n",
      "Dictionary Iteration\n",
      "Hemant 20111042\n",
      "adity 20111043\n"
     ]
    }
   ],
   "source": [
    "## Iterating over a list\n",
    "print(\"List Iteration\")\n",
    "l = [\"Hemant\", \"pankaj\", \"adity\"]\n",
    "for i in l:\n",
    "\tprint(i)\n",
    "\t\n",
    "# Iterating over a tuple (immutable)\n",
    "print(\"\\nTuple Iteration\")\n",
    "t = (\"Hemant\", \"pankaj\", \"adity\")\n",
    "for i in t:\n",
    "\tprint(i)\n",
    "\t\n",
    "# Iterating over a String\n",
    "print(\"\\nString Iteration\")\t\n",
    "s = \"Hemant\"\n",
    "for i in s :\n",
    "\tprint(i)\n",
    "\t\n",
    "# Iterating over dictionary\n",
    "print(\"\\nDictionary Iteration\")\n",
    "d = dict()\n",
    "d['Hemant'] = 20111042\n",
    "d['adity'] = 20111043\n",
    "for i in d :\n",
    "\tprint(\"%s %d\" %(i, d[i]))\n"
   ]
  },
  {
   "cell_type": "markdown",
   "id": "9574ba48",
   "metadata": {},
   "source": [
    "## implimant the program which include all file opretion"
   ]
  },
  {
   "cell_type": "code",
   "execution_count": 133,
   "id": "72aa7827",
   "metadata": {},
   "outputs": [
    {
     "name": "stdout",
     "output_type": "stream",
     "text": [
      "Whether you’re having a rough day and need a pick-me-up to assure yourself that it’s all going to be OK, or whether you’re just looking for a mission statement for the day, these inspirational quotes will help you put one foot in front of the other and make the small or sweeping changes that you desire. No matter if it’s a movie star, a thought leader, Beyoncé, or a 17th century writer, you’re sure to find an inspirational quote that speaks to your drive and determination. Here are the best inspirational quotes for you!\n"
     ]
    }
   ],
   "source": [
    "# Python code to illustrate read() mode\n",
    "file = open(\"Hemant.txt\", \"r\")\n",
    "print (file.read())\n"
   ]
  },
  {
   "cell_type": "code",
   "execution_count": 135,
   "id": "84620a7f",
   "metadata": {},
   "outputs": [
    {
     "name": "stdout",
     "output_type": "stream",
     "text": [
      "Wheth\n"
     ]
    }
   ],
   "source": [
    "# Python code to illustrate read() mode character wise\n",
    "file = open(\"Hemant.txt\", \"r\")\n",
    "print (file.read(5))\n"
   ]
  },
  {
   "cell_type": "code",
   "execution_count": 9,
   "id": "29b62e76",
   "metadata": {},
   "outputs": [
    {
     "name": "stdout",
     "output_type": "stream",
     "text": [
      "Hemant!!!\n"
     ]
    }
   ],
   "source": [
    "file = open(\"Hemant.txt\", \"r\")\n",
    "print (file.read())"
   ]
  },
  {
   "cell_type": "code",
   "execution_count": 8,
   "id": "69e9740f",
   "metadata": {},
   "outputs": [
    {
     "name": "stdout",
     "output_type": "stream",
     "text": [
      "Hello! Welcome to demofile.txt\n",
      "This file is for testing purposes.\n",
      "Good Luck!\n"
     ]
    }
   ],
   "source": [
    "f = open(\"demofile.txt\", \"r\")\n",
    "\n",
    "print(f.read())\n"
   ]
  },
  {
   "cell_type": "code",
   "execution_count": 10,
   "id": "bcb04a6e",
   "metadata": {},
   "outputs": [
    {
     "name": "stdout",
     "output_type": "stream",
     "text": [
      "Hello\n"
     ]
    }
   ],
   "source": [
    "f = open(\"demofile.txt\", \"r\")\n",
    "\n",
    "print(f.read(5))"
   ]
  },
  {
   "cell_type": "code",
   "execution_count": 11,
   "id": "40b1c45e",
   "metadata": {},
   "outputs": [
    {
     "name": "stdout",
     "output_type": "stream",
     "text": [
      "Hello! Welcome to demofile.txt\n",
      "\n"
     ]
    }
   ],
   "source": [
    "f = open(\"demofile.txt\", \"r\")\n",
    "\n",
    "print(f.readline())\n"
   ]
  },
  {
   "cell_type": "code",
   "execution_count": 12,
   "id": "88e92cc6",
   "metadata": {},
   "outputs": [
    {
     "name": "stdout",
     "output_type": "stream",
     "text": [
      "Hello! Welcome to demofile.txt\n",
      "\n",
      "This file is for testing purposes.\n",
      "\n"
     ]
    }
   ],
   "source": [
    "f = open(\"demofile.txt\", \"r\")\n",
    "\n",
    "print(f.readline())\n",
    "print(f.readline())"
   ]
  },
  {
   "cell_type": "code",
   "execution_count": 13,
   "id": "a52858c6",
   "metadata": {},
   "outputs": [
    {
     "name": "stdout",
     "output_type": "stream",
     "text": [
      "Hello! Welcome to demofile.txt\n",
      "\n",
      "This file is for testing purposes.\n",
      "\n",
      "Good Luck!\n"
     ]
    }
   ],
   "source": [
    "f = open(\"demofile.txt\", \"r\")\n",
    "for x in f:\n",
    "  print(x)"
   ]
  },
  {
   "cell_type": "code",
   "execution_count": 14,
   "id": "61264f89",
   "metadata": {},
   "outputs": [
    {
     "name": "stdout",
     "output_type": "stream",
     "text": [
      "Hello! Welcome to demofile.txt\n",
      "\n"
     ]
    }
   ],
   "source": [
    "f = open(\"demofile.txt\", \"r\")\n",
    "\n",
    "print(f.readline())\n",
    "\n",
    "f.close()\n"
   ]
  },
  {
   "cell_type": "code",
   "execution_count": 15,
   "id": "2c04ba28",
   "metadata": {},
   "outputs": [
    {
     "name": "stdout",
     "output_type": "stream",
     "text": [
      "Now the file has more content!\n"
     ]
    }
   ],
   "source": [
    "f = open(\"demofile2.txt\", \"a\")\n",
    "f.write(\"Now the file has more content!\")\n",
    "f.close()\n",
    "\n",
    "#open and read the file after the appending:\n",
    "f = open(\"demofile2.txt\", \"r\")\n",
    "print(f.read())"
   ]
  },
  {
   "cell_type": "code",
   "execution_count": 16,
   "id": "ab7e3bf7",
   "metadata": {},
   "outputs": [
    {
     "name": "stdout",
     "output_type": "stream",
     "text": [
      "Woops! I have deleted the content!\n"
     ]
    }
   ],
   "source": [
    "f = open(\"demofile3.txt\", \"w\")\n",
    "f.write(\"Woops! I have deleted the content!\")\n",
    "f.close()\n",
    "\n",
    "#open and read the file after the appending:\n",
    "f = open(\"demofile3.txt\", \"r\")\n",
    "print(f.read())"
   ]
  },
  {
   "cell_type": "code",
   "execution_count": 25,
   "id": "558e57ac",
   "metadata": {
    "scrolled": true
   },
   "outputs": [
    {
     "name": "stdout",
     "output_type": "stream",
     "text": [
      "The file does not exist\n"
     ]
    }
   ],
   "source": [
    "import os\n",
    "if os.path.exists(\"demofile.txt\"):\n",
    "  os.remove(\"demofile.txt\")\n",
    "else:\n",
    "  print(\"The file does not exist\")"
   ]
  },
  {
   "cell_type": "markdown",
   "id": "d53a7253",
   "metadata": {},
   "source": [
    "##  for  creating your own module and your own package "
   ]
  },
  {
   "cell_type": "code",
   "execution_count": 5,
   "id": "627e41a5",
   "metadata": {},
   "outputs": [
    {
     "name": "stdout",
     "output_type": "stream",
     "text": [
      "12\n"
     ]
    }
   ],
   "source": [
    "# importing module calc.py\n",
    "import calc\n",
    "\n",
    "print(calc.add(10, 2))\n"
   ]
  },
  {
   "cell_type": "code",
   "execution_count": 6,
   "id": "18e368e0",
   "metadata": {},
   "outputs": [
    {
     "name": "stdout",
     "output_type": "stream",
     "text": [
      "4.0\n",
      "720\n"
     ]
    }
   ],
   "source": [
    "# importing sqrt() and factorial from the\n",
    "# module math\n",
    "from math import sqrt, factorial\n",
    "\n",
    "# if we simply do \"import math\", then\n",
    "# math.sqrt(16) and math.factorial()\n",
    "# are required.\n",
    "print(sqrt(16))\n",
    "print(factorial(6))\n"
   ]
  },
  {
   "cell_type": "code",
   "execution_count": 7,
   "id": "d4d5e6c0",
   "metadata": {},
   "outputs": [
    {
     "name": "stdout",
     "output_type": "stream",
     "text": [
      "4.0\n",
      "720\n"
     ]
    }
   ],
   "source": [
    "# importing sqrt() and factorial from the\n",
    "# module math\n",
    "from math import *\n",
    "\n",
    "# if we simply do \"import math\", then\n",
    "# math.sqrt(16) and math.factorial()\n",
    "# are required.\n",
    "print(sqrt(16))\n",
    "print(factorial(6))\n"
   ]
  },
  {
   "cell_type": "code",
   "execution_count": 8,
   "id": "2e073842",
   "metadata": {},
   "outputs": [
    {
     "name": "stdout",
     "output_type": "stream",
     "text": [
      "['/home/pvipl', '/usr/lib/python38.zip', '/usr/lib/python3.8', '/usr/lib/python3.8/lib-dynload', '', '/home/pvipl/.local/lib/python3.8/site-packages', '/usr/local/lib/python3.8/dist-packages', '/usr/lib/python3/dist-packages']\n"
     ]
    }
   ],
   "source": [
    "# importing sys module\n",
    "import sys\n",
    "\n",
    "# importing sys.path\n",
    "print(sys.path)\n"
   ]
  },
  {
   "cell_type": "code",
   "execution_count": 9,
   "id": "dbacad44",
   "metadata": {},
   "outputs": [
    {
     "name": "stdout",
     "output_type": "stream",
     "text": [
      "4.0\n",
      "720\n"
     ]
    }
   ],
   "source": [
    "# importing sqrt() and factorial from the\n",
    "# module math\n",
    "import math as gfg\n",
    "\n",
    "# if we simply do \"import math\", then\n",
    "# math.sqrt(16) and math.factorial()\n",
    "# are required.\n",
    "print(gfg.sqrt(16))\n",
    "print(gfg.factorial(6))\n"
   ]
  },
  {
   "cell_type": "code",
   "execution_count": 10,
   "id": "ae42cb8f",
   "metadata": {},
   "outputs": [
    {
     "name": "stdout",
     "output_type": "stream",
     "text": [
      "['BPF', 'LOG4', 'NV_MAGICCONST', 'RECIP_BPF', 'Random', 'SG_MAGICCONST', 'SystemRandom', 'TWOPI', '_Sequence', '_Set', '__all__', '__builtins__', '__cached__', '__doc__', '__file__', '__loader__', '__name__', '__package__', '__spec__', '_accumulate', '_acos', '_bisect', '_ceil', '_cos', '_e', '_exp', '_inst', '_log', '_os', '_pi', '_random', '_repeat', '_sha512', '_sin', '_sqrt', '_test', '_test_generator', '_urandom', '_warn', 'betavariate', 'choice', 'choices', 'expovariate', 'gammavariate', 'gauss', 'getrandbits', 'getstate', 'lognormvariate', 'normalvariate', 'paretovariate', 'randint', 'random', 'randrange', 'sample', 'seed', 'setstate', 'shuffle', 'triangular', 'uniform', 'vonmisesvariate', 'weibullvariate']\n"
     ]
    }
   ],
   "source": [
    "# Import built-in module random\n",
    "import random\n",
    "print(dir(random))\n"
   ]
  },
  {
   "cell_type": "code",
   "execution_count": 11,
   "id": "668a214d",
   "metadata": {},
   "outputs": [
    {
     "name": "stdout",
     "output_type": "stream",
     "text": [
      "5.0\n",
      "3.141592653589793\n",
      "114.59155902616465\n",
      "1.0471975511965976\n",
      "0.9092974268256817\n",
      "0.8775825618903728\n",
      "0.23414336235146527\n",
      "24\n",
      "1\n",
      "0.05800803319372694\n",
      "29.507767180544654\n",
      "800\n",
      "1644339965.3572252\n",
      "1970-01-06\n"
     ]
    }
   ],
   "source": [
    "# importing built-in module math\n",
    "import math\n",
    "\n",
    "# using square root(sqrt) function contained\n",
    "# in math module\n",
    "print(math.sqrt(25))\n",
    "\n",
    "# using pi function contained in math module\n",
    "print(math.pi)\n",
    "\n",
    "# 2 radians = 114.59 degrees\n",
    "print(math.degrees(2))\n",
    "\n",
    "# 60 degrees = 1.04 radians\n",
    "print(math.radians(60))\n",
    "\n",
    "# Sine of 2 radians\n",
    "print(math.sin(2))\n",
    "\n",
    "# Cosine of 0.5 radians\n",
    "print(math.cos(0.5))\n",
    "\n",
    "# Tangent of 0.23 radians\n",
    "print(math.tan(0.23))\n",
    "\n",
    "# 1 * 2 * 3 * 4 = 24\n",
    "print(math.factorial(4))\n",
    "\n",
    "# importing built in module random\n",
    "import random\n",
    "\n",
    "# printing random integer between 0 and 5\n",
    "print(random.randint(0, 5))\n",
    "\n",
    "# print random floating point number between 0 and 1\n",
    "print(random.random())\n",
    "\n",
    "# random number between 0 and 100\n",
    "print(random.random() * 100)\n",
    "\n",
    "List = [1, 4, True, 800, \"python\", 27, \"hello\"]\n",
    "\n",
    "# using choice function in random module for choosing\n",
    "# a random element from a set such as a list\n",
    "print(random.choice(List))\n",
    "\n",
    "\n",
    "# importing built in module datetime\n",
    "import datetime\n",
    "from datetime import date\n",
    "import time\n",
    "\n",
    "# Returns the number of seconds since the\n",
    "# Unix Epoch, January 1st 1970\n",
    "print(time.time())\n",
    "\n",
    "# Converts a number of seconds to a date object\n",
    "print(date.fromtimestamp(454554))\n"
   ]
  },
  {
   "cell_type": "markdown",
   "id": "2d86abbb",
   "metadata": {},
   "source": [
    "## Implimant a program which cantain all types of decorators"
   ]
  },
  {
   "cell_type": "code",
   "execution_count": 13,
   "id": "d7f3f9c5",
   "metadata": {},
   "outputs": [
    {
     "name": "stdout",
     "output_type": "stream",
     "text": [
      "Hello Hemant, this is before function execution\n",
      "This is inside the function !!\n",
      "This is after function execution\n"
     ]
    }
   ],
   "source": [
    "# defining a decorator\n",
    "def hello_decorator(func):\n",
    "\tdef inner1():\n",
    "\t\tprint(\"Hello Hemant, this is before function execution\")\n",
    "\t\tfunc()\n",
    "\n",
    "\t\tprint(\"This is after function execution\")\n",
    "\t\t\n",
    "\treturn inner1\n",
    "def function_to_be_used():\n",
    "\tprint(\"This is inside the function !!\")\n",
    "function_to_be_used = hello_decorator(function_to_be_used)\n",
    "\n",
    "function_to_be_used()\n"
   ]
  },
  {
   "cell_type": "code",
   "execution_count": 14,
   "id": "0e7a49d2",
   "metadata": {},
   "outputs": [
    {
     "name": "stdout",
     "output_type": "stream",
     "text": [
      "400\n"
     ]
    }
   ],
   "source": [
    "# code for testing decorator chaining\n",
    "def decor1(func):\n",
    "\tdef inner():\n",
    "\t\tx = func()\n",
    "\t\treturn x * x\n",
    "\treturn inner\n",
    "\n",
    "def decor(func):\n",
    "\tdef inner():\n",
    "\t\tx = func()\n",
    "\t\treturn 2 * x\n",
    "\treturn inner\n",
    "\n",
    "@decor1\n",
    "@decor\n",
    "def num():\n",
    "\treturn 10\n",
    "\n",
    "print(num())\n"
   ]
  },
  {
   "cell_type": "code",
   "execution_count": 15,
   "id": "86cb5efa",
   "metadata": {},
   "outputs": [
    {
     "name": "stdout",
     "output_type": "stream",
     "text": [
      "before Execution\n",
      "Inside the function\n",
      "after Execution\n",
      "Sum = 3\n"
     ]
    }
   ],
   "source": [
    "def hello_decorator(func):\n",
    "\tdef inner1(*args, **kwargs):\n",
    "\t\t\n",
    "\t\tprint(\"before Execution\")\n",
    "\t\t\n",
    "\t\treturned_value = func(*args, **kwargs)\n",
    "\t\tprint(\"after Execution\")\n",
    "\t\t\n",
    "\t\treturn returned_value\n",
    "\t\t\n",
    "\treturn inner1\n",
    "\n",
    "\n",
    "@hello_decorator\n",
    "def sum_two_numbers(a, b):\n",
    "\tprint(\"Inside the function\")\n",
    "\treturn a + b\n",
    "\n",
    "a, b = 1, 2\n",
    "\n",
    "print(\"Sum =\", sum_two_numbers(a, b))\n"
   ]
  },
  {
   "cell_type": "code",
   "execution_count": 17,
   "id": "7b65e9df",
   "metadata": {},
   "outputs": [],
   "source": [
    "def say_hello(name):\n",
    "    return f\"Hello {name}\"\n",
    "\n",
    "def be_awesome(name):\n",
    "    return f\"Yo {name}, together we are the awesomest!\"\n",
    "\n",
    "def greet_bob(greeter_func):\n",
    "    return greeter_func(\"Bob\")\n"
   ]
  },
  {
   "cell_type": "code",
   "execution_count": 18,
   "id": "45d7f5ce",
   "metadata": {},
   "outputs": [
    {
     "data": {
      "text/plain": [
       "'Hello Bob'"
      ]
     },
     "execution_count": 18,
     "metadata": {},
     "output_type": "execute_result"
    }
   ],
   "source": [
    "greet_bob(say_hello)"
   ]
  },
  {
   "cell_type": "code",
   "execution_count": 19,
   "id": "12568627",
   "metadata": {},
   "outputs": [
    {
     "data": {
      "text/plain": [
       "'Yo Bob, together we are the awesomest!'"
      ]
     },
     "execution_count": 19,
     "metadata": {},
     "output_type": "execute_result"
    }
   ],
   "source": [
    "greet_bob(be_awesome)"
   ]
  },
  {
   "cell_type": "code",
   "execution_count": 20,
   "id": "cce7a007",
   "metadata": {},
   "outputs": [],
   "source": [
    "def parent():\n",
    "    print(\"Printing from the parent() function\")\n",
    "\n",
    "    def first_child():\n",
    "        print(\"Printing from the first_child() function\")\n",
    "\n",
    "    def second_child():\n",
    "        print(\"Printing from the second_child() function\")\n",
    "\n",
    "    second_child()\n",
    "    first_child()\n"
   ]
  },
  {
   "cell_type": "code",
   "execution_count": 21,
   "id": "247cbe54",
   "metadata": {},
   "outputs": [
    {
     "name": "stdout",
     "output_type": "stream",
     "text": [
      "Printing from the parent() function\n",
      "Printing from the second_child() function\n",
      "Printing from the first_child() function\n"
     ]
    }
   ],
   "source": [
    "parent()"
   ]
  },
  {
   "cell_type": "code",
   "execution_count": null,
   "id": "f7fd0447",
   "metadata": {},
   "outputs": [],
   "source": []
  }
 ],
 "metadata": {
  "kernelspec": {
   "display_name": "Python 3 (ipykernel)",
   "language": "python",
   "name": "python3"
  },
  "language_info": {
   "codemirror_mode": {
    "name": "ipython",
    "version": 3
   },
   "file_extension": ".py",
   "mimetype": "text/x-python",
   "name": "python",
   "nbconvert_exporter": "python",
   "pygments_lexer": "ipython3",
   "version": "3.8.10"
  }
 },
 "nbformat": 4,
 "nbformat_minor": 5
}
