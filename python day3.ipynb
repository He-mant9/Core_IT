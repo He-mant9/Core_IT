{
 "cells": [
  {
   "cell_type": "markdown",
   "id": "6ba86e38",
   "metadata": {},
   "source": [
    "# Python day-3                                                                     Class_Work"
   ]
  },
  {
   "cell_type": "markdown",
   "id": "dd2c381b",
   "metadata": {},
   "source": [
    "## String"
   ]
  },
  {
   "cell_type": "code",
   "execution_count": 7,
   "id": "1afdb977",
   "metadata": {},
   "outputs": [],
   "source": [
    "str1 = 'Hemant'"
   ]
  },
  {
   "cell_type": "code",
   "execution_count": 8,
   "id": "404f4465",
   "metadata": {},
   "outputs": [
    {
     "data": {
      "text/plain": [
       "'Hemant'"
      ]
     },
     "execution_count": 8,
     "metadata": {},
     "output_type": "execute_result"
    }
   ],
   "source": [
    "str1"
   ]
  },
  {
   "cell_type": "code",
   "execution_count": 9,
   "id": "865ce2d5",
   "metadata": {},
   "outputs": [],
   "source": [
    "str2 = \"this is my 2nd string\""
   ]
  },
  {
   "cell_type": "code",
   "execution_count": 10,
   "id": "8617b531",
   "metadata": {},
   "outputs": [
    {
     "data": {
      "text/plain": [
       "'H'"
      ]
     },
     "execution_count": 10,
     "metadata": {},
     "output_type": "execute_result"
    }
   ],
   "source": [
    "str1 [0]\n"
   ]
  },
  {
   "cell_type": "code",
   "execution_count": 11,
   "id": "b028e741",
   "metadata": {},
   "outputs": [
    {
     "data": {
      "text/plain": [
       "'t'"
      ]
     },
     "execution_count": 11,
     "metadata": {},
     "output_type": "execute_result"
    }
   ],
   "source": [
    "str1 [-1]"
   ]
  },
  {
   "cell_type": "code",
   "execution_count": 12,
   "id": "92bff38a",
   "metadata": {},
   "outputs": [
    {
     "data": {
      "text/plain": [
       "'t'"
      ]
     },
     "execution_count": 12,
     "metadata": {},
     "output_type": "execute_result"
    }
   ],
   "source": [
    "str1 [5:13]"
   ]
  },
  {
   "cell_type": "code",
   "execution_count": 13,
   "id": "c17898a0",
   "metadata": {},
   "outputs": [
    {
     "data": {
      "text/plain": [
       "'t'"
      ]
     },
     "execution_count": 13,
     "metadata": {},
     "output_type": "execute_result"
    }
   ],
   "source": [
    "str1 [5 & 13]"
   ]
  },
  {
   "cell_type": "code",
   "execution_count": 14,
   "id": "de3dd175",
   "metadata": {},
   "outputs": [
    {
     "data": {
      "text/plain": [
       "6"
      ]
     },
     "execution_count": 14,
     "metadata": {},
     "output_type": "execute_result"
    }
   ],
   "source": [
    "len(str1)\n"
   ]
  },
  {
   "cell_type": "code",
   "execution_count": 15,
   "id": "82f39678",
   "metadata": {},
   "outputs": [
    {
     "data": {
      "text/plain": [
       "'hemant'"
      ]
     },
     "execution_count": 15,
     "metadata": {},
     "output_type": "execute_result"
    }
   ],
   "source": [
    "str1.lower()"
   ]
  },
  {
   "cell_type": "code",
   "execution_count": 16,
   "id": "50424d73",
   "metadata": {},
   "outputs": [
    {
     "data": {
      "text/plain": [
       "'HEMANT'"
      ]
     },
     "execution_count": 16,
     "metadata": {},
     "output_type": "execute_result"
    }
   ],
   "source": [
    "str1.upper()"
   ]
  },
  {
   "cell_type": "code",
   "execution_count": 17,
   "id": "73404f81",
   "metadata": {},
   "outputs": [],
   "source": [
    "name = \"i am  Hemant\""
   ]
  },
  {
   "cell_type": "code",
   "execution_count": 18,
   "id": "725acc0e",
   "metadata": {},
   "outputs": [
    {
     "data": {
      "text/plain": [
       "'i am  Hemant'"
      ]
     },
     "execution_count": 18,
     "metadata": {},
     "output_type": "execute_result"
    }
   ],
   "source": [
    "name.replace('y' , 'a')"
   ]
  },
  {
   "cell_type": "code",
   "execution_count": 19,
   "id": "b091843c",
   "metadata": {},
   "outputs": [
    {
     "data": {
      "text/plain": [
       "'i ym  Hemynt'"
      ]
     },
     "execution_count": 19,
     "metadata": {},
     "output_type": "execute_result"
    }
   ],
   "source": [
    "name.replace('a' , 'y')"
   ]
  },
  {
   "cell_type": "code",
   "execution_count": 20,
   "id": "de9c535a",
   "metadata": {},
   "outputs": [
    {
     "data": {
      "text/plain": [
       "'i am  Hemant'"
      ]
     },
     "execution_count": 20,
     "metadata": {},
     "output_type": "execute_result"
    }
   ],
   "source": [
    "name"
   ]
  },
  {
   "cell_type": "code",
   "execution_count": 21,
   "id": "156958b4",
   "metadata": {},
   "outputs": [
    {
     "data": {
      "text/plain": [
       "2"
      ]
     },
     "execution_count": 21,
     "metadata": {},
     "output_type": "execute_result"
    }
   ],
   "source": [
    "name.count('a')"
   ]
  },
  {
   "cell_type": "code",
   "execution_count": 22,
   "id": "5ed2796f",
   "metadata": {},
   "outputs": [
    {
     "data": {
      "text/plain": [
       "'i ma  Hemant'"
      ]
     },
     "execution_count": 22,
     "metadata": {},
     "output_type": "execute_result"
    }
   ],
   "source": [
    "name.replace('am','ma')"
   ]
  },
  {
   "cell_type": "markdown",
   "id": "fc5a25bd",
   "metadata": {},
   "source": [
    "## function in python"
   ]
  },
  {
   "cell_type": "code",
   "execution_count": 6,
   "id": "6690555f",
   "metadata": {},
   "outputs": [],
   "source": [
    "# A simple Python function\n",
    "\n",
    "def fun():\n",
    "    print(\"Hemant\")\n"
   ]
  },
  {
   "cell_type": "code",
   "execution_count": 8,
   "id": "5344484f",
   "metadata": {},
   "outputs": [
    {
     "name": "stdout",
     "output_type": "stream",
     "text": [
      "Hemant\n"
     ]
    }
   ],
   "source": [
    "# A simple Python function\n",
    "\n",
    "def fun():\n",
    "    print(\"Hemant\")\n",
    "\t\t\n",
    "# Driver code to call a function\n",
    "fun()\n"
   ]
  },
  {
   "cell_type": "code",
   "execution_count": 9,
   "id": "9f69322a",
   "metadata": {},
   "outputs": [
    {
     "name": "stdout",
     "output_type": "stream",
     "text": [
      "even\n",
      "odd\n"
     ]
    }
   ],
   "source": [
    "# A simple Python function to check\n",
    "def evenOdd(x):\n",
    "\tif (x % 2 == 0):\n",
    "\t\tprint(\"even\")\n",
    "\telse:\n",
    "\t\tprint(\"odd\")\n",
    "evenOdd(2)\n",
    "evenOdd(3)\n"
   ]
  },
  {
   "cell_type": "code",
   "execution_count": 10,
   "id": "282f1250",
   "metadata": {},
   "outputs": [
    {
     "name": "stdout",
     "output_type": "stream",
     "text": [
      "x:  10\n",
      "y:  50\n"
     ]
    }
   ],
   "source": [
    "\n",
    "def myFun(x, y=50):\n",
    "\tprint(\"x: \", x)\n",
    "\tprint(\"y: \", y)\n",
    "myFun(10)\n"
   ]
  },
  {
   "cell_type": "code",
   "execution_count": 12,
   "id": "08161f69",
   "metadata": {},
   "outputs": [
    {
     "name": "stdout",
     "output_type": "stream",
     "text": [
      "Hello\n",
      "Welcome\n",
      "to\n",
      "Core\n"
     ]
    }
   ],
   "source": [
    "# Python program to illustrate\n",
    "def myFun(*argv):\n",
    "\tfor arg in argv:\n",
    "\t\tprint(arg)\n",
    "myFun('Hello', 'Welcome', 'to', 'Core')\n"
   ]
  },
  {
   "cell_type": "code",
   "execution_count": 13,
   "id": "7860ef32",
   "metadata": {},
   "outputs": [
    {
     "name": "stdout",
     "output_type": "stream",
     "text": [
      "4\n",
      "16\n"
     ]
    }
   ],
   "source": [
    "def square_value(num):\n",
    "\t\"\"\"This function returns the square\n",
    "\tvalue of the entered number\"\"\"\n",
    "\treturn num**2\n",
    "\n",
    "\n",
    "print(square_value(2))\n",
    "print(square_value(-4))\n"
   ]
  },
  {
   "cell_type": "markdown",
   "id": "0de64663",
   "metadata": {},
   "source": [
    "## Lists"
   ]
  },
  {
   "cell_type": "code",
   "execution_count": 14,
   "id": "6216547d",
   "metadata": {},
   "outputs": [
    {
     "name": "stdout",
     "output_type": "stream",
     "text": [
      "[1, 2, 3, 'GFG', 2.3]\n"
     ]
    }
   ],
   "source": [
    "List = [1, 2, 3, \"GFG\", 2.3]\n",
    "print(List)\n"
   ]
  },
  {
   "cell_type": "code",
   "execution_count": 16,
   "id": "9b8c5761",
   "metadata": {},
   "outputs": [
    {
     "name": "stdout",
     "output_type": "stream",
     "text": [
      "\n",
      "List containing multiple values: \n",
      "['Hemant', 'adi', 'Pankaj']\n",
      "\n",
      "Multi-Dimensional List: \n",
      "[['deepak', 'Shubham'], ['shashank']]\n",
      "Accessing element from the list\n",
      "Hemant\n",
      "Pankaj\n",
      "Accessing element using negative indexing\n",
      "Pankaj\n",
      "Hemant\n"
     ]
    }
   ],
   "source": [
    "# Creating a List with\n",
    "List = [\"Hemant\", \"adi\", \"Pankaj\"]\n",
    "print(\"\\nList containing multiple values: \")\n",
    "print(List)\n",
    "\n",
    "List2 = [['deepak', 'Shubham'], ['shashank']]\n",
    "print(\"\\nMulti-Dimensional List: \")\n",
    "print(List2)\n",
    "\n",
    "print(\"Accessing element from the list\")\n",
    "print(List[0])\n",
    "print(List[2])\n",
    "\n",
    "print(\"Accessing element using negative indexing\")\n",
    "\t\n",
    "print(List[-1])\n",
    "\t\n",
    "print(List[-3])\n"
   ]
  },
  {
   "cell_type": "markdown",
   "id": "8e9fdbb9",
   "metadata": {},
   "source": [
    "## Tuple"
   ]
  },
  {
   "cell_type": "code",
   "execution_count": 18,
   "id": "f81946b1",
   "metadata": {},
   "outputs": [
    {
     "name": "stdout",
     "output_type": "stream",
     "text": [
      "\n",
      "Tuple with the use of String: \n",
      "('Hemant', 'adity')\n",
      "\n",
      "Tuple using List: \n",
      "First element of tuple\n",
      "1\n",
      "\n",
      "Last element of tuple\n",
      "6\n",
      "\n",
      "Third last element of tuple\n",
      "4\n"
     ]
    }
   ],
   "source": [
    "Tuple = ('Hemant', 'adity')\n",
    "print(\"\\nTuple with the use of String: \")\n",
    "print(Tuple)\n",
    "\t\n",
    "list1 = [1, 2, 4, 5, 6]\n",
    "print(\"\\nTuple using List: \")\n",
    "Tuple = tuple(list1)\n",
    "\n",
    "print(\"First element of tuple\")\n",
    "print(Tuple[0])\n",
    "\n",
    "print(\"\\nLast element of tuple\")\n",
    "print(Tuple[-1])\n",
    "\n",
    "print(\"\\nThird last element of tuple\")\n",
    "print(Tuple[-3])\n"
   ]
  },
  {
   "cell_type": "markdown",
   "id": "93ee821c",
   "metadata": {},
   "source": [
    "## Set"
   ]
  },
  {
   "cell_type": "code",
   "execution_count": 19,
   "id": "c096f862",
   "metadata": {},
   "outputs": [
    {
     "name": "stdout",
     "output_type": "stream",
     "text": [
      "\n",
      "Set with the use of Mixed Values\n",
      "{1, 2, 4, 6, 'Geeks', 'For'}\n",
      "\n",
      "Elements of set: \n",
      "1 2 4 6 Geeks For \n",
      "True\n"
     ]
    }
   ],
   "source": [
    "# Creating a Set with\n",
    "# a mixed type of values\n",
    "# (Having numbers and strings)\n",
    "Set = set([1, 2, 'Geeks', 4, 'For', 6, 'Geeks'])\n",
    "print(\"\\nSet with the use of Mixed Values\")\n",
    "print(Set)\n",
    "\n",
    "# Accessing element using\n",
    "# for loop\n",
    "print(\"\\nElements of set: \")\n",
    "for i in Set:\n",
    "\tprint(i, end =\" \")\n",
    "print()\n",
    "\n",
    "# Checking the element\n",
    "# using in keyword\n",
    "print(\"Geeks\" in Set)\n"
   ]
  },
  {
   "cell_type": "code",
   "execution_count": null,
   "id": "ddcaf5ba",
   "metadata": {},
   "outputs": [],
   "source": []
  },
  {
   "cell_type": "code",
   "execution_count": null,
   "id": "c57f5767",
   "metadata": {},
   "outputs": [],
   "source": []
  },
  {
   "cell_type": "code",
   "execution_count": null,
   "id": "b92adf86",
   "metadata": {},
   "outputs": [],
   "source": []
  },
  {
   "cell_type": "code",
   "execution_count": null,
   "id": "4dab4ddb",
   "metadata": {},
   "outputs": [],
   "source": []
  },
  {
   "cell_type": "markdown",
   "id": "cc512a1b",
   "metadata": {},
   "source": [
    "## lambda function"
   ]
  },
  {
   "cell_type": "code",
   "execution_count": 1,
   "id": "479bd7db",
   "metadata": {},
   "outputs": [],
   "source": [
    "g=lambda x: x*x*x"
   ]
  },
  {
   "cell_type": "code",
   "execution_count": 2,
   "id": "32f825e3",
   "metadata": {},
   "outputs": [
    {
     "data": {
      "text/plain": [
       "64"
      ]
     },
     "execution_count": 2,
     "metadata": {},
     "output_type": "execute_result"
    }
   ],
   "source": [
    "g(4)"
   ]
  },
  {
   "cell_type": "markdown",
   "id": "2e020d7e",
   "metadata": {},
   "source": [
    "## lambda with filter"
   ]
  },
  {
   "cell_type": "code",
   "execution_count": 3,
   "id": "f425dc32",
   "metadata": {},
   "outputs": [],
   "source": [
    "l1=[34,453,65,90,42,56,78,97]\n",
    "final_list=list(filter(lambda x: (x%2==0),l1))"
   ]
  },
  {
   "cell_type": "code",
   "execution_count": 4,
   "id": "7446d25c",
   "metadata": {},
   "outputs": [
    {
     "data": {
      "text/plain": [
       "[34, 90, 42, 56, 78]"
      ]
     },
     "execution_count": 4,
     "metadata": {},
     "output_type": "execute_result"
    }
   ],
   "source": [
    "final_list"
   ]
  },
  {
   "cell_type": "markdown",
   "id": "6d3a8335",
   "metadata": {},
   "source": [
    "## lambda with map"
   ]
  },
  {
   "cell_type": "code",
   "execution_count": 5,
   "id": "8493d26d",
   "metadata": {},
   "outputs": [],
   "source": [
    "l1=[2,4,6,8,10,12,14]\n",
    "final_list=list(map(lambda x: x*2,l1))"
   ]
  },
  {
   "cell_type": "code",
   "execution_count": 6,
   "id": "187c09ed",
   "metadata": {},
   "outputs": [
    {
     "data": {
      "text/plain": [
       "[4, 8, 12, 16, 20, 24, 28]"
      ]
     },
     "execution_count": 6,
     "metadata": {},
     "output_type": "execute_result"
    }
   ],
   "source": [
    "final_list"
   ]
  },
  {
   "cell_type": "code",
   "execution_count": 7,
   "id": "84a9b38c",
   "metadata": {},
   "outputs": [],
   "source": [
    "from functools import reduce"
   ]
  },
  {
   "cell_type": "code",
   "execution_count": 8,
   "id": "1f654f5a",
   "metadata": {},
   "outputs": [],
   "source": [
    "sum=reduce(lambda x,y: x+y ,l1)"
   ]
  },
  {
   "cell_type": "code",
   "execution_count": 9,
   "id": "43b87057",
   "metadata": {},
   "outputs": [
    {
     "data": {
      "text/plain": [
       "56"
      ]
     },
     "execution_count": 9,
     "metadata": {},
     "output_type": "execute_result"
    }
   ],
   "source": [
    "sum"
   ]
  },
  {
   "cell_type": "code",
   "execution_count": null,
   "id": "373ed70f",
   "metadata": {},
   "outputs": [],
   "source": []
  }
 ],
 "metadata": {
  "kernelspec": {
   "display_name": "Python 3 (ipykernel)",
   "language": "python",
   "name": "python3"
  },
  "language_info": {
   "codemirror_mode": {
    "name": "ipython",
    "version": 3
   },
   "file_extension": ".py",
   "mimetype": "text/x-python",
   "name": "python",
   "nbconvert_exporter": "python",
   "pygments_lexer": "ipython3",
   "version": "3.8.10"
  }
 },
 "nbformat": 4,
 "nbformat_minor": 5
}
