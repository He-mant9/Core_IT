{
 "cells": [
  {
   "cell_type": "markdown",
   "id": "303fec4d",
   "metadata": {},
   "source": [
    "# impleament a program on methods regarding string,list,dictionary,tuples"
   ]
  },
  {
   "cell_type": "markdown",
   "id": "b2b81cd9",
   "metadata": {},
   "source": [
    "## string"
   ]
  },
  {
   "cell_type": "code",
   "execution_count": 1,
   "id": "f1ae1911",
   "metadata": {},
   "outputs": [
    {
     "name": "stdout",
     "output_type": "stream",
     "text": [
      "This is a string\n"
     ]
    }
   ],
   "source": [
    "# Assigning string to a variable\n",
    "a = \"This is a string\"\n",
    "print (a)\n"
   ]
  },
  {
   "cell_type": "code",
   "execution_count": 6,
   "id": "7c494a1a",
   "metadata": {},
   "outputs": [
    {
     "name": "stdout",
     "output_type": "stream",
     "text": [
      "(1, 'a', 'string', 3)\n",
      "a\n"
     ]
    }
   ],
   "source": [
    "\n",
    "tup = (1, \"a\", \"string\", 1+2)\n",
    "print(tup)\n",
    "print(tup[1])\n"
   ]
  },
  {
   "cell_type": "markdown",
   "id": "609a56cc",
   "metadata": {},
   "source": [
    "## list"
   ]
  },
  {
   "cell_type": "code",
   "execution_count": 7,
   "id": "79edf29a",
   "metadata": {},
   "outputs": [
    {
     "name": "stdout",
     "output_type": "stream",
     "text": [
      "1\n",
      "2\n",
      "3\n",
      "4\n",
      "5\n",
      "6\n",
      "7\n",
      "8\n",
      "9\n"
     ]
    }
   ],
   "source": [
    "i = 1\n",
    "while (i < 10):\n",
    "\tprint(i)\n",
    "\ti += 1\n"
   ]
  },
  {
   "cell_type": "code",
   "execution_count": 8,
   "id": "cfb7299e",
   "metadata": {},
   "outputs": [
    {
     "name": "stdout",
     "output_type": "stream",
     "text": [
      "H\n",
      "e\n",
      "l\n",
      "l\n",
      "o\n",
      " \n",
      "W\n",
      "o\n",
      "r\n",
      "l\n",
      "d\n"
     ]
    }
   ],
   "source": [
    "s = \"Hello World\"\n",
    "for i in s :\n",
    "\tprint (i)\n"
   ]
  },
  {
   "cell_type": "code",
   "execution_count": 9,
   "id": "0f54af57",
   "metadata": {},
   "outputs": [
    {
     "name": "stdout",
     "output_type": "stream",
     "text": [
      "1\n",
      "4\n",
      "5\n",
      "7\n",
      "8\n",
      "9\n"
     ]
    }
   ],
   "source": [
    "L = [1, 4, 5, 7, 8, 9]\n",
    "for i in L:\n",
    "\tprint (i)\n"
   ]
  },
  {
   "cell_type": "code",
   "execution_count": 10,
   "id": "b9eabb29",
   "metadata": {},
   "outputs": [
    {
     "name": "stdout",
     "output_type": "stream",
     "text": [
      "0\n",
      "1\n",
      "2\n",
      "3\n",
      "4\n",
      "5\n",
      "6\n",
      "7\n",
      "8\n",
      "9\n"
     ]
    }
   ],
   "source": [
    "for i in range(0, 10):\n",
    "\tprint (i)\n"
   ]
  },
  {
   "cell_type": "code",
   "execution_count": 12,
   "id": "dac45ee0",
   "metadata": {},
   "outputs": [
    {
     "name": "stdout",
     "output_type": "stream",
     "text": [
      "Initial String: \n",
      "Hello, I'm a hemant\n",
      "\n",
      "Updated String: \n",
      "Welcome to the World\n"
     ]
    }
   ],
   "source": [
    "# entire String\n",
    "\n",
    "String1 = \"Hello, I'm a hemant\"\n",
    "print(\"Initial String: \")\n",
    "print(String1)\n",
    "\n",
    "String1 = \"Welcome to the World\"\n",
    "print(\"\\nUpdated String: \")\n",
    "print(String1)\n"
   ]
  },
  {
   "cell_type": "code",
   "execution_count": 13,
   "id": "acb0eae9",
   "metadata": {},
   "outputs": [
    {
     "name": "stdout",
     "output_type": "stream",
     "text": [
      "\n",
      "Binary representation of 16 is \n",
      "10000\n",
      "\n",
      "Exponent representation of 165.6458 is \n",
      "1.656458e+02\n",
      "\n",
      "one-sixth is : \n",
      "0.17\n"
     ]
    }
   ],
   "source": [
    "String1 = \"{0:b}\".format(16)\n",
    "print(\"\\nBinary representation of 16 is \")\n",
    "print(String1)\n",
    "\n",
    "String1 = \"{0:e}\".format(165.6458)\n",
    "print(\"\\nExponent representation of 165.6458 is \")\n",
    "print(String1)\n",
    "\n",
    "String1 = \"{0:.2f}\".format(1/6)\n",
    "print(\"\\none-sixth is : \")\n",
    "print(String1)\n"
   ]
  },
  {
   "cell_type": "code",
   "execution_count": 14,
   "id": "e2676328",
   "metadata": {},
   "outputs": [
    {
     "name": "stdout",
     "output_type": "stream",
     "text": [
      "Formatting in 3.2f format: \n",
      "The value of Integer1 is 12.35\n",
      "\n",
      "Formatting in 3.4f format: \n",
      "The value of Integer1 is 12.3457\n"
     ]
    }
   ],
   "source": [
    "\n",
    "Integer1 = 12.3456789\n",
    "print(\"Formatting in 3.2f format: \")\n",
    "print('The value of Integer1 is %3.2f' % Integer1)\n",
    "print(\"\\nFormatting in 3.4f format: \")\n",
    "print('The value of Integer1 is %3.4f' % Integer1)\n"
   ]
  },
  {
   "cell_type": "code",
   "execution_count": 15,
   "id": "c29b88cf",
   "metadata": {},
   "outputs": [
    {
     "name": "stdout",
     "output_type": "stream",
     "text": [
      "abcdefghijklmnopqrstuvwxyzABCDEFGHIJKLMNOPQRSTUVWXYZ\n"
     ]
    }
   ],
   "source": [
    "# import string library function\n",
    "import string\n",
    "\n",
    "result = string.ascii_letters\n",
    "\n",
    "print(result)\n"
   ]
  },
  {
   "cell_type": "code",
   "execution_count": 16,
   "id": "047a1730",
   "metadata": {},
   "outputs": [
    {
     "name": "stdout",
     "output_type": "stream",
     "text": [
      "abcdefghijklmnopqrstuvwxyz\n"
     ]
    }
   ],
   "source": [
    "# import string library function\n",
    "import string\n",
    "\t\n",
    "# Storing the value in variable result\n",
    "result = string.ascii_lowercase\n",
    "\t\n",
    "# Printing the value\n",
    "print(result)\n"
   ]
  },
  {
   "cell_type": "code",
   "execution_count": 17,
   "id": "7d2f7cba",
   "metadata": {},
   "outputs": [
    {
     "name": "stdout",
     "output_type": "stream",
     "text": [
      "0123456789\n"
     ]
    }
   ],
   "source": [
    "# import string library function\n",
    "import string\n",
    "\t\n",
    "# Storing the value in variable result\n",
    "result = string.digits\n",
    "\t\n",
    "# Printing the value\n",
    "print(result)\n"
   ]
  },
  {
   "cell_type": "code",
   "execution_count": 18,
   "id": "da5fa0e9",
   "metadata": {},
   "outputs": [
    {
     "name": "stdout",
     "output_type": "stream",
     "text": [
      "XIAMguzlif\n"
     ]
    }
   ],
   "source": [
    "import random\n",
    "\t\n",
    "import string\n",
    "\t\n",
    "def rand_pass(size):\n",
    "\t\t\n",
    "\tgenerate_pass = ''.join([random.choice( string.ascii_uppercase +\n",
    "\t\t\t\t\t\t\t\t\t\t\tstring.ascii_lowercase +\n",
    "\t\t\t\t\t\t\t\t\t\t\tstring.digits)\n",
    "\t\t\t\t\t\t\t\t\t\t\tfor n in range(size)])\n",
    "\t\t\t\t\t\t\t\n",
    "\treturn generate_pass\n",
    "\t\n",
    "password = rand_pass(10)\n",
    "print(password)\n",
    "\t\n"
   ]
  },
  {
   "cell_type": "code",
   "execution_count": 19,
   "id": "af59bab4",
   "metadata": {},
   "outputs": [
    {
     "name": "stdout",
     "output_type": "stream",
     "text": [
      "0123456789abcdefABCDEF\n"
     ]
    }
   ],
   "source": [
    "# import string library function\n",
    "import string\n",
    "\t\n",
    "# Storing the value in variable result\n",
    "result = string.hexdigits\n",
    "\t\n",
    "# Printing the value\n",
    "print(result)\n"
   ]
  },
  {
   "cell_type": "code",
   "execution_count": 22,
   "id": "67e0abca",
   "metadata": {},
   "outputs": [
    {
     "name": "stdout",
     "output_type": "stream",
     "text": [
      "False\n",
      "True\n",
      "False\n",
      "True\n"
     ]
    }
   ],
   "source": [
    "# .endswith() function\n",
    "\n",
    "text = \"i am hemant.\"\n",
    "\n",
    "# returns False\n",
    "result = text.endswith('i  am')\n",
    "print (result)\n",
    "\n",
    "# returns True\n",
    "result = text.endswith('am hemant.')\n",
    "print (result)\n",
    "\n",
    "# returns True\n",
    "result = text.endswith('i hemant')\n",
    "print (result)\n",
    "\n",
    "# returns True\n",
    "result = text.endswith('i am hemant.')\n",
    "print (result)\n"
   ]
  },
  {
   "cell_type": "code",
   "execution_count": 23,
   "id": "5af89ca3",
   "metadata": {},
   "outputs": [
    {
     "name": "stdout",
     "output_type": "stream",
     "text": [
      "True\n",
      "False\n"
     ]
    }
   ],
   "source": [
    "# Python code for implementation of isdigit()\n",
    "\n",
    "# checking for digit\n",
    "string = '15460'\n",
    "print(string.isdigit())\n",
    "\n",
    "string = '154ayush60'\n",
    "print(string.isdigit())\n"
   ]
  },
  {
   "cell_type": "code",
   "execution_count": 24,
   "id": "1e44912a",
   "metadata": {},
   "outputs": [
    {
     "name": "stdout",
     "output_type": "stream",
     "text": [
      "True\n",
      "True\n",
      "False\n"
     ]
    }
   ],
   "source": [
    "s = '23455'\n",
    "print(s.isdigit())\n",
    "\n",
    "s = '\\u00B23455'\n",
    "\n",
    "print(s.isdigit())\n",
    "\n",
    "s = '\\u00BD'\n",
    "\n",
    "print(s.isdigit())\n"
   ]
  },
  {
   "cell_type": "markdown",
   "id": "0bcab525",
   "metadata": {},
   "source": [
    "## Dictionary"
   ]
  },
  {
   "cell_type": "code",
   "execution_count": 7,
   "id": "8931b328",
   "metadata": {},
   "outputs": [
    {
     "name": "stdout",
     "output_type": "stream",
     "text": [
      "\n",
      "Dictionary with the use of Integer Keys: \n",
      "{1: 'Hemant', 2: 'pankaj', 3: 'sharany'}\n",
      "\n",
      "Dictionary with the use of Mixed Keys: \n",
      "{'deepak': 'shubham', 1: [1, 2, 3, 4]}\n"
     ]
    }
   ],
   "source": [
    "# Creating a Dictionary\n",
    "# with Integer Keys\n",
    "Dict = {1: 'Hemant', 2: 'pankaj', 3: 'sharany'}\n",
    "print(\"\\nDictionary with the use of Integer Keys: \")\n",
    "print(Dict)\n",
    "\n",
    "# Creating a Dictionary\n",
    "# with Mixed keys\n",
    "Dict = {'deepak': 'shubham', 1: [1, 2, 3, 4]}\n",
    "print(\"\\nDictionary with the use of Mixed Keys: \")\n",
    "print(Dict)\n"
   ]
  },
  {
   "cell_type": "code",
   "execution_count": 9,
   "id": "5d32c708",
   "metadata": {},
   "outputs": [
    {
     "name": "stdout",
     "output_type": "stream",
     "text": [
      "{1: 'Hemant', 2: 'For', 3: {'A': 'Hemant', 'B': 'To', 'C': 'Hemant'}}\n"
     ]
    }
   ],
   "source": [
    "# Creating a Nested Dictionary\n",
    "# as shown in the below image\n",
    "Dict = {1: 'Hemant', 2: 'For',\n",
    "\t\t3:{'A' : 'Hemant', 'B' : 'To', 'C' : 'Hemant'}}\n",
    "\n",
    "print(Dict)\n"
   ]
  },
  {
   "cell_type": "code",
   "execution_count": null,
   "id": "56c22a55",
   "metadata": {},
   "outputs": [],
   "source": [
    "\n",
    "Dict = {1: 'Geeks', 'name': 'For', 3: 'Geeks'}\n",
    "\n",
    "print(\"Accessing a element using key:\")\n",
    "print(Dict['name'])\n",
    "\n",
    "print(\"Accessing a element using key:\")\n",
    "print(Dict[1])\n"
   ]
  },
  {
   "cell_type": "markdown",
   "id": "38c446aa",
   "metadata": {},
   "source": [
    "## tuples"
   ]
  },
  {
   "cell_type": "code",
   "execution_count": 10,
   "id": "64ad4237",
   "metadata": {},
   "outputs": [
    {
     "name": "stdout",
     "output_type": "stream",
     "text": [
      "Initial empty Tuple: \n",
      "()\n",
      "\n",
      "Tuple with the use of String: \n",
      "('Geeks', 'For')\n",
      "\n",
      "Tuple using List: \n",
      "(1, 2, 4, 5, 6)\n",
      "\n",
      "Tuple with the use of function: \n",
      "('G', 'e', 'e', 'k', 's')\n"
     ]
    }
   ],
   "source": [
    "Tuple1 = ()\n",
    "print(\"Initial empty Tuple: \")\n",
    "print(Tuple1)\n",
    "\n",
    "Tuple1 = ('Hemant', 'For')\n",
    "print(\"\\nTuple with the use of String: \")\n",
    "print(Tuple1)\n",
    "\n",
    "list1 = [1, 2, 4, 5, 6]\n",
    "print(\"\\nTuple using List: \")\n",
    "print(tuple(list1))\n",
    "\n",
    "Tuple1 = tuple('Hemant')\n",
    "print(\"\\nTuple with the use of function: \")\n",
    "print(Tuple1)\n"
   ]
  },
  {
   "cell_type": "code",
   "execution_count": null,
   "id": "5f804a44",
   "metadata": {},
   "outputs": [],
   "source": [
    "# Accessing Tuple\n",
    "Tuple1 = tuple(\"Geeks\")\n",
    "print(\"\\nFirst element of Tuple: \")\n",
    "print(Tuple1[0])\n",
    "\n",
    "\n",
    "# Tuple unpacking\n",
    "Tuple1 = (\"Geeks\", \"For\", \"Geeks\")\n",
    "\n",
    "# This line unpack\n",
    "# values of Tuple1\n",
    "a, b, c = Tuple1\n",
    "print(\"\\nValues after unpacking: \")\n",
    "print(a)\n",
    "print(b)\n",
    "print(c)\n"
   ]
  },
  {
   "cell_type": "code",
   "execution_count": null,
   "id": "974c8be8",
   "metadata": {},
   "outputs": [],
   "source": []
  },
  {
   "cell_type": "code",
   "execution_count": null,
   "id": "0ad10121",
   "metadata": {},
   "outputs": [],
   "source": []
  },
  {
   "cell_type": "code",
   "execution_count": null,
   "id": "37b8c14b",
   "metadata": {},
   "outputs": [],
   "source": []
  },
  {
   "cell_type": "markdown",
   "id": "91e84cc4",
   "metadata": {},
   "source": [
    "# implement program on data structure concepts like arrays,stack,queue"
   ]
  },
  {
   "cell_type": "code",
   "execution_count": 28,
   "id": "94321d18",
   "metadata": {},
   "outputs": [
    {
     "name": "stdout",
     "output_type": "stream",
     "text": [
      "['Hemant', 'adity', 'PANKAJ', 'RAM', 'SHUBHAM']\n",
      "SHUBHAM\n",
      "['Hemant', 'adity', 'PANKAJ', 'RAM']\n",
      "RAM\n",
      "['Hemant', 'adity', 'PANKAJ']\n"
     ]
    }
   ],
   "source": [
    "stack = [\"Hemant\", \"adity\", \"PANKAJ\"]\n",
    "stack.append(\"RAM\")\n",
    "stack.append(\"SHUBHAM\")\n",
    "print(stack)\n",
    "\n",
    "print(stack.pop())\n",
    "\n",
    "print(stack)\n",
    "\n",
    "print(stack.pop())\n",
    "\n",
    "print(stack)\n"
   ]
  },
  {
   "cell_type": "code",
   "execution_count": 33,
   "id": "2146d17e",
   "metadata": {},
   "outputs": [
    {
     "name": "stdout",
     "output_type": "stream",
     "text": [
      "True\n",
      "False\n"
     ]
    }
   ],
   "source": [
    "\n",
    "string = \"abc123\"\n",
    "print(string.isalnum())\n",
    "string = \"abc 123\"\n",
    "print(string.isalnum())\n",
    "\n"
   ]
  },
  {
   "cell_type": "code",
   "execution_count": 34,
   "id": "118ad0de",
   "metadata": {},
   "outputs": [
    {
     "name": "stdout",
     "output_type": "stream",
     "text": [
      "True\n",
      "True\n",
      "False\n"
     ]
    }
   ],
   "source": [
    "string = 'Hemant'\n",
    "print(string.isalpha())\n",
    "\n",
    "string = 'Pankaj'\n",
    "print(string.isalpha())\n",
    "\n",
    "string = 'Hemant_Khambait'\n",
    "print( string.isalpha())\n"
   ]
  },
  {
   "cell_type": "code",
   "execution_count": 36,
   "id": "a48d4a7b",
   "metadata": {},
   "outputs": [
    {
     "name": "stdout",
     "output_type": "stream",
     "text": [
      "14\n",
      "HemantKhambait\n",
      "6\n",
      "Hemant\n"
     ]
    }
   ],
   "source": [
    "string='Hemant_Khambait'\n",
    "count=0\n",
    "\n",
    "newstring1 =\"\"\n",
    "newstring2 =\"\"\n",
    "\n",
    "for a in string:\n",
    "\tif (a.isalpha()) == True:\n",
    "\t\tcount+=1\n",
    "\t\tnewstring1+=a\n",
    "print(count)\n",
    "print(newstring1)\n",
    "\n",
    "string='Hemant_123'\n",
    "count=0\n",
    "for a in string:\n",
    "\tif (a.isalpha()) == True:\n",
    "\t\tcount+=1\n",
    "\t\tnewstring2+=a\n",
    "print(count)\n",
    "print(newstring2)\n",
    "\n",
    "\n",
    "\n"
   ]
  },
  {
   "cell_type": "markdown",
   "id": "5955c50e",
   "metadata": {},
   "source": [
    "# implement program  on all type of functions"
   ]
  },
  {
   "cell_type": "code",
   "execution_count": 54,
   "id": "de8d3cf3",
   "metadata": {},
   "outputs": [
    {
     "name": "stdout",
     "output_type": "stream",
     "text": [
      "even\n",
      "odd\n"
     ]
    }
   ],
   "source": [
    "\n",
    "\n",
    "def evenOdd(x):\n",
    "\tif (x % 2 == 0):\n",
    "\t\tprint(\"even\")\n",
    "\telse:\n",
    "\t\tprint(\"odd\")\n",
    "\n",
    "\n",
    "evenOdd(2)\n",
    "evenOdd(3)\n"
   ]
  },
  {
   "cell_type": "code",
   "execution_count": 43,
   "id": "af5bf1ae",
   "metadata": {},
   "outputs": [
    {
     "name": "stdout",
     "output_type": "stream",
     "text": [
      "x:  10\n",
      "y:  50\n"
     ]
    }
   ],
   "source": [
    "\n",
    "def myFun(x, y=50):\n",
    "\tprint(\"x: \", x)\n",
    "\tprint(\"y: \", y)\n",
    "myFun(10)\n"
   ]
  },
  {
   "cell_type": "code",
   "execution_count": 44,
   "id": "639ddaea",
   "metadata": {},
   "outputs": [
    {
     "name": "stdout",
     "output_type": "stream",
     "text": [
      "Geeks Practice\n",
      "Geeks Practice\n"
     ]
    }
   ],
   "source": [
    "def student(firstname, lastname):\n",
    "\tprint(firstname, lastname)\n",
    "\n",
    "\n",
    "student(firstname='Geeks', lastname='Practice')\n",
    "student(lastname='Practice', firstname='Geeks')\n"
   ]
  },
  {
   "cell_type": "code",
   "execution_count": 45,
   "id": "60c2f29f",
   "metadata": {},
   "outputs": [
    {
     "name": "stdout",
     "output_type": "stream",
     "text": [
      "Hello\n",
      "Welcome\n",
      "to\n",
      "GeeksforGeeks\n"
     ]
    }
   ],
   "source": [
    "\n",
    "\n",
    "def myFun(*argv):\n",
    "\tfor arg in argv:\n",
    "\t\tprint(arg)\n",
    "\n",
    "\n",
    "myFun('Hello', 'Welcome', 'to', 'GeeksforGeeks')\n"
   ]
  },
  {
   "cell_type": "code",
   "execution_count": 46,
   "id": "7ce88b14",
   "metadata": {},
   "outputs": [
    {
     "name": "stdout",
     "output_type": "stream",
     "text": [
      "first == Geeks\n",
      "mid == for\n",
      "last == Geeks\n"
     ]
    }
   ],
   "source": [
    "\n",
    "\n",
    "def myFun(**kwargs):\n",
    "\tfor key, value in kwargs.items():\n",
    "\t\tprint(\"%s == %s\" % (key, value))\n",
    "\n",
    "\n",
    "# Driver code\n",
    "myFun(first='Geeks', mid='for', last='Geeks')\n"
   ]
  },
  {
   "cell_type": "code",
   "execution_count": 47,
   "id": "0573e8c4",
   "metadata": {},
   "outputs": [
    {
     "name": "stdout",
     "output_type": "stream",
     "text": [
      "Function to check if the number is even or odd\n"
     ]
    }
   ],
   "source": [
    "\n",
    "\n",
    "def evenOdd(x):\n",
    "\t\"\"\"Function to check if the number is even or odd\"\"\"\n",
    "\t\n",
    "\tif (x % 2 == 0):\n",
    "\t\tprint(\"even\")\n",
    "\telse:\n",
    "\t\tprint(\"odd\")\n",
    "\n",
    "\n",
    "print(evenOdd.__doc__)\n"
   ]
  },
  {
   "cell_type": "code",
   "execution_count": 48,
   "id": "c1559c22",
   "metadata": {},
   "outputs": [
    {
     "name": "stdout",
     "output_type": "stream",
     "text": [
      "4\n",
      "16\n"
     ]
    }
   ],
   "source": [
    "def square_value(num):\n",
    "\t\"\"\"This function returns the square\n",
    "\tvalue of the entered number\"\"\"\n",
    "\treturn num**2\n",
    "\n",
    "\n",
    "print(square_value(2))\n",
    "print(square_value(-4))\n"
   ]
  },
  {
   "cell_type": "code",
   "execution_count": 49,
   "id": "25c2135d",
   "metadata": {},
   "outputs": [
    {
     "name": "stdout",
     "output_type": "stream",
     "text": [
      "[20, 11, 12, 13, 14, 15]\n"
     ]
    }
   ],
   "source": [
    "def myFun(x):\n",
    "\tx[0] = 20\n",
    "\n",
    "\n",
    "lst = [10, 11, 12, 13, 14, 15]\n",
    "myFun(lst)\n",
    "print(lst)\n"
   ]
  },
  {
   "cell_type": "code",
   "execution_count": 50,
   "id": "6969098c",
   "metadata": {},
   "outputs": [
    {
     "name": "stdout",
     "output_type": "stream",
     "text": [
      "10\n"
     ]
    }
   ],
   "source": [
    "def myFun(x):\n",
    "\n",
    "\tx = 20\n",
    "\n",
    "\n",
    "x = 10\n",
    "myFun(x)\n",
    "print(x)\n"
   ]
  },
  {
   "cell_type": "code",
   "execution_count": 51,
   "id": "e9ed9408",
   "metadata": {},
   "outputs": [
    {
     "name": "stdout",
     "output_type": "stream",
     "text": [
      "2\n",
      "3\n"
     ]
    }
   ],
   "source": [
    "def swap(x, y):\n",
    "\ttemp = x\n",
    "\tx = y\n",
    "\ty = temp\n",
    "\n",
    "\n",
    "x = 2\n",
    "y = 3\n",
    "swap(x, y)\n",
    "print(x)\n",
    "print(y)\n"
   ]
  },
  {
   "cell_type": "code",
   "execution_count": 53,
   "id": "5b483fe8",
   "metadata": {},
   "outputs": [
    {
     "name": "stdout",
     "output_type": "stream",
     "text": [
      "343\n",
      "343\n"
     ]
    }
   ],
   "source": [
    "def cube(x): return x*x*x\n",
    "cube_v2 = lambda x : x*x*x\n",
    "print(cube(7))\n",
    "print(cube_v2(7))\n"
   ]
  },
  {
   "cell_type": "code",
   "execution_count": null,
   "id": "fd4e3ecb",
   "metadata": {},
   "outputs": [],
   "source": []
  },
  {
   "cell_type": "code",
   "execution_count": null,
   "id": "7319dcb0",
   "metadata": {},
   "outputs": [],
   "source": []
  },
  {
   "cell_type": "code",
   "execution_count": null,
   "id": "26eb19a2",
   "metadata": {},
   "outputs": [],
   "source": []
  },
  {
   "cell_type": "code",
   "execution_count": null,
   "id": "a5a05f28",
   "metadata": {},
   "outputs": [],
   "source": []
  },
  {
   "cell_type": "code",
   "execution_count": null,
   "id": "ae37d11e",
   "metadata": {},
   "outputs": [],
   "source": []
  },
  {
   "cell_type": "markdown",
   "id": "b8a51124",
   "metadata": {},
   "source": [
    "# implement program for exception handling inclucde try,execpt,else,finally"
   ]
  },
  {
   "cell_type": "code",
   "execution_count": 58,
   "id": "9d4ad717",
   "metadata": {},
   "outputs": [
    {
     "name": "stdout",
     "output_type": "stream",
     "text": [
      "Hi hemant ! Your answer is : 1\n",
      "Sorry ! You are dividing by zero \n"
     ]
    }
   ],
   "source": [
    "def divide(x, y):\n",
    "\ttry:\n",
    "\t\tresult = x // y\n",
    "\t\tprint(\"Hi hemant ! Your answer is :\", result)\n",
    "\texcept ZeroDivisionError:\n",
    "\t\tprint(\"Sorry ! You are dividing by zero \")\n",
    "\n",
    "divide(3, 2)\n",
    "divide(3, 0)\n",
    "\n"
   ]
  },
  {
   "cell_type": "code",
   "execution_count": 60,
   "id": "7156965a",
   "metadata": {},
   "outputs": [
    {
     "name": "stdout",
     "output_type": "stream",
     "text": [
      "Hemant ! Your answer is : 1\n",
      "This is always executed\n",
      "Sorry ! You are dividing by zero \n",
      "This is always executed\n"
     ]
    }
   ],
   "source": [
    "def divide(x, y):\n",
    "\ttry:\n",
    "\t\tresult = x // y\n",
    "\texcept ZeroDivisionError:\n",
    "\t\tprint(\"Sorry ! You are dividing by zero \")\n",
    "\telse:\n",
    "\t\tprint(\"Hemant ! Your answer is :\", result)\n",
    "\tfinally:\n",
    "\t\tprint('This is always executed')\n",
    "\n",
    "divide(3, 2)\n",
    "divide(3, 0)\n"
   ]
  },
  {
   "cell_type": "code",
   "execution_count": null,
   "id": "62b8d569",
   "metadata": {},
   "outputs": [],
   "source": []
  }
 ],
 "metadata": {
  "kernelspec": {
   "display_name": "Python 3 (ipykernel)",
   "language": "python",
   "name": "python3"
  },
  "language_info": {
   "codemirror_mode": {
    "name": "ipython",
    "version": 3
   },
   "file_extension": ".py",
   "mimetype": "text/x-python",
   "name": "python",
   "nbconvert_exporter": "python",
   "pygments_lexer": "ipython3",
   "version": "3.8.10"
  }
 },
 "nbformat": 4,
 "nbformat_minor": 5
}
