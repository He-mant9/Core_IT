{
 "cells": [
  {
   "cell_type": "markdown",
   "id": "9ce55de2",
   "metadata": {},
   "source": [
    "## HEMANT_KHAMBAIT         ( Python_Assignment-1)\n",
    "\n",
    "\n",
    "# Python Program to Check if a Number is Positive, Negative or Zero"
   ]
  },
  {
   "cell_type": "code",
   "execution_count": 20,
   "id": "80211b68",
   "metadata": {
    "scrolled": true
   },
   "outputs": [
    {
     "name": "stdout",
     "output_type": "stream",
     "text": [
      "Enter a number: 12\n",
      "Positive number\n"
     ]
    }
   ],
   "source": [
    "num = float(input(\"Enter a number: \"))\n",
    "if num > 0:\n",
    "   print(\"Positive number\")\n",
    "elif num == 0:\n",
    "   print(\"Zero\")\n",
    "else:\n",
    "   print(\"Negative number\")"
   ]
  },
  {
   "cell_type": "markdown",
   "id": "6d7f2036",
   "metadata": {},
   "source": [
    "# Python Program to Check if a Number is Odd or Even"
   ]
  },
  {
   "cell_type": "code",
   "execution_count": 2,
   "id": "b6d9c284",
   "metadata": {},
   "outputs": [
    {
     "name": "stdout",
     "output_type": "stream",
     "text": [
      "Enter a number: 14\n",
      "14 is Even\n"
     ]
    }
   ],
   "source": [
    "\n",
    "num = int(input(\"Enter a number: \"))\n",
    "if (num % 2) == 0:\n",
    "   print(\"{0} is Even\".format(num))\n",
    "else:\n",
    "   print(\"{0} is Odd\".format(num))"
   ]
  },
  {
   "cell_type": "markdown",
   "id": "38b83bb2",
   "metadata": {},
   "source": [
    "# Python Program to Check Leap Year"
   ]
  },
  {
   "cell_type": "code",
   "execution_count": 6,
   "id": "789dee03",
   "metadata": {},
   "outputs": [
    {
     "name": "stdout",
     "output_type": "stream",
     "text": [
      "2022 is not a leap year\n"
     ]
    }
   ],
   "source": [
    "year = 2022\n",
    "if (year % 400 == 0) and (year % 100 == 0):\n",
    "    print(\"{0} is a leap year\".format(year))\n",
    "elif (year % 4 ==0) and (year % 100 != 0):\n",
    "    print(\"{0} is a leap year\".format(year))\n",
    "else:\n",
    "    print(\"{0} is not a leap year\".format(year))"
   ]
  },
  {
   "cell_type": "markdown",
   "id": "65f31f9c",
   "metadata": {},
   "source": [
    "# Python Program to Check Prime Number"
   ]
  },
  {
   "cell_type": "code",
   "execution_count": 7,
   "id": "4e1191e4",
   "metadata": {},
   "outputs": [
    {
     "name": "stdout",
     "output_type": "stream",
     "text": [
      "29 is a prime number\n"
     ]
    }
   ],
   "source": [
    "\n",
    "num = 29\n",
    "\n",
    "flag = False\n",
    "if num > 1:\n",
    "    for i in range(2, num):\n",
    "        if (num % i) == 0:\n",
    "            flag = True\n",
    "            break\n",
    "if flag:\n",
    "    print(num, \"is not a prime number\")\n",
    "else:\n",
    "    print(num, \"is a prime number\")"
   ]
  },
  {
   "cell_type": "markdown",
   "id": "7c420da5",
   "metadata": {},
   "source": [
    "# Python Program to Print all Prime Numbers in an Interval"
   ]
  },
  {
   "cell_type": "code",
   "execution_count": 8,
   "id": "7ca85a29",
   "metadata": {},
   "outputs": [
    {
     "name": "stdout",
     "output_type": "stream",
     "text": [
      "Prime numbers between 900 and 1000 are:\n",
      "907\n",
      "911\n",
      "919\n",
      "929\n",
      "937\n",
      "941\n",
      "947\n",
      "953\n",
      "967\n",
      "971\n",
      "977\n",
      "983\n",
      "991\n",
      "997\n"
     ]
    }
   ],
   "source": [
    "\n",
    "lower = 900\n",
    "upper = 1000\n",
    "\n",
    "print(\"Prime numbers between\", lower, \"and\", upper, \"are:\")\n",
    "\n",
    "for num in range(lower, upper + 1):\n",
    "   if num > 1:\n",
    "       for i in range(2, num):\n",
    "           if (num % i) == 0:\n",
    "               break\n",
    "       else:\n",
    "           print(num)"
   ]
  },
  {
   "cell_type": "markdown",
   "id": "4ca2d184",
   "metadata": {},
   "source": [
    "# Python Program to Find the Factorial of a Number"
   ]
  },
  {
   "cell_type": "code",
   "execution_count": 9,
   "id": "844a2a3e",
   "metadata": {},
   "outputs": [
    {
     "name": "stdout",
     "output_type": "stream",
     "text": [
      "The factorial of 7 is 5040\n"
     ]
    }
   ],
   "source": [
    "num = 7\n",
    "factorial = 1\n",
    "if num < 0:\n",
    "   print(\"Sorry, factorial does not exist for negative numbers\")\n",
    "elif num == 0:\n",
    "   print(\"The factorial of 0 is 1\")\n",
    "else:\n",
    "   for i in range(1,num + 1):\n",
    "       factorial = factorial*i\n",
    "   print(\"The factorial of\",num,\"is\",factorial)\n"
   ]
  },
  {
   "cell_type": "markdown",
   "id": "e681f1a1",
   "metadata": {},
   "source": [
    "# Python Program to Display the multiplication Table"
   ]
  },
  {
   "cell_type": "code",
   "execution_count": 10,
   "id": "24a40cc8",
   "metadata": {},
   "outputs": [
    {
     "name": "stdout",
     "output_type": "stream",
     "text": [
      "12 x 1 = 12\n",
      "12 x 2 = 24\n",
      "12 x 3 = 36\n",
      "12 x 4 = 48\n",
      "12 x 5 = 60\n",
      "12 x 6 = 72\n",
      "12 x 7 = 84\n",
      "12 x 8 = 96\n",
      "12 x 9 = 108\n",
      "12 x 10 = 120\n"
     ]
    }
   ],
   "source": [
    "\n",
    "num = 12\n",
    "for i in range(1, 11):\n",
    "   print(num, 'x', i, '=', num*i)\n"
   ]
  },
  {
   "cell_type": "markdown",
   "id": "5341a3e2",
   "metadata": {},
   "source": [
    "# Python Program to Print the Fibonacci sequence"
   ]
  },
  {
   "cell_type": "code",
   "execution_count": 19,
   "id": "e8a8fbf0",
   "metadata": {},
   "outputs": [
    {
     "name": "stdout",
     "output_type": "stream",
     "text": [
      "How many terms? 12\n",
      "Fibonacci sequence:\n",
      "0\n",
      "1\n",
      "1\n",
      "2\n",
      "3\n",
      "5\n",
      "8\n",
      "13\n",
      "21\n",
      "34\n",
      "55\n",
      "89\n"
     ]
    }
   ],
   "source": [
    "\n",
    "nterms = int(input(\"How many terms? \"))\n",
    "n1, n2 = 0, 1\n",
    "count = 0\n",
    "if nterms <= 0:\n",
    "   print(\"Please enter a positive integer\")\n",
    "elif nterms == 1:\n",
    "   print(\"Fibonacci sequence upto\",nterms,\":\")\n",
    "   print(n1)\n",
    "else:\n",
    "   print(\"Fibonacci sequence:\")\n",
    "   while count < nterms:\n",
    "       print(n1)\n",
    "       nth = n1 + n2\n",
    "       n1 = n2\n",
    "       n2 = nth\n",
    "       count += 1"
   ]
  },
  {
   "cell_type": "markdown",
   "id": "216d2553",
   "metadata": {},
   "source": [
    "# Python Program to Check Armstrong Number"
   ]
  },
  {
   "cell_type": "code",
   "execution_count": 18,
   "id": "c76a84e1",
   "metadata": {},
   "outputs": [
    {
     "name": "stdout",
     "output_type": "stream",
     "text": [
      "1634 is an Armstrong number\n"
     ]
    }
   ],
   "source": [
    "num = 1634\n",
    "order = len(str(num))\n",
    "sum = 0\n",
    "temp = num\n",
    "while temp > 0:\n",
    "   digit = temp % 10\n",
    "   sum += digit ** order\n",
    "   temp //= 10\n",
    "if num == sum:\n",
    "   print(num,\"is an Armstrong number\")\n",
    "else:\n",
    "   print(num,\"is not an Armstrong number\")\n",
    "\n"
   ]
  },
  {
   "cell_type": "markdown",
   "id": "e1f3d594",
   "metadata": {},
   "source": [
    "# Python Program to Find Armstrong Number in an Interval"
   ]
  },
  {
   "cell_type": "code",
   "execution_count": 15,
   "id": "b79280b0",
   "metadata": {},
   "outputs": [
    {
     "name": "stdout",
     "output_type": "stream",
     "text": [
      "153\n"
     ]
    }
   ],
   "source": [
    "\n",
    "lower = 100\n",
    "upper = 200\n",
    "\n",
    "for num in range(lower, upper + 1):\n",
    "\n",
    "   order = len(str(num))\n",
    "    \n",
    "   sum = 0\n",
    "\n",
    "   temp = num\n",
    "   while temp > 0:\n",
    "       digit = temp % 10\n",
    "       sum += digit ** order\n",
    "       temp //= 10\n",
    "\n",
    "   if num == sum:\n",
    "       print(num)\n"
   ]
  },
  {
   "cell_type": "markdown",
   "id": "e5052b25",
   "metadata": {},
   "source": [
    "# Python Program to Find the Sum of Natural Numbers"
   ]
  },
  {
   "cell_type": "code",
   "execution_count": 16,
   "id": "db980357",
   "metadata": {},
   "outputs": [
    {
     "name": "stdout",
     "output_type": "stream",
     "text": [
      "The sum is 136\n"
     ]
    }
   ],
   "source": [
    "\n",
    "num = 16\n",
    "\n",
    "if num < 0:\n",
    "   print(\"Enter a positive number\")\n",
    "else:\n",
    "   sum = 0\n",
    "   while(num > 0):\n",
    "       sum += num\n",
    "       num -= 1\n",
    "   print(\"The sum is\", sum)\n"
   ]
  },
  {
   "cell_type": "markdown",
   "id": "374a12a6",
   "metadata": {},
   "source": [
    "# Switch nested "
   ]
  },
  {
   "cell_type": "code",
   "execution_count": 22,
   "id": "6e8f82ba",
   "metadata": {},
   "outputs": [
    {
     "name": "stdout",
     "output_type": "stream",
     "text": [
      "Hemant\n"
     ]
    }
   ],
   "source": [
    "def Hemant():print(\"Hemant\")\n",
    "def Kumar():print(\"Kumar\")\n",
    "def Pankaj():print(\"Pankaj\")\n",
    "\n",
    "def WannaBeSwitch(arg):\n",
    "    switch = {\n",
    "        0: Hemant,\n",
    "        1: Kumar,\n",
    "        2: Pankaj\n",
    "    }\n",
    "    return switch.get(arg, \"blabla\")\n",
    "\n",
    "if __name__ == \"__main__\":\n",
    "    argument = 0\n",
    "    call_func = WannaBeSwitch(argument)\n",
    "    call_func()"
   ]
  },
  {
   "cell_type": "code",
   "execution_count": null,
   "id": "0eaed52d",
   "metadata": {},
   "outputs": [],
   "source": []
  }
 ],
 "metadata": {
  "kernelspec": {
   "display_name": "Python 3 (ipykernel)",
   "language": "python",
   "name": "python3"
  },
  "language_info": {
   "codemirror_mode": {
    "name": "ipython",
    "version": 3
   },
   "file_extension": ".py",
   "mimetype": "text/x-python",
   "name": "python",
   "nbconvert_exporter": "python",
   "pygments_lexer": "ipython3",
   "version": "3.8.10"
  }
 },
 "nbformat": 4,
 "nbformat_minor": 5
}
