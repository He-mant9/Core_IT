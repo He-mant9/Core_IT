{
 "cells": [
  {
   "cell_type": "code",
   "execution_count": 1,
   "id": "475e230c",
   "metadata": {},
   "outputs": [],
   "source": [
    "# Some Part Of String\n",
    "# A RegEx, or Regular Expression, Is a Sequence Of Characters That Forms A Search Pattern."
   ]
  },
  {
   "cell_type": "markdown",
   "id": "7cd99d14",
   "metadata": {},
   "source": [
    "https://www.w3schools.com/python/python_regex.asp"
   ]
  },
  {
   "cell_type": "markdown",
   "id": "a6e0f2ba",
   "metadata": {},
   "source": [
    "## A Regular Expressions (RegEx) is a special sequence of characters that uses a search pattern to find a string or set of strings."
   ]
  },
  {
   "cell_type": "code",
   "execution_count": null,
   "id": "ff3271f6",
   "metadata": {},
   "outputs": [],
   "source": [
    "# It can detect the presence or absence of a text by matching with a particular pattern, \n",
    "# And also can split a pattern into one or more sub-patterns. \n",
    "# Python provides a re module that supports the use of regex in Python. Its primary function is to offer a search, \n",
    "# Where it takes a regular expression and a string. Here, it either returns the first match or else none."
   ]
  },
  {
   "cell_type": "code",
   "execution_count": 3,
   "id": "7cf5a172",
   "metadata": {},
   "outputs": [],
   "source": [
    "import re"
   ]
  },
  {
   "cell_type": "code",
   "execution_count": 1,
   "id": "9a9f9aa0",
   "metadata": {},
   "outputs": [],
   "source": [
    "mystr='''The National Weather Service is an agency of the United States federal\n",
    "government that is tasked with 12 13 14 providing weather forecasts, \n",
    "warnings of hazardous weather, and other weather-related products to organizations phone no \n",
    "12345-123 and 123 456 the public for the purposes of protection,orrrrr safety, \n",
    "and general to information'''"
   ]
  },
  {
   "cell_type": "code",
   "execution_count": 4,
   "id": "5441fc5b",
   "metadata": {},
   "outputs": [],
   "source": [
    "patt=re.compile(r'to')   # used to create a pattern object"
   ]
  },
  {
   "cell_type": "code",
   "execution_count": 5,
   "id": "174e2048",
   "metadata": {},
   "outputs": [
    {
     "data": {
      "text/plain": [
       "re.compile(r'to', re.UNICODE)"
      ]
     },
     "execution_count": 5,
     "metadata": {},
     "output_type": "execute_result"
    }
   ],
   "source": [
    "patt"
   ]
  },
  {
   "cell_type": "code",
   "execution_count": 6,
   "id": "362cb6ba",
   "metadata": {},
   "outputs": [],
   "source": [
    "matches=patt.finditer(mystr)"
   ]
  },
  {
   "cell_type": "code",
   "execution_count": 7,
   "id": "c6ae69cc",
   "metadata": {},
   "outputs": [
    {
     "data": {
      "text/plain": [
       "<callable_iterator at 0x20b8768bc10>"
      ]
     },
     "execution_count": 7,
     "metadata": {},
     "output_type": "execute_result"
    }
   ],
   "source": [
    "matches"
   ]
  },
  {
   "cell_type": "code",
   "execution_count": 14,
   "id": "a5b5a054",
   "metadata": {},
   "outputs": [
    {
     "data": {
      "text/plain": [
       "callable_iterator"
      ]
     },
     "execution_count": 14,
     "metadata": {},
     "output_type": "execute_result"
    }
   ],
   "source": [
    "type(matches)"
   ]
  },
  {
   "cell_type": "code",
   "execution_count": 11,
   "id": "0b6a7fd7",
   "metadata": {},
   "outputs": [
    {
     "name": "stdout",
     "output_type": "stream",
     "text": [
      "<re.Match object; span=(207, 209), match='to'>\n",
      "<re.Match object; span=(291, 293), match='to'>\n"
     ]
    }
   ],
   "source": [
    "for match in matches:\n",
    "    print(match)"
   ]
  },
  {
   "cell_type": "code",
   "execution_count": 12,
   "id": "ff93fc49",
   "metadata": {},
   "outputs": [
    {
     "name": "stdout",
     "output_type": "stream",
     "text": [
      "to\n"
     ]
    }
   ],
   "source": [
    "print(mystr[207:209])"
   ]
  },
  {
   "cell_type": "code",
   "execution_count": 13,
   "id": "e31e9e89",
   "metadata": {},
   "outputs": [
    {
     "name": "stdout",
     "output_type": "stream",
     "text": [
      "Help on module re:\n",
      "\n",
      "NAME\n",
      "    re - Support for regular expressions (RE).\n",
      "\n",
      "MODULE REFERENCE\n",
      "    https://docs.python.org/3.8/library/re\n",
      "    \n",
      "    The following documentation is automatically generated from the Python\n",
      "    source files.  It may be incomplete, incorrect or include features that\n",
      "    are considered implementation detail and may vary between Python\n",
      "    implementations.  When in doubt, consult the module reference at the\n",
      "    location listed above.\n",
      "\n",
      "DESCRIPTION\n",
      "    This module provides regular expression matching operations similar to\n",
      "    those found in Perl.  It supports both 8-bit and Unicode strings; both\n",
      "    the pattern and the strings being processed can contain null bytes and\n",
      "    characters outside the US ASCII range.\n",
      "    \n",
      "    Regular expressions can contain both special and ordinary characters.\n",
      "    Most ordinary characters, like \"A\", \"a\", or \"0\", are the simplest\n",
      "    regular expressions; they simply match themselves.  You can\n",
      "    concatenate ordinary characters, so last matches the string 'last'.\n",
      "    \n",
      "    The special characters are:\n",
      "        \".\"      Matches any character except a newline.\n",
      "        \"^\"      Matches the start of the string.\n",
      "        \"$\"      Matches the end of the string or just before the newline at\n",
      "                 the end of the string.\n",
      "        \"*\"      Matches 0 or more (greedy) repetitions of the preceding RE.\n",
      "                 Greedy means that it will match as many repetitions as possible.\n",
      "        \"+\"      Matches 1 or more (greedy) repetitions of the preceding RE.\n",
      "        \"?\"      Matches 0 or 1 (greedy) of the preceding RE.\n",
      "        *?,+?,?? Non-greedy versions of the previous three special characters.\n",
      "        {m,n}    Matches from m to n repetitions of the preceding RE.\n",
      "        {m,n}?   Non-greedy version of the above.\n",
      "        \"\\\\\"     Either escapes special characters or signals a special sequence.\n",
      "        []       Indicates a set of characters.\n",
      "                 A \"^\" as the first character indicates a complementing set.\n",
      "        \"|\"      A|B, creates an RE that will match either A or B.\n",
      "        (...)    Matches the RE inside the parentheses.\n",
      "                 The contents can be retrieved or matched later in the string.\n",
      "        (?aiLmsux) The letters set the corresponding flags defined below.\n",
      "        (?:...)  Non-grouping version of regular parentheses.\n",
      "        (?P<name>...) The substring matched by the group is accessible by name.\n",
      "        (?P=name)     Matches the text matched earlier by the group named name.\n",
      "        (?#...)  A comment; ignored.\n",
      "        (?=...)  Matches if ... matches next, but doesn't consume the string.\n",
      "        (?!...)  Matches if ... doesn't match next.\n",
      "        (?<=...) Matches if preceded by ... (must be fixed length).\n",
      "        (?<!...) Matches if not preceded by ... (must be fixed length).\n",
      "        (?(id/name)yes|no) Matches yes pattern if the group with id/name matched,\n",
      "                           the (optional) no pattern otherwise.\n",
      "    \n",
      "    The special sequences consist of \"\\\\\" and a character from the list\n",
      "    below.  If the ordinary character is not on the list, then the\n",
      "    resulting RE will match the second character.\n",
      "        \\number  Matches the contents of the group of the same number.\n",
      "        \\A       Matches only at the start of the string.\n",
      "        \\Z       Matches only at the end of the string.\n",
      "        \\b       Matches the empty string, but only at the start or end of a word.\n",
      "        \\B       Matches the empty string, but not at the start or end of a word.\n",
      "        \\d       Matches any decimal digit; equivalent to the set [0-9] in\n",
      "                 bytes patterns or string patterns with the ASCII flag.\n",
      "                 In string patterns without the ASCII flag, it will match the whole\n",
      "                 range of Unicode digits.\n",
      "        \\D       Matches any non-digit character; equivalent to [^\\d].\n",
      "        \\s       Matches any whitespace character; equivalent to [ \\t\\n\\r\\f\\v] in\n",
      "                 bytes patterns or string patterns with the ASCII flag.\n",
      "                 In string patterns without the ASCII flag, it will match the whole\n",
      "                 range of Unicode whitespace characters.\n",
      "        \\S       Matches any non-whitespace character; equivalent to [^\\s].\n",
      "        \\w       Matches any alphanumeric character; equivalent to [a-zA-Z0-9_]\n",
      "                 in bytes patterns or string patterns with the ASCII flag.\n",
      "                 In string patterns without the ASCII flag, it will match the\n",
      "                 range of Unicode alphanumeric characters (letters plus digits\n",
      "                 plus underscore).\n",
      "                 With LOCALE, it will match the set [0-9_] plus characters defined\n",
      "                 as letters for the current locale.\n",
      "        \\W       Matches the complement of \\w.\n",
      "        \\\\       Matches a literal backslash.\n",
      "    \n",
      "    This module exports the following functions:\n",
      "        match     Match a regular expression pattern to the beginning of a string.\n",
      "        fullmatch Match a regular expression pattern to all of a string.\n",
      "        search    Search a string for the presence of a pattern.\n",
      "        sub       Substitute occurrences of a pattern found in a string.\n",
      "        subn      Same as sub, but also return the number of substitutions made.\n",
      "        split     Split a string by the occurrences of a pattern.\n",
      "        findall   Find all occurrences of a pattern in a string.\n",
      "        finditer  Return an iterator yielding a Match object for each match.\n",
      "        compile   Compile a pattern into a Pattern object.\n",
      "        purge     Clear the regular expression cache.\n",
      "        escape    Backslash all non-alphanumerics in a string.\n",
      "    \n",
      "    Each function other than purge and escape can take an optional 'flags' argument\n",
      "    consisting of one or more of the following module constants, joined by \"|\".\n",
      "    A, L, and U are mutually exclusive.\n",
      "        A  ASCII       For string patterns, make \\w, \\W, \\b, \\B, \\d, \\D\n",
      "                       match the corresponding ASCII character categories\n",
      "                       (rather than the whole Unicode categories, which is the\n",
      "                       default).\n",
      "                       For bytes patterns, this flag is the only available\n",
      "                       behaviour and needn't be specified.\n",
      "        I  IGNORECASE  Perform case-insensitive matching.\n",
      "        L  LOCALE      Make \\w, \\W, \\b, \\B, dependent on the current locale.\n",
      "        M  MULTILINE   \"^\" matches the beginning of lines (after a newline)\n",
      "                       as well as the string.\n",
      "                       \"$\" matches the end of lines (before a newline) as well\n",
      "                       as the end of the string.\n",
      "        S  DOTALL      \".\" matches any character at all, including the newline.\n",
      "        X  VERBOSE     Ignore whitespace and comments for nicer looking RE's.\n",
      "        U  UNICODE     For compatibility only. Ignored for string patterns (it\n",
      "                       is the default), and forbidden for bytes patterns.\n",
      "    \n",
      "    This module also defines an exception 'error'.\n",
      "\n",
      "CLASSES\n",
      "    builtins.Exception(builtins.BaseException)\n",
      "        error\n",
      "    builtins.object\n",
      "        Match\n",
      "        Pattern\n",
      "    \n",
      "    class Match(builtins.object)\n",
      "     |  The result of re.match() and re.search().\n",
      "     |  Match objects always have a boolean value of True.\n",
      "     |  \n",
      "     |  Methods defined here:\n",
      "     |  \n",
      "     |  __copy__(self, /)\n",
      "     |  \n",
      "     |  __deepcopy__(self, memo, /)\n",
      "     |  \n",
      "     |  __getitem__(self, key, /)\n",
      "     |      Return self[key].\n",
      "     |  \n",
      "     |  __repr__(self, /)\n",
      "     |      Return repr(self).\n",
      "     |  \n",
      "     |  end(self, group=0, /)\n",
      "     |      Return index of the end of the substring matched by group.\n",
      "     |  \n",
      "     |  expand(self, /, template)\n",
      "     |      Return the string obtained by doing backslash substitution on the string template, as done by the sub() method.\n",
      "     |  \n",
      "     |  group(...)\n",
      "     |      group([group1, ...]) -> str or tuple.\n",
      "     |      Return subgroup(s) of the match by indices or names.\n",
      "     |      For 0 returns the entire match.\n",
      "     |  \n",
      "     |  groupdict(self, /, default=None)\n",
      "     |      Return a dictionary containing all the named subgroups of the match, keyed by the subgroup name.\n",
      "     |      \n",
      "     |      default\n",
      "     |        Is used for groups that did not participate in the match.\n",
      "     |  \n",
      "     |  groups(self, /, default=None)\n",
      "     |      Return a tuple containing all the subgroups of the match, from 1.\n",
      "     |      \n",
      "     |      default\n",
      "     |        Is used for groups that did not participate in the match.\n",
      "     |  \n",
      "     |  span(self, group=0, /)\n",
      "     |      For match object m, return the 2-tuple (m.start(group), m.end(group)).\n",
      "     |  \n",
      "     |  start(self, group=0, /)\n",
      "     |      Return index of the start of the substring matched by group.\n",
      "     |  \n",
      "     |  ----------------------------------------------------------------------\n",
      "     |  Data descriptors defined here:\n",
      "     |  \n",
      "     |  endpos\n",
      "     |      The index into the string beyond which the RE engine will not go.\n",
      "     |  \n",
      "     |  lastgroup\n",
      "     |      The name of the last matched capturing group.\n",
      "     |  \n",
      "     |  lastindex\n",
      "     |      The integer index of the last matched capturing group.\n",
      "     |  \n",
      "     |  pos\n",
      "     |      The index into the string at which the RE engine started looking for a match.\n",
      "     |  \n",
      "     |  re\n",
      "     |      The regular expression object.\n",
      "     |  \n",
      "     |  regs\n",
      "     |  \n",
      "     |  string\n",
      "     |      The string passed to match() or search().\n",
      "    \n",
      "    class Pattern(builtins.object)\n",
      "     |  Compiled regular expression object.\n",
      "     |  \n",
      "     |  Methods defined here:\n",
      "     |  \n",
      "     |  __copy__(self, /)\n",
      "     |  \n",
      "     |  __deepcopy__(self, memo, /)\n",
      "     |  \n",
      "     |  __eq__(self, value, /)\n",
      "     |      Return self==value.\n",
      "     |  \n",
      "     |  __ge__(self, value, /)\n",
      "     |      Return self>=value.\n",
      "     |  \n",
      "     |  __gt__(self, value, /)\n",
      "     |      Return self>value.\n",
      "     |  \n",
      "     |  __hash__(self, /)\n",
      "     |      Return hash(self).\n",
      "     |  \n",
      "     |  __le__(self, value, /)\n",
      "     |      Return self<=value.\n",
      "     |  \n",
      "     |  __lt__(self, value, /)\n",
      "     |      Return self<value.\n",
      "     |  \n",
      "     |  __ne__(self, value, /)\n",
      "     |      Return self!=value.\n",
      "     |  \n",
      "     |  __repr__(self, /)\n",
      "     |      Return repr(self).\n",
      "     |  \n",
      "     |  findall(self, /, string, pos=0, endpos=9223372036854775807)\n",
      "     |      Return a list of all non-overlapping matches of pattern in string.\n",
      "     |  \n",
      "     |  finditer(self, /, string, pos=0, endpos=9223372036854775807)\n",
      "     |      Return an iterator over all non-overlapping matches for the RE pattern in string.\n",
      "     |      \n",
      "     |      For each match, the iterator returns a match object.\n",
      "     |  \n",
      "     |  fullmatch(self, /, string, pos=0, endpos=9223372036854775807)\n",
      "     |      Matches against all of the string.\n",
      "     |  \n",
      "     |  match(self, /, string, pos=0, endpos=9223372036854775807)\n",
      "     |      Matches zero or more characters at the beginning of the string.\n",
      "     |  \n",
      "     |  scanner(self, /, string, pos=0, endpos=9223372036854775807)\n",
      "     |  \n",
      "     |  search(self, /, string, pos=0, endpos=9223372036854775807)\n",
      "     |      Scan through string looking for a match, and return a corresponding match object instance.\n",
      "     |      \n",
      "     |      Return None if no position in the string matches.\n",
      "     |  \n",
      "     |  split(self, /, string, maxsplit=0)\n",
      "     |      Split string by the occurrences of pattern.\n",
      "     |  \n",
      "     |  sub(self, /, repl, string, count=0)\n",
      "     |      Return the string obtained by replacing the leftmost non-overlapping occurrences of pattern in string by the replacement repl.\n",
      "     |  \n",
      "     |  subn(self, /, repl, string, count=0)\n",
      "     |      Return the tuple (new_string, number_of_subs_made) found by replacing the leftmost non-overlapping occurrences of pattern with the replacement repl.\n",
      "     |  \n",
      "     |  ----------------------------------------------------------------------\n",
      "     |  Data descriptors defined here:\n",
      "     |  \n",
      "     |  flags\n",
      "     |      The regex matching flags.\n",
      "     |  \n",
      "     |  groupindex\n",
      "     |      A dictionary mapping group names to group numbers.\n",
      "     |  \n",
      "     |  groups\n",
      "     |      The number of capturing groups in the pattern.\n",
      "     |  \n",
      "     |  pattern\n",
      "     |      The pattern string from which the RE object was compiled.\n",
      "    \n",
      "    class error(builtins.Exception)\n",
      "     |  error(msg, pattern=None, pos=None)\n",
      "     |  \n",
      "     |  Exception raised for invalid regular expressions.\n",
      "     |  \n",
      "     |  Attributes:\n",
      "     |  \n",
      "     |      msg: The unformatted error message\n",
      "     |      pattern: The regular expression pattern\n",
      "     |      pos: The index in the pattern where compilation failed (may be None)\n",
      "     |      lineno: The line corresponding to pos (may be None)\n",
      "     |      colno: The column corresponding to pos (may be None)\n",
      "     |  \n",
      "     |  Method resolution order:\n",
      "     |      error\n",
      "     |      builtins.Exception\n",
      "     |      builtins.BaseException\n",
      "     |      builtins.object\n",
      "     |  \n",
      "     |  Methods defined here:\n",
      "     |  \n",
      "     |  __init__(self, msg, pattern=None, pos=None)\n",
      "     |      Initialize self.  See help(type(self)) for accurate signature.\n",
      "     |  \n",
      "     |  ----------------------------------------------------------------------\n",
      "     |  Data descriptors defined here:\n",
      "     |  \n",
      "     |  __weakref__\n",
      "     |      list of weak references to the object (if defined)\n",
      "     |  \n",
      "     |  ----------------------------------------------------------------------\n",
      "     |  Static methods inherited from builtins.Exception:\n",
      "     |  \n",
      "     |  __new__(*args, **kwargs) from builtins.type\n",
      "     |      Create and return a new object.  See help(type) for accurate signature.\n",
      "     |  \n",
      "     |  ----------------------------------------------------------------------\n",
      "     |  Methods inherited from builtins.BaseException:\n",
      "     |  \n",
      "     |  __delattr__(self, name, /)\n",
      "     |      Implement delattr(self, name).\n",
      "     |  \n",
      "     |  __getattribute__(self, name, /)\n",
      "     |      Return getattr(self, name).\n",
      "     |  \n",
      "     |  __reduce__(...)\n",
      "     |      Helper for pickle.\n",
      "     |  \n",
      "     |  __repr__(self, /)\n",
      "     |      Return repr(self).\n",
      "     |  \n",
      "     |  __setattr__(self, name, value, /)\n",
      "     |      Implement setattr(self, name, value).\n",
      "     |  \n",
      "     |  __setstate__(...)\n",
      "     |  \n",
      "     |  __str__(self, /)\n",
      "     |      Return str(self).\n",
      "     |  \n",
      "     |  with_traceback(...)\n",
      "     |      Exception.with_traceback(tb) --\n",
      "     |      set self.__traceback__ to tb and return self.\n",
      "     |  \n",
      "     |  ----------------------------------------------------------------------\n",
      "     |  Data descriptors inherited from builtins.BaseException:\n",
      "     |  \n",
      "     |  __cause__\n",
      "     |      exception cause\n",
      "     |  \n",
      "     |  __context__\n",
      "     |      exception context\n",
      "     |  \n",
      "     |  __dict__\n",
      "     |  \n",
      "     |  __suppress_context__\n",
      "     |  \n",
      "     |  __traceback__\n",
      "     |  \n",
      "     |  args\n",
      "\n",
      "FUNCTIONS\n",
      "    compile(pattern, flags=0)\n",
      "        Compile a regular expression pattern, returning a Pattern object.\n",
      "    \n",
      "    escape(pattern)\n",
      "        Escape special characters in a string.\n",
      "    \n",
      "    findall(pattern, string, flags=0)\n",
      "        Return a list of all non-overlapping matches in the string.\n",
      "        \n",
      "        If one or more capturing groups are present in the pattern, return\n",
      "        a list of groups; this will be a list of tuples if the pattern\n",
      "        has more than one group.\n",
      "        \n",
      "        Empty matches are included in the result.\n",
      "    \n",
      "    finditer(pattern, string, flags=0)\n",
      "        Return an iterator over all non-overlapping matches in the\n",
      "        string.  For each match, the iterator returns a Match object.\n",
      "        \n",
      "        Empty matches are included in the result.\n",
      "    \n",
      "    fullmatch(pattern, string, flags=0)\n",
      "        Try to apply the pattern to all of the string, returning\n",
      "        a Match object, or None if no match was found.\n",
      "    \n",
      "    match(pattern, string, flags=0)\n",
      "        Try to apply the pattern at the start of the string, returning\n",
      "        a Match object, or None if no match was found.\n",
      "    \n",
      "    purge()\n",
      "        Clear the regular expression caches\n",
      "    \n",
      "    search(pattern, string, flags=0)\n",
      "        Scan through string looking for a match to the pattern, returning\n",
      "        a Match object, or None if no match was found.\n",
      "    \n",
      "    split(pattern, string, maxsplit=0, flags=0)\n",
      "        Split the source string by the occurrences of the pattern,\n",
      "        returning a list containing the resulting substrings.  If\n",
      "        capturing parentheses are used in pattern, then the text of all\n",
      "        groups in the pattern are also returned as part of the resulting\n",
      "        list.  If maxsplit is nonzero, at most maxsplit splits occur,\n",
      "        and the remainder of the string is returned as the final element\n",
      "        of the list.\n",
      "    \n",
      "    sub(pattern, repl, string, count=0, flags=0)\n",
      "        Return the string obtained by replacing the leftmost\n",
      "        non-overlapping occurrences of the pattern in string by the\n",
      "        replacement repl.  repl can be either a string or a callable;\n",
      "        if a string, backslash escapes in it are processed.  If it is\n",
      "        a callable, it's passed the Match object and must return\n",
      "        a replacement string to be used.\n",
      "    \n",
      "    subn(pattern, repl, string, count=0, flags=0)\n",
      "        Return a 2-tuple containing (new_string, number).\n",
      "        new_string is the string obtained by replacing the leftmost\n",
      "        non-overlapping occurrences of the pattern in the source\n",
      "        string by the replacement repl.  number is the number of\n",
      "        substitutions that were made. repl can be either a string or a\n",
      "        callable; if a string, backslash escapes in it are processed.\n",
      "        If it is a callable, it's passed the Match object and must\n",
      "        return a replacement string to be used.\n",
      "    \n",
      "    template(pattern, flags=0)\n",
      "        Compile a template pattern, returning a Pattern object\n",
      "\n",
      "DATA\n",
      "    A = re.ASCII\n",
      "    ASCII = re.ASCII\n",
      "    DOTALL = re.DOTALL\n",
      "    I = re.IGNORECASE\n",
      "    IGNORECASE = re.IGNORECASE\n",
      "    L = re.LOCALE\n",
      "    LOCALE = re.LOCALE\n",
      "    M = re.MULTILINE\n",
      "    MULTILINE = re.MULTILINE\n",
      "    S = re.DOTALL\n",
      "    U = re.UNICODE\n",
      "    UNICODE = re.UNICODE\n",
      "    VERBOSE = re.VERBOSE\n",
      "    X = re.VERBOSE\n",
      "    __all__ = ['match', 'fullmatch', 'search', 'sub', 'subn', 'split', 'fi...\n",
      "\n",
      "VERSION\n",
      "    2.2.1\n",
      "\n",
      "FILE\n",
      "    c:\\users\\sevenmentor\\anaconda3\\lib\\re.py\n",
      "\n",
      "\n"
     ]
    }
   ],
   "source": [
    "help(re)"
   ]
  },
  {
   "cell_type": "code",
   "execution_count": 35,
   "id": "dd9a1454",
   "metadata": {},
   "outputs": [],
   "source": [
    "patt=re.compile(r'^The')   # startswith"
   ]
  },
  {
   "cell_type": "code",
   "execution_count": 36,
   "id": "9975a046",
   "metadata": {},
   "outputs": [],
   "source": [
    "match=patt.finditer(mystr)"
   ]
  },
  {
   "cell_type": "code",
   "execution_count": 37,
   "id": "5cc770d8",
   "metadata": {},
   "outputs": [
    {
     "name": "stdout",
     "output_type": "stream",
     "text": [
      "<re.Match object; span=(0, 3), match='The'>\n"
     ]
    }
   ],
   "source": [
    "for matches in match:  \n",
    "    print(matches)"
   ]
  },
  {
   "cell_type": "code",
   "execution_count": 38,
   "id": "51854542",
   "metadata": {},
   "outputs": [
    {
     "name": "stdout",
     "output_type": "stream",
     "text": [
      "<re.Match object; span=(0, 3), match='The'>\n"
     ]
    }
   ],
   "source": [
    "patt=re.compile(r'^The')\n",
    "match=patt.finditer(mystr)\n",
    "for matches in match:  \n",
    "    print(matches)"
   ]
  },
  {
   "cell_type": "code",
   "execution_count": 8,
   "id": "6dbcc713",
   "metadata": {},
   "outputs": [],
   "source": [
    "patt=re.compile(r'The$')  # endswith\n",
    "match=patt.finditer(mystr)\n",
    "for matches in match:  \n",
    "    print(matches)"
   ]
  },
  {
   "cell_type": "code",
   "execution_count": 43,
   "id": "e5932ab4",
   "metadata": {},
   "outputs": [
    {
     "name": "stdout",
     "output_type": "stream",
     "text": [
      "<re.Match object; span=(303, 305), match='on'>\n"
     ]
    }
   ],
   "source": [
    "patt=re.compile(r'on$')  # endswith\n",
    "match=patt.finditer(mystr)\n",
    "for matches in match:  \n",
    "    print(matches)"
   ]
  },
  {
   "cell_type": "code",
   "execution_count": 46,
   "id": "58f60cb2",
   "metadata": {},
   "outputs": [
    {
     "name": "stdout",
     "output_type": "stream",
     "text": [
      "<re.Match object; span=(8, 9), match='o'>\n",
      "<re.Match object; span=(42, 43), match='o'>\n",
      "<re.Match object; span=(72, 73), match='o'>\n",
      "<re.Match object; span=(113, 114), match='o'>\n",
      "<re.Match object; span=(130, 132), match='or'>\n",
      "<re.Match object; span=(150, 151), match='o'>\n",
      "<re.Match object; span=(159, 160), match='o'>\n",
      "<re.Match object; span=(176, 177), match='o'>\n",
      "<re.Match object; span=(200, 201), match='o'>\n",
      "<re.Match object; span=(208, 209), match='o'>\n",
      "<re.Match object; span=(210, 212), match='or'>\n",
      "<re.Match object; span=(220, 221), match='o'>\n",
      "<re.Match object; span=(240, 242), match='or'>\n",
      "<re.Match object; span=(251, 252), match='o'>\n",
      "<re.Match object; span=(256, 257), match='o'>\n",
      "<re.Match object; span=(261, 262), match='o'>\n",
      "<re.Match object; span=(267, 268), match='o'>\n",
      "<re.Match object; span=(292, 293), match='o'>\n",
      "<re.Match object; span=(297, 299), match='or'>\n",
      "<re.Match object; span=(303, 304), match='o'>\n"
     ]
    }
   ],
   "source": [
    "patt=re.compile(r'or*') \n",
    "match=patt.finditer(mystr)\n",
    "for matches in match:  \n",
    "    print(matches)"
   ]
  },
  {
   "cell_type": "code",
   "execution_count": 47,
   "id": "bfdb9d87",
   "metadata": {},
   "outputs": [
    {
     "name": "stdout",
     "output_type": "stream",
     "text": [
      "<re.Match object; span=(0, 0), match=''>\n",
      "<re.Match object; span=(1, 1), match=''>\n",
      "<re.Match object; span=(2, 2), match=''>\n",
      "<re.Match object; span=(3, 3), match=''>\n",
      "<re.Match object; span=(4, 4), match=''>\n",
      "<re.Match object; span=(5, 5), match=''>\n",
      "<re.Match object; span=(6, 6), match=''>\n",
      "<re.Match object; span=(7, 7), match=''>\n",
      "<re.Match object; span=(8, 9), match='o'>\n",
      "<re.Match object; span=(9, 9), match=''>\n",
      "<re.Match object; span=(10, 10), match=''>\n",
      "<re.Match object; span=(11, 11), match=''>\n",
      "<re.Match object; span=(12, 12), match=''>\n",
      "<re.Match object; span=(13, 13), match=''>\n",
      "<re.Match object; span=(14, 14), match=''>\n",
      "<re.Match object; span=(15, 15), match=''>\n",
      "<re.Match object; span=(16, 16), match=''>\n",
      "<re.Match object; span=(17, 17), match=''>\n",
      "<re.Match object; span=(18, 18), match=''>\n",
      "<re.Match object; span=(19, 20), match='r'>\n",
      "<re.Match object; span=(20, 20), match=''>\n",
      "<re.Match object; span=(21, 21), match=''>\n",
      "<re.Match object; span=(22, 22), match=''>\n",
      "<re.Match object; span=(23, 24), match='r'>\n",
      "<re.Match object; span=(24, 24), match=''>\n",
      "<re.Match object; span=(25, 25), match=''>\n",
      "<re.Match object; span=(26, 26), match=''>\n",
      "<re.Match object; span=(27, 27), match=''>\n",
      "<re.Match object; span=(28, 28), match=''>\n",
      "<re.Match object; span=(29, 29), match=''>\n",
      "<re.Match object; span=(30, 30), match=''>\n",
      "<re.Match object; span=(31, 31), match=''>\n",
      "<re.Match object; span=(32, 32), match=''>\n",
      "<re.Match object; span=(33, 33), match=''>\n",
      "<re.Match object; span=(34, 34), match=''>\n",
      "<re.Match object; span=(35, 35), match=''>\n",
      "<re.Match object; span=(36, 36), match=''>\n",
      "<re.Match object; span=(37, 37), match=''>\n",
      "<re.Match object; span=(38, 38), match=''>\n",
      "<re.Match object; span=(39, 39), match=''>\n",
      "<re.Match object; span=(40, 40), match=''>\n",
      "<re.Match object; span=(41, 41), match=''>\n",
      "<re.Match object; span=(42, 43), match='o'>\n",
      "<re.Match object; span=(43, 43), match=''>\n",
      "<re.Match object; span=(44, 44), match=''>\n",
      "<re.Match object; span=(45, 45), match=''>\n",
      "<re.Match object; span=(46, 46), match=''>\n",
      "<re.Match object; span=(47, 47), match=''>\n",
      "<re.Match object; span=(48, 48), match=''>\n",
      "<re.Match object; span=(49, 49), match=''>\n",
      "<re.Match object; span=(50, 50), match=''>\n",
      "<re.Match object; span=(51, 51), match=''>\n",
      "<re.Match object; span=(52, 52), match=''>\n",
      "<re.Match object; span=(53, 53), match=''>\n",
      "<re.Match object; span=(54, 54), match=''>\n",
      "<re.Match object; span=(55, 55), match=''>\n",
      "<re.Match object; span=(56, 56), match=''>\n",
      "<re.Match object; span=(57, 57), match=''>\n",
      "<re.Match object; span=(58, 58), match=''>\n",
      "<re.Match object; span=(59, 59), match=''>\n",
      "<re.Match object; span=(60, 60), match=''>\n",
      "<re.Match object; span=(61, 61), match=''>\n",
      "<re.Match object; span=(62, 62), match=''>\n",
      "<re.Match object; span=(63, 63), match=''>\n",
      "<re.Match object; span=(64, 64), match=''>\n",
      "<re.Match object; span=(65, 65), match=''>\n",
      "<re.Match object; span=(66, 66), match=''>\n",
      "<re.Match object; span=(67, 68), match='r'>\n",
      "<re.Match object; span=(68, 68), match=''>\n",
      "<re.Match object; span=(69, 69), match=''>\n",
      "<re.Match object; span=(70, 70), match=''>\n",
      "<re.Match object; span=(71, 71), match=''>\n",
      "<re.Match object; span=(72, 73), match='o'>\n",
      "<re.Match object; span=(73, 73), match=''>\n",
      "<re.Match object; span=(74, 74), match=''>\n",
      "<re.Match object; span=(75, 76), match='r'>\n",
      "<re.Match object; span=(76, 76), match=''>\n",
      "<re.Match object; span=(77, 77), match=''>\n",
      "<re.Match object; span=(78, 78), match=''>\n",
      "<re.Match object; span=(79, 79), match=''>\n",
      "<re.Match object; span=(80, 80), match=''>\n",
      "<re.Match object; span=(81, 81), match=''>\n",
      "<re.Match object; span=(82, 82), match=''>\n",
      "<re.Match object; span=(83, 83), match=''>\n",
      "<re.Match object; span=(84, 84), match=''>\n",
      "<re.Match object; span=(85, 85), match=''>\n",
      "<re.Match object; span=(86, 86), match=''>\n",
      "<re.Match object; span=(87, 87), match=''>\n",
      "<re.Match object; span=(88, 88), match=''>\n",
      "<re.Match object; span=(89, 89), match=''>\n",
      "<re.Match object; span=(90, 90), match=''>\n",
      "<re.Match object; span=(91, 91), match=''>\n",
      "<re.Match object; span=(92, 92), match=''>\n",
      "<re.Match object; span=(93, 93), match=''>\n",
      "<re.Match object; span=(94, 94), match=''>\n",
      "<re.Match object; span=(95, 95), match=''>\n",
      "<re.Match object; span=(96, 96), match=''>\n",
      "<re.Match object; span=(97, 97), match=''>\n",
      "<re.Match object; span=(98, 98), match=''>\n",
      "<re.Match object; span=(99, 99), match=''>\n",
      "<re.Match object; span=(100, 100), match=''>\n",
      "<re.Match object; span=(101, 101), match=''>\n",
      "<re.Match object; span=(102, 102), match=''>\n",
      "<re.Match object; span=(103, 103), match=''>\n",
      "<re.Match object; span=(104, 104), match=''>\n",
      "<re.Match object; span=(105, 105), match=''>\n",
      "<re.Match object; span=(106, 106), match=''>\n",
      "<re.Match object; span=(107, 107), match=''>\n",
      "<re.Match object; span=(108, 108), match=''>\n",
      "<re.Match object; span=(109, 109), match=''>\n",
      "<re.Match object; span=(110, 110), match=''>\n",
      "<re.Match object; span=(111, 111), match=''>\n",
      "<re.Match object; span=(112, 113), match='r'>\n",
      "<re.Match object; span=(113, 114), match='o'>\n",
      "<re.Match object; span=(114, 114), match=''>\n",
      "<re.Match object; span=(115, 115), match=''>\n",
      "<re.Match object; span=(116, 116), match=''>\n",
      "<re.Match object; span=(117, 117), match=''>\n",
      "<re.Match object; span=(118, 118), match=''>\n",
      "<re.Match object; span=(119, 119), match=''>\n",
      "<re.Match object; span=(120, 120), match=''>\n",
      "<re.Match object; span=(121, 121), match=''>\n",
      "<re.Match object; span=(122, 122), match=''>\n",
      "<re.Match object; span=(123, 123), match=''>\n",
      "<re.Match object; span=(124, 124), match=''>\n",
      "<re.Match object; span=(125, 125), match=''>\n",
      "<re.Match object; span=(126, 126), match=''>\n",
      "<re.Match object; span=(127, 128), match='r'>\n",
      "<re.Match object; span=(128, 128), match=''>\n",
      "<re.Match object; span=(129, 129), match=''>\n",
      "<re.Match object; span=(130, 132), match='or'>\n",
      "<re.Match object; span=(132, 132), match=''>\n",
      "<re.Match object; span=(133, 133), match=''>\n",
      "<re.Match object; span=(134, 134), match=''>\n",
      "<re.Match object; span=(135, 135), match=''>\n",
      "<re.Match object; span=(136, 136), match=''>\n",
      "<re.Match object; span=(137, 137), match=''>\n",
      "<re.Match object; span=(138, 138), match=''>\n",
      "<re.Match object; span=(139, 139), match=''>\n",
      "<re.Match object; span=(140, 140), match=''>\n",
      "<re.Match object; span=(141, 141), match=''>\n",
      "<re.Match object; span=(142, 142), match=''>\n",
      "<re.Match object; span=(143, 144), match='r'>\n",
      "<re.Match object; span=(144, 144), match=''>\n",
      "<re.Match object; span=(145, 145), match=''>\n",
      "<re.Match object; span=(146, 146), match=''>\n",
      "<re.Match object; span=(147, 147), match=''>\n",
      "<re.Match object; span=(148, 148), match=''>\n",
      "<re.Match object; span=(149, 149), match=''>\n",
      "<re.Match object; span=(150, 151), match='o'>\n",
      "<re.Match object; span=(151, 151), match=''>\n",
      "<re.Match object; span=(152, 152), match=''>\n",
      "<re.Match object; span=(153, 153), match=''>\n",
      "<re.Match object; span=(154, 154), match=''>\n",
      "<re.Match object; span=(155, 155), match=''>\n",
      "<re.Match object; span=(156, 156), match=''>\n",
      "<re.Match object; span=(157, 158), match='r'>\n",
      "<re.Match object; span=(158, 158), match=''>\n",
      "<re.Match object; span=(159, 160), match='o'>\n",
      "<re.Match object; span=(160, 160), match=''>\n",
      "<re.Match object; span=(161, 161), match=''>\n",
      "<re.Match object; span=(162, 162), match=''>\n",
      "<re.Match object; span=(163, 163), match=''>\n",
      "<re.Match object; span=(164, 164), match=''>\n",
      "<re.Match object; span=(165, 165), match=''>\n",
      "<re.Match object; span=(166, 166), match=''>\n",
      "<re.Match object; span=(167, 167), match=''>\n",
      "<re.Match object; span=(168, 168), match=''>\n",
      "<re.Match object; span=(169, 170), match='r'>\n",
      "<re.Match object; span=(170, 170), match=''>\n",
      "<re.Match object; span=(171, 171), match=''>\n",
      "<re.Match object; span=(172, 172), match=''>\n",
      "<re.Match object; span=(173, 173), match=''>\n",
      "<re.Match object; span=(174, 174), match=''>\n",
      "<re.Match object; span=(175, 175), match=''>\n",
      "<re.Match object; span=(176, 177), match='o'>\n",
      "<re.Match object; span=(177, 177), match=''>\n",
      "<re.Match object; span=(178, 178), match=''>\n",
      "<re.Match object; span=(179, 179), match=''>\n",
      "<re.Match object; span=(180, 181), match='r'>\n",
      "<re.Match object; span=(181, 181), match=''>\n",
      "<re.Match object; span=(182, 182), match=''>\n",
      "<re.Match object; span=(183, 183), match=''>\n",
      "<re.Match object; span=(184, 184), match=''>\n",
      "<re.Match object; span=(185, 185), match=''>\n",
      "<re.Match object; span=(186, 186), match=''>\n",
      "<re.Match object; span=(187, 187), match=''>\n",
      "<re.Match object; span=(188, 189), match='r'>\n",
      "<re.Match object; span=(189, 189), match=''>\n",
      "<re.Match object; span=(190, 191), match='r'>\n",
      "<re.Match object; span=(191, 191), match=''>\n",
      "<re.Match object; span=(192, 192), match=''>\n",
      "<re.Match object; span=(193, 193), match=''>\n",
      "<re.Match object; span=(194, 194), match=''>\n",
      "<re.Match object; span=(195, 195), match=''>\n",
      "<re.Match object; span=(196, 196), match=''>\n",
      "<re.Match object; span=(197, 197), match=''>\n",
      "<re.Match object; span=(198, 198), match=''>\n",
      "<re.Match object; span=(199, 200), match='r'>\n",
      "<re.Match object; span=(200, 201), match='o'>\n",
      "<re.Match object; span=(201, 201), match=''>\n",
      "<re.Match object; span=(202, 202), match=''>\n",
      "<re.Match object; span=(203, 203), match=''>\n",
      "<re.Match object; span=(204, 204), match=''>\n",
      "<re.Match object; span=(205, 205), match=''>\n",
      "<re.Match object; span=(206, 206), match=''>\n",
      "<re.Match object; span=(207, 207), match=''>\n",
      "<re.Match object; span=(208, 209), match='o'>\n",
      "<re.Match object; span=(209, 209), match=''>\n",
      "<re.Match object; span=(210, 212), match='or'>\n",
      "<re.Match object; span=(212, 212), match=''>\n",
      "<re.Match object; span=(213, 213), match=''>\n",
      "<re.Match object; span=(214, 214), match=''>\n",
      "<re.Match object; span=(215, 215), match=''>\n",
      "<re.Match object; span=(216, 216), match=''>\n",
      "<re.Match object; span=(217, 217), match=''>\n",
      "<re.Match object; span=(218, 218), match=''>\n",
      "<re.Match object; span=(219, 219), match=''>\n",
      "<re.Match object; span=(220, 221), match='o'>\n",
      "<re.Match object; span=(221, 221), match=''>\n",
      "<re.Match object; span=(222, 222), match=''>\n",
      "<re.Match object; span=(223, 223), match=''>\n",
      "<re.Match object; span=(224, 224), match=''>\n",
      "<re.Match object; span=(225, 225), match=''>\n",
      "<re.Match object; span=(226, 226), match=''>\n",
      "<re.Match object; span=(227, 227), match=''>\n",
      "<re.Match object; span=(228, 228), match=''>\n",
      "<re.Match object; span=(229, 229), match=''>\n",
      "<re.Match object; span=(230, 230), match=''>\n",
      "<re.Match object; span=(231, 231), match=''>\n",
      "<re.Match object; span=(232, 232), match=''>\n",
      "<re.Match object; span=(233, 233), match=''>\n",
      "<re.Match object; span=(234, 234), match=''>\n",
      "<re.Match object; span=(235, 235), match=''>\n",
      "<re.Match object; span=(236, 236), match=''>\n",
      "<re.Match object; span=(237, 237), match=''>\n",
      "<re.Match object; span=(238, 238), match=''>\n",
      "<re.Match object; span=(239, 239), match=''>\n",
      "<re.Match object; span=(240, 242), match='or'>\n",
      "<re.Match object; span=(242, 242), match=''>\n",
      "<re.Match object; span=(243, 243), match=''>\n",
      "<re.Match object; span=(244, 244), match=''>\n",
      "<re.Match object; span=(245, 245), match=''>\n",
      "<re.Match object; span=(246, 246), match=''>\n",
      "<re.Match object; span=(247, 247), match=''>\n",
      "<re.Match object; span=(248, 248), match=''>\n",
      "<re.Match object; span=(249, 250), match='r'>\n",
      "<re.Match object; span=(250, 250), match=''>\n",
      "<re.Match object; span=(251, 252), match='o'>\n",
      "<re.Match object; span=(252, 252), match=''>\n",
      "<re.Match object; span=(253, 253), match=''>\n",
      "<re.Match object; span=(254, 254), match=''>\n",
      "<re.Match object; span=(255, 255), match=''>\n",
      "<re.Match object; span=(256, 257), match='o'>\n",
      "<re.Match object; span=(257, 257), match=''>\n",
      "<re.Match object; span=(258, 258), match=''>\n",
      "<re.Match object; span=(259, 259), match=''>\n",
      "<re.Match object; span=(260, 261), match='r'>\n",
      "<re.Match object; span=(261, 262), match='o'>\n",
      "<re.Match object; span=(262, 262), match=''>\n",
      "<re.Match object; span=(263, 263), match=''>\n",
      "<re.Match object; span=(264, 264), match=''>\n",
      "<re.Match object; span=(265, 265), match=''>\n",
      "<re.Match object; span=(266, 266), match=''>\n",
      "<re.Match object; span=(267, 268), match='o'>\n",
      "<re.Match object; span=(268, 268), match=''>\n",
      "<re.Match object; span=(269, 269), match=''>\n",
      "<re.Match object; span=(270, 270), match=''>\n",
      "<re.Match object; span=(271, 271), match=''>\n",
      "<re.Match object; span=(272, 272), match=''>\n",
      "<re.Match object; span=(273, 273), match=''>\n",
      "<re.Match object; span=(274, 274), match=''>\n",
      "<re.Match object; span=(275, 275), match=''>\n",
      "<re.Match object; span=(276, 276), match=''>\n",
      "<re.Match object; span=(277, 277), match=''>\n",
      "<re.Match object; span=(278, 278), match=''>\n",
      "<re.Match object; span=(279, 279), match=''>\n",
      "<re.Match object; span=(280, 280), match=''>\n",
      "<re.Match object; span=(281, 281), match=''>\n",
      "<re.Match object; span=(282, 282), match=''>\n",
      "<re.Match object; span=(283, 283), match=''>\n",
      "<re.Match object; span=(284, 284), match=''>\n",
      "<re.Match object; span=(285, 285), match=''>\n",
      "<re.Match object; span=(286, 286), match=''>\n",
      "<re.Match object; span=(287, 288), match='r'>\n",
      "<re.Match object; span=(288, 288), match=''>\n",
      "<re.Match object; span=(289, 289), match=''>\n",
      "<re.Match object; span=(290, 290), match=''>\n",
      "<re.Match object; span=(291, 291), match=''>\n",
      "<re.Match object; span=(292, 293), match='o'>\n",
      "<re.Match object; span=(293, 293), match=''>\n",
      "<re.Match object; span=(294, 294), match=''>\n",
      "<re.Match object; span=(295, 295), match=''>\n",
      "<re.Match object; span=(296, 296), match=''>\n",
      "<re.Match object; span=(297, 299), match='or'>\n",
      "<re.Match object; span=(299, 299), match=''>\n",
      "<re.Match object; span=(300, 300), match=''>\n",
      "<re.Match object; span=(301, 301), match=''>\n",
      "<re.Match object; span=(302, 302), match=''>\n",
      "<re.Match object; span=(303, 304), match='o'>\n",
      "<re.Match object; span=(304, 304), match=''>\n",
      "<re.Match object; span=(305, 305), match=''>\n"
     ]
    }
   ],
   "source": [
    "patt=re.compile(r'o*r*')  # any\n",
    "match=patt.finditer(mystr)\n",
    "for matches in match:  \n",
    "    print(matches)"
   ]
  },
  {
   "cell_type": "code",
   "execution_count": null,
   "id": "24933eec",
   "metadata": {},
   "outputs": [],
   "source": [
    "mystr='''The National Weather Service is an agency of the United States federal\n",
    "government that is tasked with 12 13 14 providing weather forecasts, \n",
    "warnings of hazardous weather, and other weather-related products to organizations phone no \n",
    "12345-123 and 123 456 the public for the purposes of protection,orrrrr safety, \n",
    "and general to information'''"
   ]
  },
  {
   "cell_type": "code",
   "execution_count": 50,
   "id": "9e6876ad",
   "metadata": {},
   "outputs": [
    {
     "name": "stdout",
     "output_type": "stream",
     "text": [
      "<re.Match object; span=(130, 132), match='or'>\n",
      "<re.Match object; span=(210, 212), match='or'>\n",
      "<re.Match object; span=(240, 242), match='or'>\n",
      "<re.Match object; span=(270, 276), match='orrrrr'>\n",
      "<re.Match object; span=(303, 305), match='or'>\n"
     ]
    }
   ],
   "source": [
    "patt=re.compile(r'or+')  # any\n",
    "match=patt.finditer(mystr)\n",
    "for matches in match:  \n",
    "    print(matches)"
   ]
  },
  {
   "cell_type": "code",
   "execution_count": 3,
   "id": "7ab5a32a",
   "metadata": {},
   "outputs": [
    {
     "name": "stdout",
     "output_type": "stream",
     "text": [
      "<re.Match object; span=(8, 9), match='o'>\n",
      "<re.Match object; span=(42, 43), match='o'>\n",
      "<re.Match object; span=(72, 73), match='o'>\n",
      "<re.Match object; span=(113, 114), match='o'>\n",
      "<re.Match object; span=(130, 132), match='or'>\n",
      "<re.Match object; span=(150, 151), match='o'>\n",
      "<re.Match object; span=(159, 160), match='o'>\n",
      "<re.Match object; span=(176, 177), match='o'>\n",
      "<re.Match object; span=(200, 201), match='o'>\n",
      "<re.Match object; span=(208, 209), match='o'>\n",
      "<re.Match object; span=(210, 212), match='or'>\n",
      "<re.Match object; span=(220, 221), match='o'>\n",
      "<re.Match object; span=(226, 227), match='o'>\n",
      "<re.Match object; span=(231, 232), match='o'>\n",
      "<re.Match object; span=(268, 270), match='or'>\n",
      "<re.Match object; span=(279, 280), match='o'>\n",
      "<re.Match object; span=(284, 285), match='o'>\n",
      "<re.Match object; span=(289, 290), match='o'>\n",
      "<re.Match object; span=(295, 296), match='o'>\n",
      "<re.Match object; span=(298, 304), match='orrrrr'>\n",
      "<re.Match object; span=(327, 328), match='o'>\n",
      "<re.Match object; span=(332, 334), match='or'>\n",
      "<re.Match object; span=(338, 339), match='o'>\n"
     ]
    }
   ],
   "source": [
    "patt=re.compile(r'or*') \n",
    "match=patt.finditer(mystr)\n",
    "for matches in match:  \n",
    "    print(matches)"
   ]
  },
  {
   "cell_type": "code",
   "execution_count": 15,
   "id": "94f93a87",
   "metadata": {},
   "outputs": [
    {
     "name": "stdout",
     "output_type": "stream",
     "text": [
      "<re.Match object; span=(298, 301), match='orr'>\n"
     ]
    }
   ],
   "source": [
    "patt=re.compile(r'or{2}')   #2 consecutive prints\n",
    "match=patt.finditer(mystr)\n",
    "for matches in match:  \n",
    "    print(matches)"
   ]
  },
  {
   "cell_type": "code",
   "execution_count": null,
   "id": "c23240a4",
   "metadata": {},
   "outputs": [],
   "source": [
    "patt=re.compile(r'o{1}r')  #startswith\n",
    "matches=patt.finditer(mystr)\n",
    "for match in matches:\n",
    "    print(match)"
   ]
  },
  {
   "cell_type": "code",
   "execution_count": 16,
   "id": "7855de4c",
   "metadata": {},
   "outputs": [
    {
     "name": "stdout",
     "output_type": "stream",
     "text": [
      "<re.Match object; span=(130, 132), match='or'>\n",
      "<re.Match object; span=(210, 212), match='or'>\n",
      "<re.Match object; span=(268, 270), match='or'>\n",
      "<re.Match object; span=(298, 300), match='or'>\n",
      "<re.Match object; span=(332, 334), match='or'>\n"
     ]
    }
   ],
   "source": [
    "patt=re.compile(r'(or){1}')  \n",
    "match=patt.finditer(mystr)\n",
    "for matches in match:  \n",
    "    print(matches)"
   ]
  },
  {
   "cell_type": "code",
   "execution_count": 54,
   "id": "535627d7",
   "metadata": {},
   "outputs": [
    {
     "name": "stdout",
     "output_type": "stream",
     "text": [
      "<re.Match object; span=(6, 7), match='t'>\n",
      "<re.Match object; span=(16, 17), match='t'>\n",
      "<re.Match object; span=(45, 46), match='t'>\n",
      "<re.Match object; span=(52, 53), match='t'>\n",
      "<re.Match object; span=(57, 58), match='t'>\n",
      "<re.Match object; span=(59, 60), match='t'>\n",
      "<re.Match object; span=(80, 81), match='t'>\n",
      "<re.Match object; span=(82, 83), match='t'>\n",
      "<re.Match object; span=(85, 86), match='t'>\n",
      "<re.Match object; span=(90, 91), match='t'>\n",
      "<re.Match object; span=(99, 100), match='t'>\n",
      "<re.Match object; span=(124, 125), match='t'>\n",
      "<re.Match object; span=(130, 132), match='or'>\n",
      "<re.Match object; span=(136, 137), match='t'>\n",
      "<re.Match object; span=(166, 167), match='t'>\n",
      "<re.Match object; span=(177, 178), match='t'>\n",
      "<re.Match object; span=(185, 186), match='t'>\n",
      "<re.Match object; span=(194, 195), match='t'>\n",
      "<re.Match object; span=(204, 205), match='t'>\n",
      "<re.Match object; span=(207, 208), match='t'>\n",
      "<re.Match object; span=(210, 212), match='or'>\n",
      "<re.Match object; span=(218, 219), match='t'>\n",
      "<re.Match object; span=(228, 229), match='t'>\n",
      "<re.Match object; span=(240, 242), match='or'>\n",
      "<re.Match object; span=(243, 244), match='t'>\n",
      "<re.Match object; span=(262, 263), match='t'>\n",
      "<re.Match object; span=(265, 266), match='t'>\n",
      "<re.Match object; span=(270, 272), match='or'>\n",
      "<re.Match object; span=(281, 282), match='t'>\n",
      "<re.Match object; span=(297, 298), match='t'>\n",
      "<re.Match object; span=(303, 305), match='or'>\n",
      "<re.Match object; span=(307, 308), match='t'>\n"
     ]
    }
   ],
   "source": [
    "patt=re.compile(r'or{1}|t')  # either or\n",
    "match=patt.finditer(mystr)\n",
    "for matches in match:  \n",
    "    print(matches)"
   ]
  },
  {
   "cell_type": "code",
   "execution_count": 55,
   "id": "1b5e934d",
   "metadata": {},
   "outputs": [
    {
     "name": "stdout",
     "output_type": "stream",
     "text": [
      "<re.Match object; span=(0, 3), match='The'>\n",
      "<re.Match object; span=(130, 132), match='or'>\n",
      "<re.Match object; span=(210, 212), match='or'>\n",
      "<re.Match object; span=(240, 242), match='or'>\n",
      "<re.Match object; span=(270, 272), match='or'>\n",
      "<re.Match object; span=(303, 305), match='or'>\n"
     ]
    }
   ],
   "source": [
    "patt=re.compile(r'or{1}|The')  \n",
    "match=patt.finditer(mystr)\n",
    "for matches in match:  \n",
    "    print(matches)"
   ]
  },
  {
   "cell_type": "code",
   "execution_count": 1,
   "id": "99a882f3",
   "metadata": {},
   "outputs": [
    {
     "ename": "NameError",
     "evalue": "name 're' is not defined",
     "output_type": "error",
     "traceback": [
      "\u001b[1;31m---------------------------------------------------------------------------\u001b[0m",
      "\u001b[1;31mNameError\u001b[0m                                 Traceback (most recent call last)",
      "\u001b[1;32m<ipython-input-1-251d4af5aad8>\u001b[0m in \u001b[0;36m<module>\u001b[1;34m\u001b[0m\n\u001b[1;32m----> 1\u001b[1;33m \u001b[0mpatt\u001b[0m\u001b[1;33m=\u001b[0m\u001b[0mre\u001b[0m\u001b[1;33m.\u001b[0m\u001b[0mcompile\u001b[0m\u001b[1;33m(\u001b[0m\u001b[1;34mr'\\AThe'\u001b[0m\u001b[1;33m)\u001b[0m  \u001b[1;31m#Returns a match if the specified characters are at the beginning of the string\u001b[0m\u001b[1;33m\u001b[0m\u001b[1;33m\u001b[0m\u001b[0m\n\u001b[0m\u001b[0;32m      2\u001b[0m \u001b[0mmatch\u001b[0m\u001b[1;33m=\u001b[0m\u001b[0mpatt\u001b[0m\u001b[1;33m.\u001b[0m\u001b[0mfinditer\u001b[0m\u001b[1;33m(\u001b[0m\u001b[0mmystr\u001b[0m\u001b[1;33m)\u001b[0m\u001b[1;33m\u001b[0m\u001b[1;33m\u001b[0m\u001b[0m\n\u001b[0;32m      3\u001b[0m \u001b[1;32mfor\u001b[0m \u001b[0mmatches\u001b[0m \u001b[1;32min\u001b[0m \u001b[0mmatch\u001b[0m\u001b[1;33m:\u001b[0m\u001b[1;33m\u001b[0m\u001b[1;33m\u001b[0m\u001b[0m\n\u001b[0;32m      4\u001b[0m     \u001b[0mprint\u001b[0m\u001b[1;33m(\u001b[0m\u001b[0mmatches\u001b[0m\u001b[1;33m)\u001b[0m\u001b[1;33m\u001b[0m\u001b[1;33m\u001b[0m\u001b[0m\n",
      "\u001b[1;31mNameError\u001b[0m: name 're' is not defined"
     ]
    }
   ],
   "source": [
    "patt=re.compile(r'\\AThe')  #Returns a match if the specified characters are at the beginning of the string\n",
    "match=patt.finditer(mystr)\n",
    "for matches in match:  \n",
    "    print(matches)"
   ]
  },
  {
   "cell_type": "code",
   "execution_count": 57,
   "id": "01bf84b6",
   "metadata": {},
   "outputs": [
    {
     "name": "stdout",
     "output_type": "stream",
     "text": [
      "<re.Match object; span=(0, 3), match='The'>\n"
     ]
    }
   ],
   "source": [
    "patt=re.compile(r'\\bThe')   #Returns a match where the specified characters are at the beginning \n",
    "match=patt.finditer(mystr)\n",
    "for matches in match:  \n",
    "    print(matches)"
   ]
  },
  {
   "cell_type": "code",
   "execution_count": 58,
   "id": "2a678dc7",
   "metadata": {},
   "outputs": [
    {
     "name": "stdout",
     "output_type": "stream",
     "text": [
      "<re.Match object; span=(0, 3), match='The'>\n"
     ]
    }
   ],
   "source": [
    "patt=re.compile(r'The\\b')   #Returns a match where the specified characters are  at the end of a word\n",
    "match=patt.finditer(mystr)\n",
    "for matches in match:  \n",
    "    print(matches)"
   ]
  },
  {
   "cell_type": "code",
   "execution_count": 59,
   "id": "62aac69e",
   "metadata": {},
   "outputs": [
    {
     "name": "stdout",
     "output_type": "stream",
     "text": [
      "<re.Match object; span=(266, 269), match='ion'>\n",
      "<re.Match object; span=(308, 311), match='ion'>\n"
     ]
    }
   ],
   "source": [
    "patt=re.compile(r'ion\\b')  \n",
    "match=patt.finditer(mystr)\n",
    "for matches in match:  \n",
    "    print(matches)"
   ]
  },
  {
   "cell_type": "code",
   "execution_count": 21,
   "id": "c2431ce1",
   "metadata": {},
   "outputs": [],
   "source": [
    "mystr='''The National Weather Service is an agency of the United States federal\n",
    "government that is tasked with 12 13 14 providing weather forecasts, \n",
    "warnings of hazardous weather, and other weather-related products to organizations phone no \n",
    "12345-123 and 123 456 the public for the purposes of protection,orrrrr safety, \n",
    "and general to information'''\n",
    "\n"
   ]
  },
  {
   "cell_type": "code",
   "execution_count": 22,
   "id": "ac671560",
   "metadata": {},
   "outputs": [
    {
     "name": "stdout",
     "output_type": "stream",
     "text": [
      "<re.Match object; span=(234, 243), match='12345-123'>\n"
     ]
    }
   ],
   "source": [
    "patt=re.compile(r'\\d{5}-\\d{3}')  #digits with pattern '-' then again digits\n",
    "match=patt.finditer(mystr)\n",
    "for matches in match:  \n",
    "    print(matches)"
   ]
  },
  {
   "cell_type": "code",
   "execution_count": 67,
   "id": "686e7436",
   "metadata": {},
   "outputs": [
    {
     "name": "stdout",
     "output_type": "stream",
     "text": [
      "<re.Match object; span=(234, 243), match='12345-123'>\n"
     ]
    }
   ],
   "source": [
    "mystr='''The National Weather Service is an agency of the United States federal\n",
    "government that is tasked with 12 13 14 providing weather forecasts, \n",
    "warnings of hazardous weather, and other weather-related products to organizations phone no \n",
    "12345-123 and 123 456 the public 9860846089 9975323968 9834176587for the purposes of protection,orrrrr safety, \n",
    "and general to information'''\n"
   ]
  },
  {
   "cell_type": "code",
   "execution_count": 23,
   "id": "794002f0",
   "metadata": {},
   "outputs": [
    {
     "name": "stdout",
     "output_type": "stream",
     "text": [
      "<re.Match object; span=(234, 243), match='12345-123'>\n"
     ]
    }
   ],
   "source": [
    "patt=re.compile(r'\\d{5}-\\d{3}')  \n",
    "match=patt.finditer(mystr)\n",
    "for matches in match:  \n",
    "    print(matches)"
   ]
  },
  {
   "cell_type": "code",
   "execution_count": 3,
   "id": "dc4205ee",
   "metadata": {},
   "outputs": [
    {
     "name": "stdout",
     "output_type": "stream",
     "text": [
      "<re.Match object; span=(267, 277), match='9860846089'>\n",
      "<re.Match object; span=(278, 288), match='9975323968'>\n",
      "<re.Match object; span=(289, 299), match='9834176587'>\n",
      "<re.Match object; span=(373, 383), match='9860846666'>\n"
     ]
    }
   ],
   "source": [
    "import re\n",
    "mystr='''The National Weather Service is an agency of the United States federal\n",
    "government that is tasked with 12 13 14 providing weather forecasts, \n",
    "warnings of hazardous weather, and other weather-related products to organizations phone no \n",
    "12345-123 and 123 456 the public 9860846089 9975323968 9834176587for the purposes of protection,orrrrr safety, \n",
    "and general to information 98608466666'''\n",
    "patt=re.compile(r'\\d{10}')  \n",
    "match=patt.finditer(mystr)\n",
    "for matches in match:  \n",
    "    print(matches)"
   ]
  },
  {
   "cell_type": "markdown",
   "id": "f0d43159",
   "metadata": {},
   "source": [
    "# final regex"
   ]
  },
  {
   "cell_type": "markdown",
   "id": "caa44fed",
   "metadata": {},
   "source": [
    "## Methods"
   ]
  },
  {
   "cell_type": "raw",
   "id": "0c6135b2",
   "metadata": {},
   "source": [
    "re.findall()\n",
    "Return all non-overlapping matches of pattern in string, as a list of strings. \n",
    "The string is scanned left-to-right, and matches are returned in the order found."
   ]
  },
  {
   "cell_type": "raw",
   "id": "40f8b087",
   "metadata": {},
   "source": [
    "re.compile() \n",
    "Regular expressions are compiled into pattern objects, \n",
    "which have methods for various operations such as searching for pattern matches or performing string substitutions. "
   ]
  },
  {
   "cell_type": "raw",
   "id": "289fea54",
   "metadata": {},
   "source": [
    "re.split() \n",
    "Split string by the occurrences of a character or a pattern, upon finding that pattern, \n",
    "the remaining characters from the string are returned as part of the resulting list. "
   ]
  },
  {
   "cell_type": "raw",
   "id": "1c47b26f",
   "metadata": {},
   "source": [
    "re.sub() \n",
    "The ‘sub’ in the function stands for SubString, a certain regular expression pattern is searched in the given string(3rd parameter), \n",
    "and upon finding the substring pattern is replaced by repl(2nd parameter), count checks and maintains the number of times this occurs. "
   ]
  },
  {
   "cell_type": "raw",
   "id": "5bb4224c",
   "metadata": {},
   "source": [
    "re.subn() \n",
    "subn() is similar to sub() in all ways, except in its way to providing output. \n",
    "It returns a tuple with count of total of replacement and the new string rather than just the string."
   ]
  },
  {
   "cell_type": "raw",
   "id": "dd2d18a9",
   "metadata": {},
   "source": [
    "re.escape()\n",
    "Return string with all non-alphanumerics backslashed, \n",
    "this is useful if you want to match an arbitrary literal string that may have regular expression metacharacters in it."
   ]
  },
  {
   "cell_type": "raw",
   "id": "1355cb32",
   "metadata": {},
   "source": [
    "re.search().....once(just first match) create a match object\n",
    "This method either returns None (if the pattern doesn’t match), or a re.MatchObject that contains information \n",
    "about the matching part of the string. This method stops after the first match, \n",
    "so this is best suited for testing a regular expression more than extracting data."
   ]
  },
  {
   "cell_type": "raw",
   "id": "3140bbd5",
   "metadata": {},
   "source": [
    "Match Object\n",
    "A Match object contains all the information about the search and \n",
    "the result and if there is no match found then None will be returned. \n",
    "Let’s see some of the commonly used methods and attributes of the match object.\n",
    "match.re attribute returns the regular expression passed and match.string attribute returns the string passed.\n",
    "\n",
    "start() method returns the starting index of the matched substring\n",
    "\n",
    "end() method returns the ending index of the matched substring\n",
    "\n",
    "span() method returns the a tuple containing the starting and the ending index of the matched substring"
   ]
  },
  {
   "cell_type": "code",
   "execution_count": 5,
   "id": "1ac483c1",
   "metadata": {},
   "outputs": [
    {
     "name": "stdout",
     "output_type": "stream",
     "text": [
      "<re.Match object; span=(34, 40), match='portal'>\n",
      "Start Index: 34\n",
      "End Index: 40\n",
      "span: (34, 40)\n"
     ]
    }
   ],
   "source": [
    "import re\n",
    "\n",
    "s = 'GeeksforGeeks: A computer science portal for geeks'\n",
    "\n",
    "match = re.search(r'portal', s)    #match object\n",
    "print(match)\n",
    "\n",
    "print('Start Index:', match.start())\n",
    "print('End Index:', match.end())\n",
    "\n",
    "print('span:', match.span())\n"
   ]
  },
  {
   "cell_type": "raw",
   "id": "a6419395",
   "metadata": {},
   "source": [
    "# Metacharacter\n",
    "\n",
    "MetaCharacters\tDescription\n",
    "\n",
    "\\\tUsed to drop the special meaning of character following it\n",
    "\n",
    "[]\tRepresent a character class\n",
    "\n",
    "^\tMatches the beginning\n",
    "\n",
    "$\tMatches the end\n",
    "\n",
    ".\tMatches any character except newline\n",
    "\n",
    "|\tMeans OR (Matches with any of the characters separated by it.\n",
    "              \n",
    "?\tMatches zero or one occurrence\n",
    "              \n",
    "*\tAny number of occurrences (including 0 occurrences)\n",
    "              \n",
    "+\tOne or more occurrences\n",
    "              \n",
    "{}\tIndicate the number of occurrences of a preceding regex to match.\n",
    "              \n",
    "()\tEnclose a group of Regex"
   ]
  },
  {
   "cell_type": "raw",
   "id": "305e0263",
   "metadata": {},
   "source": [
    "\\\tUsed to drop the special meaning of character following it"
   ]
  },
  {
   "cell_type": "code",
   "execution_count": 6,
   "id": "17330ea9",
   "metadata": {},
   "outputs": [
    {
     "name": "stdout",
     "output_type": "stream",
     "text": [
      "<re.Match object; span=(0, 1), match='g'>\n",
      "<re.Match object; span=(5, 6), match='.'>\n"
     ]
    }
   ],
   "source": [
    "import re\n",
    "  \n",
    "s = 'geeks.forgeeks'\n",
    "  \n",
    "# without using \\\n",
    "match = re.search(r'.', s)   #  . is   metacharacter  give wrong result\n",
    "print(match)\n",
    "                    \n",
    "# using \\\n",
    "match = re.search(r'\\.', s)\n",
    "print(match)"
   ]
  },
  {
   "cell_type": "raw",
   "id": "4710dec4",
   "metadata": {},
   "source": [
    "[]\tRepresent a character class\n",
    "\n",
    "[0, 3] is sample as [0123]\n",
    "[a-c] is same as [abc]\n",
    "\n",
    "We can also invert the character class using the caret(^) symbol. For example,\n",
    "\n",
    "[^0-3] means any number except 0, 1, 2, or 3\n",
    "[^a-c] means any character except a, b, or c\n"
   ]
  },
  {
   "cell_type": "code",
   "execution_count": 28,
   "id": "cbb099ee",
   "metadata": {},
   "outputs": [
    {
     "name": "stdout",
     "output_type": "stream",
     "text": [
      "<re.Match object; span=(0, 1), match='g'>\n"
     ]
    }
   ],
   "source": [
    "import re\n",
    "  \n",
    "s = 'geeks.forgeeks'\n",
    "  \n",
    "\n",
    "match = re.search(r'[f-r]', s)    #first matches then stop\n",
    "print(match)"
   ]
  },
  {
   "cell_type": "code",
   "execution_count": 29,
   "id": "47a5979d",
   "metadata": {},
   "outputs": [
    {
     "name": "stdout",
     "output_type": "stream",
     "text": [
      "['g', 'k', 'f', 'o', 'r', 'g', 'k']\n"
     ]
    }
   ],
   "source": [
    "# printing all matches\n",
    "import re\n",
    "  \n",
    "s = 'geeks.forgeeks'\n",
    "  \n",
    "\n",
    "match = re.findall(r'[f-r]', s)    \n",
    "print(match)"
   ]
  },
  {
   "cell_type": "raw",
   "id": "6e4d9983",
   "metadata": {},
   "source": [
    "^\tMatches the beginning\n",
    "Caret (^) symbol matches the beginning of the string i.e. checks whether the string starts with the given character(s) or not. For example – \n",
    "\n",
    "^g will check if the string starts with g such as geeks, globe, girl, g, etc.\n",
    "^ge will check if the string starts with ge such as geeks, geeksforgeeks, etc."
   ]
  },
  {
   "cell_type": "code",
   "execution_count": 4,
   "id": "f01c3dc7",
   "metadata": {},
   "outputs": [
    {
     "name": "stdout",
     "output_type": "stream",
     "text": [
      "<re.Match object; span=(0, 1), match='g'>\n"
     ]
    }
   ],
   "source": [
    "import re\n",
    "  \n",
    "s = 'geeks.forgeeks'\n",
    "  \n",
    "\n",
    "match = re.search(r'^g', s)   \n",
    "print(match)"
   ]
  },
  {
   "cell_type": "raw",
   "id": "df94d399",
   "metadata": {},
   "source": [
    "$ – Dollar\n",
    "Dollar($) symbol matches the end of the string i.e checks whether the string ends with the given character(s) or not. For example – \n",
    "\n",
    "s$ will check for the string that ends with a such as geeks, ends, s, etc.\n",
    "ks$ will check for the string that ends with ks such as geeks, geeksforgeeks, ks, etc."
   ]
  },
  {
   "cell_type": "code",
   "execution_count": 7,
   "id": "5b86bce0",
   "metadata": {},
   "outputs": [
    {
     "name": "stdout",
     "output_type": "stream",
     "text": [
      "<re.Match object; span=(13, 14), match='s'>\n"
     ]
    }
   ],
   "source": [
    "import re\n",
    "  \n",
    "s = 'geeks.forgeeks'\n",
    "  \n",
    "\n",
    "match = re.search(r's$', s)   \n",
    "print(match)"
   ]
  },
  {
   "cell_type": "raw",
   "id": "efb37395",
   "metadata": {},
   "source": [
    ". – Dot\n",
    "Dot(.) symbol matches only a single character except for the newline character (\\n). For example – \n",
    "\n",
    "a.b will check for the string that contains any character at the place of the dot such as acb, acbd, abbb, etc\n",
    ".. will check if the string contains at least 2 characters"
   ]
  },
  {
   "cell_type": "code",
   "execution_count": 9,
   "id": "c17e8343",
   "metadata": {},
   "outputs": [
    {
     "name": "stdout",
     "output_type": "stream",
     "text": [
      "<re.Match object; span=(0, 2), match='ge'>\n"
     ]
    }
   ],
   "source": [
    "import re\n",
    "  \n",
    "s = 'geeks.forgeeks'\n",
    "  \n",
    "\n",
    "match = re.search(r'..', s)  #. \n",
    "print(match)"
   ]
  },
  {
   "cell_type": "raw",
   "id": "05e0cc0f",
   "metadata": {},
   "source": [
    "| – Or\n",
    "Or symbol works as the or operator meaning it checks whether the pattern before or after the or symbol is present in the string or not. For example – \n",
    "\n",
    "a|b will match any string that contains a or b such as acd, bcd, abcd, etc."
   ]
  },
  {
   "cell_type": "code",
   "execution_count": 12,
   "id": "1851af35",
   "metadata": {},
   "outputs": [
    {
     "name": "stdout",
     "output_type": "stream",
     "text": [
      "<re.Match object; span=(0, 1), match='g'>\n"
     ]
    }
   ],
   "source": [
    "import re\n",
    "  \n",
    "s = 'geeks.forgeeks geek ng'\n",
    "  \n",
    "\n",
    "match = re.search(r'g|k', s)   \n",
    "print(match)"
   ]
  },
  {
   "cell_type": "raw",
   "id": "0ebf4720",
   "metadata": {},
   "source": [
    "* – Star\n",
    "Star (*) symbol matches zero or more occurrences of the regex preceding the * symbol. For example – \n",
    "\n",
    "ab*c will be matched for the string ac, abc, abbbc, dabc, etc. but will not be matched for abdc because b is not followed by c."
   ]
  },
  {
   "cell_type": "code",
   "execution_count": null,
   "id": "d005cd5a",
   "metadata": {},
   "outputs": [],
   "source": []
  },
  {
   "cell_type": "raw",
   "id": "08c051af",
   "metadata": {},
   "source": [
    "+ – Plus\n",
    "Plus (+) symbol matches one or more occurrences of the regex preceding the + symbol. For example – \n",
    "\n",
    "ab+c will be matched for the string abc, abbc, dabc, but will not be matched for ac, abdc because there is no b in ac and d is not followed by c in abdc."
   ]
  },
  {
   "cell_type": "raw",
   "id": "2e1e53fe",
   "metadata": {},
   "source": [
    "{m, n} – Braces\n",
    "Braces matches any repetitions preceding regex from m to n both inclusive. For example – \n",
    "\n",
    "a{2, 4} will be matched for the string aaab, baaaac, gaad, but will not be matched for strings like abc, bc because there is only one a or no a in both the cases"
   ]
  },
  {
   "cell_type": "raw",
   "id": "38a6c176",
   "metadata": {},
   "source": [
    "(<regex>) – Group\n",
    "Group symbol is used to group sub-patterns. For example – \n",
    "(a|b)cd will match for strings like acd, abcd, gacd, etc."
   ]
  },
  {
   "cell_type": "markdown",
   "id": "1483cafe",
   "metadata": {},
   "source": [
    "# sequence character"
   ]
  },
  {
   "cell_type": "raw",
   "id": "ddc9c5f6",
   "metadata": {},
   "source": [
    "Special Sequence\tDescription\tExamples\n",
    "\n",
    "\\A\tMatches if the string begins with the given character\t\\Afor \tfor geeks\n",
    "for the world\n",
    "\n",
    "\\b\tMatches if the word begins or ends with the given character. \\b(string) will check for the beginning of the word and (string)\\b will check for the ending of the word.\t\\bge\tgeeks\n",
    "get\n",
    "\n",
    "\\B\tIt is the opposite of the \\b i.e. the string should not start or end with the given regex.\t\\Bge\ttogether\n",
    "forge\n",
    "\n",
    "\\d\tMatches any decimal digit, this is equivalent to the set class [0-9]\t\\d\t123\n",
    "gee1\n",
    "\n",
    "\\D\tMatches any non-digit character, this is equivalent to the set class [^0-9]\t\\D\tgeeks\n",
    "geek1\n",
    "\n",
    "\\s\tMatches any whitespace character.\t\\s\tgee ks\n",
    "a bc a\n",
    "\n",
    "\\S\tMatches any non-whitespace character\t\\S\ta bd\n",
    "abcd\n",
    "\n",
    "\\w\tMatches any alphanumeric character, this is equivalent to the class [a-zA-Z0-9_].\t\\w\t123\n",
    "geeKs4\n",
    "\n",
    "\\W\tMatches any non-alphanumeric character.\t\\W\t>$\n",
    "gee<>\n",
    "\n",
    "\\Z\tMatches if the string ends with the given regex\tab\\Z\tabcdab\n",
    "abababab"
   ]
  },
  {
   "cell_type": "markdown",
   "id": "55bc2775",
   "metadata": {},
   "source": [
    "## Examples"
   ]
  },
  {
   "cell_type": "code",
   "execution_count": 12,
   "id": "0683721a",
   "metadata": {},
   "outputs": [
    {
     "name": "stdout",
     "output_type": "stream",
     "text": [
      "['123456789', '987654321']\n"
     ]
    }
   ],
   "source": [
    "# A Python program to demonstrate working of\n",
    "# findall()\n",
    "import re\n",
    "\n",
    "# A sample text string where regular expression\n",
    "# is searched.\n",
    "string = \"\"\"Hello my Number is 123456789 and\n",
    "\t\t\tmy friend's number is 987654321\"\"\"\n",
    "\n",
    "# A sample regular expression to find digits.\n",
    "regex = '\\d+'\n",
    "\n",
    "match = re.findall(regex, string)\n",
    "print(match)\n",
    "\n",
    "\n",
    "\n"
   ]
  },
  {
   "cell_type": "code",
   "execution_count": 10,
   "id": "ce08bbe5",
   "metadata": {},
   "outputs": [
    {
     "name": "stdout",
     "output_type": "stream",
     "text": [
      "['e', 'a', 'd', 'b', 'e', 'a']\n"
     ]
    }
   ],
   "source": [
    "# Module Regular Expression is imported\n",
    "# using __import__().\n",
    "import re\n",
    "\n",
    "# compile() creates regular expression\n",
    "# character class [a-e],\n",
    "# which is equivalent to [abcde].\n",
    "# class [abcde] will match with string with\n",
    "# 'a', 'b', 'c', 'd', 'e'.\n",
    "p = re.compile('[a-e]')\n",
    "\n",
    "# findall() searches for the Regular Expression\n",
    "# and return a list upon finding\n",
    "print(p.findall(\"Aye, said Mr. Gibenson Stark\"))\n"
   ]
  },
  {
   "cell_type": "code",
   "execution_count": 13,
   "id": "30a9b449",
   "metadata": {},
   "outputs": [
    {
     "name": "stdout",
     "output_type": "stream",
     "text": [
      "['1', '1', '4', '1', '8', '8', '6']\n",
      "['11', '4', '1886']\n"
     ]
    }
   ],
   "source": [
    "import re\n",
    "\n",
    "# \\d is equivalent to [0-9].\n",
    "p = re.compile('\\d')\n",
    "print(p.findall(\"I went to him at 11 A.M. on 4th July 1886\"))\n",
    "\n",
    "# \\d+ will match a group on [0-9], group\n",
    "# of one or greater size\n",
    "p = re.compile('\\d+')\n",
    "print(p.findall(\"I went to him at 11 A.M. on 4th July 1886\"))\n"
   ]
  },
  {
   "cell_type": "code",
   "execution_count": 14,
   "id": "48f100e2",
   "metadata": {},
   "outputs": [
    {
     "name": "stdout",
     "output_type": "stream",
     "text": [
      "['H', 'e', 's', 'a', 'i', 'd', 'i', 'n', 's', 'o', 'm', 'e', '_', 'l', 'a', 'n', 'g']\n",
      "['I', 'went', 'to', 'him', 'at', '11', 'A', 'M', 'he', 'said', 'in', 'some_language']\n",
      "[' ', ' ', '*', '*', '*', ' ', ' ', '.']\n"
     ]
    }
   ],
   "source": [
    "import re\n",
    "\n",
    "# \\w is equivalent to [a-zA-Z0-9_].\n",
    "p = re.compile('\\w')\n",
    "print(p.findall(\"He said * in some_lang.\"))\n",
    "\n",
    "# \\w+ matches to group of alphanumeric character.\n",
    "p = re.compile('\\w+')\n",
    "print(p.findall(\"I went to him at 11 A.M., he \\\n",
    "said *** in some_language.\"))\n",
    "\n",
    "# \\W matches to non alphanumeric characters.\n",
    "p = re.compile('\\W')\n",
    "print(p.findall(\"he said *** in some_language.\"))\n"
   ]
  },
  {
   "cell_type": "code",
   "execution_count": 15,
   "id": "5831ce71",
   "metadata": {},
   "outputs": [
    {
     "name": "stdout",
     "output_type": "stream",
     "text": [
      "['ab', 'abb', 'a', 'abbb']\n"
     ]
    }
   ],
   "source": [
    "import re\n",
    "\n",
    "# '*' replaces the no. of occurrence\n",
    "# of a character.\n",
    "p = re.compile('ab*')\n",
    "print(p.findall(\"ababbaabbb\"))\n"
   ]
  },
  {
   "cell_type": "code",
   "execution_count": 1,
   "id": "e618e572",
   "metadata": {},
   "outputs": [
    {
     "name": "stdout",
     "output_type": "stream",
     "text": [
      "['Words', 'words', 'Words']\n",
      "['Word', 's', 'words', 'Words']\n",
      "['On', '12th', 'Jan', '2016', 'at', '11', '02', 'AM']\n",
      "['On ', 'th Jan ', ', at ', ':', ' AM']\n"
     ]
    }
   ],
   "source": [
    "from re import split\n",
    "#  re.split(pattern, string, maxsplit=0, flags=0)\n",
    "# '\\W+' denotes Non-Alphanumeric Characters\n",
    "# or group of characters Upon finding ','\n",
    "# or whitespace ' ', the split(), splits the\n",
    "# string from that point\n",
    "print(split('\\W+', 'Words words  Words'))\n",
    "print(split('\\W+', \"Word's words Words\"))\n",
    "\n",
    "# Here ':', ' ' ,',' are not AlphaNumeric thus,\n",
    "# the point where splitting occurs\n",
    "print(split('\\W+', 'On 12th Jan 2016, at 11:02 AM'))\n",
    "\n",
    "# '\\d+' denotes Numeric Characters or group of\n",
    "# characters Splitting occurs at '12', '2016',\n",
    "# '11', '02' only\n",
    "print(split('\\d+', 'On 12th Jan 2016, at 11:02 AM'))\n"
   ]
  },
  {
   "cell_type": "code",
   "execution_count": 3,
   "id": "0e777027",
   "metadata": {},
   "outputs": [
    {
     "name": "stdout",
     "output_type": "stream",
     "text": [
      "['On ', 'th Jan 2016, at 11:02 AM']\n",
      "['', 'y, ', 'oy oh ', 'oy, ', 'om', ' h', 'r', '']\n",
      "['A', 'y, Boy oh ', 'oy, ', 'om', ' h', 'r', '']\n"
     ]
    }
   ],
   "source": [
    "import re\n",
    "\n",
    "# Splitting will occurs only once, at\n",
    "# '12', returned list will have length 2\n",
    "print(re.split('\\d+', 'On 12th Jan 2016, at 11:02 AM', 1))\n",
    "\n",
    "# 'Boy' and 'boy' will be treated same when\n",
    "# flags = re.IGNORECASE\n",
    "print(re.split('[a-f]+', 'Aey, Boy oh boy, come here', flags=re.IGNORECASE))\n",
    "print(re.split('[a-f]+', 'Aey, Boy oh boy, come here'))\n"
   ]
  },
  {
   "cell_type": "code",
   "execution_count": 8,
   "id": "a0876efd",
   "metadata": {},
   "outputs": [
    {
     "name": "stdout",
     "output_type": "stream",
     "text": [
      "['T', 'h', 'e', ' ', 'r', 'a', 'i', 'n', ' ', 'i', 'n', ' ', 'S', 'p', 'a', 'i', 'n', ' ', 'i', 't', 's', ' ']\n",
      "Yes, there is at least one match!\n"
     ]
    }
   ],
   "source": [
    "import re\n",
    "\n",
    "txt = \"The rain in Spain its 1245\"\n",
    "\n",
    "#Return a match at every no-digit character:\n",
    "\n",
    "x = re.findall(\"\\D\", txt)\n",
    "# x = re.findall(\"\\D{2}\", txt)\n",
    "\n",
    "print(x)\n",
    "\n",
    "if x:\n",
    "  print(\"Yes, there is at least one match!\")\n",
    "else:\n",
    "  print(\"No match\")"
   ]
  },
  {
   "cell_type": "code",
   "execution_count": 9,
   "id": "6567145c",
   "metadata": {},
   "outputs": [
    {
     "name": "stdout",
     "output_type": "stream",
     "text": [
      "me \n"
     ]
    }
   ],
   "source": [
    "import re\n",
    "\n",
    "s = \"Welcome to GeeksForGeeks\"\n",
    "\n",
    "# here x is the match object\n",
    "res = re.search(r\"\\D{2} t \", s)\n",
    "\n",
    "print(res.group())\n"
   ]
  },
  {
   "cell_type": "code",
   "execution_count": 19,
   "id": "973f60e6",
   "metadata": {},
   "outputs": [
    {
     "name": "stdout",
     "output_type": "stream",
     "text": [
      "11\n",
      "14\n",
      "(11, 14)\n"
     ]
    }
   ],
   "source": [
    "import re\n",
    "\n",
    "s = \"Welcome to GeeksForGeeks\"\n",
    "\n",
    "# here x is the match object\n",
    "res = re.search(r\"\\bGee\", s)\n",
    "\n",
    "print(res.start())\n",
    "print(res.end())\n",
    "print(res.span())\n"
   ]
  },
  {
   "cell_type": "code",
   "execution_count": 20,
   "id": "88abda08",
   "metadata": {},
   "outputs": [
    {
     "name": "stdout",
     "output_type": "stream",
     "text": [
      "re.compile('\\\\bG')\n",
      "Welcome to GeeksForGeeks\n"
     ]
    }
   ],
   "source": [
    "import re\n",
    "\n",
    "s = \"Welcome to GeeksForGeeks\"\n",
    "\n",
    "# here x is the match object\n",
    "res = re.search(r\"\\bG\", s)\n",
    "\n",
    "print(res.re)\n",
    "print(res.string)\n"
   ]
  },
  {
   "cell_type": "code",
   "execution_count": 21,
   "id": "80df2d79",
   "metadata": {},
   "outputs": [
    {
     "name": "stdout",
     "output_type": "stream",
     "text": [
      "Match at index 14, 21\n",
      "Full match: June 24\n",
      "Month: June\n",
      "Day: 24\n"
     ]
    }
   ],
   "source": [
    "# A Python program to demonstrate working of re.match().\n",
    "import re\n",
    "\n",
    "# Lets use a regular expression to match a date string\n",
    "# in the form of Month name followed by day number\n",
    "regex = r\"([a-zA-Z]+) (\\d+)\"\n",
    "\n",
    "match = re.search(regex, \"I was born on June 24\")\n",
    "\n",
    "if match != None:\n",
    "\n",
    "\t# We reach here when the expression \"([a-zA-Z]+) (\\d+)\"\n",
    "\t# matches the date string.\n",
    "\n",
    "\t# This will print [14, 21), since it matches at index 14\n",
    "\t# and ends at 21.\n",
    "\tprint (\"Match at index %s, %s\" % (match.start(), match.end()))\n",
    "\n",
    "\t# We us group() method to get all the matches and\n",
    "\t# captured groups. The groups contain the matched values.\n",
    "\t# In particular:\n",
    "\t# match.group(0) always returns the fully matched string\n",
    "\t# match.group(1) match.group(2), ... return the capture\n",
    "\t# groups in order from left to right in the input string\n",
    "\t# match.group() is equivalent to match.group(0)\n",
    "\n",
    "\t# So this will print \"June 24\"\n",
    "\tprint (\"Full match: %s\" % (match.group(0)))\n",
    "\n",
    "\t# So this will print \"June\"\n",
    "\tprint (\"Month: %s\" % (match.group(1)))\n",
    "\n",
    "\t# So this will print \"24\"\n",
    "\tprint (\"Day: %s\" % (match.group(2)))\n",
    "\n",
    "else:\n",
    "\tprint (\"The regex pattern does not match.\")\n"
   ]
  },
  {
   "cell_type": "code",
   "execution_count": 11,
   "id": "c69413ee",
   "metadata": {},
   "outputs": [
    {
     "name": "stdout",
     "output_type": "stream",
     "text": [
      "This\\ is\\ Awseome\\ even\\ 1\\ AM\n",
      "I\\ Asked\\ what\\ is\\ this\\ \\[a\\-9\\],\\ he\\ said\\ \\\t\\ \\^WoW\n"
     ]
    }
   ],
   "source": [
    "import re\n",
    "\n",
    "# escape() returns a string with BackSlash '\\',\n",
    "# before every Non-Alphanumeric Character\n",
    "# In 1st case only ' ', is not alphanumeric\n",
    "# In 2nd case, ' ', caret '^', '-', '[]', '\\'\n",
    "# are not alphanumeric\n",
    "print(re.escape(\"This is Awseome even 1 AM\"))\n",
    "print(re.escape(\"I Asked what is this [a-9], he said \\t ^WoW\"))\n"
   ]
  },
  {
   "cell_type": "code",
   "execution_count": 2,
   "id": "8e29a3ef",
   "metadata": {},
   "outputs": [
    {
     "name": "stdout",
     "output_type": "stream",
     "text": [
      "('S~*ject has Uber booked already', 1)\n",
      "('S~*ject has ~*er booked already', 2)\n",
      "2\n",
      "S~*ject has ~*er booked already\n"
     ]
    }
   ],
   "source": [
    "import re\n",
    "\n",
    "# print(re.sub('ub', '~*', 'Subject has Uber booked already'))\n",
    "print(re.subn('ub', '~*', 'Subject has Uber booked already'))\n",
    "\n",
    "\n",
    "t = re.subn('ub', '~*', 'Subject has Uber booked already',flags=re.IGNORECASE)\n",
    "print(t)\n",
    "print(len(t))\n",
    "\n",
    "# This will give same output as sub() would have\n",
    "print(t[0])\n"
   ]
  },
  {
   "cell_type": "code",
   "execution_count": 24,
   "id": "0ef0d74e",
   "metadata": {},
   "outputs": [
    {
     "name": "stdout",
     "output_type": "stream",
     "text": [
      "('S~*ject has Uber booked already', 1)\n",
      "('S~*ject has ~*er booked already', 2)\n",
      "2\n",
      "S~*ject has ~*er booked already\n"
     ]
    }
   ],
   "source": [
    "import re\n",
    "\n",
    "print(re.subn('ub', '~*', 'Subject has Uber booked already'))\n",
    "\n",
    "t = re.subn('ub', '~*', 'Subject has Uber booked already',\n",
    "\t\t\tflags=re.IGNORECASE)\n",
    "print(t)\n",
    "print(len(t))\n",
    "\n",
    "# This will give same output as sub() would have\n",
    "print(t[0])\n"
   ]
  },
  {
   "cell_type": "markdown",
   "id": "78892ac5",
   "metadata": {},
   "source": [
    "# New-----EDKA"
   ]
  },
  {
   "cell_type": "markdown",
   "id": "5903c8fb",
   "metadata": {},
   "source": [
    "# RE"
   ]
  },
  {
   "cell_type": "code",
   "execution_count": 3,
   "id": "bc0d55a6",
   "metadata": {},
   "outputs": [],
   "source": [
    "import re"
   ]
  },
  {
   "cell_type": "code",
   "execution_count": 19,
   "id": "2f33318b",
   "metadata": {},
   "outputs": [],
   "source": [
    "name='''Jay is 22 and Tarun is 33\n",
    "       Ganeh is 44 and Jagdish is 21'''"
   ]
  },
  {
   "cell_type": "code",
   "execution_count": 20,
   "id": "3a4859a6",
   "metadata": {},
   "outputs": [
    {
     "name": "stdout",
     "output_type": "stream",
     "text": [
      "Jay is 22 and Tarun is 33\n",
      "       Ganeh is 44 and Jagdish is 21\n"
     ]
    }
   ],
   "source": [
    "print(name)"
   ]
  },
  {
   "cell_type": "code",
   "execution_count": 26,
   "id": "b96d0ede",
   "metadata": {},
   "outputs": [
    {
     "data": {
      "text/plain": [
       "['Jay', 'Tarun', 'Ganeh', 'Jagdish']"
      ]
     },
     "execution_count": 26,
     "metadata": {},
     "output_type": "execute_result"
    }
   ],
   "source": [
    "re.findall(r'[A-Z][a-z]*',name)"
   ]
  },
  {
   "cell_type": "code",
   "execution_count": 38,
   "id": "62e8ec5c",
   "metadata": {},
   "outputs": [
    {
     "data": {
      "text/plain": [
       "['Jay', 'Tarun', 'Ganeh', 'Jagdish']"
      ]
     },
     "execution_count": 38,
     "metadata": {},
     "output_type": "execute_result"
    }
   ],
   "source": [
    "re.findall(r'[A-Z][a-z]+',name)"
   ]
  },
  {
   "cell_type": "code",
   "execution_count": 39,
   "id": "36ececed",
   "metadata": {},
   "outputs": [
    {
     "data": {
      "text/plain": [
       "['Jay',\n",
       " '',\n",
       " 'is',\n",
       " '',\n",
       " '',\n",
       " '',\n",
       " '',\n",
       " 'and',\n",
       " '',\n",
       " 'Tarun',\n",
       " '',\n",
       " 'is',\n",
       " '',\n",
       " '',\n",
       " '',\n",
       " '',\n",
       " '',\n",
       " '',\n",
       " '',\n",
       " '',\n",
       " '',\n",
       " '',\n",
       " '',\n",
       " 'Ganeh',\n",
       " '',\n",
       " 'is',\n",
       " '',\n",
       " '',\n",
       " '',\n",
       " '',\n",
       " 'and',\n",
       " '',\n",
       " 'Jagdish',\n",
       " '',\n",
       " 'is',\n",
       " '',\n",
       " '',\n",
       " '',\n",
       " '']"
      ]
     },
     "execution_count": 39,
     "metadata": {},
     "output_type": "execute_result"
    }
   ],
   "source": [
    "re.findall(r'[A-Za-z]*',name)"
   ]
  },
  {
   "cell_type": "code",
   "execution_count": 40,
   "id": "668bae5b",
   "metadata": {},
   "outputs": [
    {
     "data": {
      "text/plain": [
       "['Jay', 'is', 'and', 'Tarun', 'is', 'Ganeh', 'is', 'and', 'Jagdish', 'is']"
      ]
     },
     "execution_count": 40,
     "metadata": {},
     "output_type": "execute_result"
    }
   ],
   "source": [
    "re.findall(r'[A-Za-z]+',name)"
   ]
  },
  {
   "cell_type": "code",
   "execution_count": 29,
   "id": "1f6da008",
   "metadata": {},
   "outputs": [],
   "source": [
    "new='''abhi abhishek abhinav abhi data is more'''"
   ]
  },
  {
   "cell_type": "code",
   "execution_count": 31,
   "id": "8632971e",
   "metadata": {},
   "outputs": [
    {
     "data": {
      "text/plain": [
       "['abhi', 'abhishek', 'abhinav', 'abhi']"
      ]
     },
     "execution_count": 31,
     "metadata": {},
     "output_type": "execute_result"
    }
   ],
   "source": [
    "re.findall(r'abhi[a-z]*',new)"
   ]
  },
  {
   "cell_type": "code",
   "execution_count": null,
   "id": "22e4f669",
   "metadata": {},
   "outputs": [],
   "source": [
    "#"
   ]
  },
  {
   "cell_type": "code",
   "execution_count": 34,
   "id": "b97b678b",
   "metadata": {},
   "outputs": [],
   "source": [
    "text='''abhihek abhi ABHISHEK abhinav'''"
   ]
  },
  {
   "cell_type": "code",
   "execution_count": 37,
   "id": "a2d684b7",
   "metadata": {},
   "outputs": [
    {
     "data": {
      "text/plain": [
       "['abhihek', 'abhi', 'ABHISHEK', 'abhinav']"
      ]
     },
     "execution_count": 37,
     "metadata": {},
     "output_type": "execute_result"
    }
   ],
   "source": [
    "re.findall(r'abhi[a-z]*',text,flags=re.I)"
   ]
  },
  {
   "cell_type": "code",
   "execution_count": null,
   "id": "433c96e5",
   "metadata": {},
   "outputs": [],
   "source": []
  },
  {
   "cell_type": "code",
   "execution_count": null,
   "id": "85d07e2a",
   "metadata": {},
   "outputs": [],
   "source": []
  },
  {
   "cell_type": "code",
   "execution_count": 48,
   "id": "13bc6180",
   "metadata": {},
   "outputs": [],
   "source": [
    "gt='''XGHB- i a best way to do some GTR i good a well '''"
   ]
  },
  {
   "cell_type": "code",
   "execution_count": 49,
   "id": "ed5c720e",
   "metadata": {},
   "outputs": [
    {
     "data": {
      "text/plain": [
       "['X', 'G', 'H', 'B', 'G', 'T', 'R']"
      ]
     },
     "execution_count": 49,
     "metadata": {},
     "output_type": "execute_result"
    }
   ],
   "source": [
    "re.findall(r'[A-Z]',gt)"
   ]
  },
  {
   "cell_type": "code",
   "execution_count": 50,
   "id": "e76c9a16",
   "metadata": {},
   "outputs": [
    {
     "data": {
      "text/plain": [
       "['XGHB',\n",
       " '',\n",
       " '',\n",
       " '',\n",
       " '',\n",
       " '',\n",
       " '',\n",
       " '',\n",
       " '',\n",
       " '',\n",
       " '',\n",
       " '',\n",
       " '',\n",
       " '',\n",
       " '',\n",
       " '',\n",
       " '',\n",
       " '',\n",
       " '',\n",
       " '',\n",
       " '',\n",
       " '',\n",
       " '',\n",
       " '',\n",
       " '',\n",
       " '',\n",
       " '',\n",
       " 'GTR',\n",
       " '',\n",
       " '',\n",
       " '',\n",
       " '',\n",
       " '',\n",
       " '',\n",
       " '',\n",
       " '',\n",
       " '',\n",
       " '',\n",
       " '',\n",
       " '',\n",
       " '',\n",
       " '',\n",
       " '',\n",
       " '']"
      ]
     },
     "execution_count": 50,
     "metadata": {},
     "output_type": "execute_result"
    }
   ],
   "source": [
    "re.findall(r'[A-Z]*',gt)"
   ]
  },
  {
   "cell_type": "code",
   "execution_count": 51,
   "id": "aab10d1e",
   "metadata": {},
   "outputs": [
    {
     "data": {
      "text/plain": [
       "['XGHB', 'GTR']"
      ]
     },
     "execution_count": 51,
     "metadata": {},
     "output_type": "execute_result"
    }
   ],
   "source": [
    "re.findall(r'[A-Z]+',gt)"
   ]
  },
  {
   "cell_type": "code",
   "execution_count": 52,
   "id": "94cc9609",
   "metadata": {},
   "outputs": [
    {
     "data": {
      "text/plain": [
       "['XGHB-', 'GTR ']"
      ]
     },
     "execution_count": 52,
     "metadata": {},
     "output_type": "execute_result"
    }
   ],
   "source": [
    "re.findall(r'[A-Z]+[-| ]',gt)"
   ]
  },
  {
   "cell_type": "markdown",
   "id": "63c4d592",
   "metadata": {},
   "source": [
    "# "
   ]
  },
  {
   "cell_type": "code",
   "execution_count": 10,
   "id": "51110223",
   "metadata": {},
   "outputs": [],
   "source": [
    "str1='''The name is suraj and mon no-9834176587\n",
    "       and alterntive no-9975323968 and home no-98608460788'''"
   ]
  },
  {
   "cell_type": "code",
   "execution_count": 11,
   "id": "14bab298",
   "metadata": {},
   "outputs": [
    {
     "data": {
      "text/plain": [
       "['no-9834176587', 'no-9975323968', 'no-98608460788']"
      ]
     },
     "execution_count": 11,
     "metadata": {},
     "output_type": "execute_result"
    }
   ],
   "source": [
    "re.findall(r'no-[0-9]*',str1)"
   ]
  },
  {
   "cell_type": "code",
   "execution_count": 12,
   "id": "c1bbf139",
   "metadata": {},
   "outputs": [
    {
     "data": {
      "text/plain": [
       "['no-9834176587', 'no-9975323968', 'no-98608460788']"
      ]
     },
     "execution_count": 12,
     "metadata": {},
     "output_type": "execute_result"
    }
   ],
   "source": [
    "re.findall(r'no-[0-9]+',str1)"
   ]
  },
  {
   "cell_type": "code",
   "execution_count": 13,
   "id": "fd0c4e32",
   "metadata": {},
   "outputs": [
    {
     "data": {
      "text/plain": [
       "['no-9834176587', 'no-9975323968', 'no-9860846078']"
      ]
     },
     "execution_count": 13,
     "metadata": {},
     "output_type": "execute_result"
    }
   ],
   "source": [
    "re.findall(r'no-[0-9]{1,10}',str1)"
   ]
  },
  {
   "cell_type": "code",
   "execution_count": 14,
   "id": "05ebf10a",
   "metadata": {},
   "outputs": [
    {
     "data": {
      "text/plain": [
       "['no-9834176587', 'no-9975323968', 'no-9860846078']"
      ]
     },
     "execution_count": 14,
     "metadata": {},
     "output_type": "execute_result"
    }
   ],
   "source": [
    "re.findall(r'no-[0-9]{10,10}',str1)"
   ]
  },
  {
   "cell_type": "code",
   "execution_count": 16,
   "id": "6e597295",
   "metadata": {},
   "outputs": [
    {
     "data": {
      "text/plain": [
       "['no-9834176587', 'no-9975323968', 'no-98608460788']"
      ]
     },
     "execution_count": 16,
     "metadata": {},
     "output_type": "execute_result"
    }
   ],
   "source": [
    "re.findall(r'no-\\d*',str1)"
   ]
  },
  {
   "cell_type": "code",
   "execution_count": 18,
   "id": "dd40ae6d",
   "metadata": {},
   "outputs": [
    {
     "data": {
      "text/plain": [
       "['no-9834176587', 'no-9975323968', 'no-98608460788']"
      ]
     },
     "execution_count": 18,
     "metadata": {},
     "output_type": "execute_result"
    }
   ],
   "source": [
    "re.findall(r'no-\\d*',str1)"
   ]
  },
  {
   "cell_type": "code",
   "execution_count": 1,
   "id": "4fa37e14",
   "metadata": {},
   "outputs": [
    {
     "name": "stdout",
     "output_type": "stream",
     "text": [
      "<re.Match object; span=(14, 35), match='madhuri7102@gmail.com'>\n"
     ]
    }
   ],
   "source": [
    "#Email_ID\n",
    "mystr = \"My mail id is madhuri7102@gmail.com\"\n",
    "import re\n",
    "patt = re.compile(r'\\S+@\\S+')   #\\S matches in whitespace character\n",
    "matches = patt.finditer(mystr)\n",
    "for i in matches:\n",
    "    print(i)"
   ]
  },
  {
   "cell_type": "code",
   "execution_count": null,
   "id": "1dd14dc5",
   "metadata": {},
   "outputs": [],
   "source": []
  }
 ],
 "metadata": {
  "kernelspec": {
   "display_name": "Python 3",
   "language": "python",
   "name": "python3"
  },
  "language_info": {
   "codemirror_mode": {
    "name": "ipython",
    "version": 3
   },
   "file_extension": ".py",
   "mimetype": "text/x-python",
   "name": "python",
   "nbconvert_exporter": "python",
   "pygments_lexer": "ipython3",
   "version": "3.8.8"
  }
 },
 "nbformat": 4,
 "nbformat_minor": 5
}
