{
 "cells": [
  {
   "cell_type": "markdown",
   "id": "c606ce96",
   "metadata": {},
   "source": [
    "# iterators"
   ]
  },
  {
   "cell_type": "markdown",
   "id": "2daa7b3a",
   "metadata": {},
   "source": [
    "An iterator is an object that contains a countable number of values.\n",
    "\n",
    "An iterator is an object that can be iterated upon, meaning that you can traverse through all the values.\n",
    "\n",
    "Technically, in Python, an iterator is an object which implements the iterator protocol, which consist of the methods __iter__() and __next__()."
   ]
  },
  {
   "cell_type": "code",
   "execution_count": null,
   "id": "96ec6f4e",
   "metadata": {},
   "outputs": [],
   "source": []
  },
  {
   "cell_type": "markdown",
   "id": "70606314",
   "metadata": {},
   "source": [
    "Iterator in python is an object that is used to iterate over iterable objects like lists, tuples, dicts, and sets. \n",
    "The iterator object is initialized using the iter() method. It uses the next() method for iteration"
   ]
  },
  {
   "cell_type": "markdown",
   "id": "4fd0ca16",
   "metadata": {},
   "source": [
    "__iter(iterable)__ method that is called for the initialization of an iterator. This returns an iterator object\n",
    "\n",
    "\n",
    "next ( __next__ in Python 3) The next method returns the next value for the iterable. \n",
    "When we use a for loop to traverse any iterable object, internally it uses the iter() method to get an iterator object which further uses next() method to iterate over. \n",
    "This method raises a StopIteration to signal the end of the iteration."
   ]
  },
  {
   "cell_type": "code",
   "execution_count": 33,
   "id": "77925596",
   "metadata": {},
   "outputs": [
    {
     "name": "stdout",
     "output_type": "stream",
     "text": [
      "apple\n",
      "banana\n",
      "cherry\n"
     ]
    }
   ],
   "source": [
    "mytuple = (\"apple\", \"banana\", \"cherry\")\n",
    "myit = iter(mytuple)\n",
    "\n",
    "print(next(myit))\n",
    "print(next(myit))\n",
    "print(next(myit))"
   ]
  },
  {
   "cell_type": "markdown",
   "id": "544f635a",
   "metadata": {},
   "source": [
    "Even strings are iterable objects, and can return an iterator:"
   ]
  },
  {
   "cell_type": "code",
   "execution_count": 34,
   "id": "da183918",
   "metadata": {},
   "outputs": [
    {
     "name": "stdout",
     "output_type": "stream",
     "text": [
      "b\n",
      "a\n",
      "n\n",
      "a\n",
      "n\n",
      "a\n"
     ]
    }
   ],
   "source": [
    "mystr = \"banana\"\n",
    "myit = iter(mystr)\n",
    "\n",
    "print(next(myit))\n",
    "print(next(myit))\n",
    "print(next(myit))\n",
    "print(next(myit))\n",
    "print(next(myit))\n",
    "print(next(myit))"
   ]
  },
  {
   "cell_type": "markdown",
   "id": "38572ab1",
   "metadata": {},
   "source": [
    "for loop"
   ]
  },
  {
   "cell_type": "code",
   "execution_count": 36,
   "id": "c1c88c79",
   "metadata": {},
   "outputs": [
    {
     "name": "stdout",
     "output_type": "stream",
     "text": [
      "apple\n",
      "banana\n",
      "cherry\n"
     ]
    }
   ],
   "source": [
    "#for loop\n",
    "\n",
    "mytuple = (\"apple\", \"banana\", \"cherry\")\n",
    "\n",
    "for x in mytuple:\n",
    "  print(x)\n"
   ]
  },
  {
   "cell_type": "code",
   "execution_count": 37,
   "id": "6d4ae9dd",
   "metadata": {},
   "outputs": [
    {
     "name": "stdout",
     "output_type": "stream",
     "text": [
      "b\n",
      "a\n",
      "n\n",
      "a\n",
      "n\n",
      "a\n"
     ]
    }
   ],
   "source": [
    "mystr = \"banana\"\n",
    "\n",
    "for x in mystr:\n",
    "  print(x)\n"
   ]
  },
  {
   "cell_type": "markdown",
   "id": "f03566bb",
   "metadata": {},
   "source": [
    "# Generators and yielding "
   ]
  },
  {
   "cell_type": "code",
   "execution_count": 1,
   "id": "7f312f19",
   "metadata": {},
   "outputs": [
    {
     "name": "stdout",
     "output_type": "stream",
     "text": [
      "1\n",
      "2\n",
      "3\n",
      "a\n"
     ]
    }
   ],
   "source": [
    "# for the first time it will yield 1 \n",
    "# for the second time it will yield 2 \n",
    "\n",
    "def simple_generator():\n",
    "    yield 1\n",
    "    yield 2\n",
    "    yield 3\n",
    "    yield 'a'\n",
    "    \n",
    "for i in simple_generator():\n",
    "    print(i)"
   ]
  },
  {
   "cell_type": "code",
   "execution_count": 1,
   "id": "55147c61",
   "metadata": {},
   "outputs": [
    {
     "name": "stdout",
     "output_type": "stream",
     "text": [
      "1\n"
     ]
    }
   ],
   "source": [
    "def simple_generator():\n",
    "    yield 1\n",
    "    yield 2\n",
    "    yield 3\n",
    "    yield 'a'\n",
    "    \n",
    "x=simple_generator()\n",
    "\n",
    "print(next(x))"
   ]
  },
  {
   "cell_type": "code",
   "execution_count": 9,
   "id": "9ab47b16",
   "metadata": {},
   "outputs": [
    {
     "name": "stdout",
     "output_type": "stream",
     "text": [
      "<class 'generator'>\n",
      "Spruha\n",
      "Madhuri\n"
     ]
    }
   ],
   "source": [
    "def m():\n",
    "   yield 'Spruha'\n",
    "   yield 'Madhuri'\n",
    "g = m()\n",
    "print(type(g))\n",
    "print(next(g))\n",
    "print(next(g))"
   ]
  },
  {
   "cell_type": "code",
   "execution_count": 3,
   "id": "cc86c6cb",
   "metadata": {},
   "outputs": [
    {
     "name": "stdout",
     "output_type": "stream",
     "text": [
      "2\n"
     ]
    }
   ],
   "source": [
    "print(next(x))"
   ]
  },
  {
   "cell_type": "code",
   "execution_count": 4,
   "id": "1ef87625",
   "metadata": {},
   "outputs": [
    {
     "name": "stdout",
     "output_type": "stream",
     "text": [
      "3\n"
     ]
    }
   ],
   "source": [
    "print(next(x))"
   ]
  },
  {
   "cell_type": "code",
   "execution_count": 5,
   "id": "8af7c09d",
   "metadata": {},
   "outputs": [
    {
     "name": "stdout",
     "output_type": "stream",
     "text": [
      "a\n"
     ]
    }
   ],
   "source": [
    "print(next(x))"
   ]
  },
  {
   "cell_type": "code",
   "execution_count": 6,
   "id": "9a532360",
   "metadata": {},
   "outputs": [
    {
     "ename": "StopIteration",
     "evalue": "",
     "output_type": "error",
     "traceback": [
      "\u001b[1;31m---------------------------------------------------------------------------\u001b[0m",
      "\u001b[1;31mStopIteration\u001b[0m                             Traceback (most recent call last)",
      "\u001b[1;32m<ipython-input-6-ff675a2ee99e>\u001b[0m in \u001b[0;36m<module>\u001b[1;34m\u001b[0m\n\u001b[1;32m----> 1\u001b[1;33m \u001b[0mprint\u001b[0m\u001b[1;33m(\u001b[0m\u001b[0mnext\u001b[0m\u001b[1;33m(\u001b[0m\u001b[0mx\u001b[0m\u001b[1;33m)\u001b[0m\u001b[1;33m)\u001b[0m\u001b[1;33m\u001b[0m\u001b[1;33m\u001b[0m\u001b[0m\n\u001b[0m",
      "\u001b[1;31mStopIteration\u001b[0m: "
     ]
    }
   ],
   "source": [
    "print(next(x))"
   ]
  },
  {
   "cell_type": "code",
   "execution_count": 7,
   "id": "b66111cd",
   "metadata": {},
   "outputs": [
    {
     "name": "stdout",
     "output_type": "stream",
     "text": [
      "1\n",
      "a\n",
      "2\n",
      "b\n"
     ]
    }
   ],
   "source": [
    "def simple_generator():\n",
    "    yield 1\n",
    "    yield 'a'\n",
    "    yield 2\n",
    "    yield 'b'\n",
    "    yield 3\n",
    "    yield 'c'\n",
    "    \n",
    "x=simple_generator()\n",
    "print(next(x))\n",
    "print(next(x))\n",
    "print(next(x))\n",
    "print(next(x))"
   ]
  },
  {
   "cell_type": "code",
   "execution_count": 1,
   "id": "378b2416",
   "metadata": {},
   "outputs": [
    {
     "name": "stdout",
     "output_type": "stream",
     "text": [
      "<generator object natural_numbers at 0x00000185D860F900>\n"
     ]
    }
   ],
   "source": [
    "def natural_numbers():\n",
    "    num = 1\n",
    "    while num <= 50:\n",
    "        yield num\n",
    "        num += 1\n",
    "print(natural_numbers())"
   ]
  },
  {
   "cell_type": "code",
   "execution_count": 2,
   "id": "b39373e2",
   "metadata": {},
   "outputs": [
    {
     "name": "stdout",
     "output_type": "stream",
     "text": [
      "1\n",
      "2\n",
      "3\n"
     ]
    }
   ],
   "source": [
    "my_numbers = natural_numbers()\n",
    "print(next(my_numbers))\n",
    "print(next(my_numbers))\n",
    "print(next(my_numbers))"
   ]
  },
  {
   "cell_type": "code",
   "execution_count": 12,
   "id": "9f1fd99f",
   "metadata": {},
   "outputs": [
    {
     "name": "stdout",
     "output_type": "stream",
     "text": [
      "1\n",
      "2\n",
      "3\n"
     ]
    }
   ],
   "source": [
    "#we can use both\n",
    "\n",
    "my_numbers = natural_numbers()\n",
    "print(my_numbers.__next__())\n",
    "print(my_numbers.__next__())\n",
    "print(my_numbers.__next__())"
   ]
  },
  {
   "cell_type": "markdown",
   "id": "14f29ce5",
   "metadata": {},
   "source": [
    "# Generator with For-Loop in Python"
   ]
  },
  {
   "cell_type": "code",
   "execution_count": null,
   "id": "4678e679",
   "metadata": {},
   "outputs": [],
   "source": [
    "for number in natural_numbers():\n",
    "    print(number)"
   ]
  },
  {
   "cell_type": "code",
   "execution_count": 13,
   "id": "ec6f5ba1",
   "metadata": {},
   "outputs": [],
   "source": [
    "# Create a generator to print multiples of 12."
   ]
  },
  {
   "cell_type": "code",
   "execution_count": 3,
   "id": "1528baef",
   "metadata": {},
   "outputs": [],
   "source": [
    "def multiples():\n",
    "    num = 1\n",
    "    while True:\n",
    "        multiple = num * 12\n",
    "        yield multiple\n",
    "        num += 1\n",
    "multiple=multiples()"
   ]
  },
  {
   "cell_type": "code",
   "execution_count": 21,
   "id": "a868e5e9",
   "metadata": {},
   "outputs": [
    {
     "name": "stdout",
     "output_type": "stream",
     "text": [
      "12\n"
     ]
    }
   ],
   "source": [
    "print(next(multiple))"
   ]
  },
  {
   "cell_type": "code",
   "execution_count": 22,
   "id": "e1feb1b9",
   "metadata": {},
   "outputs": [
    {
     "name": "stdout",
     "output_type": "stream",
     "text": [
      "24\n"
     ]
    }
   ],
   "source": [
    "print(next(multiple))"
   ]
  },
  {
   "cell_type": "code",
   "execution_count": 23,
   "id": "9f474f6f",
   "metadata": {},
   "outputs": [
    {
     "name": "stdout",
     "output_type": "stream",
     "text": [
      "36\n"
     ]
    }
   ],
   "source": [
    "print(next(multiple))"
   ]
  },
  {
   "cell_type": "code",
   "execution_count": 24,
   "id": "a33fac66",
   "metadata": {},
   "outputs": [],
   "source": [
    "#  Create a generator to print the first five even natural numbers followed by the first six odd natural numbers."
   ]
  },
  {
   "cell_type": "code",
   "execution_count": 4,
   "id": "553a15da",
   "metadata": {},
   "outputs": [],
   "source": [
    "def even_odd():\n",
    "    for n in range(2, 11, 2):\n",
    "        yield n\n",
    "    for n in range(1, 11, 2):\n",
    "        yield n"
   ]
  },
  {
   "cell_type": "code",
   "execution_count": 27,
   "id": "ed49850b",
   "metadata": {},
   "outputs": [],
   "source": [
    "num=even_odd()"
   ]
  },
  {
   "cell_type": "code",
   "execution_count": 29,
   "id": "8dc7b1d4",
   "metadata": {},
   "outputs": [
    {
     "name": "stdout",
     "output_type": "stream",
     "text": [
      "2\n"
     ]
    }
   ],
   "source": [
    "print(next(num))"
   ]
  },
  {
   "cell_type": "code",
   "execution_count": 30,
   "id": "fc9a7ddf",
   "metadata": {},
   "outputs": [
    {
     "name": "stdout",
     "output_type": "stream",
     "text": [
      "4\n"
     ]
    }
   ],
   "source": [
    "print(next(num))"
   ]
  }
 ],
 "metadata": {
  "kernelspec": {
   "display_name": "Python 3",
   "language": "python",
   "name": "python3"
  },
  "language_info": {
   "codemirror_mode": {
    "name": "ipython",
    "version": 3
   },
   "file_extension": ".py",
   "mimetype": "text/x-python",
   "name": "python",
   "nbconvert_exporter": "python",
   "pygments_lexer": "ipython3",
   "version": "3.8.8"
  }
 },
 "nbformat": 4,
 "nbformat_minor": 5
}
