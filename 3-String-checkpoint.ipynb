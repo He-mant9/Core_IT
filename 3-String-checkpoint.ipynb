{
 "cells": [
  {
   "cell_type": "markdown",
   "id": "cec9da23",
   "metadata": {},
   "source": [
    "# STRING"
   ]
  },
  {
   "cell_type": "markdown",
   "id": "d14b8849",
   "metadata": {},
   "source": [
    "__Collections of text in Python are called strings. "
   ]
  },
  {
   "cell_type": "markdown",
   "id": "1ef0b7b0",
   "metadata": {},
   "source": [
    " __sequence is any Python object that supports accessing ele\u0002ments by index. Strings are sequences."
   ]
  },
  {
   "cell_type": "code",
   "execution_count": 6,
   "id": "d2fc2fb1",
   "metadata": {},
   "outputs": [],
   "source": [
    "# Python does not have a character data type, \n",
    "#a single character is simply a string with a length of 1."
   ]
  },
  {
   "cell_type": "code",
   "execution_count": null,
   "id": "1950ca2a",
   "metadata": {},
   "outputs": [],
   "source": [
    "name=\"Hello world\""
   ]
  },
  {
   "cell_type": "code",
   "execution_count": 1,
   "id": "aee6025b",
   "metadata": {},
   "outputs": [],
   "source": [
    "name='hello'"
   ]
  },
  {
   "cell_type": "markdown",
   "id": "6f45a104",
   "metadata": {},
   "source": [
    "__str is the internal name for python"
   ]
  },
  {
   "cell_type": "code",
   "execution_count": 1,
   "id": "c5fb13d4",
   "metadata": {},
   "outputs": [],
   "source": [
    "name=\"Madhuri\""
   ]
  },
  {
   "cell_type": "markdown",
   "id": "7e6d2bed",
   "metadata": {},
   "source": [
    "# type function"
   ]
  },
  {
   "cell_type": "code",
   "execution_count": 3,
   "id": "2052d720",
   "metadata": {},
   "outputs": [
    {
     "data": {
      "text/plain": [
       "str"
      ]
     },
     "execution_count": 3,
     "metadata": {},
     "output_type": "execute_result"
    }
   ],
   "source": [
    "type(name)"
   ]
  },
  {
   "cell_type": "markdown",
   "id": "adce8a29",
   "metadata": {},
   "source": [
    "__String has three properties characters,length, sequence"
   ]
  },
  {
   "cell_type": "markdown",
   "id": "2582642b",
   "metadata": {},
   "source": [
    "__Whenever you create a string by surrounding text with quotation\n",
    "marks, the string is called a string literal."
   ]
  },
  {
   "cell_type": "markdown",
   "id": "414c4d92",
   "metadata": {},
   "source": [
    "__The quotes surrounding a string are called delimiters because they\n",
    "tell Python where a string begins and where it ends."
   ]
  },
  {
   "cell_type": "markdown",
   "id": "0aa254d8",
   "metadata": {},
   "source": [
    "# function"
   ]
  },
  {
   "cell_type": "code",
   "execution_count": 1,
   "id": "70cfbb78",
   "metadata": {},
   "outputs": [
    {
     "ename": "NameError",
     "evalue": "name 'string4' is not defined",
     "output_type": "error",
     "traceback": [
      "\u001b[1;31m---------------------------------------------------------------------------\u001b[0m",
      "\u001b[1;31mNameError\u001b[0m                                 Traceback (most recent call last)",
      "\u001b[1;32m<ipython-input-1-d6870e8d9830>\u001b[0m in \u001b[0;36m<module>\u001b[1;34m\u001b[0m\n\u001b[1;32m----> 1\u001b[1;33m \u001b[0mlen\u001b[0m\u001b[1;33m(\u001b[0m\u001b[0mstring4\u001b[0m\u001b[1;33m)\u001b[0m\u001b[1;33m\u001b[0m\u001b[1;33m\u001b[0m\u001b[0m\n\u001b[0m",
      "\u001b[1;31mNameError\u001b[0m: name 'string4' is not defined"
     ]
    }
   ],
   "source": [
    "len(string4)"
   ]
  },
  {
   "cell_type": "code",
   "execution_count": 12,
   "id": "9c1cbb8b",
   "metadata": {},
   "outputs": [
    {
     "data": {
      "text/plain": [
       "3"
      ]
     },
     "execution_count": 12,
     "metadata": {},
     "output_type": "execute_result"
    }
   ],
   "source": [
    "len(\"abc\")"
   ]
  },
  {
   "cell_type": "code",
   "execution_count": 1,
   "id": "a36f8ab4",
   "metadata": {},
   "outputs": [
    {
     "data": {
      "text/plain": [
       "'12'"
      ]
     },
     "execution_count": 1,
     "metadata": {},
     "output_type": "execute_result"
    }
   ],
   "source": [
    "str(12)"
   ]
  },
  {
   "cell_type": "code",
   "execution_count": 2,
   "id": "a842371c",
   "metadata": {},
   "outputs": [
    {
     "data": {
      "text/plain": [
       "'a'"
      ]
     },
     "execution_count": 2,
     "metadata": {},
     "output_type": "execute_result"
    }
   ],
   "source": [
    "min('suraj')"
   ]
  },
  {
   "cell_type": "code",
   "execution_count": 3,
   "id": "94c4d1ed",
   "metadata": {},
   "outputs": [
    {
     "data": {
      "text/plain": [
       "'u'"
      ]
     },
     "execution_count": 3,
     "metadata": {},
     "output_type": "execute_result"
    }
   ],
   "source": [
    "max('suraj')"
   ]
  },
  {
   "cell_type": "code",
   "execution_count": 5,
   "id": "9b817d25",
   "metadata": {},
   "outputs": [
    {
     "data": {
      "text/plain": [
       "str"
      ]
     },
     "execution_count": 5,
     "metadata": {},
     "output_type": "execute_result"
    }
   ],
   "source": [
    "name='suraj'\n",
    "type(name)"
   ]
  },
  {
   "cell_type": "markdown",
   "id": "c4c1882f",
   "metadata": {},
   "source": [
    "# Multiline Strings"
   ]
  },
  {
   "cell_type": "markdown",
   "id": "a8c8c8d9",
   "metadata": {},
   "source": [
    "__The PEP 8 style guide recommends that each line of Python code con\u0002tain no more than 79 characters—including space"
   ]
  },
  {
   "cell_type": "code",
   "execution_count": 11,
   "id": "716da50d",
   "metadata": {},
   "outputs": [],
   "source": [
    "paragraph = \"This planet has - or rather had - a problem, which was\\\n",
    "this: most of the people living on it were unhappy for pretty much \\\n",
    "of the time. Many solutions were suggested for this problem, but \\\n",
    "most of these were largely concerned with the movements of small \\\n",
    "green pieces of paper, which is odd because on the whole it wasn't \\\n",
    "the small green pieces of paper that were unhappy.\""
   ]
  },
  {
   "cell_type": "code",
   "execution_count": 5,
   "id": "71632827",
   "metadata": {},
   "outputs": [],
   "source": [
    "paragraph = \"This planet has - or rather had - a problem, which was \\\n",
    "this: most of the people living on it were unhappy for pretty much \\\n",
    "of the time. Many solutions were suggested for this problem, but \\\n",
    "most of these were largely concerned with the movements of small \\\n",
    "green pieces of paper, which is odd because on the whole it wasn't \\\n",
    "the small green pieces of paper that were unhappy.\""
   ]
  },
  {
   "cell_type": "code",
   "execution_count": 6,
   "id": "db3d0063",
   "metadata": {},
   "outputs": [
    {
     "data": {
      "text/plain": [
       "\"This planet has - or rather had - a problem, which was this: most of the people living on it were unhappy for pretty much of the time. Many solutions were suggested for this problem, but most of these were largely concerned with the movements of small green pieces of paper, which is odd because on the whole it wasn't the small green pieces of paper that were unhappy.\""
      ]
     },
     "execution_count": 6,
     "metadata": {},
     "output_type": "execute_result"
    }
   ],
   "source": [
    "paragraph"
   ]
  },
  {
   "cell_type": "code",
   "execution_count": 15,
   "id": "2736148a",
   "metadata": {},
   "outputs": [
    {
     "name": "stdout",
     "output_type": "stream",
     "text": [
      "This planet has - or rather had - a problem, which was this: most of the people living on it were unhappy for pretty much of the time. Many solutions were suggested for this problem, but most of these were largely concerned with the movements of small green pieces of paper, which is odd because on the whole it wasn't the small green pieces of paper that were unhappy.\n"
     ]
    }
   ],
   "source": [
    "print(paragraph)"
   ]
  },
  {
   "cell_type": "markdown",
   "id": "d53e501b",
   "metadata": {},
   "source": [
    "# Multiline strings can also be created using triple quotes as delimiters\n",
    "(\"\"\" or ''')."
   ]
  },
  {
   "cell_type": "code",
   "execution_count": 19,
   "id": "f5b3f315",
   "metadata": {},
   "outputs": [],
   "source": [
    "paragraph = \"\"\"This planet has - or rather had - a problem, which was\n",
    "this: most of the people living on it were unhappy for pretty much\n",
    "of the time. Many solutions were suggested for this problem, but\n",
    "most of these were largely concerned with the movements of small\n",
    "green pieces of paper, which is odd because on the whole it wasn't\n",
    "the small green pieces of paper that were unhappy.\"\"\"\n"
   ]
  },
  {
   "cell_type": "code",
   "execution_count": 20,
   "id": "91515b8c",
   "metadata": {},
   "outputs": [
    {
     "name": "stdout",
     "output_type": "stream",
     "text": [
      "This planet has - or rather had - a problem, which was\n",
      "this: most of the people living on it were unhappy for pretty much\n",
      "of the time. Many solutions were suggested for this problem, but\n",
      "most of these were largely concerned with the movements of small\n",
      "green pieces of paper, which is odd because on the whole it wasn't\n",
      "the small green pieces of paper that were unhappy.\n"
     ]
    }
   ],
   "source": [
    "print(paragraph)"
   ]
  },
  {
   "cell_type": "markdown",
   "id": "22679711",
   "metadata": {},
   "source": [
    "__multiline string preserve whitespaces"
   ]
  },
  {
   "cell_type": "code",
   "execution_count": 17,
   "id": "47a3f19b",
   "metadata": {},
   "outputs": [
    {
     "name": "stdout",
     "output_type": "stream",
     "text": [
      "An example of a\n",
      "             string that spans across multiple lines\n",
      "                          that also preserves whitespace.\n"
     ]
    }
   ],
   "source": [
    "print(\"\"\"An example of a\n",
    "             string that spans across multiple lines\n",
    "                          that also preserves whitespace.\"\"\")"
   ]
  },
  {
   "cell_type": "markdown",
   "id": "ee26b6b8",
   "metadata": {},
   "source": [
    "__Triple-quoted strings have a special purpose in Python. They\n",
    "are used to document code\n",
    "When used to document code, triple-quoted strings are called\n",
    "docstrings"
   ]
  },
  {
   "cell_type": "markdown",
   "id": "9ded78a7",
   "metadata": {},
   "source": [
    "# Python String Formatting"
   ]
  },
  {
   "cell_type": "markdown",
   "id": "43d78e8d",
   "metadata": {},
   "source": [
    "The format() method allows you to format selected parts of a string.\n",
    "\n",
    "Sometimes there are parts of a text that you do not control, maybe they come from a database, or user input?\n",
    "\n",
    "To control such values, add placeholders (curly brackets {}) in the text, and run the values through the format() method:"
   ]
  },
  {
   "cell_type": "code",
   "execution_count": 1,
   "id": "54885e13",
   "metadata": {},
   "outputs": [
    {
     "name": "stdout",
     "output_type": "stream",
     "text": [
      "The price is 49 dollars\n"
     ]
    }
   ],
   "source": [
    "price = 49\n",
    "txt = \"The price is {} dollars\"\n",
    "print(txt.format(price))"
   ]
  },
  {
   "cell_type": "code",
   "execution_count": 2,
   "id": "8e889af2",
   "metadata": {},
   "outputs": [
    {
     "name": "stdout",
     "output_type": "stream",
     "text": [
      "The price is 4.123 dollars\n"
     ]
    }
   ],
   "source": [
    "price = 4.12345\n",
    "txt = \"The price is {:.3f} dollars\"\n",
    "print(txt.format(price))"
   ]
  },
  {
   "cell_type": "code",
   "execution_count": 3,
   "id": "6320347f",
   "metadata": {},
   "outputs": [
    {
     "name": "stdout",
     "output_type": "stream",
     "text": [
      "I want 49 pieces of item number 3 for 567.00 dollars.\n"
     ]
    }
   ],
   "source": [
    "quantity = 3\n",
    "itemno = 567\n",
    "price = 49\n",
    "myorder = \"I want {} pieces of item number {} for {:.2f} dollars.\"\n",
    "print(myorder.format(price,quantity, itemno))"
   ]
  },
  {
   "cell_type": "markdown",
   "id": "26351828",
   "metadata": {},
   "source": [
    "# Index Numbers"
   ]
  },
  {
   "cell_type": "code",
   "execution_count": 5,
   "id": "806a17c5",
   "metadata": {},
   "outputs": [
    {
     "name": "stdout",
     "output_type": "stream",
     "text": [
      "I want 3 pieces of item number 567 for 49.35 dollars.\n"
     ]
    }
   ],
   "source": [
    "quantity = 3\n",
    "itemno = 567\n",
    "price = 49.3456\n",
    "myorder = \"I want {0} pieces of item number {1} for {2:.2f} dollars.\"\n",
    "print(myorder.format(quantity, itemno, price))"
   ]
  },
  {
   "cell_type": "markdown",
   "id": "ae37c378",
   "metadata": {},
   "source": [
    "Also, if you want to refer to the same value more than once, use the index number:"
   ]
  },
  {
   "cell_type": "code",
   "execution_count": 7,
   "id": "ec0abcc8",
   "metadata": {},
   "outputs": [
    {
     "name": "stdout",
     "output_type": "stream",
     "text": [
      "His name is John. John is 36 years old.\n"
     ]
    }
   ],
   "source": [
    "age = 36\n",
    "name = \"John\"\n",
    "txt = \"His name is {0}. {0} is {1} years old.\"\n",
    "print(txt.format(name,age))"
   ]
  },
  {
   "cell_type": "markdown",
   "id": "684f7933",
   "metadata": {},
   "source": [
    "# Named Indexes"
   ]
  },
  {
   "cell_type": "code",
   "execution_count": 10,
   "id": "3e57dc54",
   "metadata": {},
   "outputs": [
    {
     "name": "stdout",
     "output_type": "stream",
     "text": [
      "I have a Ford, it is a Freestyle.\n"
     ]
    }
   ],
   "source": [
    "myorder = \"I have a {carname}, it is a {model}.\"\n",
    "print(myorder.format(carname = \"Ford\", model = \"Freestyle\"))"
   ]
  },
  {
   "cell_type": "code",
   "execution_count": null,
   "id": "31efb266",
   "metadata": {},
   "outputs": [],
   "source": []
  },
  {
   "cell_type": "markdown",
   "id": "1bb4f6d7",
   "metadata": {},
   "source": [
    "# Concatenation, Indexing, and Slicing\n"
   ]
  },
  {
   "cell_type": "code",
   "execution_count": 2,
   "id": "606d24c8",
   "metadata": {},
   "outputs": [],
   "source": [
    "str1=\"Madhuri\""
   ]
  },
  {
   "cell_type": "code",
   "execution_count": 3,
   "id": "b8f8183b",
   "metadata": {},
   "outputs": [],
   "source": [
    "str2=\"Diwan\""
   ]
  },
  {
   "cell_type": "code",
   "execution_count": 4,
   "id": "1724db61",
   "metadata": {},
   "outputs": [
    {
     "data": {
      "text/plain": [
       "'Madhuri Diwan'"
      ]
     },
     "execution_count": 4,
     "metadata": {},
     "output_type": "execute_result"
    }
   ],
   "source": [
    "str1+\" \"+str2"
   ]
  },
  {
   "cell_type": "code",
   "execution_count": 5,
   "id": "35fd6f50",
   "metadata": {},
   "outputs": [
    {
     "data": {
      "text/plain": [
       "'Madhuri@Diwan'"
      ]
     },
     "execution_count": 5,
     "metadata": {},
     "output_type": "execute_result"
    }
   ],
   "source": [
    "str1+'@'+str2"
   ]
  },
  {
   "cell_type": "code",
   "execution_count": 6,
   "id": "ea32177f",
   "metadata": {},
   "outputs": [
    {
     "data": {
      "text/plain": [
       "'MadhuriMadhuriMadhuri'"
      ]
     },
     "execution_count": 6,
     "metadata": {},
     "output_type": "execute_result"
    }
   ],
   "source": [
    "str1*3"
   ]
  },
  {
   "cell_type": "code",
   "execution_count": 7,
   "id": "438ba650",
   "metadata": {},
   "outputs": [],
   "source": [
    "name=\"Madhuri\""
   ]
  },
  {
   "cell_type": "markdown",
   "id": "9d33169d",
   "metadata": {},
   "source": [
    "__Each character in a string has a numbered position called an index and indexing start from 0."
   ]
  },
  {
   "cell_type": "code",
   "execution_count": 8,
   "id": "8231c91f",
   "metadata": {},
   "outputs": [
    {
     "data": {
      "text/plain": [
       "'M'"
      ]
     },
     "execution_count": 8,
     "metadata": {},
     "output_type": "execute_result"
    }
   ],
   "source": [
    "name[0]"
   ]
  },
  {
   "cell_type": "code",
   "execution_count": 9,
   "id": "3c4e12f5",
   "metadata": {},
   "outputs": [
    {
     "data": {
      "text/plain": [
       "'a'"
      ]
     },
     "execution_count": 9,
     "metadata": {},
     "output_type": "execute_result"
    }
   ],
   "source": [
    "name[1]"
   ]
  },
  {
   "cell_type": "code",
   "execution_count": 10,
   "id": "a638e77b",
   "metadata": {},
   "outputs": [
    {
     "ename": "IndexError",
     "evalue": "string index out of range",
     "output_type": "error",
     "traceback": [
      "\u001b[1;31m---------------------------------------------------------------------------\u001b[0m",
      "\u001b[1;31mIndexError\u001b[0m                                Traceback (most recent call last)",
      "\u001b[1;32m<ipython-input-10-c87ccbc6d317>\u001b[0m in \u001b[0;36m<module>\u001b[1;34m\u001b[0m\n\u001b[1;32m----> 1\u001b[1;33m \u001b[0mname\u001b[0m\u001b[1;33m[\u001b[0m\u001b[1;36m8\u001b[0m\u001b[1;33m]\u001b[0m\u001b[1;33m\u001b[0m\u001b[1;33m\u001b[0m\u001b[0m\n\u001b[0m",
      "\u001b[1;31mIndexError\u001b[0m: string index out of range"
     ]
    }
   ],
   "source": [
    "name[8]"
   ]
  },
  {
   "cell_type": "code",
   "execution_count": 11,
   "id": "b005862b",
   "metadata": {},
   "outputs": [
    {
     "data": {
      "text/plain": [
       "'i'"
      ]
     },
     "execution_count": 11,
     "metadata": {},
     "output_type": "execute_result"
    }
   ],
   "source": [
    "name[-1]"
   ]
  },
  {
   "cell_type": "code",
   "execution_count": 12,
   "id": "864b08fb",
   "metadata": {},
   "outputs": [
    {
     "data": {
      "text/plain": [
       "'r'"
      ]
     },
     "execution_count": 12,
     "metadata": {},
     "output_type": "execute_result"
    }
   ],
   "source": [
    "name[-2]"
   ]
  },
  {
   "cell_type": "code",
   "execution_count": 13,
   "id": "dab64c2d",
   "metadata": {},
   "outputs": [
    {
     "data": {
      "text/plain": [
       "7"
      ]
     },
     "execution_count": 13,
     "metadata": {},
     "output_type": "execute_result"
    }
   ],
   "source": [
    "len(name)"
   ]
  },
  {
   "cell_type": "code",
   "execution_count": 14,
   "id": "c1edc998",
   "metadata": {},
   "outputs": [
    {
     "data": {
      "text/plain": [
       "'i'"
      ]
     },
     "execution_count": 14,
     "metadata": {},
     "output_type": "execute_result"
    }
   ],
   "source": [
    "name[len(name)-1]"
   ]
  },
  {
   "cell_type": "markdown",
   "id": "48ed78a5",
   "metadata": {},
   "source": [
    "# slicing"
   ]
  },
  {
   "cell_type": "markdown",
   "id": "10be0603",
   "metadata": {},
   "source": [
    "[start:end]"
   ]
  },
  {
   "cell_type": "code",
   "execution_count": 15,
   "id": "cb678a23",
   "metadata": {},
   "outputs": [],
   "source": [
    "name=\"Spruha\""
   ]
  },
  {
   "cell_type": "code",
   "execution_count": 16,
   "id": "bb15e5e2",
   "metadata": {},
   "outputs": [
    {
     "data": {
      "text/plain": [
       "'Spru'"
      ]
     },
     "execution_count": 16,
     "metadata": {},
     "output_type": "execute_result"
    }
   ],
   "source": [
    "name[:4]"
   ]
  },
  {
   "cell_type": "code",
   "execution_count": 17,
   "id": "765b3426",
   "metadata": {},
   "outputs": [
    {
     "data": {
      "text/plain": [
       "'ahu'"
      ]
     },
     "execution_count": 17,
     "metadata": {},
     "output_type": "execute_result"
    }
   ],
   "source": [
    "name[-1:-4:-1]"
   ]
  },
  {
   "cell_type": "code",
   "execution_count": 18,
   "id": "64e7dd09",
   "metadata": {},
   "outputs": [
    {
     "data": {
      "text/plain": [
       "'Spruha'"
      ]
     },
     "execution_count": 18,
     "metadata": {},
     "output_type": "execute_result"
    }
   ],
   "source": [
    "name[:]"
   ]
  },
  {
   "cell_type": "code",
   "execution_count": 19,
   "id": "e710966c",
   "metadata": {},
   "outputs": [
    {
     "data": {
      "text/plain": [
       "'Spru'"
      ]
     },
     "execution_count": 19,
     "metadata": {},
     "output_type": "execute_result"
    }
   ],
   "source": [
    "name[:4]"
   ]
  },
  {
   "cell_type": "code",
   "execution_count": 21,
   "id": "8e27c6be",
   "metadata": {},
   "outputs": [
    {
     "data": {
      "text/plain": [
       "'Srh'"
      ]
     },
     "execution_count": 21,
     "metadata": {},
     "output_type": "execute_result"
    }
   ],
   "source": [
    "name[0::2]"
   ]
  },
  {
   "cell_type": "code",
   "execution_count": 22,
   "id": "0e8eb0b1",
   "metadata": {},
   "outputs": [
    {
     "data": {
      "text/plain": [
       "'Su'"
      ]
     },
     "execution_count": 22,
     "metadata": {},
     "output_type": "execute_result"
    }
   ],
   "source": [
    "name[0::3]"
   ]
  },
  {
   "cell_type": "code",
   "execution_count": 23,
   "id": "58707c05",
   "metadata": {},
   "outputs": [
    {
     "data": {
      "text/plain": [
       "'Sr'"
      ]
     },
     "execution_count": 23,
     "metadata": {},
     "output_type": "execute_result"
    }
   ],
   "source": [
    "name[0:4:2]"
   ]
  },
  {
   "cell_type": "code",
   "execution_count": 24,
   "id": "7440dd68",
   "metadata": {},
   "outputs": [
    {
     "data": {
      "text/plain": [
       "'Srh'"
      ]
     },
     "execution_count": 24,
     "metadata": {},
     "output_type": "execute_result"
    }
   ],
   "source": [
    "name[0:5:2]"
   ]
  },
  {
   "cell_type": "code",
   "execution_count": 25,
   "id": "eec77079",
   "metadata": {},
   "outputs": [
    {
     "data": {
      "text/plain": [
       "'Spruh'"
      ]
     },
     "execution_count": 25,
     "metadata": {},
     "output_type": "execute_result"
    }
   ],
   "source": [
    "name[:5]"
   ]
  },
  {
   "cell_type": "code",
   "execution_count": 26,
   "id": "b56aa7de",
   "metadata": {},
   "outputs": [
    {
     "data": {
      "text/plain": [
       "'pru'"
      ]
     },
     "execution_count": 26,
     "metadata": {},
     "output_type": "execute_result"
    }
   ],
   "source": [
    "name[1:4]"
   ]
  },
  {
   "cell_type": "code",
   "execution_count": 27,
   "id": "14b12ad9",
   "metadata": {},
   "outputs": [
    {
     "data": {
      "text/plain": [
       "'pruha'"
      ]
     },
     "execution_count": 27,
     "metadata": {},
     "output_type": "execute_result"
    }
   ],
   "source": [
    "name[1:10]"
   ]
  },
  {
   "cell_type": "code",
   "execution_count": 41,
   "id": "e41e4342",
   "metadata": {},
   "outputs": [
    {
     "data": {
      "text/plain": [
       "''"
      ]
     },
     "execution_count": 41,
     "metadata": {},
     "output_type": "execute_result"
    }
   ],
   "source": [
    "name[6:10]"
   ]
  },
  {
   "cell_type": "code",
   "execution_count": 28,
   "id": "0f1001ce",
   "metadata": {},
   "outputs": [
    {
     "data": {
      "text/plain": [
       "'Spruh'"
      ]
     },
     "execution_count": 28,
     "metadata": {},
     "output_type": "execute_result"
    }
   ],
   "source": [
    "name[0:-1]"
   ]
  },
  {
   "cell_type": "code",
   "execution_count": 29,
   "id": "f036a0f6",
   "metadata": {},
   "outputs": [
    {
     "data": {
      "text/plain": [
       "'ruh'"
      ]
     },
     "execution_count": 29,
     "metadata": {},
     "output_type": "execute_result"
    }
   ],
   "source": [
    "name[-4:-1]"
   ]
  },
  {
   "cell_type": "markdown",
   "id": "6ff32a6c",
   "metadata": {},
   "source": [
    "__Strings Are Immutable.Which means It can't be changed."
   ]
  },
  {
   "cell_type": "code",
   "execution_count": 44,
   "id": "bafa5a1c",
   "metadata": {},
   "outputs": [
    {
     "ename": "TypeError",
     "evalue": "'str' object does not support item assignment",
     "output_type": "error",
     "traceback": [
      "\u001b[1;31m---------------------------------------------------------------------------\u001b[0m",
      "\u001b[1;31mTypeError\u001b[0m                                 Traceback (most recent call last)",
      "\u001b[1;32m<ipython-input-44-87b5da1841e3>\u001b[0m in \u001b[0;36m<module>\u001b[1;34m\u001b[0m\n\u001b[1;32m----> 1\u001b[1;33m \u001b[0mname\u001b[0m\u001b[1;33m[\u001b[0m\u001b[1;36m0\u001b[0m\u001b[1;33m]\u001b[0m\u001b[1;33m=\u001b[0m\u001b[1;34m\"P\"\u001b[0m\u001b[1;33m\u001b[0m\u001b[1;33m\u001b[0m\u001b[0m\n\u001b[0m",
      "\u001b[1;31mTypeError\u001b[0m: 'str' object does not support item assignment"
     ]
    }
   ],
   "source": [
    "name[0]=\"P\""
   ]
  },
  {
   "cell_type": "markdown",
   "id": "b40c6aad",
   "metadata": {},
   "source": [
    "# string methods"
   ]
  },
  {
   "cell_type": "code",
   "execution_count": 45,
   "id": "7f003990",
   "metadata": {},
   "outputs": [],
   "source": [
    "name=\"Suraj\""
   ]
  },
  {
   "cell_type": "code",
   "execution_count": 46,
   "id": "56e35c01",
   "metadata": {},
   "outputs": [
    {
     "data": {
      "text/plain": [
       "'suraj'"
      ]
     },
     "execution_count": 46,
     "metadata": {},
     "output_type": "execute_result"
    }
   ],
   "source": [
    "name.lower()"
   ]
  },
  {
   "cell_type": "code",
   "execution_count": 47,
   "id": "f7bb696c",
   "metadata": {},
   "outputs": [
    {
     "data": {
      "text/plain": [
       "'SURAJ'"
      ]
     },
     "execution_count": 47,
     "metadata": {},
     "output_type": "execute_result"
    }
   ],
   "source": [
    "name.upper()"
   ]
  },
  {
   "cell_type": "markdown",
   "id": "9416fcc1",
   "metadata": {},
   "source": [
    "__We will refer to the names of string methods with a dot at the\n",
    "beginning of them. So, for example, the .lower() method is writ\u0002ten with a dot, instead of lower().\n",
    "The reason we do this is to make it easy to spot functions that\n",
    "are string methods, as opposed to built-in functions like print()\n",
    "and type()."
   ]
  },
  {
   "cell_type": "markdown",
   "id": "a406ced6",
   "metadata": {},
   "source": [
    "__On the other hand, .upper() and .lower() must be used in conjunction\n",
    "with a string. They do not exist independently"
   ]
  },
  {
   "cell_type": "code",
   "execution_count": 48,
   "id": "52e420b7",
   "metadata": {},
   "outputs": [],
   "source": [
    " name = \"Suraj     \"\n"
   ]
  },
  {
   "cell_type": "code",
   "execution_count": 49,
   "id": "03bec0d5",
   "metadata": {},
   "outputs": [
    {
     "data": {
      "text/plain": [
       "'Suraj     '"
      ]
     },
     "execution_count": 49,
     "metadata": {},
     "output_type": "execute_result"
    }
   ],
   "source": [
    "name"
   ]
  },
  {
   "cell_type": "code",
   "execution_count": 50,
   "id": "ffccf667",
   "metadata": {},
   "outputs": [
    {
     "data": {
      "text/plain": [
       "'Suraj'"
      ]
     },
     "execution_count": 50,
     "metadata": {},
     "output_type": "execute_result"
    }
   ],
   "source": [
    "name.rstrip()"
   ]
  },
  {
   "cell_type": "code",
   "execution_count": 51,
   "id": "ee4cadc1",
   "metadata": {},
   "outputs": [],
   "source": [
    "name=\"  Suraj\""
   ]
  },
  {
   "cell_type": "code",
   "execution_count": 52,
   "id": "84c7225f",
   "metadata": {},
   "outputs": [
    {
     "data": {
      "text/plain": [
       "'Suraj'"
      ]
     },
     "execution_count": 52,
     "metadata": {},
     "output_type": "execute_result"
    }
   ],
   "source": [
    "name.lstrip()"
   ]
  },
  {
   "cell_type": "code",
   "execution_count": 53,
   "id": "0cdb0656",
   "metadata": {},
   "outputs": [],
   "source": [
    "name=\"   Suraj    \""
   ]
  },
  {
   "cell_type": "code",
   "execution_count": 54,
   "id": "d3aac447",
   "metadata": {},
   "outputs": [
    {
     "data": {
      "text/plain": [
       "'   Suraj    '"
      ]
     },
     "execution_count": 54,
     "metadata": {},
     "output_type": "execute_result"
    }
   ],
   "source": [
    "name\n"
   ]
  },
  {
   "cell_type": "code",
   "execution_count": 55,
   "id": "82473e0a",
   "metadata": {},
   "outputs": [
    {
     "data": {
      "text/plain": [
       "'Suraj'"
      ]
     },
     "execution_count": 55,
     "metadata": {},
     "output_type": "execute_result"
    }
   ],
   "source": [
    "name.strip()"
   ]
  },
  {
   "cell_type": "code",
   "execution_count": 29,
   "id": "0cebaa33",
   "metadata": {},
   "outputs": [],
   "source": [
    "name=\"Suraj\""
   ]
  },
  {
   "cell_type": "code",
   "execution_count": 30,
   "id": "6dea9dbf",
   "metadata": {},
   "outputs": [
    {
     "data": {
      "text/plain": [
       "False"
      ]
     },
     "execution_count": 30,
     "metadata": {},
     "output_type": "execute_result"
    }
   ],
   "source": [
    "name.startswith(\"s\")"
   ]
  },
  {
   "cell_type": "code",
   "execution_count": 58,
   "id": "1801945a",
   "metadata": {},
   "outputs": [
    {
     "data": {
      "text/plain": [
       "False"
      ]
     },
     "execution_count": 58,
     "metadata": {},
     "output_type": "execute_result"
    }
   ],
   "source": [
    "name.endswith(\"S\")"
   ]
  },
  {
   "cell_type": "code",
   "execution_count": 59,
   "id": "524da2fe",
   "metadata": {},
   "outputs": [
    {
     "data": {
      "text/plain": [
       "False"
      ]
     },
     "execution_count": 59,
     "metadata": {},
     "output_type": "execute_result"
    }
   ],
   "source": [
    "name.startswith(\"s\")"
   ]
  },
  {
   "cell_type": "markdown",
   "id": "24880eb7",
   "metadata": {},
   "source": [
    "# String Methods and Immutability"
   ]
  },
  {
   "cell_type": "markdown",
   "id": "afa25afb",
   "metadata": {},
   "source": [
    "__Recall from the previous section that strings are immutable—they\n",
    "can’t be changed once they have been created. Most string methods\n",
    "that alter a string, like .upper() and .lower(), actually return copies of\n",
    "the original string with the appropriate modifications.\n"
   ]
  },
  {
   "cell_type": "markdown",
   "id": "663e99a6",
   "metadata": {},
   "source": [
    "__This overrides the original string "
   ]
  },
  {
   "cell_type": "code",
   "execution_count": 30,
   "id": "b954afe8",
   "metadata": {},
   "outputs": [],
   "source": [
    "name=\"Madhuri\""
   ]
  },
  {
   "cell_type": "code",
   "execution_count": 31,
   "id": "26f3686f",
   "metadata": {},
   "outputs": [
    {
     "data": {
      "text/plain": [
       "'MADHURI'"
      ]
     },
     "execution_count": 31,
     "metadata": {},
     "output_type": "execute_result"
    }
   ],
   "source": [
    "name.upper()"
   ]
  },
  {
   "cell_type": "code",
   "execution_count": 32,
   "id": "7435542b",
   "metadata": {},
   "outputs": [
    {
     "data": {
      "text/plain": [
       "'Madhuri'"
      ]
     },
     "execution_count": 32,
     "metadata": {},
     "output_type": "execute_result"
    }
   ],
   "source": [
    "name"
   ]
  },
  {
   "cell_type": "code",
   "execution_count": 33,
   "id": "68b4c6c4",
   "metadata": {},
   "outputs": [],
   "source": [
    "name2=name.upper()"
   ]
  },
  {
   "cell_type": "code",
   "execution_count": 35,
   "id": "56820ffe",
   "metadata": {},
   "outputs": [
    {
     "data": {
      "text/plain": [
       "'MADHURI'"
      ]
     },
     "execution_count": 35,
     "metadata": {},
     "output_type": "execute_result"
    }
   ],
   "source": [
    "name2"
   ]
  },
  {
   "cell_type": "code",
   "execution_count": 64,
   "id": "1b6190bb",
   "metadata": {},
   "outputs": [
    {
     "name": "stdout",
     "output_type": "stream",
     "text": [
      "Help on class str in module builtins:\n",
      "\n",
      "class str(object)\n",
      " |  str(object='') -> str\n",
      " |  str(bytes_or_buffer[, encoding[, errors]]) -> str\n",
      " |  \n",
      " |  Create a new string object from the given object. If encoding or\n",
      " |  errors is specified, then the object must expose a data buffer\n",
      " |  that will be decoded using the given encoding and error handler.\n",
      " |  Otherwise, returns the result of object.__str__() (if defined)\n",
      " |  or repr(object).\n",
      " |  encoding defaults to sys.getdefaultencoding().\n",
      " |  errors defaults to 'strict'.\n",
      " |  \n",
      " |  Methods defined here:\n",
      " |  \n",
      " |  __add__(self, value, /)\n",
      " |      Return self+value.\n",
      " |  \n",
      " |  __contains__(self, key, /)\n",
      " |      Return key in self.\n",
      " |  \n",
      " |  __eq__(self, value, /)\n",
      " |      Return self==value.\n",
      " |  \n",
      " |  __format__(self, format_spec, /)\n",
      " |      Return a formatted version of the string as described by format_spec.\n",
      " |  \n",
      " |  __ge__(self, value, /)\n",
      " |      Return self>=value.\n",
      " |  \n",
      " |  __getattribute__(self, name, /)\n",
      " |      Return getattr(self, name).\n",
      " |  \n",
      " |  __getitem__(self, key, /)\n",
      " |      Return self[key].\n",
      " |  \n",
      " |  __getnewargs__(...)\n",
      " |  \n",
      " |  __gt__(self, value, /)\n",
      " |      Return self>value.\n",
      " |  \n",
      " |  __hash__(self, /)\n",
      " |      Return hash(self).\n",
      " |  \n",
      " |  __iter__(self, /)\n",
      " |      Implement iter(self).\n",
      " |  \n",
      " |  __le__(self, value, /)\n",
      " |      Return self<=value.\n",
      " |  \n",
      " |  __len__(self, /)\n",
      " |      Return len(self).\n",
      " |  \n",
      " |  __lt__(self, value, /)\n",
      " |      Return self<value.\n",
      " |  \n",
      " |  __mod__(self, value, /)\n",
      " |      Return self%value.\n",
      " |  \n",
      " |  __mul__(self, value, /)\n",
      " |      Return self*value.\n",
      " |  \n",
      " |  __ne__(self, value, /)\n",
      " |      Return self!=value.\n",
      " |  \n",
      " |  __repr__(self, /)\n",
      " |      Return repr(self).\n",
      " |  \n",
      " |  __rmod__(self, value, /)\n",
      " |      Return value%self.\n",
      " |  \n",
      " |  __rmul__(self, value, /)\n",
      " |      Return value*self.\n",
      " |  \n",
      " |  __sizeof__(self, /)\n",
      " |      Return the size of the string in memory, in bytes.\n",
      " |  \n",
      " |  __str__(self, /)\n",
      " |      Return str(self).\n",
      " |  \n",
      " |  capitalize(self, /)\n",
      " |      Return a capitalized version of the string.\n",
      " |      \n",
      " |      More specifically, make the first character have upper case and the rest lower\n",
      " |      case.\n",
      " |  \n",
      " |  casefold(self, /)\n",
      " |      Return a version of the string suitable for caseless comparisons.\n",
      " |  \n",
      " |  center(self, width, fillchar=' ', /)\n",
      " |      Return a centered string of length width.\n",
      " |      \n",
      " |      Padding is done using the specified fill character (default is a space).\n",
      " |  \n",
      " |  count(...)\n",
      " |      S.count(sub[, start[, end]]) -> int\n",
      " |      \n",
      " |      Return the number of non-overlapping occurrences of substring sub in\n",
      " |      string S[start:end].  Optional arguments start and end are\n",
      " |      interpreted as in slice notation.\n",
      " |  \n",
      " |  encode(self, /, encoding='utf-8', errors='strict')\n",
      " |      Encode the string using the codec registered for encoding.\n",
      " |      \n",
      " |      encoding\n",
      " |        The encoding in which to encode the string.\n",
      " |      errors\n",
      " |        The error handling scheme to use for encoding errors.\n",
      " |        The default is 'strict' meaning that encoding errors raise a\n",
      " |        UnicodeEncodeError.  Other possible values are 'ignore', 'replace' and\n",
      " |        'xmlcharrefreplace' as well as any other name registered with\n",
      " |        codecs.register_error that can handle UnicodeEncodeErrors.\n",
      " |  \n",
      " |  endswith(...)\n",
      " |      S.endswith(suffix[, start[, end]]) -> bool\n",
      " |      \n",
      " |      Return True if S ends with the specified suffix, False otherwise.\n",
      " |      With optional start, test S beginning at that position.\n",
      " |      With optional end, stop comparing S at that position.\n",
      " |      suffix can also be a tuple of strings to try.\n",
      " |  \n",
      " |  expandtabs(self, /, tabsize=8)\n",
      " |      Return a copy where all tab characters are expanded using spaces.\n",
      " |      \n",
      " |      If tabsize is not given, a tab size of 8 characters is assumed.\n",
      " |  \n",
      " |  find(...)\n",
      " |      S.find(sub[, start[, end]]) -> int\n",
      " |      \n",
      " |      Return the lowest index in S where substring sub is found,\n",
      " |      such that sub is contained within S[start:end].  Optional\n",
      " |      arguments start and end are interpreted as in slice notation.\n",
      " |      \n",
      " |      Return -1 on failure.\n",
      " |  \n",
      " |  format(...)\n",
      " |      S.format(*args, **kwargs) -> str\n",
      " |      \n",
      " |      Return a formatted version of S, using substitutions from args and kwargs.\n",
      " |      The substitutions are identified by braces ('{' and '}').\n",
      " |  \n",
      " |  format_map(...)\n",
      " |      S.format_map(mapping) -> str\n",
      " |      \n",
      " |      Return a formatted version of S, using substitutions from mapping.\n",
      " |      The substitutions are identified by braces ('{' and '}').\n",
      " |  \n",
      " |  index(...)\n",
      " |      S.index(sub[, start[, end]]) -> int\n",
      " |      \n",
      " |      Return the lowest index in S where substring sub is found,\n",
      " |      such that sub is contained within S[start:end].  Optional\n",
      " |      arguments start and end are interpreted as in slice notation.\n",
      " |      \n",
      " |      Raises ValueError when the substring is not found.\n",
      " |  \n",
      " |  isalnum(self, /)\n",
      " |      Return True if the string is an alpha-numeric string, False otherwise.\n",
      " |      \n",
      " |      A string is alpha-numeric if all characters in the string are alpha-numeric and\n",
      " |      there is at least one character in the string.\n",
      " |  \n",
      " |  isalpha(self, /)\n",
      " |      Return True if the string is an alphabetic string, False otherwise.\n",
      " |      \n",
      " |      A string is alphabetic if all characters in the string are alphabetic and there\n",
      " |      is at least one character in the string.\n",
      " |  \n",
      " |  isascii(self, /)\n",
      " |      Return True if all characters in the string are ASCII, False otherwise.\n",
      " |      \n",
      " |      ASCII characters have code points in the range U+0000-U+007F.\n",
      " |      Empty string is ASCII too.\n",
      " |  \n",
      " |  isdecimal(self, /)\n",
      " |      Return True if the string is a decimal string, False otherwise.\n",
      " |      \n",
      " |      A string is a decimal string if all characters in the string are decimal and\n",
      " |      there is at least one character in the string.\n",
      " |  \n",
      " |  isdigit(self, /)\n",
      " |      Return True if the string is a digit string, False otherwise.\n",
      " |      \n",
      " |      A string is a digit string if all characters in the string are digits and there\n",
      " |      is at least one character in the string.\n",
      " |  \n",
      " |  isidentifier(self, /)\n",
      " |      Return True if the string is a valid Python identifier, False otherwise.\n",
      " |      \n",
      " |      Call keyword.iskeyword(s) to test whether string s is a reserved identifier,\n",
      " |      such as \"def\" or \"class\".\n",
      " |  \n",
      " |  islower(self, /)\n",
      " |      Return True if the string is a lowercase string, False otherwise.\n",
      " |      \n",
      " |      A string is lowercase if all cased characters in the string are lowercase and\n",
      " |      there is at least one cased character in the string.\n",
      " |  \n",
      " |  isnumeric(self, /)\n",
      " |      Return True if the string is a numeric string, False otherwise.\n",
      " |      \n",
      " |      A string is numeric if all characters in the string are numeric and there is at\n",
      " |      least one character in the string.\n",
      " |  \n",
      " |  isprintable(self, /)\n",
      " |      Return True if the string is printable, False otherwise.\n",
      " |      \n",
      " |      A string is printable if all of its characters are considered printable in\n",
      " |      repr() or if it is empty.\n",
      " |  \n",
      " |  isspace(self, /)\n",
      " |      Return True if the string is a whitespace string, False otherwise.\n",
      " |      \n",
      " |      A string is whitespace if all characters in the string are whitespace and there\n",
      " |      is at least one character in the string.\n",
      " |  \n",
      " |  istitle(self, /)\n",
      " |      Return True if the string is a title-cased string, False otherwise.\n",
      " |      \n",
      " |      In a title-cased string, upper- and title-case characters may only\n",
      " |      follow uncased characters and lowercase characters only cased ones.\n",
      " |  \n",
      " |  isupper(self, /)\n",
      " |      Return True if the string is an uppercase string, False otherwise.\n",
      " |      \n",
      " |      A string is uppercase if all cased characters in the string are uppercase and\n",
      " |      there is at least one cased character in the string.\n",
      " |  \n",
      " |  join(self, iterable, /)\n",
      " |      Concatenate any number of strings.\n",
      " |      \n",
      " |      The string whose method is called is inserted in between each given string.\n",
      " |      The result is returned as a new string.\n",
      " |      \n",
      " |      Example: '.'.join(['ab', 'pq', 'rs']) -> 'ab.pq.rs'\n",
      " |  \n",
      " |  ljust(self, width, fillchar=' ', /)\n",
      " |      Return a left-justified string of length width.\n",
      " |      \n",
      " |      Padding is done using the specified fill character (default is a space).\n",
      " |  \n",
      " |  lower(self, /)\n",
      " |      Return a copy of the string converted to lowercase.\n",
      " |  \n",
      " |  lstrip(self, chars=None, /)\n",
      " |      Return a copy of the string with leading whitespace removed.\n",
      " |      \n",
      " |      If chars is given and not None, remove characters in chars instead.\n",
      " |  \n",
      " |  partition(self, sep, /)\n",
      " |      Partition the string into three parts using the given separator.\n",
      " |      \n",
      " |      This will search for the separator in the string.  If the separator is found,\n",
      " |      returns a 3-tuple containing the part before the separator, the separator\n",
      " |      itself, and the part after it.\n",
      " |      \n",
      " |      If the separator is not found, returns a 3-tuple containing the original string\n",
      " |      and two empty strings.\n",
      " |  \n",
      " |  replace(self, old, new, count=-1, /)\n",
      " |      Return a copy with all occurrences of substring old replaced by new.\n",
      " |      \n",
      " |        count\n",
      " |          Maximum number of occurrences to replace.\n",
      " |          -1 (the default value) means replace all occurrences.\n",
      " |      \n",
      " |      If the optional argument count is given, only the first count occurrences are\n",
      " |      replaced.\n",
      " |  \n",
      " |  rfind(...)\n",
      " |      S.rfind(sub[, start[, end]]) -> int\n",
      " |      \n",
      " |      Return the highest index in S where substring sub is found,\n",
      " |      such that sub is contained within S[start:end].  Optional\n",
      " |      arguments start and end are interpreted as in slice notation.\n",
      " |      \n",
      " |      Return -1 on failure.\n",
      " |  \n",
      " |  rindex(...)\n",
      " |      S.rindex(sub[, start[, end]]) -> int\n",
      " |      \n",
      " |      Return the highest index in S where substring sub is found,\n",
      " |      such that sub is contained within S[start:end].  Optional\n",
      " |      arguments start and end are interpreted as in slice notation.\n",
      " |      \n",
      " |      Raises ValueError when the substring is not found.\n",
      " |  \n",
      " |  rjust(self, width, fillchar=' ', /)\n",
      " |      Return a right-justified string of length width.\n",
      " |      \n",
      " |      Padding is done using the specified fill character (default is a space).\n",
      " |  \n",
      " |  rpartition(self, sep, /)\n",
      " |      Partition the string into three parts using the given separator.\n",
      " |      \n",
      " |      This will search for the separator in the string, starting at the end. If\n",
      " |      the separator is found, returns a 3-tuple containing the part before the\n",
      " |      separator, the separator itself, and the part after it.\n",
      " |      \n",
      " |      If the separator is not found, returns a 3-tuple containing two empty strings\n",
      " |      and the original string.\n",
      " |  \n",
      " |  rsplit(self, /, sep=None, maxsplit=-1)\n",
      " |      Return a list of the words in the string, using sep as the delimiter string.\n",
      " |      \n",
      " |        sep\n",
      " |          The delimiter according which to split the string.\n",
      " |          None (the default value) means split according to any whitespace,\n",
      " |          and discard empty strings from the result.\n",
      " |        maxsplit\n",
      " |          Maximum number of splits to do.\n",
      " |          -1 (the default value) means no limit.\n",
      " |      \n",
      " |      Splits are done starting at the end of the string and working to the front.\n",
      " |  \n",
      " |  rstrip(self, chars=None, /)\n",
      " |      Return a copy of the string with trailing whitespace removed.\n",
      " |      \n",
      " |      If chars is given and not None, remove characters in chars instead.\n",
      " |  \n",
      " |  split(self, /, sep=None, maxsplit=-1)\n",
      " |      Return a list of the words in the string, using sep as the delimiter string.\n",
      " |      \n",
      " |      sep\n",
      " |        The delimiter according which to split the string.\n",
      " |        None (the default value) means split according to any whitespace,\n",
      " |        and discard empty strings from the result.\n",
      " |      maxsplit\n",
      " |        Maximum number of splits to do.\n",
      " |        -1 (the default value) means no limit.\n",
      " |  \n",
      " |  splitlines(self, /, keepends=False)\n",
      " |      Return a list of the lines in the string, breaking at line boundaries.\n",
      " |      \n",
      " |      Line breaks are not included in the resulting list unless keepends is given and\n",
      " |      true.\n",
      " |  \n",
      " |  startswith(...)\n",
      " |      S.startswith(prefix[, start[, end]]) -> bool\n",
      " |      \n",
      " |      Return True if S starts with the specified prefix, False otherwise.\n",
      " |      With optional start, test S beginning at that position.\n",
      " |      With optional end, stop comparing S at that position.\n",
      " |      prefix can also be a tuple of strings to try.\n",
      " |  \n",
      " |  strip(self, chars=None, /)\n",
      " |      Return a copy of the string with leading and trailing whitespace removed.\n",
      " |      \n",
      " |      If chars is given and not None, remove characters in chars instead.\n",
      " |  \n",
      " |  swapcase(self, /)\n",
      " |      Convert uppercase characters to lowercase and lowercase characters to uppercase.\n",
      " |  \n",
      " |  title(self, /)\n",
      " |      Return a version of the string where each word is titlecased.\n",
      " |      \n",
      " |      More specifically, words start with uppercased characters and all remaining\n",
      " |      cased characters have lower case.\n",
      " |  \n",
      " |  translate(self, table, /)\n",
      " |      Replace each character in the string using the given translation table.\n",
      " |      \n",
      " |        table\n",
      " |          Translation table, which must be a mapping of Unicode ordinals to\n",
      " |          Unicode ordinals, strings, or None.\n",
      " |      \n",
      " |      The table must implement lookup/indexing via __getitem__, for instance a\n",
      " |      dictionary or list.  If this operation raises LookupError, the character is\n",
      " |      left untouched.  Characters mapped to None are deleted.\n",
      " |  \n",
      " |  upper(self, /)\n",
      " |      Return a copy of the string converted to uppercase.\n",
      " |  \n",
      " |  zfill(self, width, /)\n",
      " |      Pad a numeric string with zeros on the left, to fill a field of the given width.\n",
      " |      \n",
      " |      The string is never truncated.\n",
      " |  \n",
      " |  ----------------------------------------------------------------------\n",
      " |  Static methods defined here:\n",
      " |  \n",
      " |  __new__(*args, **kwargs) from builtins.type\n",
      " |      Create and return a new object.  See help(type) for accurate signature.\n",
      " |  \n",
      " |  maketrans(...)\n",
      " |      Return a translation table usable for str.translate().\n",
      " |      \n",
      " |      If there is only one argument, it must be a dictionary mapping Unicode\n",
      " |      ordinals (integers) or characters to Unicode ordinals, strings or None.\n",
      " |      Character keys will be then converted to ordinals.\n",
      " |      If there are two arguments, they must be strings of equal length, and\n",
      " |      in the resulting dictionary, each character in x will be mapped to the\n",
      " |      character at the same position in y. If there is a third argument, it\n",
      " |      must be a string, whose characters will be mapped to None in the result.\n",
      "\n"
     ]
    }
   ],
   "source": [
    "help(str)"
   ]
  },
  {
   "cell_type": "markdown",
   "id": "38a6ba7d",
   "metadata": {},
   "source": [
    "# dir function"
   ]
  },
  {
   "cell_type": "code",
   "execution_count": 65,
   "id": "4cfbe86d",
   "metadata": {},
   "outputs": [
    {
     "data": {
      "text/plain": [
       "['__add__',\n",
       " '__class__',\n",
       " '__contains__',\n",
       " '__delattr__',\n",
       " '__dir__',\n",
       " '__doc__',\n",
       " '__eq__',\n",
       " '__format__',\n",
       " '__ge__',\n",
       " '__getattribute__',\n",
       " '__getitem__',\n",
       " '__getnewargs__',\n",
       " '__gt__',\n",
       " '__hash__',\n",
       " '__init__',\n",
       " '__init_subclass__',\n",
       " '__iter__',\n",
       " '__le__',\n",
       " '__len__',\n",
       " '__lt__',\n",
       " '__mod__',\n",
       " '__mul__',\n",
       " '__ne__',\n",
       " '__new__',\n",
       " '__reduce__',\n",
       " '__reduce_ex__',\n",
       " '__repr__',\n",
       " '__rmod__',\n",
       " '__rmul__',\n",
       " '__setattr__',\n",
       " '__sizeof__',\n",
       " '__str__',\n",
       " '__subclasshook__',\n",
       " 'capitalize',\n",
       " 'casefold',\n",
       " 'center',\n",
       " 'count',\n",
       " 'encode',\n",
       " 'endswith',\n",
       " 'expandtabs',\n",
       " 'find',\n",
       " 'format',\n",
       " 'format_map',\n",
       " 'index',\n",
       " 'isalnum',\n",
       " 'isalpha',\n",
       " 'isascii',\n",
       " 'isdecimal',\n",
       " 'isdigit',\n",
       " 'isidentifier',\n",
       " 'islower',\n",
       " 'isnumeric',\n",
       " 'isprintable',\n",
       " 'isspace',\n",
       " 'istitle',\n",
       " 'isupper',\n",
       " 'join',\n",
       " 'ljust',\n",
       " 'lower',\n",
       " 'lstrip',\n",
       " 'maketrans',\n",
       " 'partition',\n",
       " 'replace',\n",
       " 'rfind',\n",
       " 'rindex',\n",
       " 'rjust',\n",
       " 'rpartition',\n",
       " 'rsplit',\n",
       " 'rstrip',\n",
       " 'split',\n",
       " 'splitlines',\n",
       " 'startswith',\n",
       " 'strip',\n",
       " 'swapcase',\n",
       " 'title',\n",
       " 'translate',\n",
       " 'upper',\n",
       " 'zfill']"
      ]
     },
     "execution_count": 65,
     "metadata": {},
     "output_type": "execute_result"
    }
   ],
   "source": [
    "dir(name)"
   ]
  },
  {
   "cell_type": "code",
   "execution_count": 36,
   "id": "b37c265f",
   "metadata": {},
   "outputs": [],
   "source": [
    "name=\"Good Morning ALl\""
   ]
  },
  {
   "cell_type": "code",
   "execution_count": 37,
   "id": "630642f3",
   "metadata": {},
   "outputs": [
    {
     "data": {
      "text/plain": [
       "['Good', 'Morning', 'ALl']"
      ]
     },
     "execution_count": 37,
     "metadata": {},
     "output_type": "execute_result"
    }
   ],
   "source": [
    "name.split()"
   ]
  },
  {
   "cell_type": "code",
   "execution_count": 38,
   "id": "b7a4534e",
   "metadata": {},
   "outputs": [
    {
     "data": {
      "text/plain": [
       "['11', '23', '56']"
      ]
     },
     "execution_count": 38,
     "metadata": {},
     "output_type": "execute_result"
    }
   ],
   "source": [
    "name=\"11,23,56\"\n",
    "name.split('')"
   ]
  },
  {
   "cell_type": "code",
   "execution_count": 39,
   "id": "a41f8871",
   "metadata": {},
   "outputs": [
    {
     "data": {
      "text/plain": [
       "0"
      ]
     },
     "execution_count": 39,
     "metadata": {},
     "output_type": "execute_result"
    }
   ],
   "source": [
    "name.count(\"S\")"
   ]
  },
  {
   "cell_type": "code",
   "execution_count": 40,
   "id": "1587f51e",
   "metadata": {},
   "outputs": [
    {
     "data": {
      "text/plain": [
       "-1"
      ]
     },
     "execution_count": 40,
     "metadata": {},
     "output_type": "execute_result"
    }
   ],
   "source": [
    "name.find(\"Su\")"
   ]
  },
  {
   "cell_type": "code",
   "execution_count": 41,
   "id": "3392dc04",
   "metadata": {},
   "outputs": [
    {
     "data": {
      "text/plain": [
       "-1"
      ]
     },
     "execution_count": 41,
     "metadata": {},
     "output_type": "execute_result"
    }
   ],
   "source": [
    "name.find(\"r\")"
   ]
  },
  {
   "cell_type": "code",
   "execution_count": 42,
   "id": "69017843",
   "metadata": {},
   "outputs": [
    {
     "data": {
      "text/plain": [
       "False"
      ]
     },
     "execution_count": 42,
     "metadata": {},
     "output_type": "execute_result"
    }
   ],
   "source": [
    "name.isalnum()"
   ]
  },
  {
   "cell_type": "code",
   "execution_count": 71,
   "id": "a83f16f6",
   "metadata": {},
   "outputs": [
    {
     "data": {
      "text/plain": [
       "True"
      ]
     },
     "execution_count": 71,
     "metadata": {},
     "output_type": "execute_result"
    }
   ],
   "source": [
    "name.isalpha()"
   ]
  },
  {
   "cell_type": "code",
   "execution_count": 72,
   "id": "2a720a57",
   "metadata": {},
   "outputs": [
    {
     "data": {
      "text/plain": [
       "False"
      ]
     },
     "execution_count": 72,
     "metadata": {},
     "output_type": "execute_result"
    }
   ],
   "source": [
    "name.isdigit()"
   ]
  },
  {
   "cell_type": "code",
   "execution_count": 6,
   "id": "a2dece2e",
   "metadata": {},
   "outputs": [],
   "source": [
    "n=\"1123.3434353\""
   ]
  },
  {
   "cell_type": "code",
   "execution_count": 8,
   "id": "61e46bbc",
   "metadata": {},
   "outputs": [
    {
     "data": {
      "text/plain": [
       "False"
      ]
     },
     "execution_count": 8,
     "metadata": {},
     "output_type": "execute_result"
    }
   ],
   "source": [
    "n.isnumeric()"
   ]
  },
  {
   "cell_type": "code",
   "execution_count": 73,
   "id": "78763871",
   "metadata": {},
   "outputs": [
    {
     "data": {
      "text/plain": [
       "False"
      ]
     },
     "execution_count": 73,
     "metadata": {},
     "output_type": "execute_result"
    }
   ],
   "source": [
    "name.islower()"
   ]
  },
  {
   "cell_type": "code",
   "execution_count": 74,
   "id": "b1d90898",
   "metadata": {},
   "outputs": [
    {
     "data": {
      "text/plain": [
       "False"
      ]
     },
     "execution_count": 74,
     "metadata": {},
     "output_type": "execute_result"
    }
   ],
   "source": [
    "name.isnumeric()"
   ]
  },
  {
   "cell_type": "code",
   "execution_count": 75,
   "id": "93b94611",
   "metadata": {},
   "outputs": [
    {
     "data": {
      "text/plain": [
       "5"
      ]
     },
     "execution_count": 75,
     "metadata": {},
     "output_type": "execute_result"
    }
   ],
   "source": [
    "len(name)"
   ]
  },
  {
   "cell_type": "code",
   "execution_count": 76,
   "id": "5300416f",
   "metadata": {},
   "outputs": [
    {
     "data": {
      "text/plain": [
       "'u'"
      ]
     },
     "execution_count": 76,
     "metadata": {},
     "output_type": "execute_result"
    }
   ],
   "source": [
    "max(name)"
   ]
  },
  {
   "cell_type": "code",
   "execution_count": 77,
   "id": "ba117a4e",
   "metadata": {},
   "outputs": [],
   "source": [
    "name=\"Suuraj\""
   ]
  },
  {
   "cell_type": "code",
   "execution_count": 78,
   "id": "a9865b24",
   "metadata": {},
   "outputs": [
    {
     "data": {
      "text/plain": [
       "'u'"
      ]
     },
     "execution_count": 78,
     "metadata": {},
     "output_type": "execute_result"
    }
   ],
   "source": [
    "max(name)"
   ]
  },
  {
   "cell_type": "code",
   "execution_count": 79,
   "id": "8bb9c34d",
   "metadata": {},
   "outputs": [
    {
     "data": {
      "text/plain": [
       "'S'"
      ]
     },
     "execution_count": 79,
     "metadata": {},
     "output_type": "execute_result"
    }
   ],
   "source": [
    "min(name)"
   ]
  },
  {
   "cell_type": "code",
   "execution_count": 80,
   "id": "3c2e4d34",
   "metadata": {},
   "outputs": [
    {
     "data": {
      "text/plain": [
       "'12'"
      ]
     },
     "execution_count": 80,
     "metadata": {},
     "output_type": "execute_result"
    }
   ],
   "source": [
    "str(12)"
   ]
  },
  {
   "cell_type": "code",
   "execution_count": 81,
   "id": "93ecff1b",
   "metadata": {},
   "outputs": [],
   "source": [
    "num=str(12)"
   ]
  },
  {
   "cell_type": "code",
   "execution_count": 82,
   "id": "95944727",
   "metadata": {},
   "outputs": [
    {
     "data": {
      "text/plain": [
       "'12'"
      ]
     },
     "execution_count": 82,
     "metadata": {},
     "output_type": "execute_result"
    }
   ],
   "source": [
    "num"
   ]
  },
  {
   "cell_type": "code",
   "execution_count": 83,
   "id": "6c91747c",
   "metadata": {},
   "outputs": [
    {
     "data": {
      "text/plain": [
       "'Nuuraj'"
      ]
     },
     "execution_count": 83,
     "metadata": {},
     "output_type": "execute_result"
    }
   ],
   "source": [
    "name.replace(\"S\",\"N\")"
   ]
  },
  {
   "cell_type": "code",
   "execution_count": 84,
   "id": "455b8e60",
   "metadata": {},
   "outputs": [
    {
     "data": {
      "text/plain": [
       "'Suuraj'"
      ]
     },
     "execution_count": 84,
     "metadata": {},
     "output_type": "execute_result"
    }
   ],
   "source": [
    "name.capitalize()"
   ]
  },
  {
   "cell_type": "code",
   "execution_count": 85,
   "id": "bcceeb74",
   "metadata": {},
   "outputs": [
    {
     "data": {
      "text/plain": [
       "0"
      ]
     },
     "execution_count": 85,
     "metadata": {},
     "output_type": "execute_result"
    }
   ],
   "source": [
    "name.index(\"S\")"
   ]
  },
  {
   "cell_type": "code",
   "execution_count": 86,
   "id": "08f83ac9",
   "metadata": {},
   "outputs": [],
   "source": [
    "name='suraj kale'"
   ]
  },
  {
   "cell_type": "code",
   "execution_count": 87,
   "id": "772fc1b7",
   "metadata": {},
   "outputs": [
    {
     "data": {
      "text/plain": [
       "'Suraj Kale'"
      ]
     },
     "execution_count": 87,
     "metadata": {},
     "output_type": "execute_result"
    }
   ],
   "source": [
    "name.title()"
   ]
  },
  {
   "cell_type": "code",
   "execution_count": 88,
   "id": "488979d3",
   "metadata": {},
   "outputs": [
    {
     "data": {
      "text/plain": [
       "'Suraj kale'"
      ]
     },
     "execution_count": 88,
     "metadata": {},
     "output_type": "execute_result"
    }
   ],
   "source": [
    "name.capitalize()"
   ]
  },
  {
   "cell_type": "markdown",
   "id": "3a9423c9",
   "metadata": {},
   "source": [
    "# print function"
   ]
  },
  {
   "cell_type": "markdown",
   "id": "8f1aa4a2",
   "metadata": {},
   "source": [
    "__print(*objects,\tsep='\t',\tend='\\n')"
   ]
  },
  {
   "cell_type": "code",
   "execution_count": 43,
   "id": "62a2bbe1",
   "metadata": {},
   "outputs": [
    {
     "name": "stdout",
     "output_type": "stream",
     "text": [
      "I am Madhuri\n",
      "have a great day\n"
     ]
    }
   ],
   "source": [
    "print('I am Madhuri')\n",
    "print(\"have a great day\")"
   ]
  },
  {
   "cell_type": "code",
   "execution_count": 44,
   "id": "d5145e59",
   "metadata": {},
   "outputs": [
    {
     "name": "stdout",
     "output_type": "stream",
     "text": [
      "I am Madhuri have a great day\n"
     ]
    }
   ],
   "source": [
    "print('I am Madhuri',end=' ')\n",
    "print(\"have a great day\")"
   ]
  },
  {
   "cell_type": "code",
   "execution_count": 45,
   "id": "ef7f12f6",
   "metadata": {},
   "outputs": [
    {
     "name": "stdout",
     "output_type": "stream",
     "text": [
      "Madhuri Diwan\n"
     ]
    }
   ],
   "source": [
    "print('Madhuri',end=' ')\n",
    "print(\"Diwan\")"
   ]
  },
  {
   "cell_type": "code",
   "execution_count": 46,
   "id": "82501816",
   "metadata": {},
   "outputs": [
    {
     "name": "stdout",
     "output_type": "stream",
     "text": [
      "Madhuri Diwan\n"
     ]
    }
   ],
   "source": [
    "print('Madhuri','Diwan')\n"
   ]
  },
  {
   "cell_type": "code",
   "execution_count": 47,
   "id": "23cb600a",
   "metadata": {},
   "outputs": [
    {
     "name": "stdout",
     "output_type": "stream",
     "text": [
      "Madhuri&Diwan\n"
     ]
    }
   ],
   "source": [
    "print('Madhuri','Diwan',sep='&')\n"
   ]
  },
  {
   "cell_type": "code",
   "execution_count": 48,
   "id": "26ff6466",
   "metadata": {},
   "outputs": [],
   "source": [
    "name='madhuri'"
   ]
  },
  {
   "cell_type": "code",
   "execution_count": 50,
   "id": "8ac8836c",
   "metadata": {},
   "outputs": [],
   "source": [
    "marks=80"
   ]
  },
  {
   "cell_type": "code",
   "execution_count": 51,
   "id": "a4d762d2",
   "metadata": {},
   "outputs": [
    {
     "name": "stdout",
     "output_type": "stream",
     "text": [
      "my name is madhuri marks is 80\n"
     ]
    }
   ],
   "source": [
    "print(\"my name is\",name,\"marks is\",marks)"
   ]
  },
  {
   "cell_type": "markdown",
   "id": "dd87c4ff",
   "metadata": {},
   "source": [
    "# by string concatenation "
   ]
  },
  {
   "cell_type": "code",
   "execution_count": 52,
   "id": "888dd5cc",
   "metadata": {},
   "outputs": [
    {
     "name": "stdout",
     "output_type": "stream",
     "text": [
      "my name is  madhuri & marks is  80\n"
     ]
    }
   ],
   "source": [
    "print(\"my name is  \"+name+\" & marks is  \"+str(marks))"
   ]
  },
  {
   "cell_type": "markdown",
   "id": "c9b73c08",
   "metadata": {},
   "source": [
    "# f-string"
   ]
  },
  {
   "cell_type": "code",
   "execution_count": 53,
   "id": "3f02e30e",
   "metadata": {},
   "outputs": [],
   "source": [
    "name=\"madhuri\"\n",
    "marks=60"
   ]
  },
  {
   "cell_type": "code",
   "execution_count": 54,
   "id": "fd16f01b",
   "metadata": {},
   "outputs": [
    {
     "name": "stdout",
     "output_type": "stream",
     "text": [
      "my name is madhuri and marks is 60\n"
     ]
    }
   ],
   "source": [
    "print(f\"my name is {name} and marks is {marks}\")"
   ]
  },
  {
   "cell_type": "code",
   "execution_count": 55,
   "id": "9c64744b",
   "metadata": {},
   "outputs": [
    {
     "name": "stdout",
     "output_type": "stream",
     "text": [
      "my name is madhuri and marks is 120\n"
     ]
    }
   ],
   "source": [
    "print(f\"my name is {name} and marks is {marks*2}\")"
   ]
  },
  {
   "cell_type": "markdown",
   "id": "3d2f24aa",
   "metadata": {},
   "source": [
    "# .format()"
   ]
  },
  {
   "cell_type": "code",
   "execution_count": 56,
   "id": "acd9a221",
   "metadata": {},
   "outputs": [
    {
     "name": "stdout",
     "output_type": "stream",
     "text": [
      "my name is madhuri and marks is 60\n"
     ]
    }
   ],
   "source": [
    "print(\"my name is {} and marks is {}\" .format(name,marks)) "
   ]
  },
  {
   "cell_type": "code",
   "execution_count": 57,
   "id": "11afc7d4",
   "metadata": {},
   "outputs": [
    {
     "name": "stdout",
     "output_type": "stream",
     "text": [
      "my name is 60 and marks is madhuri\n"
     ]
    }
   ],
   "source": [
    "print(\"my name is {1} and marks is {0}\" .format(name,marks))"
   ]
  },
  {
   "cell_type": "code",
   "execution_count": 58,
   "id": "4d952d8f",
   "metadata": {},
   "outputs": [
    {
     "name": "stdout",
     "output_type": "stream",
     "text": [
      "my name is Madhuri and marks is 80\n"
     ]
    }
   ],
   "source": [
    "print(\"my name is {name} and marks is {marks}\" .format(name='Madhuri',marks=80))"
   ]
  },
  {
   "cell_type": "code",
   "execution_count": 119,
   "id": "d5dddf57",
   "metadata": {},
   "outputs": [],
   "source": [
    "marks=80.2345"
   ]
  },
  {
   "cell_type": "code",
   "execution_count": 59,
   "id": "bd1a5443",
   "metadata": {},
   "outputs": [
    {
     "name": "stdout",
     "output_type": "stream",
     "text": [
      "my name is madhuri and marks is 60\n"
     ]
    }
   ],
   "source": [
    "print(\"my name is {} and marks is {}\" .format(name,marks)) "
   ]
  },
  {
   "cell_type": "code",
   "execution_count": 60,
   "id": "0049b342",
   "metadata": {},
   "outputs": [
    {
     "name": "stdout",
     "output_type": "stream",
     "text": [
      "my name is madhuri and marks is 60.00\n"
     ]
    }
   ],
   "source": [
    "print(\"my name is {} and marks is {:.2f}\" .format(name,marks)) "
   ]
  },
  {
   "cell_type": "code",
   "execution_count": 61,
   "id": "1eb4412f",
   "metadata": {},
   "outputs": [
    {
     "name": "stdout",
     "output_type": "stream",
     "text": [
      "my name is madhuri and marks is 60.000\n"
     ]
    }
   ],
   "source": [
    "print(\"my name is {} and marks is {:.3f}\" .format(name,marks)) "
   ]
  },
  {
   "cell_type": "code",
   "execution_count": 63,
   "id": "f7a81c20",
   "metadata": {},
   "outputs": [],
   "source": [
    "num=145555555"
   ]
  },
  {
   "cell_type": "code",
   "execution_count": 64,
   "id": "1905418c",
   "metadata": {},
   "outputs": [
    {
     "name": "stdout",
     "output_type": "stream",
     "text": [
      "my name is madhuri and marks is 145,555,555\n"
     ]
    }
   ],
   "source": [
    "print(\"my name is {} and marks is {:,}\" .format(name,num)) "
   ]
  },
  {
   "cell_type": "markdown",
   "id": "7b6f19c4",
   "metadata": {},
   "source": [
    "# Multiline comment"
   ]
  },
  {
   "cell_type": "code",
   "execution_count": 35,
   "id": "bc599c2f",
   "metadata": {},
   "outputs": [
    {
     "name": "stdout",
     "output_type": "stream",
     "text": [
      "Hello world\n"
     ]
    }
   ],
   "source": [
    "'''This is my first program\n",
    "     date: 2/4/2020\n",
    "     Good '''\n",
    "print('Hello world')"
   ]
  },
  {
   "cell_type": "markdown",
   "id": "79221b72",
   "metadata": {},
   "source": [
    "# multline string"
   ]
  },
  {
   "cell_type": "code",
   "execution_count": 126,
   "id": "697383e5",
   "metadata": {},
   "outputs": [
    {
     "name": "stdout",
     "output_type": "stream",
     "text": [
      "This is my first program\n",
      "     date: 2/4/2020\n",
      "     Good \n"
     ]
    }
   ],
   "source": [
    "word='''This is my first program\n",
    "     date: 2/4/2020\n",
    "     Good '''\n",
    "print(word)"
   ]
  },
  {
   "cell_type": "markdown",
   "id": "866f1e1e",
   "metadata": {},
   "source": [
    "# docstring"
   ]
  },
  {
   "cell_type": "markdown",
   "id": "4bc5ed79",
   "metadata": {},
   "source": [
    "A docstring is a documentation string. Like a  comment, this Python Syntax is used to explain  code.\n",
    "But unlike comments, they are more specific. Also,  they are retained at runtime!"
   ]
  },
  {
   "cell_type": "markdown",
   "id": "85270b1e",
   "metadata": {},
   "source": [
    "__documentation is a process of leaving information about your code...it is done by two way 1) comment  2)docstring\n",
    "so  Docstring is a triple quoted string literal that appears right after defination of function ,method,class,module"
   ]
  },
  {
   "cell_type": "code",
   "execution_count": 127,
   "id": "c557776a",
   "metadata": {},
   "outputs": [
    {
     "name": "stdout",
     "output_type": "stream",
     "text": [
      "11\n"
     ]
    }
   ],
   "source": [
    "def add(a,b):\n",
    "    '''This is addition function\n",
    "        returns result'''\n",
    "    return a+b\n",
    "result=add(5,6)\n",
    "print(result)"
   ]
  },
  {
   "cell_type": "code",
   "execution_count": 128,
   "id": "2d77915a",
   "metadata": {},
   "outputs": [
    {
     "name": "stdout",
     "output_type": "stream",
     "text": [
      "This is addition function\n",
      "        returns result\n"
     ]
    }
   ],
   "source": [
    "print(add.__doc__)"
   ]
  },
  {
   "cell_type": "code",
   "execution_count": 129,
   "id": "9b6a6e6c",
   "metadata": {},
   "outputs": [
    {
     "name": "stdout",
     "output_type": "stream",
     "text": [
      "Help on built-in function len in module builtins:\n",
      "\n",
      "len(obj, /)\n",
      "    Return the number of items in a container.\n",
      "\n"
     ]
    }
   ],
   "source": [
    "help(len)"
   ]
  },
  {
   "cell_type": "code",
   "execution_count": 130,
   "id": "c8b8dc66",
   "metadata": {},
   "outputs": [
    {
     "name": "stdout",
     "output_type": "stream",
     "text": [
      "Return the number of items in a container.\n"
     ]
    }
   ],
   "source": [
    "print(len.__doc__)\n"
   ]
  },
  {
   "cell_type": "markdown",
   "id": "c393a1fc",
   "metadata": {},
   "source": [
    "# Escape sequence character"
   ]
  },
  {
   "cell_type": "code",
   "execution_count": 3,
   "id": "b3911230",
   "metadata": {},
   "outputs": [
    {
     "name": "stdout",
     "output_type": "stream",
     "text": [
      "Hi suraj are\n",
      " you there\n"
     ]
    }
   ],
   "source": [
    "print(\"Hi suraj are\\n you there\")"
   ]
  },
  {
   "cell_type": "code",
   "execution_count": 132,
   "id": "e4e759a7",
   "metadata": {},
   "outputs": [
    {
     "name": "stdout",
     "output_type": "stream",
     "text": [
      "Hi suraj are\t you there\n"
     ]
    }
   ],
   "source": [
    "print(\"Hi suraj are\\t you there\")"
   ]
  },
  {
   "cell_type": "code",
   "execution_count": 10,
   "id": "3eda5975",
   "metadata": {},
   "outputs": [
    {
     "name": "stdout",
     "output_type": "stream",
     "text": [
      "Hi suraj are\u000b",
      " you there\n"
     ]
    }
   ],
   "source": [
    "print(\"Hi suraj are\\v you there\")"
   ]
  },
  {
   "cell_type": "code",
   "execution_count": 134,
   "id": "76910f4a",
   "metadata": {},
   "outputs": [
    {
     "name": "stdout",
     "output_type": "stream",
     "text": [
      "Hi suraj are\r",
      " you there\n"
     ]
    }
   ],
   "source": [
    "print(\"Hi suraj are\\r you there\")"
   ]
  },
  {
   "cell_type": "code",
   "execution_count": 7,
   "id": "4cabcb5a",
   "metadata": {},
   "outputs": [
    {
     "name": "stdout",
     "output_type": "stream",
     "text": [
      "Hi suraj are\b you there\n"
     ]
    }
   ],
   "source": [
    "print(\"Hi suraj are\\b you there\")"
   ]
  },
  {
   "cell_type": "code",
   "execution_count": 136,
   "id": "e60894fa",
   "metadata": {},
   "outputs": [
    {
     "name": "stdout",
     "output_type": "stream",
     "text": [
      "Hi suraj are\u0007 you there\n"
     ]
    }
   ],
   "source": [
    "print(\"Hi suraj are\\a you there\")"
   ]
  },
  {
   "cell_type": "code",
   "execution_count": 137,
   "id": "9c779349",
   "metadata": {},
   "outputs": [
    {
     "name": "stdout",
     "output_type": "stream",
     "text": [
      "Hi suraj are\\ you there\n"
     ]
    }
   ],
   "source": [
    "print(\"Hi suraj are\\\\ you there\")"
   ]
  },
  {
   "cell_type": "code",
   "execution_count": 138,
   "id": "bf780d79",
   "metadata": {},
   "outputs": [
    {
     "name": "stdout",
     "output_type": "stream",
     "text": [
      "Hi suraj are\\ you there\n"
     ]
    }
   ],
   "source": [
    "print(\"Hi suraj are\\ you there\")"
   ]
  },
  {
   "cell_type": "markdown",
   "id": "9d6b75c3",
   "metadata": {},
   "source": [
    "# raw string"
   ]
  },
  {
   "cell_type": "code",
   "execution_count": 139,
   "id": "33f1e003",
   "metadata": {},
   "outputs": [
    {
     "name": "stdout",
     "output_type": "stream",
     "text": [
      "c:\\docs\n",
      "avin\n"
     ]
    }
   ],
   "source": [
    "print('c:\\docs\\navin')"
   ]
  },
  {
   "cell_type": "code",
   "execution_count": 140,
   "id": "9989fed1",
   "metadata": {},
   "outputs": [
    {
     "name": "stdout",
     "output_type": "stream",
     "text": [
      "c:\\docs\\navin\n"
     ]
    }
   ],
   "source": [
    "print(r'c:\\docs\\navin')"
   ]
  },
  {
   "cell_type": "code",
   "execution_count": 5,
   "id": "1d5104e5",
   "metadata": {},
   "outputs": [
    {
     "name": "stdout",
     "output_type": "stream",
     "text": [
      "c:\\docs\\navin\n"
     ]
    }
   ],
   "source": [
    "print('c:\\docs\\\\navin')"
   ]
  },
  {
   "cell_type": "code",
   "execution_count": 9,
   "id": "28154d80",
   "metadata": {},
   "outputs": [
    {
     "data": {
      "text/plain": [
       "'2suraj'"
      ]
     },
     "execution_count": 9,
     "metadata": {},
     "output_type": "execute_result"
    }
   ],
   "source": [
    "a=2;name='suraj';str(a)+name"
   ]
  },
  {
   "cell_type": "markdown",
   "id": "2e1dd5eb",
   "metadata": {},
   "source": [
    "# Unicode"
   ]
  },
  {
   "cell_type": "code",
   "execution_count": 144,
   "id": "2a4ed9b3",
   "metadata": {},
   "outputs": [],
   "source": [
    "s=u'\\u0937'"
   ]
  },
  {
   "cell_type": "code",
   "execution_count": 145,
   "id": "5628eb4b",
   "metadata": {},
   "outputs": [
    {
     "data": {
      "text/plain": [
       "'ष'"
      ]
     },
     "execution_count": 145,
     "metadata": {},
     "output_type": "execute_result"
    }
   ],
   "source": [
    "s"
   ]
  },
  {
   "cell_type": "code",
   "execution_count": 146,
   "id": "d1aa3f55",
   "metadata": {},
   "outputs": [],
   "source": [
    "s=u'\\u0567'"
   ]
  },
  {
   "cell_type": "code",
   "execution_count": 147,
   "id": "d4082a0a",
   "metadata": {},
   "outputs": [
    {
     "data": {
      "text/plain": [
       "'է'"
      ]
     },
     "execution_count": 147,
     "metadata": {},
     "output_type": "execute_result"
    }
   ],
   "source": [
    "s"
   ]
  },
  {
   "cell_type": "code",
   "execution_count": 148,
   "id": "1444d8d5",
   "metadata": {},
   "outputs": [],
   "source": [
    "s=u'\\u0362'"
   ]
  },
  {
   "cell_type": "code",
   "execution_count": 149,
   "id": "7a0a0b8f",
   "metadata": {},
   "outputs": [
    {
     "data": {
      "text/plain": [
       "'͢'"
      ]
     },
     "execution_count": 149,
     "metadata": {},
     "output_type": "execute_result"
    }
   ],
   "source": [
    "s"
   ]
  },
  {
   "cell_type": "code",
   "execution_count": 150,
   "id": "65cba1f2",
   "metadata": {},
   "outputs": [],
   "source": [
    "s=u'\\u0862'"
   ]
  },
  {
   "cell_type": "code",
   "execution_count": 151,
   "id": "e5712bbe",
   "metadata": {},
   "outputs": [
    {
     "data": {
      "text/plain": [
       "'ࡢ'"
      ]
     },
     "execution_count": 151,
     "metadata": {},
     "output_type": "execute_result"
    }
   ],
   "source": [
    "s"
   ]
  },
  {
   "cell_type": "code",
   "execution_count": 152,
   "id": "2918c8c0",
   "metadata": {},
   "outputs": [],
   "source": [
    "s=u'\\u0852'"
   ]
  },
  {
   "cell_type": "code",
   "execution_count": 153,
   "id": "506018a3",
   "metadata": {},
   "outputs": [
    {
     "data": {
      "text/plain": [
       "'ࡒ'"
      ]
     },
     "execution_count": 153,
     "metadata": {},
     "output_type": "execute_result"
    }
   ],
   "source": [
    "s"
   ]
  }
 ],
 "metadata": {
  "kernelspec": {
   "display_name": "Python 3",
   "language": "python",
   "name": "python3"
  },
  "language_info": {
   "codemirror_mode": {
    "name": "ipython",
    "version": 3
   },
   "file_extension": ".py",
   "mimetype": "text/x-python",
   "name": "python",
   "nbconvert_exporter": "python",
   "pygments_lexer": "ipython3",
   "version": "3.8.8"
  }
 },
 "nbformat": 4,
 "nbformat_minor": 5
}
