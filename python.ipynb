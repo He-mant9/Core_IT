{
 "cells": [
  {
   "cell_type": "markdown",
   "id": "4262f8a1",
   "metadata": {},
   "source": [
    " # (Hemant_Khambait) \n",
    "\n",
    "\n",
    "# arthmetic oprator\n"
   ]
  },
  {
   "cell_type": "code",
   "execution_count": 8,
   "id": "267899f1",
   "metadata": {},
   "outputs": [],
   "source": [
    "a=10\n",
    "b=20"
   ]
  },
  {
   "cell_type": "code",
   "execution_count": 9,
   "id": "19ccc50d",
   "metadata": {},
   "outputs": [
    {
     "data": {
      "text/plain": [
       "30"
      ]
     },
     "execution_count": 9,
     "metadata": {},
     "output_type": "execute_result"
    }
   ],
   "source": [
    "a+b"
   ]
  },
  {
   "cell_type": "code",
   "execution_count": 10,
   "id": "b76d47d1",
   "metadata": {},
   "outputs": [
    {
     "data": {
      "text/plain": [
       "-10"
      ]
     },
     "execution_count": 10,
     "metadata": {},
     "output_type": "execute_result"
    }
   ],
   "source": [
    "a-b"
   ]
  },
  {
   "cell_type": "code",
   "execution_count": 11,
   "id": "18813f4c",
   "metadata": {},
   "outputs": [
    {
     "data": {
      "text/plain": [
       "200"
      ]
     },
     "execution_count": 11,
     "metadata": {},
     "output_type": "execute_result"
    }
   ],
   "source": [
    "a*b"
   ]
  },
  {
   "cell_type": "code",
   "execution_count": 12,
   "id": "5da474ae",
   "metadata": {},
   "outputs": [
    {
     "data": {
      "text/plain": [
       "0.5"
      ]
     },
     "execution_count": 12,
     "metadata": {},
     "output_type": "execute_result"
    }
   ],
   "source": [
    "a/b"
   ]
  },
  {
   "cell_type": "markdown",
   "id": "699d66d5",
   "metadata": {},
   "source": [
    "# relational operator"
   ]
  },
  {
   "cell_type": "code",
   "execution_count": 13,
   "id": "343fd809",
   "metadata": {},
   "outputs": [],
   "source": [
    "a=50\n",
    "b=100"
   ]
  },
  {
   "cell_type": "code",
   "execution_count": 14,
   "id": "017d70b6",
   "metadata": {},
   "outputs": [
    {
     "data": {
      "text/plain": [
       "False"
      ]
     },
     "execution_count": 14,
     "metadata": {},
     "output_type": "execute_result"
    }
   ],
   "source": [
    "a>b"
   ]
  },
  {
   "cell_type": "code",
   "execution_count": 15,
   "id": "4623baa5",
   "metadata": {},
   "outputs": [
    {
     "data": {
      "text/plain": [
       "True"
      ]
     },
     "execution_count": 15,
     "metadata": {},
     "output_type": "execute_result"
    }
   ],
   "source": [
    "a<b"
   ]
  },
  {
   "cell_type": "code",
   "execution_count": 16,
   "id": "10c0a6b7",
   "metadata": {},
   "outputs": [
    {
     "data": {
      "text/plain": [
       "False"
      ]
     },
     "execution_count": 16,
     "metadata": {},
     "output_type": "execute_result"
    }
   ],
   "source": [
    "a==b"
   ]
  },
  {
   "cell_type": "code",
   "execution_count": 17,
   "id": "356f91d8",
   "metadata": {},
   "outputs": [
    {
     "data": {
      "text/plain": [
       "True"
      ]
     },
     "execution_count": 17,
     "metadata": {},
     "output_type": "execute_result"
    }
   ],
   "source": [
    "a!=b"
   ]
  },
  {
   "cell_type": "markdown",
   "id": "f7ccade3",
   "metadata": {},
   "source": [
    "# logical oparator (& |)"
   ]
  },
  {
   "cell_type": "code",
   "execution_count": 18,
   "id": "d048666f",
   "metadata": {},
   "outputs": [],
   "source": [
    "a= True\n",
    "b= False"
   ]
  },
  {
   "cell_type": "code",
   "execution_count": 19,
   "id": "850583ba",
   "metadata": {},
   "outputs": [
    {
     "data": {
      "text/plain": [
       "True"
      ]
     },
     "execution_count": 19,
     "metadata": {},
     "output_type": "execute_result"
    }
   ],
   "source": [
    "a & a"
   ]
  },
  {
   "cell_type": "code",
   "execution_count": 20,
   "id": "088ef83d",
   "metadata": {},
   "outputs": [
    {
     "data": {
      "text/plain": [
       "False"
      ]
     },
     "execution_count": 20,
     "metadata": {},
     "output_type": "execute_result"
    }
   ],
   "source": [
    "a & b"
   ]
  },
  {
   "cell_type": "code",
   "execution_count": 21,
   "id": "c815c5b4",
   "metadata": {},
   "outputs": [
    {
     "data": {
      "text/plain": [
       "False"
      ]
     },
     "execution_count": 21,
     "metadata": {},
     "output_type": "execute_result"
    }
   ],
   "source": [
    "b & b"
   ]
  },
  {
   "cell_type": "code",
   "execution_count": 22,
   "id": "47e576fa",
   "metadata": {},
   "outputs": [
    {
     "data": {
      "text/plain": [
       "True"
      ]
     },
     "execution_count": 22,
     "metadata": {},
     "output_type": "execute_result"
    }
   ],
   "source": [
    "a | a"
   ]
  },
  {
   "cell_type": "code",
   "execution_count": 23,
   "id": "9d5ba2a4",
   "metadata": {},
   "outputs": [
    {
     "data": {
      "text/plain": [
       "True"
      ]
     },
     "execution_count": 23,
     "metadata": {},
     "output_type": "execute_result"
    }
   ],
   "source": [
    "b | a"
   ]
  },
  {
   "cell_type": "markdown",
   "id": "9e6b2432",
   "metadata": {},
   "source": [
    "# str (string)"
   ]
  },
  {
   "cell_type": "code",
   "execution_count": 24,
   "id": "43ddff98",
   "metadata": {},
   "outputs": [],
   "source": [
    "str1 = 'I am Hemant'"
   ]
  },
  {
   "cell_type": "code",
   "execution_count": 25,
   "id": "68372971",
   "metadata": {},
   "outputs": [
    {
     "data": {
      "text/plain": [
       "'I am Hemant'"
      ]
     },
     "execution_count": 25,
     "metadata": {},
     "output_type": "execute_result"
    }
   ],
   "source": [
    "str1"
   ]
  },
  {
   "cell_type": "code",
   "execution_count": 26,
   "id": "a42e24bf",
   "metadata": {},
   "outputs": [],
   "source": [
    "str3 = '''in this\n",
    "string we can write\n",
    "lots of line in it\n",
    "'''"
   ]
  },
  {
   "cell_type": "code",
   "execution_count": 27,
   "id": "b83670d1",
   "metadata": {},
   "outputs": [
    {
     "data": {
      "text/plain": [
       "'in this\\nstring we can write\\nlots of line in it\\n'"
      ]
     },
     "execution_count": 27,
     "metadata": {},
     "output_type": "execute_result"
    }
   ],
   "source": [
    "str3"
   ]
  },
  {
   "cell_type": "code",
   "execution_count": 28,
   "id": "76663cce",
   "metadata": {},
   "outputs": [],
   "source": [
    "str4 = \"I am Student\""
   ]
  },
  {
   "cell_type": "code",
   "execution_count": 29,
   "id": "8c600634",
   "metadata": {},
   "outputs": [
    {
     "data": {
      "text/plain": [
       "'I'"
      ]
     },
     "execution_count": 29,
     "metadata": {},
     "output_type": "execute_result"
    }
   ],
   "source": [
    "str4 [0]"
   ]
  },
  {
   "cell_type": "code",
   "execution_count": 30,
   "id": "c76a9bc2",
   "metadata": {},
   "outputs": [
    {
     "data": {
      "text/plain": [
       "'t'"
      ]
     },
     "execution_count": 30,
     "metadata": {},
     "output_type": "execute_result"
    }
   ],
   "source": [
    "str4 [-1]"
   ]
  },
  {
   "cell_type": "code",
   "execution_count": 31,
   "id": "39786c4f",
   "metadata": {},
   "outputs": [
    {
     "data": {
      "text/plain": [
       "'Student'"
      ]
     },
     "execution_count": 31,
     "metadata": {},
     "output_type": "execute_result"
    }
   ],
   "source": [
    "str4 [5:13]"
   ]
  },
  {
   "cell_type": "code",
   "execution_count": 32,
   "id": "3a78bfca",
   "metadata": {},
   "outputs": [
    {
     "data": {
      "text/plain": [
       "'S'"
      ]
     },
     "execution_count": 32,
     "metadata": {},
     "output_type": "execute_result"
    }
   ],
   "source": [
    "str4 [5 & 13]"
   ]
  },
  {
   "cell_type": "code",
   "execution_count": 33,
   "id": "81a73065",
   "metadata": {},
   "outputs": [
    {
     "data": {
      "text/plain": [
       "12"
      ]
     },
     "execution_count": 33,
     "metadata": {},
     "output_type": "execute_result"
    }
   ],
   "source": [
    "len(str4)"
   ]
  },
  {
   "cell_type": "code",
   "execution_count": 34,
   "id": "3eda0565",
   "metadata": {},
   "outputs": [
    {
     "data": {
      "text/plain": [
       "'i am student'"
      ]
     },
     "execution_count": 34,
     "metadata": {},
     "output_type": "execute_result"
    }
   ],
   "source": [
    "str4.lower()"
   ]
  },
  {
   "cell_type": "code",
   "execution_count": 35,
   "id": "d8fdb44b",
   "metadata": {},
   "outputs": [
    {
     "data": {
      "text/plain": [
       "'I AM STUDENT'"
      ]
     },
     "execution_count": 35,
     "metadata": {},
     "output_type": "execute_result"
    }
   ],
   "source": [
    "str4.upper()"
   ]
  },
  {
   "cell_type": "code",
   "execution_count": 36,
   "id": "8a7ffb3c",
   "metadata": {},
   "outputs": [],
   "source": [
    "name = \"I am soljar\""
   ]
  },
  {
   "cell_type": "code",
   "execution_count": 37,
   "id": "98565caf",
   "metadata": {},
   "outputs": [
    {
     "data": {
      "text/plain": [
       "'I am soljar'"
      ]
     },
     "execution_count": 37,
     "metadata": {},
     "output_type": "execute_result"
    }
   ],
   "source": [
    "name.replace('y' , 'a')"
   ]
  },
  {
   "cell_type": "code",
   "execution_count": 38,
   "id": "5f3adedb",
   "metadata": {},
   "outputs": [
    {
     "data": {
      "text/plain": [
       "'I ym soljyr'"
      ]
     },
     "execution_count": 38,
     "metadata": {},
     "output_type": "execute_result"
    }
   ],
   "source": [
    "name.replace('a' , 'y')"
   ]
  },
  {
   "cell_type": "code",
   "execution_count": 39,
   "id": "8b6019e2",
   "metadata": {},
   "outputs": [
    {
     "data": {
      "text/plain": [
       "'I am soljar'"
      ]
     },
     "execution_count": 39,
     "metadata": {},
     "output_type": "execute_result"
    }
   ],
   "source": [
    "name"
   ]
  },
  {
   "cell_type": "code",
   "execution_count": 40,
   "id": "729eb3df",
   "metadata": {},
   "outputs": [
    {
     "data": {
      "text/plain": [
       "2"
      ]
     },
     "execution_count": 40,
     "metadata": {},
     "output_type": "execute_result"
    }
   ],
   "source": [
    "name.count('a')"
   ]
  },
  {
   "cell_type": "code",
   "execution_count": 41,
   "id": "3ddad8a8",
   "metadata": {},
   "outputs": [
    {
     "data": {
      "text/plain": [
       "'I am soljar'"
      ]
     },
     "execution_count": 41,
     "metadata": {},
     "output_type": "execute_result"
    }
   ],
   "source": [
    "name.replace('my','ma')"
   ]
  },
  {
   "cell_type": "code",
   "execution_count": 42,
   "id": "55670906",
   "metadata": {},
   "outputs": [
    {
     "data": {
      "text/plain": [
       "'I am soljar'"
      ]
     },
     "execution_count": 42,
     "metadata": {},
     "output_type": "execute_result"
    }
   ],
   "source": [
    "name.replace('ma','my')"
   ]
  },
  {
   "cell_type": "code",
   "execution_count": 43,
   "id": "dd005835",
   "metadata": {},
   "outputs": [],
   "source": [
    "a1 = \" i like apple, banana, mango\""
   ]
  },
  {
   "cell_type": "code",
   "execution_count": 44,
   "id": "fc84bc17",
   "metadata": {},
   "outputs": [
    {
     "data": {
      "text/plain": [
       "[' i like apple', ' banana', ' mango']"
      ]
     },
     "execution_count": 44,
     "metadata": {},
     "output_type": "execute_result"
    }
   ],
   "source": [
    "a1.split(',')"
   ]
  },
  {
   "cell_type": "markdown",
   "id": "d97051cb",
   "metadata": {},
   "source": [
    "# tuple"
   ]
  },
  {
   "cell_type": "code",
   "execution_count": 45,
   "id": "21dbf5f3",
   "metadata": {},
   "outputs": [],
   "source": [
    "tup1= (20,'hemant',3.4,3-4j,True)"
   ]
  },
  {
   "cell_type": "code",
   "execution_count": 46,
   "id": "7dfd3d5d",
   "metadata": {},
   "outputs": [
    {
     "data": {
      "text/plain": [
       "(20, 'hemant', 3.4, (3-4j), True)"
      ]
     },
     "execution_count": 46,
     "metadata": {},
     "output_type": "execute_result"
    }
   ],
   "source": [
    "tup1"
   ]
  },
  {
   "cell_type": "code",
   "execution_count": 47,
   "id": "8b4f1ca4",
   "metadata": {},
   "outputs": [
    {
     "data": {
      "text/plain": [
       "tuple"
      ]
     },
     "execution_count": 47,
     "metadata": {},
     "output_type": "execute_result"
    }
   ],
   "source": [
    "type(tup1)"
   ]
  },
  {
   "cell_type": "code",
   "execution_count": 48,
   "id": "bf163a86",
   "metadata": {},
   "outputs": [
    {
     "data": {
      "text/plain": [
       "20"
      ]
     },
     "execution_count": 48,
     "metadata": {},
     "output_type": "execute_result"
    }
   ],
   "source": [
    "tup1[0]"
   ]
  },
  {
   "cell_type": "code",
   "execution_count": 49,
   "id": "b136beb8",
   "metadata": {},
   "outputs": [
    {
     "data": {
      "text/plain": [
       "True"
      ]
     },
     "execution_count": 49,
     "metadata": {},
     "output_type": "execute_result"
    }
   ],
   "source": [
    "tup1[-1]"
   ]
  },
  {
   "cell_type": "code",
   "execution_count": 50,
   "id": "ac97633d",
   "metadata": {},
   "outputs": [
    {
     "data": {
      "text/plain": [
       "(20, 'hemant')"
      ]
     },
     "execution_count": 50,
     "metadata": {},
     "output_type": "execute_result"
    }
   ],
   "source": [
    "tup1[0:2]"
   ]
  },
  {
   "cell_type": "code",
   "execution_count": 51,
   "id": "d3a4fd53",
   "metadata": {},
   "outputs": [
    {
     "data": {
      "text/plain": [
       "5"
      ]
     },
     "execution_count": 51,
     "metadata": {},
     "output_type": "execute_result"
    }
   ],
   "source": [
    "len(tup1)"
   ]
  },
  {
   "cell_type": "markdown",
   "id": "abbb7052",
   "metadata": {},
   "source": [
    "# list"
   ]
  },
  {
   "cell_type": "code",
   "execution_count": 53,
   "id": "c0f52fd6",
   "metadata": {},
   "outputs": [],
   "source": [
    "list1=[20,'hemant',True,3.4]"
   ]
  },
  {
   "cell_type": "code",
   "execution_count": 54,
   "id": "5908b48a",
   "metadata": {},
   "outputs": [
    {
     "data": {
      "text/plain": [
       "'hemant'"
      ]
     },
     "execution_count": 54,
     "metadata": {},
     "output_type": "execute_result"
    }
   ],
   "source": [
    "list1[1]"
   ]
  },
  {
   "cell_type": "code",
   "execution_count": 55,
   "id": "7484e486",
   "metadata": {},
   "outputs": [
    {
     "data": {
      "text/plain": [
       "[True, 3.4]"
      ]
     },
     "execution_count": 55,
     "metadata": {},
     "output_type": "execute_result"
    }
   ],
   "source": [
    "list1[2:4]"
   ]
  },
  {
   "cell_type": "code",
   "execution_count": 56,
   "id": "41f298cd",
   "metadata": {},
   "outputs": [],
   "source": [
    "list1[1]=100"
   ]
  },
  {
   "cell_type": "code",
   "execution_count": 57,
   "id": "29b4ece3",
   "metadata": {},
   "outputs": [
    {
     "data": {
      "text/plain": [
       "[20, 100, True, 3.4]"
      ]
     },
     "execution_count": 57,
     "metadata": {},
     "output_type": "execute_result"
    }
   ],
   "source": [
    "list1"
   ]
  },
  {
   "cell_type": "code",
   "execution_count": 58,
   "id": "e476fb4a",
   "metadata": {},
   "outputs": [],
   "source": [
    "list1.append('hello')"
   ]
  },
  {
   "cell_type": "code",
   "execution_count": 59,
   "id": "d27bd3fc",
   "metadata": {},
   "outputs": [
    {
     "data": {
      "text/plain": [
       "'hello'"
      ]
     },
     "execution_count": 59,
     "metadata": {},
     "output_type": "execute_result"
    }
   ],
   "source": [
    "list1.pop(-1)"
   ]
  },
  {
   "cell_type": "code",
   "execution_count": 60,
   "id": "b94d89c6",
   "metadata": {},
   "outputs": [
    {
     "data": {
      "text/plain": [
       "[20, 100, True, 3.4]"
      ]
     },
     "execution_count": 60,
     "metadata": {},
     "output_type": "execute_result"
    }
   ],
   "source": [
    "list1"
   ]
  },
  {
   "cell_type": "code",
   "execution_count": 61,
   "id": "f15dfcee",
   "metadata": {},
   "outputs": [],
   "source": [
    "list1.append('hemant')"
   ]
  },
  {
   "cell_type": "code",
   "execution_count": 62,
   "id": "6ff60e6c",
   "metadata": {},
   "outputs": [
    {
     "data": {
      "text/plain": [
       "[20, 100, True, 3.4, 'hemant']"
      ]
     },
     "execution_count": 62,
     "metadata": {},
     "output_type": "execute_result"
    }
   ],
   "source": [
    "list1"
   ]
  },
  {
   "cell_type": "code",
   "execution_count": 63,
   "id": "cb2523d8",
   "metadata": {},
   "outputs": [
    {
     "data": {
      "text/plain": [
       "100"
      ]
     },
     "execution_count": 63,
     "metadata": {},
     "output_type": "execute_result"
    }
   ],
   "source": [
    "list1.pop(1)"
   ]
  },
  {
   "cell_type": "markdown",
   "id": "c57a358d",
   "metadata": {},
   "source": [
    "# dictionary"
   ]
  },
  {
   "cell_type": "code",
   "execution_count": 64,
   "id": "3ae43fd5",
   "metadata": {},
   "outputs": [],
   "source": [
    "dict1= {'Hemant':20,'pankaj':50,'shubham':20,'shashank':55}"
   ]
  },
  {
   "cell_type": "code",
   "execution_count": 65,
   "id": "59e68298",
   "metadata": {},
   "outputs": [
    {
     "data": {
      "text/plain": [
       "{'Hemant': 20, 'pankaj': 50, 'shubham': 20, 'shashank': 55}"
      ]
     },
     "execution_count": 65,
     "metadata": {},
     "output_type": "execute_result"
    }
   ],
   "source": [
    "dict1"
   ]
  },
  {
   "cell_type": "code",
   "execution_count": 66,
   "id": "0b2ded3f",
   "metadata": {},
   "outputs": [
    {
     "data": {
      "text/plain": [
       "dict_keys(['Hemant', 'pankaj', 'shubham', 'shashank'])"
      ]
     },
     "execution_count": 66,
     "metadata": {},
     "output_type": "execute_result"
    }
   ],
   "source": [
    "dict1.keys()"
   ]
  },
  {
   "cell_type": "code",
   "execution_count": 67,
   "id": "5dac345f",
   "metadata": {},
   "outputs": [
    {
     "data": {
      "text/plain": [
       "dict_values([20, 50, 20, 55])"
      ]
     },
     "execution_count": 67,
     "metadata": {},
     "output_type": "execute_result"
    }
   ],
   "source": [
    "dict1.values()"
   ]
  },
  {
   "cell_type": "code",
   "execution_count": 68,
   "id": "9d01663f",
   "metadata": {},
   "outputs": [],
   "source": [
    "dict1['Hemant']=20"
   ]
  },
  {
   "cell_type": "code",
   "execution_count": 69,
   "id": "ee50c466",
   "metadata": {},
   "outputs": [
    {
     "data": {
      "text/plain": [
       "{'Hemant': 20, 'pankaj': 50, 'shubham': 20, 'shashank': 55}"
      ]
     },
     "execution_count": 69,
     "metadata": {},
     "output_type": "execute_result"
    }
   ],
   "source": [
    "dict1"
   ]
  },
  {
   "cell_type": "code",
   "execution_count": 70,
   "id": "7a892611",
   "metadata": {},
   "outputs": [
    {
     "data": {
      "text/plain": [
       "20"
      ]
     },
     "execution_count": 70,
     "metadata": {},
     "output_type": "execute_result"
    }
   ],
   "source": [
    "dict1.pop('Hemant')"
   ]
  },
  {
   "cell_type": "markdown",
   "id": "deb9ccb3",
   "metadata": {},
   "source": [
    "# if..else.. statement"
   ]
  },
  {
   "cell_type": "code",
   "execution_count": 71,
   "id": "ae3fcc73",
   "metadata": {},
   "outputs": [],
   "source": [
    "a=20\n",
    "b=30"
   ]
  },
  {
   "cell_type": "code",
   "execution_count": 72,
   "id": "13b24e44",
   "metadata": {},
   "outputs": [
    {
     "name": "stdout",
     "output_type": "stream",
     "text": [
      "I am student\n"
     ]
    }
   ],
   "source": [
    "if a>b:\n",
    "    print(\"I am Hemant\")\n",
    "else:\n",
    "    print(\"I am student\")"
   ]
  },
  {
   "cell_type": "code",
   "execution_count": 73,
   "id": "11091c5e",
   "metadata": {},
   "outputs": [],
   "source": [
    "a=20\n",
    "b=30\n",
    "c=40"
   ]
  },
  {
   "cell_type": "code",
   "execution_count": 74,
   "id": "6542a364",
   "metadata": {},
   "outputs": [
    {
     "name": "stdout",
     "output_type": "stream",
     "text": [
      "c is greatest\n"
     ]
    }
   ],
   "source": [
    "if (a>b) & (a>c):\n",
    "    print(\"a is the greatest\")\n",
    "elif (b>a) & (b>c):\n",
    "    print(\"b is the greatest\")\n",
    "else:\n",
    "    print(\"c is greatest\")"
   ]
  },
  {
   "cell_type": "markdown",
   "id": "207c9cb5",
   "metadata": {},
   "source": [
    "# while loop"
   ]
  },
  {
   "cell_type": "code",
   "execution_count": 75,
   "id": "245d8210",
   "metadata": {},
   "outputs": [
    {
     "name": "stdout",
     "output_type": "stream",
     "text": [
      "1\n",
      "2\n",
      "3\n",
      "4\n",
      "5\n",
      "6\n",
      "7\n",
      "8\n",
      "9\n",
      "10\n"
     ]
    }
   ],
   "source": [
    "i=1\n",
    "while i<=10:\n",
    "    print(i)\n",
    "    i=i+1"
   ]
  },
  {
   "cell_type": "code",
   "execution_count": 76,
   "id": "d3616ad4",
   "metadata": {},
   "outputs": [
    {
     "name": "stdout",
     "output_type": "stream",
     "text": [
      "2  *  1  =  2\n",
      "2  *  2  =  4\n",
      "2  *  3  =  6\n",
      "2  *  4  =  8\n",
      "2  *  5  =  10\n",
      "2  *  6  =  12\n",
      "2  *  7  =  14\n",
      "2  *  8  =  16\n",
      "2  *  9  =  18\n",
      "2  *  10  =  20\n"
     ]
    }
   ],
   "source": [
    "i=1\n",
    "n=2\n",
    "while i<=10:\n",
    "    print(n, ' * ',i,' = ',n*i)\n",
    "    i=i+1"
   ]
  },
  {
   "cell_type": "markdown",
   "id": "f324d192",
   "metadata": {},
   "source": [
    "# for loop"
   ]
  },
  {
   "cell_type": "code",
   "execution_count": 77,
   "id": "fb428993",
   "metadata": {},
   "outputs": [],
   "source": [
    "l1=['prathamesh','hemant','lakhvir','adi']"
   ]
  },
  {
   "cell_type": "code",
   "execution_count": 78,
   "id": "9334d51b",
   "metadata": {},
   "outputs": [
    {
     "name": "stdout",
     "output_type": "stream",
     "text": [
      "prathamesh\n",
      "hemant\n",
      "lakhvir\n",
      "adi\n"
     ]
    }
   ],
   "source": [
    "for i in l1:\n",
    "    print(i)"
   ]
  },
  {
   "cell_type": "code",
   "execution_count": 80,
   "id": "33a7e58b",
   "metadata": {},
   "outputs": [],
   "source": [
    "var=\"\"\"If\n",
    "only\"\"\""
   ]
  },
  {
   "cell_type": "code",
   "execution_count": 81,
   "id": "84e324cf",
   "metadata": {},
   "outputs": [
    {
     "data": {
      "text/plain": [
       "'If\\nonly'"
      ]
     },
     "execution_count": 81,
     "metadata": {},
     "output_type": "execute_result"
    }
   ],
   "source": [
    "var"
   ]
  },
  {
   "cell_type": "code",
   "execution_count": 82,
   "id": "868171fe",
   "metadata": {},
   "outputs": [
    {
     "name": "stdout",
     "output_type": "stream",
     "text": [
      "If\n",
      "only\n"
     ]
    }
   ],
   "source": [
    "print(var)"
   ]
  },
  {
   "cell_type": "markdown",
   "id": "72994384",
   "metadata": {},
   "source": [
    "#  switch statemant"
   ]
  },
  {
   "cell_type": "code",
   "execution_count": 120,
   "id": "ebec52f3",
   "metadata": {},
   "outputs": [
    {
     "name": "stdout",
     "output_type": "stream",
     "text": [
      "pankaj\n"
     ]
    }
   ],
   "source": [
    "\n",
    "def numbers_to_strings(argument):\n",
    "\tswitcher = {\n",
    "\t\t0: \"Hemant\",\n",
    "\t\t1: \"pankaj\",\n",
    "\t\t2: \"shashank\",\n",
    "\t}\n",
    "\treturn switcher.get(argument, \"nothing\")\n",
    "\n",
    "# Driver program\n",
    "if __name__ == \"__main__\":\n",
    "\targument=1\n",
    "\tprint (numbers_to_strings(argument))\n"
   ]
  },
  {
   "cell_type": "markdown",
   "id": "a3715bb2",
   "metadata": {},
   "source": [
    "# bool"
   ]
  },
  {
   "cell_type": "code",
   "execution_count": 83,
   "id": "b5b84ceb",
   "metadata": {},
   "outputs": [
    {
     "data": {
      "text/plain": [
       "False"
      ]
     },
     "execution_count": 83,
     "metadata": {},
     "output_type": "execute_result"
    }
   ],
   "source": [
    "bool()"
   ]
  },
  {
   "cell_type": "code",
   "execution_count": 84,
   "id": "eb1fea19",
   "metadata": {},
   "outputs": [
    {
     "data": {
      "text/plain": [
       "True"
      ]
     },
     "execution_count": 84,
     "metadata": {},
     "output_type": "execute_result"
    }
   ],
   "source": [
    "bool(3)"
   ]
  },
  {
   "cell_type": "code",
   "execution_count": 85,
   "id": "2cec404d",
   "metadata": {},
   "outputs": [
    {
     "data": {
      "text/plain": [
       "False"
      ]
     },
     "execution_count": 85,
     "metadata": {},
     "output_type": "execute_result"
    }
   ],
   "source": [
    "bool(0)"
   ]
  },
  {
   "cell_type": "code",
   "execution_count": 86,
   "id": "0bcf5abf",
   "metadata": {},
   "outputs": [
    {
     "data": {
      "text/plain": [
       "True"
      ]
     },
     "execution_count": 86,
     "metadata": {},
     "output_type": "execute_result"
    }
   ],
   "source": [
    "bool(True)"
   ]
  },
  {
   "cell_type": "code",
   "execution_count": 87,
   "id": "50f0bb5d",
   "metadata": {},
   "outputs": [
    {
     "data": {
      "text/plain": [
       "True"
      ]
     },
     "execution_count": 87,
     "metadata": {},
     "output_type": "execute_result"
    }
   ],
   "source": [
    "bool(0.1)"
   ]
  },
  {
   "cell_type": "code",
   "execution_count": 88,
   "id": "f6ebefa9",
   "metadata": {},
   "outputs": [
    {
     "data": {
      "text/plain": [
       "True"
      ]
     },
     "execution_count": 88,
     "metadata": {},
     "output_type": "execute_result"
    }
   ],
   "source": [
    "bool([1,2])"
   ]
  },
  {
   "cell_type": "code",
   "execution_count": 89,
   "id": "71716d78",
   "metadata": {},
   "outputs": [
    {
     "data": {
      "text/plain": [
       "False"
      ]
     },
     "execution_count": 89,
     "metadata": {},
     "output_type": "execute_result"
    }
   ],
   "source": [
    "bool([])"
   ]
  },
  {
   "cell_type": "code",
   "execution_count": 90,
   "id": "aebdfd6a",
   "metadata": {},
   "outputs": [
    {
     "data": {
      "text/plain": [
       "False"
      ]
     },
     "execution_count": 90,
     "metadata": {},
     "output_type": "execute_result"
    }
   ],
   "source": [
    "bool({})"
   ]
  },
  {
   "cell_type": "markdown",
   "id": "9b3e6af9",
   "metadata": {},
   "source": [
    "# set"
   ]
  },
  {
   "cell_type": "code",
   "execution_count": 91,
   "id": "041137e5",
   "metadata": {},
   "outputs": [
    {
     "data": {
      "text/plain": [
       "set()"
      ]
     },
     "execution_count": 91,
     "metadata": {},
     "output_type": "execute_result"
    }
   ],
   "source": [
    "set()"
   ]
  },
  {
   "cell_type": "code",
   "execution_count": 92,
   "id": "4173d358",
   "metadata": {},
   "outputs": [
    {
     "data": {
      "text/plain": [
       "{1, 2, 3}"
      ]
     },
     "execution_count": 92,
     "metadata": {},
     "output_type": "execute_result"
    }
   ],
   "source": [
    "set([1,2,2,3])"
   ]
  },
  {
   "cell_type": "markdown",
   "id": "b04a7607",
   "metadata": {},
   "source": [
    "# Local Variables"
   ]
  },
  {
   "cell_type": "code",
   "execution_count": 110,
   "id": "8226696a",
   "metadata": {},
   "outputs": [
    {
     "name": "stdout",
     "output_type": "stream",
     "text": [
      "I am a soljar\n"
     ]
    }
   ],
   "source": [
    "def f():\n",
    "\t\n",
    "\t\n",
    "\ts = \"I am a soljar\"\n",
    "\tprint(s)\n",
    "\n",
    "\n",
    "f()\n"
   ]
  },
  {
   "cell_type": "markdown",
   "id": "e8098e5c",
   "metadata": {},
   "source": [
    "# Globle Variables"
   ]
  },
  {
   "cell_type": "code",
   "execution_count": 98,
   "id": "b8204e8d",
   "metadata": {},
   "outputs": [
    {
     "name": "stdout",
     "output_type": "stream",
     "text": [
      "Python is awesome\n"
     ]
    }
   ],
   "source": [
    "x = \"awesome\"\n",
    "\n",
    "def myfunc():\n",
    "  print(\"Python is \" + x)\n",
    "\n",
    "myfunc()"
   ]
  },
  {
   "cell_type": "code",
   "execution_count": 99,
   "id": "5fd32614",
   "metadata": {},
   "outputs": [
    {
     "name": "stdout",
     "output_type": "stream",
     "text": [
      "Python is fantastic\n"
     ]
    }
   ],
   "source": [
    "def myfunc():\n",
    "  global x\n",
    "  x = \"fantastic\"\n",
    "\n",
    "myfunc()\n",
    "\n",
    "print(\"Python is \" + x)"
   ]
  },
  {
   "cell_type": "markdown",
   "id": "3466069d",
   "metadata": {},
   "source": [
    "# Conditional Statements"
   ]
  },
  {
   "cell_type": "code",
   "execution_count": 100,
   "id": "e5069571",
   "metadata": {},
   "outputs": [],
   "source": [
    "a = 3\n",
    "b = 5"
   ]
  },
  {
   "cell_type": "code",
   "execution_count": 101,
   "id": "974d99ec",
   "metadata": {},
   "outputs": [
    {
     "name": "stdout",
     "output_type": "stream",
     "text": [
      "B is greater\n"
     ]
    }
   ],
   "source": [
    "print(\"A is greater\") if a > b else print(\"=\") if a == b else print(\"B is greater\")"
   ]
  },
  {
   "cell_type": "code",
   "execution_count": 102,
   "id": "d2c37857",
   "metadata": {},
   "outputs": [
    {
     "name": "stdout",
     "output_type": "stream",
     "text": [
      "x is less than y\n"
     ]
    }
   ],
   "source": [
    "def main():\n",
    "\tx,y =2,8\n",
    "\t\n",
    "\tif(x < y):\n",
    "\t\tst= \"x is less than y\"\n",
    "\tprint(st)\n",
    "\t\n",
    "if __name__ == \"__main__\":\n",
    "\tmain()"
   ]
  },
  {
   "cell_type": "markdown",
   "id": "ff5395e7",
   "metadata": {},
   "source": [
    "# Looping"
   ]
  },
  {
   "cell_type": "code",
   "execution_count": 115,
   "id": "bc67b3f0",
   "metadata": {},
   "outputs": [
    {
     "name": "stdout",
     "output_type": "stream",
     "text": [
      "* \r\n",
      "* * \r\n",
      "* * * \r\n",
      "* * * * \r\n",
      "* * * * * \r\n"
     ]
    }
   ],
   "source": [
    "def pypart(n):\n",
    "\tfor i in range(0, n):\n",
    "\t\tfor j in range(0, i+1):\n",
    "\t\t\tprint(\"* \",end=\"\")\n",
    "\t\tprint(\"\\r\")\n",
    "n = 5\n",
    "pypart(n)\n"
   ]
  },
  {
   "cell_type": "code",
   "execution_count": 116,
   "id": "e27405b3",
   "metadata": {},
   "outputs": [
    {
     "name": "stdout",
     "output_type": "stream",
     "text": [
      "    * \r\n",
      "   * * \r\n",
      "  * * * \r\n",
      " * * * * \r\n",
      "* * * * * \r\n"
     ]
    }
   ],
   "source": [
    "\n",
    "def triangle(n):\n",
    "\tk = n - 1\n",
    "\tfor i in range(0, n):\n",
    "\t\tfor j in range(0, k):\n",
    "\t\t\tprint(end=\" \")\n",
    "\t\tk = k - 1\n",
    "\t\tfor j in range(0, i+1):\n",
    "\t\t\tprint(\"* \", end=\"\")\n",
    "\t\tprint(\"\\r\")\n",
    "\n",
    "n = 5\n",
    "triangle(n)\n"
   ]
  },
  {
   "cell_type": "code",
   "execution_count": 117,
   "id": "c5b84363",
   "metadata": {},
   "outputs": [
    {
     "name": "stdout",
     "output_type": "stream",
     "text": [
      "11 is a prime number\n"
     ]
    }
   ],
   "source": [
    "\n",
    "num = 11\n",
    "if num > 1:\n",
    "\tfor i in range(2, int(num/2)+1):\n",
    "\t\tif (num % i) == 0:\n",
    "\t\t\tprint(num, \"is not a prime number\")\n",
    "\t\t\tbreak\n",
    "\telse:\n",
    "\t\tprint(num, \"is a prime number\")\n",
    "else:\n",
    "\tprint(num, \"is not a prime number\")\n"
   ]
  },
  {
   "cell_type": "code",
   "execution_count": null,
   "id": "e34b4e90",
   "metadata": {},
   "outputs": [],
   "source": []
  }
 ],
 "metadata": {
  "kernelspec": {
   "display_name": "Python 3 (ipykernel)",
   "language": "python",
   "name": "python3"
  },
  "language_info": {
   "codemirror_mode": {
    "name": "ipython",
    "version": 3
   },
   "file_extension": ".py",
   "mimetype": "text/x-python",
   "name": "python",
   "nbconvert_exporter": "python",
   "pygments_lexer": "ipython3",
   "version": "3.8.10"
  }
 },
 "nbformat": 4,
 "nbformat_minor": 5
}
